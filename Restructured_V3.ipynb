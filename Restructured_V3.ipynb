{
 "cells": [
  {
   "cell_type": "markdown",
   "id": "7a40dda1",
   "metadata": {},
   "source": [
    "# Mitigating Director Gender Bias in Movie Recommender Systems\n",
    "\n",
    "By: Michael Garcia-Perez & Christine Deng with mentors Emily Ramond, Parker Addison, Greg Thein from Deloitte"
   ]
  },
  {
   "cell_type": "markdown",
   "id": "fa51ecac-bf7f-47e6-959f-ad93ab75c9dc",
   "metadata": {},
   "source": [
    "### Table of Contents\n",
    "To return to the table of contents, click on the number at any major section heading."
   ]
  },
  {
   "cell_type": "markdown",
   "id": "97989f0f-5f08-423a-9e64-8584fa85ed7f",
   "metadata": {},
   "source": [
    "[1. Introduction](#1.-Introduction)\n",
    "\n",
    "[2. Exploratory Data Analysis](#2.-Exploratory-Data-Analysis)\n",
    "\n",
    "[3. Model Development & Evaluation](#3.-Model-Development)\n",
    "\n",
    "[4. Bias Mitigation](#4.-Bias-Mitigation)\n",
    "\n",
    "[5. Results Summary](#5.-Results-Summary)\n",
    "\n",
    "[6. Explainability](#6.-Explainability)\n",
    "\n",
    "[7. Conclusion & Discussion](#7.-Conclusion-&-Discussion)"
   ]
  },
  {
   "cell_type": "markdown",
   "id": "1a869d5c-b5b2-48fe-8f03-616ffd6b221f",
   "metadata": {},
   "source": [
    "### [1.](#Table-of-Contents) Introduction"
   ]
  },
  {
   "cell_type": "markdown",
   "id": "24f5e814-d5ee-40ad-b3a1-cf78fa60e6c9",
   "metadata": {},
   "source": [
    "Past literature across sociology and media studies has widely studied the gender gap in the film industry, namely the underrepresentation of female directors in film production. A comprehensive analysis of over 2000 films released between 1994 and 2016 showed that only 5% of the directors were female (<a href=\"https://doi.org/10.1177/00222437221100217\">Karniouchina et al., 2023</a>). Another study on the gender composition of directors in top-grossing films released between 2007 and 2021 revealed that the ratio of male to female directors was 11:1 (<a href=\"https://ca-times.brightspotcdn.com/32/1f/434e9de042a9a366c08aac1ed1db/inclusion-in-the-director-2.8.22%20Final.pdf\">Smith et al., 2017</a>).\n",
    "\n",
    "Previous research has found the presence of this gender gap, but the implications of the gender disparity on recommendation systems is not widely researched. Many content distribution platforms, such as Netflix, utilize recommendation models for personalized user content. Our project investigates whether this bias is embedded into the recommendation models, and develops a more fair model that mitigates this bias."
   ]
  },
  {
   "cell_type": "markdown",
   "id": "9b74c009-7346-42e9-891e-5ab1e93636ec",
   "metadata": {},
   "source": [
    "### [2.](#Table-of-Contents) Exploratory Data Analysis"
   ]
  },
  {
   "cell_type": "markdown",
   "id": "6b2cc1c3",
   "metadata": {},
   "source": [
    "### Import Statements"
   ]
  },
  {
   "cell_type": "code",
   "execution_count": 1,
   "id": "5eb32f23",
   "metadata": {},
   "outputs": [
    {
     "name": "stderr",
     "output_type": "stream",
     "text": [
      "WARNING:root:\n",
      "`load_boston` has been removed from scikit-learn since version 1.2.\n",
      "\n",
      "The Boston housing prices dataset has an ethical problem: as\n",
      "investigated in [1], the authors of this dataset engineered a\n",
      "non-invertible variable \"B\" assuming that racial self-segregation had a\n",
      "positive impact on house prices [2]. Furthermore the goal of the\n",
      "research that led to the creation of this dataset was to study the\n",
      "impact of air quality but it did not give adequate demonstration of the\n",
      "validity of this assumption.\n",
      "\n",
      "The scikit-learn maintainers therefore strongly discourage the use of\n",
      "this dataset unless the purpose of the code is to study and educate\n",
      "about ethical issues in data science and machine learning.\n",
      "\n",
      "In this special case, you can fetch the dataset from the original\n",
      "source::\n",
      "\n",
      "    import pandas as pd\n",
      "    import numpy as np\n",
      "\n",
      "    data_url = \"http://lib.stat.cmu.edu/datasets/boston\"\n",
      "    raw_df = pd.read_csv(data_url, sep=\"\\s+\", skiprows=22, header=None)\n",
      "    data = np.hstack([raw_df.values[::2, :], raw_df.values[1::2, :2]])\n",
      "    target = raw_df.values[1::2, 2]\n",
      "\n",
      "Alternative datasets include the California housing dataset and the\n",
      "Ames housing dataset. You can load the datasets as follows::\n",
      "\n",
      "    from sklearn.datasets import fetch_california_housing\n",
      "    housing = fetch_california_housing()\n",
      "\n",
      "for the California housing dataset and::\n",
      "\n",
      "    from sklearn.datasets import fetch_openml\n",
      "    housing = fetch_openml(name=\"house_prices\", as_frame=True)\n",
      "\n",
      "for the Ames housing dataset.\n",
      "\n",
      "[1] M Carlisle.\n",
      "\"Racist data destruction?\"\n",
      "<https://medium.com/@docintangible/racist-data-destruction-113e3eff54a8>\n",
      "\n",
      "[2] Harrison Jr, David, and Daniel L. Rubinfeld.\n",
      "\"Hedonic housing prices and the demand for clean air.\"\n",
      "Journal of environmental economics and management 5.1 (1978): 81-102.\n",
      "<https://www.researchgate.net/publication/4974606_Hedonic_housing_prices_and_the_demand_for_clean_air>\n",
      ": LawSchoolGPADataset will be unavailable. To install, run:\n",
      "pip install 'aif360[LawSchoolGPA]'\n"
     ]
    }
   ],
   "source": [
    "import random\n",
    "from sklearn import linear_model\n",
    "from matplotlib import pyplot as plt\n",
    "from collections import defaultdict\n",
    "import gzip\n",
    "from sklearn.linear_model import LogisticRegression\n",
    "from sklearn.model_selection import train_test_split\n",
    "from sklearn.metrics import accuracy_score, balanced_accuracy_score\n",
    "\n",
    "import json\n",
    "import numpy\n",
    "import math\n",
    "import pandas as pd\n",
    "from sklearn.linear_model import LinearRegression\n",
    "from sklearn.model_selection import train_test_split\n",
    "from sklearn.metrics import mean_squared_error\n",
    "\n",
    "import scipy.optimize\n",
    "from sklearn import svm\n",
    "import string\n",
    "import random\n",
    "\n",
    "from surprise import Dataset, Reader, accuracy\n",
    "from surprise.model_selection import train_test_split\n",
    "from surprise.prediction_algorithms.matrix_factorization import SVD\n",
    "import numpy as np\n",
    "import os\n",
    "import tarfile\n",
    "import warnings\n",
    "from sklearn.model_selection import train_test_split\n",
    "from sklearn.linear_model import LinearRegression\n",
    "from sklearn.metrics import mean_squared_error\n",
    "from sklearn.metrics import jaccard_score\n",
    "\n",
    "from aif360.datasets import StandardDataset\n",
    "from aif360.metrics import BinaryLabelDatasetMetric, ClassificationMetric\n",
    "from aif360.algorithms.preprocessing import Reweighing\n",
    "from sklearn.ensemble import RandomForestClassifier\n",
    "from sklearn.model_selection import train_test_split, GridSearchCV\n",
    "from sklearn.metrics import accuracy_score, classification_report\n",
    "from IPython.display import Markdown, display\n",
    "\n",
    "from sklearn.metrics import roc_curve, auc, precision_recall_curve, average_precision_score\n",
    "from sklearn.inspection import permutation_importance"
   ]
  },
  {
   "cell_type": "code",
   "execution_count": 2,
   "id": "9bcdb039",
   "metadata": {
    "scrolled": true
   },
   "outputs": [
    {
     "name": "stdout",
     "output_type": "stream",
     "text": [
      "\u001b[33mWARNING: Ignoring invalid distribution -umpy (/opt/anaconda3/envs/aif360/lib/python3.9/site-packages)\u001b[0m\u001b[33m\n",
      "\u001b[0mRequirement already satisfied: aif360 in /opt/anaconda3/envs/aif360/lib/python3.9/site-packages (0.5.0)\n",
      "Requirement already satisfied: numpy>=1.16 in /opt/anaconda3/envs/aif360/lib/python3.9/site-packages (from aif360) (1.26.3)\n",
      "Requirement already satisfied: scipy>=1.2.0 in /opt/anaconda3/envs/aif360/lib/python3.9/site-packages (from aif360) (1.10.1)\n",
      "Requirement already satisfied: pandas>=0.24.0 in /opt/anaconda3/envs/aif360/lib/python3.9/site-packages (from aif360) (2.1.1)\n",
      "Requirement already satisfied: scikit-learn>=1.0 in /opt/anaconda3/envs/aif360/lib/python3.9/site-packages (from aif360) (1.2.2)\n",
      "Requirement already satisfied: matplotlib in /opt/anaconda3/envs/aif360/lib/python3.9/site-packages (from aif360) (3.8.0)\n",
      "Requirement already satisfied: python-dateutil>=2.8.2 in /opt/anaconda3/envs/aif360/lib/python3.9/site-packages (from pandas>=0.24.0->aif360) (2.8.2)\n",
      "Requirement already satisfied: pytz>=2020.1 in /opt/anaconda3/envs/aif360/lib/python3.9/site-packages (from pandas>=0.24.0->aif360) (2023.3.post1)\n",
      "Requirement already satisfied: tzdata>=2022.1 in /opt/anaconda3/envs/aif360/lib/python3.9/site-packages (from pandas>=0.24.0->aif360) (2023.3)\n",
      "Requirement already satisfied: joblib>=1.1.1 in /opt/anaconda3/envs/aif360/lib/python3.9/site-packages (from scikit-learn>=1.0->aif360) (1.3.2)\n",
      "Requirement already satisfied: threadpoolctl>=2.0.0 in /opt/anaconda3/envs/aif360/lib/python3.9/site-packages (from scikit-learn>=1.0->aif360) (3.2.0)\n",
      "Requirement already satisfied: contourpy>=1.0.1 in /opt/anaconda3/envs/aif360/lib/python3.9/site-packages (from matplotlib->aif360) (1.1.1)\n",
      "Requirement already satisfied: cycler>=0.10 in /opt/anaconda3/envs/aif360/lib/python3.9/site-packages (from matplotlib->aif360) (0.12.1)\n",
      "Requirement already satisfied: fonttools>=4.22.0 in /opt/anaconda3/envs/aif360/lib/python3.9/site-packages (from matplotlib->aif360) (4.43.1)\n",
      "Requirement already satisfied: kiwisolver>=1.0.1 in /opt/anaconda3/envs/aif360/lib/python3.9/site-packages (from matplotlib->aif360) (1.4.5)\n",
      "Requirement already satisfied: packaging>=20.0 in /opt/anaconda3/envs/aif360/lib/python3.9/site-packages (from matplotlib->aif360) (23.2)\n",
      "Requirement already satisfied: pillow>=6.2.0 in /opt/anaconda3/envs/aif360/lib/python3.9/site-packages (from matplotlib->aif360) (10.0.1)\n",
      "Requirement already satisfied: pyparsing>=2.3.1 in /opt/anaconda3/envs/aif360/lib/python3.9/site-packages (from matplotlib->aif360) (3.1.1)\n",
      "Requirement already satisfied: importlib-resources>=3.2.0 in /opt/anaconda3/envs/aif360/lib/python3.9/site-packages (from matplotlib->aif360) (6.1.0)\n",
      "Requirement already satisfied: zipp>=3.1.0 in /opt/anaconda3/envs/aif360/lib/python3.9/site-packages (from importlib-resources>=3.2.0->matplotlib->aif360) (3.17.0)\n",
      "Requirement already satisfied: six>=1.5 in /opt/anaconda3/envs/aif360/lib/python3.9/site-packages (from python-dateutil>=2.8.2->pandas>=0.24.0->aif360) (1.15.0)\n",
      "\u001b[33mWARNING: Ignoring invalid distribution -umpy (/opt/anaconda3/envs/aif360/lib/python3.9/site-packages)\u001b[0m\u001b[33m\n",
      "\u001b[0m"
     ]
    }
   ],
   "source": [
    "# Install AIF360\n",
    "!pip install 'aif360'"
   ]
  },
  {
   "cell_type": "code",
   "execution_count": 3,
   "id": "698d224b-e0ce-4637-ad6f-d5b078020848",
   "metadata": {},
   "outputs": [
    {
     "name": "stdout",
     "output_type": "stream",
     "text": [
      "\u001b[33mWARNING: Ignoring invalid distribution -umpy (/opt/anaconda3/envs/aif360/lib/python3.9/site-packages)\u001b[0m\u001b[33m\n",
      "\u001b[0mRequirement already satisfied: tensorflow in /opt/anaconda3/envs/aif360/lib/python3.9/site-packages (2.15.0)\n",
      "Requirement already satisfied: aif360 in /opt/anaconda3/envs/aif360/lib/python3.9/site-packages (0.5.0)\n",
      "Requirement already satisfied: absl-py>=1.0.0 in /opt/anaconda3/envs/aif360/lib/python3.9/site-packages (from tensorflow) (2.1.0)\n",
      "Requirement already satisfied: astunparse>=1.6.0 in /opt/anaconda3/envs/aif360/lib/python3.9/site-packages (from tensorflow) (1.6.3)\n",
      "Requirement already satisfied: flatbuffers>=23.5.26 in /opt/anaconda3/envs/aif360/lib/python3.9/site-packages (from tensorflow) (23.5.26)\n",
      "Requirement already satisfied: gast!=0.5.0,!=0.5.1,!=0.5.2,>=0.2.1 in /opt/anaconda3/envs/aif360/lib/python3.9/site-packages (from tensorflow) (0.4.0)\n",
      "Requirement already satisfied: google-pasta>=0.1.1 in /opt/anaconda3/envs/aif360/lib/python3.9/site-packages (from tensorflow) (0.2.0)\n",
      "Requirement already satisfied: h5py>=2.9.0 in /opt/anaconda3/envs/aif360/lib/python3.9/site-packages (from tensorflow) (3.1.0)\n",
      "Requirement already satisfied: libclang>=13.0.0 in /opt/anaconda3/envs/aif360/lib/python3.9/site-packages (from tensorflow) (16.0.6)\n",
      "Requirement already satisfied: ml-dtypes~=0.2.0 in /opt/anaconda3/envs/aif360/lib/python3.9/site-packages (from tensorflow) (0.2.0)\n",
      "Requirement already satisfied: numpy<2.0.0,>=1.23.5 in /opt/anaconda3/envs/aif360/lib/python3.9/site-packages (from tensorflow) (1.26.3)\n",
      "Requirement already satisfied: opt-einsum>=2.3.2 in /opt/anaconda3/envs/aif360/lib/python3.9/site-packages (from tensorflow) (3.3.0)\n",
      "Requirement already satisfied: packaging in /opt/anaconda3/envs/aif360/lib/python3.9/site-packages (from tensorflow) (23.2)\n",
      "Requirement already satisfied: protobuf!=4.21.0,!=4.21.1,!=4.21.2,!=4.21.3,!=4.21.4,!=4.21.5,<5.0.0dev,>=3.20.3 in /opt/anaconda3/envs/aif360/lib/python3.9/site-packages (from tensorflow) (4.23.4)\n",
      "Requirement already satisfied: setuptools in /opt/anaconda3/envs/aif360/lib/python3.9/site-packages (from tensorflow) (68.0.0)\n",
      "Requirement already satisfied: six>=1.12.0 in /opt/anaconda3/envs/aif360/lib/python3.9/site-packages (from tensorflow) (1.15.0)\n",
      "Requirement already satisfied: termcolor>=1.1.0 in /opt/anaconda3/envs/aif360/lib/python3.9/site-packages (from tensorflow) (1.1.0)\n",
      "Requirement already satisfied: typing-extensions>=3.6.6 in /opt/anaconda3/envs/aif360/lib/python3.9/site-packages (from tensorflow) (3.7.4.3)\n",
      "Requirement already satisfied: wrapt<1.15,>=1.11.0 in /opt/anaconda3/envs/aif360/lib/python3.9/site-packages (from tensorflow) (1.12.1)\n",
      "Requirement already satisfied: tensorflow-io-gcs-filesystem>=0.23.1 in /opt/anaconda3/envs/aif360/lib/python3.9/site-packages (from tensorflow) (0.34.0)\n",
      "Requirement already satisfied: grpcio<2.0,>=1.24.3 in /opt/anaconda3/envs/aif360/lib/python3.9/site-packages (from tensorflow) (1.60.0)\n",
      "Requirement already satisfied: tensorboard<2.16,>=2.15 in /opt/anaconda3/envs/aif360/lib/python3.9/site-packages (from tensorflow) (2.15.1)\n",
      "Requirement already satisfied: tensorflow-estimator<2.16,>=2.15.0 in /opt/anaconda3/envs/aif360/lib/python3.9/site-packages (from tensorflow) (2.15.0)\n",
      "Requirement already satisfied: keras<2.16,>=2.15.0 in /opt/anaconda3/envs/aif360/lib/python3.9/site-packages (from tensorflow) (2.15.0)\n",
      "Requirement already satisfied: scipy>=1.2.0 in /opt/anaconda3/envs/aif360/lib/python3.9/site-packages (from aif360) (1.10.1)\n",
      "Requirement already satisfied: pandas>=0.24.0 in /opt/anaconda3/envs/aif360/lib/python3.9/site-packages (from aif360) (2.1.1)\n",
      "Requirement already satisfied: scikit-learn>=1.0 in /opt/anaconda3/envs/aif360/lib/python3.9/site-packages (from aif360) (1.2.2)\n",
      "Requirement already satisfied: matplotlib in /opt/anaconda3/envs/aif360/lib/python3.9/site-packages (from aif360) (3.8.0)\n",
      "Requirement already satisfied: wheel<1.0,>=0.23.0 in /opt/anaconda3/envs/aif360/lib/python3.9/site-packages (from astunparse>=1.6.0->tensorflow) (0.41.2)\n",
      "Requirement already satisfied: python-dateutil>=2.8.2 in /opt/anaconda3/envs/aif360/lib/python3.9/site-packages (from pandas>=0.24.0->aif360) (2.8.2)\n",
      "Requirement already satisfied: pytz>=2020.1 in /opt/anaconda3/envs/aif360/lib/python3.9/site-packages (from pandas>=0.24.0->aif360) (2023.3.post1)\n",
      "Requirement already satisfied: tzdata>=2022.1 in /opt/anaconda3/envs/aif360/lib/python3.9/site-packages (from pandas>=0.24.0->aif360) (2023.3)\n",
      "Requirement already satisfied: joblib>=1.1.1 in /opt/anaconda3/envs/aif360/lib/python3.9/site-packages (from scikit-learn>=1.0->aif360) (1.3.2)\n",
      "Requirement already satisfied: threadpoolctl>=2.0.0 in /opt/anaconda3/envs/aif360/lib/python3.9/site-packages (from scikit-learn>=1.0->aif360) (3.2.0)\n",
      "Requirement already satisfied: google-auth<3,>=1.6.3 in /opt/anaconda3/envs/aif360/lib/python3.9/site-packages (from tensorboard<2.16,>=2.15->tensorflow) (2.25.2)\n",
      "Requirement already satisfied: google-auth-oauthlib<2,>=0.5 in /opt/anaconda3/envs/aif360/lib/python3.9/site-packages (from tensorboard<2.16,>=2.15->tensorflow) (1.1.0)\n",
      "Requirement already satisfied: markdown>=2.6.8 in /opt/anaconda3/envs/aif360/lib/python3.9/site-packages (from tensorboard<2.16,>=2.15->tensorflow) (3.5.1)\n",
      "Requirement already satisfied: requests<3,>=2.21.0 in /opt/anaconda3/envs/aif360/lib/python3.9/site-packages (from tensorboard<2.16,>=2.15->tensorflow) (2.31.0)\n",
      "Requirement already satisfied: tensorboard-data-server<0.8.0,>=0.7.0 in /opt/anaconda3/envs/aif360/lib/python3.9/site-packages (from tensorboard<2.16,>=2.15->tensorflow) (0.7.2)\n",
      "Requirement already satisfied: werkzeug>=1.0.1 in /opt/anaconda3/envs/aif360/lib/python3.9/site-packages (from tensorboard<2.16,>=2.15->tensorflow) (3.0.1)\n",
      "Requirement already satisfied: contourpy>=1.0.1 in /opt/anaconda3/envs/aif360/lib/python3.9/site-packages (from matplotlib->aif360) (1.1.1)\n",
      "Requirement already satisfied: cycler>=0.10 in /opt/anaconda3/envs/aif360/lib/python3.9/site-packages (from matplotlib->aif360) (0.12.1)\n",
      "Requirement already satisfied: fonttools>=4.22.0 in /opt/anaconda3/envs/aif360/lib/python3.9/site-packages (from matplotlib->aif360) (4.43.1)\n",
      "Requirement already satisfied: kiwisolver>=1.0.1 in /opt/anaconda3/envs/aif360/lib/python3.9/site-packages (from matplotlib->aif360) (1.4.5)\n",
      "Requirement already satisfied: pillow>=6.2.0 in /opt/anaconda3/envs/aif360/lib/python3.9/site-packages (from matplotlib->aif360) (10.0.1)\n",
      "Requirement already satisfied: pyparsing>=2.3.1 in /opt/anaconda3/envs/aif360/lib/python3.9/site-packages (from matplotlib->aif360) (3.1.1)\n",
      "Requirement already satisfied: importlib-resources>=3.2.0 in /opt/anaconda3/envs/aif360/lib/python3.9/site-packages (from matplotlib->aif360) (6.1.0)\n",
      "Requirement already satisfied: cachetools<6.0,>=2.0.0 in /opt/anaconda3/envs/aif360/lib/python3.9/site-packages (from google-auth<3,>=1.6.3->tensorboard<2.16,>=2.15->tensorflow) (5.3.2)\n",
      "Requirement already satisfied: pyasn1-modules>=0.2.1 in /opt/anaconda3/envs/aif360/lib/python3.9/site-packages (from google-auth<3,>=1.6.3->tensorboard<2.16,>=2.15->tensorflow) (0.3.0)\n",
      "Requirement already satisfied: rsa<5,>=3.1.4 in /opt/anaconda3/envs/aif360/lib/python3.9/site-packages (from google-auth<3,>=1.6.3->tensorboard<2.16,>=2.15->tensorflow) (4.9)\n",
      "Requirement already satisfied: requests-oauthlib>=0.7.0 in /opt/anaconda3/envs/aif360/lib/python3.9/site-packages (from google-auth-oauthlib<2,>=0.5->tensorboard<2.16,>=2.15->tensorflow) (1.3.1)\n",
      "Requirement already satisfied: zipp>=3.1.0 in /opt/anaconda3/envs/aif360/lib/python3.9/site-packages (from importlib-resources>=3.2.0->matplotlib->aif360) (3.17.0)\n",
      "Requirement already satisfied: importlib-metadata>=4.4 in /opt/anaconda3/envs/aif360/lib/python3.9/site-packages (from markdown>=2.6.8->tensorboard<2.16,>=2.15->tensorflow) (6.8.0)\n",
      "Requirement already satisfied: charset-normalizer<4,>=2 in /opt/anaconda3/envs/aif360/lib/python3.9/site-packages (from requests<3,>=2.21.0->tensorboard<2.16,>=2.15->tensorflow) (3.3.1)\n",
      "Requirement already satisfied: idna<4,>=2.5 in /opt/anaconda3/envs/aif360/lib/python3.9/site-packages (from requests<3,>=2.21.0->tensorboard<2.16,>=2.15->tensorflow) (3.4)\n",
      "Requirement already satisfied: urllib3<3,>=1.21.1 in /opt/anaconda3/envs/aif360/lib/python3.9/site-packages (from requests<3,>=2.21.0->tensorboard<2.16,>=2.15->tensorflow) (2.0.7)\n",
      "Requirement already satisfied: certifi>=2017.4.17 in /opt/anaconda3/envs/aif360/lib/python3.9/site-packages (from requests<3,>=2.21.0->tensorboard<2.16,>=2.15->tensorflow) (2023.11.17)\n",
      "Requirement already satisfied: MarkupSafe>=2.1.1 in /opt/anaconda3/envs/aif360/lib/python3.9/site-packages (from werkzeug>=1.0.1->tensorboard<2.16,>=2.15->tensorflow) (2.1.3)\n",
      "Requirement already satisfied: pyasn1<0.6.0,>=0.4.6 in /opt/anaconda3/envs/aif360/lib/python3.9/site-packages (from pyasn1-modules>=0.2.1->google-auth<3,>=1.6.3->tensorboard<2.16,>=2.15->tensorflow) (0.5.1)\n",
      "Requirement already satisfied: oauthlib>=3.0.0 in /opt/anaconda3/envs/aif360/lib/python3.9/site-packages (from requests-oauthlib>=0.7.0->google-auth-oauthlib<2,>=0.5->tensorboard<2.16,>=2.15->tensorflow) (3.2.2)\n",
      "\u001b[33mWARNING: Ignoring invalid distribution -umpy (/opt/anaconda3/envs/aif360/lib/python3.9/site-packages)\u001b[0m\u001b[33m\n",
      "\u001b[0mNote: you may need to restart the kernel to use updated packages.\n"
     ]
    }
   ],
   "source": [
    "pip install --upgrade tensorflow aif360"
   ]
  },
  {
   "cell_type": "code",
   "execution_count": 4,
   "id": "41b1c7cd-3162-4857-bc98-7c0d86ae6e90",
   "metadata": {},
   "outputs": [
    {
     "name": "stdout",
     "output_type": "stream",
     "text": [
      "\u001b[33mWARNING: Ignoring invalid distribution -umpy (/opt/anaconda3/envs/aif360/lib/python3.9/site-packages)\u001b[0m\u001b[33m\n",
      "\u001b[0mCollecting protobuf==3.19.0\n",
      "  Using cached protobuf-3.19.0-cp39-cp39-macosx_10_9_x86_64.whl (1.0 MB)\n",
      "\u001b[33mWARNING: Ignoring invalid distribution -umpy (/opt/anaconda3/envs/aif360/lib/python3.9/site-packages)\u001b[0m\u001b[33m\n",
      "\u001b[0mInstalling collected packages: protobuf\n",
      "  Attempting uninstall: protobuf\n",
      "    Found existing installation: protobuf 4.23.4\n",
      "    Uninstalling protobuf-4.23.4:\n",
      "      Successfully uninstalled protobuf-4.23.4\n",
      "\u001b[31mERROR: pip's dependency resolver does not currently take into account all the packages that are installed. This behaviour is the source of the following dependency conflicts.\n",
      "tensorboard 2.15.1 requires protobuf<4.24,>=3.19.6, but you have protobuf 3.19.0 which is incompatible.\n",
      "tensorflow 2.15.0 requires protobuf!=4.21.0,!=4.21.1,!=4.21.2,!=4.21.3,!=4.21.4,!=4.21.5,<5.0.0dev,>=3.20.3, but you have protobuf 3.19.0 which is incompatible.\u001b[0m\u001b[31m\n",
      "\u001b[0mSuccessfully installed protobuf-3.19.0\n",
      "Note: you may need to restart the kernel to use updated packages.\n"
     ]
    }
   ],
   "source": [
    "pip install protobuf==3.19.0"
   ]
  },
  {
   "cell_type": "code",
   "execution_count": 5,
   "id": "f4302074-2b84-462a-bc61-be2f4f150cb0",
   "metadata": {},
   "outputs": [
    {
     "name": "stdout",
     "output_type": "stream",
     "text": [
      "\u001b[33mWARNING: Ignoring invalid distribution -umpy (/opt/anaconda3/envs/aif360/lib/python3.9/site-packages)\u001b[0m\u001b[33m\n",
      "\u001b[0mRequirement already satisfied: aif360[AdversarialDebiasing] in /opt/anaconda3/envs/aif360/lib/python3.9/site-packages (0.5.0)\n",
      "Requirement already satisfied: numpy>=1.16 in /opt/anaconda3/envs/aif360/lib/python3.9/site-packages (from aif360[AdversarialDebiasing]) (1.26.3)\n",
      "Requirement already satisfied: scipy>=1.2.0 in /opt/anaconda3/envs/aif360/lib/python3.9/site-packages (from aif360[AdversarialDebiasing]) (1.10.1)\n",
      "Requirement already satisfied: pandas>=0.24.0 in /opt/anaconda3/envs/aif360/lib/python3.9/site-packages (from aif360[AdversarialDebiasing]) (2.1.1)\n",
      "Requirement already satisfied: scikit-learn>=1.0 in /opt/anaconda3/envs/aif360/lib/python3.9/site-packages (from aif360[AdversarialDebiasing]) (1.2.2)\n",
      "Requirement already satisfied: matplotlib in /opt/anaconda3/envs/aif360/lib/python3.9/site-packages (from aif360[AdversarialDebiasing]) (3.8.0)\n",
      "Requirement already satisfied: tensorflow>=1.13.1 in /opt/anaconda3/envs/aif360/lib/python3.9/site-packages (from aif360[AdversarialDebiasing]) (2.15.0)\n",
      "Requirement already satisfied: python-dateutil>=2.8.2 in /opt/anaconda3/envs/aif360/lib/python3.9/site-packages (from pandas>=0.24.0->aif360[AdversarialDebiasing]) (2.8.2)\n",
      "Requirement already satisfied: pytz>=2020.1 in /opt/anaconda3/envs/aif360/lib/python3.9/site-packages (from pandas>=0.24.0->aif360[AdversarialDebiasing]) (2023.3.post1)\n",
      "Requirement already satisfied: tzdata>=2022.1 in /opt/anaconda3/envs/aif360/lib/python3.9/site-packages (from pandas>=0.24.0->aif360[AdversarialDebiasing]) (2023.3)\n",
      "Requirement already satisfied: joblib>=1.1.1 in /opt/anaconda3/envs/aif360/lib/python3.9/site-packages (from scikit-learn>=1.0->aif360[AdversarialDebiasing]) (1.3.2)\n",
      "Requirement already satisfied: threadpoolctl>=2.0.0 in /opt/anaconda3/envs/aif360/lib/python3.9/site-packages (from scikit-learn>=1.0->aif360[AdversarialDebiasing]) (3.2.0)\n",
      "Requirement already satisfied: absl-py>=1.0.0 in /opt/anaconda3/envs/aif360/lib/python3.9/site-packages (from tensorflow>=1.13.1->aif360[AdversarialDebiasing]) (2.1.0)\n",
      "Requirement already satisfied: astunparse>=1.6.0 in /opt/anaconda3/envs/aif360/lib/python3.9/site-packages (from tensorflow>=1.13.1->aif360[AdversarialDebiasing]) (1.6.3)\n",
      "Requirement already satisfied: flatbuffers>=23.5.26 in /opt/anaconda3/envs/aif360/lib/python3.9/site-packages (from tensorflow>=1.13.1->aif360[AdversarialDebiasing]) (23.5.26)\n",
      "Requirement already satisfied: gast!=0.5.0,!=0.5.1,!=0.5.2,>=0.2.1 in /opt/anaconda3/envs/aif360/lib/python3.9/site-packages (from tensorflow>=1.13.1->aif360[AdversarialDebiasing]) (0.4.0)\n",
      "Requirement already satisfied: google-pasta>=0.1.1 in /opt/anaconda3/envs/aif360/lib/python3.9/site-packages (from tensorflow>=1.13.1->aif360[AdversarialDebiasing]) (0.2.0)\n",
      "Requirement already satisfied: h5py>=2.9.0 in /opt/anaconda3/envs/aif360/lib/python3.9/site-packages (from tensorflow>=1.13.1->aif360[AdversarialDebiasing]) (3.1.0)\n",
      "Requirement already satisfied: libclang>=13.0.0 in /opt/anaconda3/envs/aif360/lib/python3.9/site-packages (from tensorflow>=1.13.1->aif360[AdversarialDebiasing]) (16.0.6)\n",
      "Requirement already satisfied: ml-dtypes~=0.2.0 in /opt/anaconda3/envs/aif360/lib/python3.9/site-packages (from tensorflow>=1.13.1->aif360[AdversarialDebiasing]) (0.2.0)\n",
      "Requirement already satisfied: opt-einsum>=2.3.2 in /opt/anaconda3/envs/aif360/lib/python3.9/site-packages (from tensorflow>=1.13.1->aif360[AdversarialDebiasing]) (3.3.0)\n",
      "Requirement already satisfied: packaging in /opt/anaconda3/envs/aif360/lib/python3.9/site-packages (from tensorflow>=1.13.1->aif360[AdversarialDebiasing]) (23.2)\n",
      "Collecting protobuf!=4.21.0,!=4.21.1,!=4.21.2,!=4.21.3,!=4.21.4,!=4.21.5,<5.0.0dev,>=3.20.3 (from tensorflow>=1.13.1->aif360[AdversarialDebiasing])\n",
      "  Using cached protobuf-4.25.2-cp37-abi3-macosx_10_9_universal2.whl.metadata (541 bytes)\n",
      "Requirement already satisfied: setuptools in /opt/anaconda3/envs/aif360/lib/python3.9/site-packages (from tensorflow>=1.13.1->aif360[AdversarialDebiasing]) (68.0.0)\n",
      "Requirement already satisfied: six>=1.12.0 in /opt/anaconda3/envs/aif360/lib/python3.9/site-packages (from tensorflow>=1.13.1->aif360[AdversarialDebiasing]) (1.15.0)\n",
      "Requirement already satisfied: termcolor>=1.1.0 in /opt/anaconda3/envs/aif360/lib/python3.9/site-packages (from tensorflow>=1.13.1->aif360[AdversarialDebiasing]) (1.1.0)\n",
      "Requirement already satisfied: typing-extensions>=3.6.6 in /opt/anaconda3/envs/aif360/lib/python3.9/site-packages (from tensorflow>=1.13.1->aif360[AdversarialDebiasing]) (3.7.4.3)\n",
      "Requirement already satisfied: wrapt<1.15,>=1.11.0 in /opt/anaconda3/envs/aif360/lib/python3.9/site-packages (from tensorflow>=1.13.1->aif360[AdversarialDebiasing]) (1.12.1)\n",
      "Requirement already satisfied: tensorflow-io-gcs-filesystem>=0.23.1 in /opt/anaconda3/envs/aif360/lib/python3.9/site-packages (from tensorflow>=1.13.1->aif360[AdversarialDebiasing]) (0.34.0)\n",
      "Requirement already satisfied: grpcio<2.0,>=1.24.3 in /opt/anaconda3/envs/aif360/lib/python3.9/site-packages (from tensorflow>=1.13.1->aif360[AdversarialDebiasing]) (1.60.0)\n",
      "Requirement already satisfied: tensorboard<2.16,>=2.15 in /opt/anaconda3/envs/aif360/lib/python3.9/site-packages (from tensorflow>=1.13.1->aif360[AdversarialDebiasing]) (2.15.1)\n",
      "Requirement already satisfied: tensorflow-estimator<2.16,>=2.15.0 in /opt/anaconda3/envs/aif360/lib/python3.9/site-packages (from tensorflow>=1.13.1->aif360[AdversarialDebiasing]) (2.15.0)\n",
      "Requirement already satisfied: keras<2.16,>=2.15.0 in /opt/anaconda3/envs/aif360/lib/python3.9/site-packages (from tensorflow>=1.13.1->aif360[AdversarialDebiasing]) (2.15.0)\n",
      "Requirement already satisfied: contourpy>=1.0.1 in /opt/anaconda3/envs/aif360/lib/python3.9/site-packages (from matplotlib->aif360[AdversarialDebiasing]) (1.1.1)\n",
      "Requirement already satisfied: cycler>=0.10 in /opt/anaconda3/envs/aif360/lib/python3.9/site-packages (from matplotlib->aif360[AdversarialDebiasing]) (0.12.1)\n",
      "Requirement already satisfied: fonttools>=4.22.0 in /opt/anaconda3/envs/aif360/lib/python3.9/site-packages (from matplotlib->aif360[AdversarialDebiasing]) (4.43.1)\n",
      "Requirement already satisfied: kiwisolver>=1.0.1 in /opt/anaconda3/envs/aif360/lib/python3.9/site-packages (from matplotlib->aif360[AdversarialDebiasing]) (1.4.5)\n",
      "Requirement already satisfied: pillow>=6.2.0 in /opt/anaconda3/envs/aif360/lib/python3.9/site-packages (from matplotlib->aif360[AdversarialDebiasing]) (10.0.1)\n",
      "Requirement already satisfied: pyparsing>=2.3.1 in /opt/anaconda3/envs/aif360/lib/python3.9/site-packages (from matplotlib->aif360[AdversarialDebiasing]) (3.1.1)\n",
      "Requirement already satisfied: importlib-resources>=3.2.0 in /opt/anaconda3/envs/aif360/lib/python3.9/site-packages (from matplotlib->aif360[AdversarialDebiasing]) (6.1.0)\n",
      "Requirement already satisfied: wheel<1.0,>=0.23.0 in /opt/anaconda3/envs/aif360/lib/python3.9/site-packages (from astunparse>=1.6.0->tensorflow>=1.13.1->aif360[AdversarialDebiasing]) (0.41.2)\n",
      "Requirement already satisfied: zipp>=3.1.0 in /opt/anaconda3/envs/aif360/lib/python3.9/site-packages (from importlib-resources>=3.2.0->matplotlib->aif360[AdversarialDebiasing]) (3.17.0)\n",
      "Requirement already satisfied: google-auth<3,>=1.6.3 in /opt/anaconda3/envs/aif360/lib/python3.9/site-packages (from tensorboard<2.16,>=2.15->tensorflow>=1.13.1->aif360[AdversarialDebiasing]) (2.25.2)\n",
      "Requirement already satisfied: google-auth-oauthlib<2,>=0.5 in /opt/anaconda3/envs/aif360/lib/python3.9/site-packages (from tensorboard<2.16,>=2.15->tensorflow>=1.13.1->aif360[AdversarialDebiasing]) (1.1.0)\n",
      "Requirement already satisfied: markdown>=2.6.8 in /opt/anaconda3/envs/aif360/lib/python3.9/site-packages (from tensorboard<2.16,>=2.15->tensorflow>=1.13.1->aif360[AdversarialDebiasing]) (3.5.1)\n",
      "  Using cached protobuf-4.23.4-cp37-abi3-macosx_10_9_universal2.whl.metadata (540 bytes)\n",
      "Requirement already satisfied: requests<3,>=2.21.0 in /opt/anaconda3/envs/aif360/lib/python3.9/site-packages (from tensorboard<2.16,>=2.15->tensorflow>=1.13.1->aif360[AdversarialDebiasing]) (2.31.0)\n",
      "Requirement already satisfied: tensorboard-data-server<0.8.0,>=0.7.0 in /opt/anaconda3/envs/aif360/lib/python3.9/site-packages (from tensorboard<2.16,>=2.15->tensorflow>=1.13.1->aif360[AdversarialDebiasing]) (0.7.2)\n",
      "Requirement already satisfied: werkzeug>=1.0.1 in /opt/anaconda3/envs/aif360/lib/python3.9/site-packages (from tensorboard<2.16,>=2.15->tensorflow>=1.13.1->aif360[AdversarialDebiasing]) (3.0.1)\n",
      "Requirement already satisfied: cachetools<6.0,>=2.0.0 in /opt/anaconda3/envs/aif360/lib/python3.9/site-packages (from google-auth<3,>=1.6.3->tensorboard<2.16,>=2.15->tensorflow>=1.13.1->aif360[AdversarialDebiasing]) (5.3.2)\n",
      "Requirement already satisfied: pyasn1-modules>=0.2.1 in /opt/anaconda3/envs/aif360/lib/python3.9/site-packages (from google-auth<3,>=1.6.3->tensorboard<2.16,>=2.15->tensorflow>=1.13.1->aif360[AdversarialDebiasing]) (0.3.0)\n",
      "Requirement already satisfied: rsa<5,>=3.1.4 in /opt/anaconda3/envs/aif360/lib/python3.9/site-packages (from google-auth<3,>=1.6.3->tensorboard<2.16,>=2.15->tensorflow>=1.13.1->aif360[AdversarialDebiasing]) (4.9)\n",
      "Requirement already satisfied: requests-oauthlib>=0.7.0 in /opt/anaconda3/envs/aif360/lib/python3.9/site-packages (from google-auth-oauthlib<2,>=0.5->tensorboard<2.16,>=2.15->tensorflow>=1.13.1->aif360[AdversarialDebiasing]) (1.3.1)\n",
      "Requirement already satisfied: importlib-metadata>=4.4 in /opt/anaconda3/envs/aif360/lib/python3.9/site-packages (from markdown>=2.6.8->tensorboard<2.16,>=2.15->tensorflow>=1.13.1->aif360[AdversarialDebiasing]) (6.8.0)\n",
      "Requirement already satisfied: charset-normalizer<4,>=2 in /opt/anaconda3/envs/aif360/lib/python3.9/site-packages (from requests<3,>=2.21.0->tensorboard<2.16,>=2.15->tensorflow>=1.13.1->aif360[AdversarialDebiasing]) (3.3.1)\n",
      "Requirement already satisfied: idna<4,>=2.5 in /opt/anaconda3/envs/aif360/lib/python3.9/site-packages (from requests<3,>=2.21.0->tensorboard<2.16,>=2.15->tensorflow>=1.13.1->aif360[AdversarialDebiasing]) (3.4)\n",
      "Requirement already satisfied: urllib3<3,>=1.21.1 in /opt/anaconda3/envs/aif360/lib/python3.9/site-packages (from requests<3,>=2.21.0->tensorboard<2.16,>=2.15->tensorflow>=1.13.1->aif360[AdversarialDebiasing]) (2.0.7)\n",
      "Requirement already satisfied: certifi>=2017.4.17 in /opt/anaconda3/envs/aif360/lib/python3.9/site-packages (from requests<3,>=2.21.0->tensorboard<2.16,>=2.15->tensorflow>=1.13.1->aif360[AdversarialDebiasing]) (2023.11.17)\n",
      "Requirement already satisfied: MarkupSafe>=2.1.1 in /opt/anaconda3/envs/aif360/lib/python3.9/site-packages (from werkzeug>=1.0.1->tensorboard<2.16,>=2.15->tensorflow>=1.13.1->aif360[AdversarialDebiasing]) (2.1.3)\n",
      "Requirement already satisfied: pyasn1<0.6.0,>=0.4.6 in /opt/anaconda3/envs/aif360/lib/python3.9/site-packages (from pyasn1-modules>=0.2.1->google-auth<3,>=1.6.3->tensorboard<2.16,>=2.15->tensorflow>=1.13.1->aif360[AdversarialDebiasing]) (0.5.1)\n",
      "Requirement already satisfied: oauthlib>=3.0.0 in /opt/anaconda3/envs/aif360/lib/python3.9/site-packages (from requests-oauthlib>=0.7.0->google-auth-oauthlib<2,>=0.5->tensorboard<2.16,>=2.15->tensorflow>=1.13.1->aif360[AdversarialDebiasing]) (3.2.2)\n",
      "Using cached protobuf-4.23.4-cp37-abi3-macosx_10_9_universal2.whl (400 kB)\n",
      "\u001b[33mWARNING: Ignoring invalid distribution -umpy (/opt/anaconda3/envs/aif360/lib/python3.9/site-packages)\u001b[0m\u001b[33m\n",
      "\u001b[0mInstalling collected packages: protobuf\n",
      "  Attempting uninstall: protobuf\n",
      "    Found existing installation: protobuf 3.19.0\n",
      "    Uninstalling protobuf-3.19.0:\n",
      "      Successfully uninstalled protobuf-3.19.0\n",
      "Successfully installed protobuf-4.23.4\n",
      "Note: you may need to restart the kernel to use updated packages.\n"
     ]
    }
   ],
   "source": [
    "pip install 'aif360[AdversarialDebiasing]'"
   ]
  },
  {
   "cell_type": "code",
   "execution_count": 6,
   "id": "87e7eb87-bd15-4aee-9ec6-5f15c84ae661",
   "metadata": {},
   "outputs": [],
   "source": [
    "from aif360.datasets import StandardDataset\n",
    "from aif360.metrics import BinaryLabelDatasetMetric\n",
    "from aif360.algorithms.preprocessing import DisparateImpactRemover\n",
    "from sklearn.linear_model import LinearRegression\n",
    "from sklearn.model_selection import train_test_split\n",
    "from sklearn.metrics import mean_squared_error"
   ]
  },
  {
   "cell_type": "markdown",
   "id": "71b6dfb2-4f7e-4572-9f93-ed28e5381c40",
   "metadata": {},
   "source": [
    "# Getting the data"
   ]
  },
  {
   "cell_type": "markdown",
   "id": "5602c2e8",
   "metadata": {},
   "source": [
    "### Reading File Path (Ratings, Users, Movies, Directors, Titles)"
   ]
  },
  {
   "cell_type": "markdown",
   "id": "330af35d-4fce-4efb-a2a3-7c3875a65018",
   "metadata": {},
   "source": [
    "The <a href=\"https://grouplens.org/datasets/movielens/1m/\">data</a> for user ratings is sourced from <a href=\"https://movielens.org/\">MovieLens</a>, an online platform that provides personalized movie recommendations based on users' viewing preferences and rating history. Our dataset is composed of 1 million ratings from 6000 different users on 4000 unique movies."
   ]
  },
  {
   "cell_type": "code",
   "execution_count": 7,
   "id": "d37b56dd",
   "metadata": {
    "scrolled": true
   },
   "outputs": [],
   "source": [
    "# Update the file paths based on your extraction path\n",
    "extract_path = \"\"\n",
    "\n",
    "# Ratings File\n",
    "ratings_file = os.path.join(extract_path, \"ratings.dat\")\n",
    "ratings_columns = [\"UserID\", \"MovieID\", \"Rating\", \"Timestamp\"]\n",
    "ratings_df = pd.read_csv(ratings_file, sep=\"::\", engine=\"python\", header=None, names=ratings_columns, encoding='latin1')\n",
    "\n",
    "# Movies File\n",
    "movies_file = os.path.join(extract_path, \"movies.dat\")\n",
    "movies_columns = [\"MovieID\", \"Title\", \"Genres\"]\n",
    "movies_df = pd.read_csv(movies_file, sep=\"::\", engine=\"python\", header=None, names=movies_columns, encoding='latin1')"
   ]
  },
  {
   "cell_type": "markdown",
   "id": "0c76ea33-5420-4516-ad84-05a28a9f8196",
   "metadata": {},
   "source": [
    "Each user is uniquely identified by a distinct user ID. Similarly, each movie also has its own unique movie ID.\n",
    "\n",
    "User ratings fall on a discrete scale ranging from 1 to 5, where a rating of 1 denotes the lowest level of enjoyment with the movie, while a rating of 5 signifies the highest level.\n",
    "\n",
    "Each row in the dataset corresponds to a single movie rating by a single user. Users can only rate a movie once."
   ]
  },
  {
   "cell_type": "code",
   "execution_count": 8,
   "id": "4cd12187-a903-410a-a003-f597b7096c12",
   "metadata": {},
   "outputs": [
    {
     "data": {
      "text/html": [
       "<div>\n",
       "<style scoped>\n",
       "    .dataframe tbody tr th:only-of-type {\n",
       "        vertical-align: middle;\n",
       "    }\n",
       "\n",
       "    .dataframe tbody tr th {\n",
       "        vertical-align: top;\n",
       "    }\n",
       "\n",
       "    .dataframe thead th {\n",
       "        text-align: right;\n",
       "    }\n",
       "</style>\n",
       "<table border=\"1\" class=\"dataframe\">\n",
       "  <thead>\n",
       "    <tr style=\"text-align: right;\">\n",
       "      <th></th>\n",
       "      <th>UserID</th>\n",
       "      <th>MovieID</th>\n",
       "      <th>Rating</th>\n",
       "      <th>Timestamp</th>\n",
       "    </tr>\n",
       "  </thead>\n",
       "  <tbody>\n",
       "    <tr>\n",
       "      <th>0</th>\n",
       "      <td>1</td>\n",
       "      <td>1193</td>\n",
       "      <td>5</td>\n",
       "      <td>978300760</td>\n",
       "    </tr>\n",
       "    <tr>\n",
       "      <th>1</th>\n",
       "      <td>1</td>\n",
       "      <td>661</td>\n",
       "      <td>3</td>\n",
       "      <td>978302109</td>\n",
       "    </tr>\n",
       "    <tr>\n",
       "      <th>2</th>\n",
       "      <td>1</td>\n",
       "      <td>914</td>\n",
       "      <td>3</td>\n",
       "      <td>978301968</td>\n",
       "    </tr>\n",
       "    <tr>\n",
       "      <th>3</th>\n",
       "      <td>1</td>\n",
       "      <td>3408</td>\n",
       "      <td>4</td>\n",
       "      <td>978300275</td>\n",
       "    </tr>\n",
       "    <tr>\n",
       "      <th>4</th>\n",
       "      <td>1</td>\n",
       "      <td>2355</td>\n",
       "      <td>5</td>\n",
       "      <td>978824291</td>\n",
       "    </tr>\n",
       "  </tbody>\n",
       "</table>\n",
       "</div>"
      ],
      "text/plain": [
       "   UserID  MovieID  Rating  Timestamp\n",
       "0       1     1193       5  978300760\n",
       "1       1      661       3  978302109\n",
       "2       1      914       3  978301968\n",
       "3       1     3408       4  978300275\n",
       "4       1     2355       5  978824291"
      ]
     },
     "execution_count": 8,
     "metadata": {},
     "output_type": "execute_result"
    }
   ],
   "source": [
    "ratings_df.head()"
   ]
  },
  {
   "cell_type": "markdown",
   "id": "e960618d-636c-47e2-b8f7-f20563a27fc6",
   "metadata": {},
   "source": [
    "Each movie with its unique ID has information on the title, genres, and year."
   ]
  },
  {
   "cell_type": "code",
   "execution_count": 9,
   "id": "1a800107-d45e-4f65-bd03-147359d09c76",
   "metadata": {},
   "outputs": [
    {
     "data": {
      "text/html": [
       "<div>\n",
       "<style scoped>\n",
       "    .dataframe tbody tr th:only-of-type {\n",
       "        vertical-align: middle;\n",
       "    }\n",
       "\n",
       "    .dataframe tbody tr th {\n",
       "        vertical-align: top;\n",
       "    }\n",
       "\n",
       "    .dataframe thead th {\n",
       "        text-align: right;\n",
       "    }\n",
       "</style>\n",
       "<table border=\"1\" class=\"dataframe\">\n",
       "  <thead>\n",
       "    <tr style=\"text-align: right;\">\n",
       "      <th></th>\n",
       "      <th>MovieID</th>\n",
       "      <th>Title</th>\n",
       "      <th>Genres</th>\n",
       "    </tr>\n",
       "  </thead>\n",
       "  <tbody>\n",
       "    <tr>\n",
       "      <th>0</th>\n",
       "      <td>1</td>\n",
       "      <td>Toy Story (1995)</td>\n",
       "      <td>Animation|Children's|Comedy</td>\n",
       "    </tr>\n",
       "    <tr>\n",
       "      <th>1</th>\n",
       "      <td>2</td>\n",
       "      <td>Jumanji (1995)</td>\n",
       "      <td>Adventure|Children's|Fantasy</td>\n",
       "    </tr>\n",
       "    <tr>\n",
       "      <th>2</th>\n",
       "      <td>3</td>\n",
       "      <td>Grumpier Old Men (1995)</td>\n",
       "      <td>Comedy|Romance</td>\n",
       "    </tr>\n",
       "    <tr>\n",
       "      <th>3</th>\n",
       "      <td>4</td>\n",
       "      <td>Waiting to Exhale (1995)</td>\n",
       "      <td>Comedy|Drama</td>\n",
       "    </tr>\n",
       "    <tr>\n",
       "      <th>4</th>\n",
       "      <td>5</td>\n",
       "      <td>Father of the Bride Part II (1995)</td>\n",
       "      <td>Comedy</td>\n",
       "    </tr>\n",
       "  </tbody>\n",
       "</table>\n",
       "</div>"
      ],
      "text/plain": [
       "   MovieID                               Title                        Genres\n",
       "0        1                    Toy Story (1995)   Animation|Children's|Comedy\n",
       "1        2                      Jumanji (1995)  Adventure|Children's|Fantasy\n",
       "2        3             Grumpier Old Men (1995)                Comedy|Romance\n",
       "3        4            Waiting to Exhale (1995)                  Comedy|Drama\n",
       "4        5  Father of the Bride Part II (1995)                        Comedy"
      ]
     },
     "execution_count": 9,
     "metadata": {},
     "output_type": "execute_result"
    }
   ],
   "source": [
    "movies_df.head()"
   ]
  },
  {
   "cell_type": "markdown",
   "id": "83fc5189-8cf9-4bca-a32c-2f72b0cd4231",
   "metadata": {},
   "source": [
    "No information about the movie's director is present in the MovieLens dataset."
   ]
  },
  {
   "cell_type": "markdown",
   "id": "df4fd91d-6fd8-4621-9c23-a1b370500d2a",
   "metadata": {},
   "source": [
    "The <a href=\"https://figshare.com/articles/dataset/U_S_movies_with_gender-disambiguated_actors_directors_and_producers/4967876\">dataset</a> on the gender of the directors comes from Northwestern University's Amaral Lab, which looks at the gender breakdown of the crew of U.S. films released between 1894 and 2011."
   ]
  },
  {
   "cell_type": "code",
   "execution_count": 10,
   "id": "5c9c814f-5cde-47dd-93ad-f76e78c5667a",
   "metadata": {},
   "outputs": [],
   "source": [
    "# Directors File\n",
    "directors_file = os.path.join(extract_path, \"directors.json\")\n",
    "directors_df = pd.read_json(directors_file)"
   ]
  },
  {
   "cell_type": "markdown",
   "id": "bffc20d4-3603-43d5-881e-376182c6d78b",
   "metadata": {},
   "source": [
    "The relevant columns in this dataset are the gender of the director, as well as the list of movies they have directed. The movies in the list are not identified by title, but rather their unique numerical identifier assigned by IMDb, the world's most popular media database."
   ]
  },
  {
   "cell_type": "code",
   "execution_count": 11,
   "id": "773fcffe-f793-4828-8097-1c2fbffd00cd",
   "metadata": {},
   "outputs": [
    {
     "data": {
      "text/html": [
       "<div>\n",
       "<style scoped>\n",
       "    .dataframe tbody tr th:only-of-type {\n",
       "        vertical-align: middle;\n",
       "    }\n",
       "\n",
       "    .dataframe tbody tr th {\n",
       "        vertical-align: top;\n",
       "    }\n",
       "\n",
       "    .dataframe thead th {\n",
       "        text-align: right;\n",
       "    }\n",
       "</style>\n",
       "<table border=\"1\" class=\"dataframe\">\n",
       "  <thead>\n",
       "    <tr style=\"text-align: right;\">\n",
       "      <th></th>\n",
       "      <th>first_movie</th>\n",
       "      <th>actress_credits</th>\n",
       "      <th>male_count</th>\n",
       "      <th>_id</th>\n",
       "      <th>gender</th>\n",
       "      <th>name</th>\n",
       "      <th>female_count</th>\n",
       "      <th>last_movie</th>\n",
       "      <th>actor_credits</th>\n",
       "      <th>movies_list</th>\n",
       "    </tr>\n",
       "  </thead>\n",
       "  <tbody>\n",
       "    <tr>\n",
       "      <th>0</th>\n",
       "      <td>1940</td>\n",
       "      <td>False</td>\n",
       "      <td>272</td>\n",
       "      <td>nm0000033</td>\n",
       "      <td>male</td>\n",
       "      <td>Alfred Hitchcock</td>\n",
       "      <td>13</td>\n",
       "      <td>1976</td>\n",
       "      <td>True</td>\n",
       "      <td>[{'movie_id': 'tt0046912', 'year': 1954, 'type...</td>\n",
       "    </tr>\n",
       "    <tr>\n",
       "      <th>1</th>\n",
       "      <td>1917</td>\n",
       "      <td>False</td>\n",
       "      <td>247</td>\n",
       "      <td>nm0000036</td>\n",
       "      <td>male</td>\n",
       "      <td>Buster Keaton</td>\n",
       "      <td>7</td>\n",
       "      <td>1939</td>\n",
       "      <td>True</td>\n",
       "      <td>[{'movie_id': 'tt0011541', 'year': 1920, 'type...</td>\n",
       "    </tr>\n",
       "    <tr>\n",
       "      <th>2</th>\n",
       "      <td>1951</td>\n",
       "      <td>False</td>\n",
       "      <td>366</td>\n",
       "      <td>nm0000040</td>\n",
       "      <td>male</td>\n",
       "      <td>Stanley Kubrick</td>\n",
       "      <td>24</td>\n",
       "      <td>1980</td>\n",
       "      <td>True</td>\n",
       "      <td>[{'movie_id': 'tt0062622', 'year': 1968, 'type...</td>\n",
       "    </tr>\n",
       "    <tr>\n",
       "      <th>3</th>\n",
       "      <td>1968</td>\n",
       "      <td>False</td>\n",
       "      <td>253</td>\n",
       "      <td>nm0000056</td>\n",
       "      <td>male</td>\n",
       "      <td>Paul Newman</td>\n",
       "      <td>15</td>\n",
       "      <td>1987</td>\n",
       "      <td>True</td>\n",
       "      <td>[{'movie_id': 'tt0093093', 'year': 1987, 'type...</td>\n",
       "    </tr>\n",
       "    <tr>\n",
       "      <th>4</th>\n",
       "      <td>1996</td>\n",
       "      <td>False</td>\n",
       "      <td>59</td>\n",
       "      <td>nm0000114</td>\n",
       "      <td>male</td>\n",
       "      <td>Steve Buscemi</td>\n",
       "      <td>1</td>\n",
       "      <td>2007</td>\n",
       "      <td>True</td>\n",
       "      <td>[{'movie_id': 'tt0480269', 'year': 2007, 'type...</td>\n",
       "    </tr>\n",
       "  </tbody>\n",
       "</table>\n",
       "</div>"
      ],
      "text/plain": [
       "   first_movie  actress_credits  male_count        _id gender  \\\n",
       "0         1940            False         272  nm0000033   male   \n",
       "1         1917            False         247  nm0000036   male   \n",
       "2         1951            False         366  nm0000040   male   \n",
       "3         1968            False         253  nm0000056   male   \n",
       "4         1996            False          59  nm0000114   male   \n",
       "\n",
       "               name  female_count  last_movie  actor_credits  \\\n",
       "0  Alfred Hitchcock            13        1976           True   \n",
       "1     Buster Keaton             7        1939           True   \n",
       "2   Stanley Kubrick            24        1980           True   \n",
       "3       Paul Newman            15        1987           True   \n",
       "4     Steve Buscemi             1        2007           True   \n",
       "\n",
       "                                         movies_list  \n",
       "0  [{'movie_id': 'tt0046912', 'year': 1954, 'type...  \n",
       "1  [{'movie_id': 'tt0011541', 'year': 1920, 'type...  \n",
       "2  [{'movie_id': 'tt0062622', 'year': 1968, 'type...  \n",
       "3  [{'movie_id': 'tt0093093', 'year': 1987, 'type...  \n",
       "4  [{'movie_id': 'tt0480269', 'year': 2007, 'type...  "
      ]
     },
     "execution_count": 11,
     "metadata": {},
     "output_type": "execute_result"
    }
   ],
   "source": [
    "directors_df.head()"
   ]
  },
  {
   "cell_type": "markdown",
   "id": "c8d5e8af-3c1c-4126-a186-7e9a47aa7289",
   "metadata": {},
   "source": [
    "As such, we also utilize <a href=\"https://datasets.imdbws.com/\">IMDb's dataset</a> on titles and identifiers. Each row represents a single movie, with relevant columns being its unique identifier, title, and year."
   ]
  },
  {
   "cell_type": "code",
   "execution_count": 12,
   "id": "44fffcf8-7736-4523-907b-bec257aad151",
   "metadata": {},
   "outputs": [
    {
     "name": "stderr",
     "output_type": "stream",
     "text": [
      "<ipython-input-12-e9ceaab42893>:3: DtypeWarning: Columns (4) have mixed types. Specify dtype option on import or set low_memory=False.\n",
      "  titles_df = pd.read_csv(titles_file, compression='gzip', sep='\\t', encoding='utf-8')\n"
     ]
    }
   ],
   "source": [
    "# Titles File\n",
    "titles_file = os.path.join(extract_path, \"title.basics.tsv.gz\")\n",
    "titles_df = pd.read_csv(titles_file, compression='gzip', sep='\\t', encoding='utf-8')"
   ]
  },
  {
   "cell_type": "code",
   "execution_count": 13,
   "id": "56fcdee5-a993-4d2e-9bd5-9e4e212f2cb6",
   "metadata": {},
   "outputs": [
    {
     "data": {
      "text/html": [
       "<div>\n",
       "<style scoped>\n",
       "    .dataframe tbody tr th:only-of-type {\n",
       "        vertical-align: middle;\n",
       "    }\n",
       "\n",
       "    .dataframe tbody tr th {\n",
       "        vertical-align: top;\n",
       "    }\n",
       "\n",
       "    .dataframe thead th {\n",
       "        text-align: right;\n",
       "    }\n",
       "</style>\n",
       "<table border=\"1\" class=\"dataframe\">\n",
       "  <thead>\n",
       "    <tr style=\"text-align: right;\">\n",
       "      <th></th>\n",
       "      <th>tconst</th>\n",
       "      <th>titleType</th>\n",
       "      <th>primaryTitle</th>\n",
       "      <th>originalTitle</th>\n",
       "      <th>isAdult</th>\n",
       "      <th>startYear</th>\n",
       "      <th>endYear</th>\n",
       "      <th>runtimeMinutes</th>\n",
       "      <th>genres</th>\n",
       "    </tr>\n",
       "  </thead>\n",
       "  <tbody>\n",
       "    <tr>\n",
       "      <th>0</th>\n",
       "      <td>tt0000001</td>\n",
       "      <td>short</td>\n",
       "      <td>Carmencita</td>\n",
       "      <td>Carmencita</td>\n",
       "      <td>0</td>\n",
       "      <td>1894</td>\n",
       "      <td>\\N</td>\n",
       "      <td>1</td>\n",
       "      <td>Documentary,Short</td>\n",
       "    </tr>\n",
       "    <tr>\n",
       "      <th>1</th>\n",
       "      <td>tt0000002</td>\n",
       "      <td>short</td>\n",
       "      <td>Le clown et ses chiens</td>\n",
       "      <td>Le clown et ses chiens</td>\n",
       "      <td>0</td>\n",
       "      <td>1892</td>\n",
       "      <td>\\N</td>\n",
       "      <td>5</td>\n",
       "      <td>Animation,Short</td>\n",
       "    </tr>\n",
       "    <tr>\n",
       "      <th>2</th>\n",
       "      <td>tt0000003</td>\n",
       "      <td>short</td>\n",
       "      <td>Pauvre Pierrot</td>\n",
       "      <td>Pauvre Pierrot</td>\n",
       "      <td>0</td>\n",
       "      <td>1892</td>\n",
       "      <td>\\N</td>\n",
       "      <td>4</td>\n",
       "      <td>Animation,Comedy,Romance</td>\n",
       "    </tr>\n",
       "    <tr>\n",
       "      <th>3</th>\n",
       "      <td>tt0000004</td>\n",
       "      <td>short</td>\n",
       "      <td>Un bon bock</td>\n",
       "      <td>Un bon bock</td>\n",
       "      <td>0</td>\n",
       "      <td>1892</td>\n",
       "      <td>\\N</td>\n",
       "      <td>12</td>\n",
       "      <td>Animation,Short</td>\n",
       "    </tr>\n",
       "    <tr>\n",
       "      <th>4</th>\n",
       "      <td>tt0000005</td>\n",
       "      <td>short</td>\n",
       "      <td>Blacksmith Scene</td>\n",
       "      <td>Blacksmith Scene</td>\n",
       "      <td>0</td>\n",
       "      <td>1893</td>\n",
       "      <td>\\N</td>\n",
       "      <td>1</td>\n",
       "      <td>Comedy,Short</td>\n",
       "    </tr>\n",
       "  </tbody>\n",
       "</table>\n",
       "</div>"
      ],
      "text/plain": [
       "      tconst titleType            primaryTitle           originalTitle  \\\n",
       "0  tt0000001     short              Carmencita              Carmencita   \n",
       "1  tt0000002     short  Le clown et ses chiens  Le clown et ses chiens   \n",
       "2  tt0000003     short          Pauvre Pierrot          Pauvre Pierrot   \n",
       "3  tt0000004     short             Un bon bock             Un bon bock   \n",
       "4  tt0000005     short        Blacksmith Scene        Blacksmith Scene   \n",
       "\n",
       "  isAdult startYear endYear runtimeMinutes                    genres  \n",
       "0       0      1894      \\N              1         Documentary,Short  \n",
       "1       0      1892      \\N              5           Animation,Short  \n",
       "2       0      1892      \\N              4  Animation,Comedy,Romance  \n",
       "3       0      1892      \\N             12           Animation,Short  \n",
       "4       0      1893      \\N              1              Comedy,Short  "
      ]
     },
     "execution_count": 13,
     "metadata": {},
     "output_type": "execute_result"
    }
   ],
   "source": [
    "titles_df.head()"
   ]
  },
  {
   "cell_type": "markdown",
   "id": "21e65172-bd54-4831-8a9f-103867e4b1be",
   "metadata": {},
   "source": [
    "### Separting Title of Movie from the Year in Movies Dataframe"
   ]
  },
  {
   "cell_type": "markdown",
   "id": "98b28427-88c1-45e6-8a88-48dd45398c39",
   "metadata": {},
   "source": [
    "To clean the dataset, we separate the title of the movie from the year and create a separate column to record the movie's release year."
   ]
  },
  {
   "cell_type": "code",
   "execution_count": 14,
   "id": "cd2602d5-c1cb-4ea1-923f-1bf62f4ab8c0",
   "metadata": {
    "scrolled": true
   },
   "outputs": [
    {
     "data": {
      "text/html": [
       "<div>\n",
       "<style scoped>\n",
       "    .dataframe tbody tr th:only-of-type {\n",
       "        vertical-align: middle;\n",
       "    }\n",
       "\n",
       "    .dataframe tbody tr th {\n",
       "        vertical-align: top;\n",
       "    }\n",
       "\n",
       "    .dataframe thead th {\n",
       "        text-align: right;\n",
       "    }\n",
       "</style>\n",
       "<table border=\"1\" class=\"dataframe\">\n",
       "  <thead>\n",
       "    <tr style=\"text-align: right;\">\n",
       "      <th></th>\n",
       "      <th>MovieID</th>\n",
       "      <th>Title</th>\n",
       "      <th>Genres</th>\n",
       "      <th>Year</th>\n",
       "    </tr>\n",
       "  </thead>\n",
       "  <tbody>\n",
       "    <tr>\n",
       "      <th>0</th>\n",
       "      <td>1</td>\n",
       "      <td>Toy Story</td>\n",
       "      <td>Animation|Children's|Comedy</td>\n",
       "      <td>1995</td>\n",
       "    </tr>\n",
       "    <tr>\n",
       "      <th>1</th>\n",
       "      <td>2</td>\n",
       "      <td>Jumanji</td>\n",
       "      <td>Adventure|Children's|Fantasy</td>\n",
       "      <td>1995</td>\n",
       "    </tr>\n",
       "    <tr>\n",
       "      <th>2</th>\n",
       "      <td>3</td>\n",
       "      <td>Grumpier Old Men</td>\n",
       "      <td>Comedy|Romance</td>\n",
       "      <td>1995</td>\n",
       "    </tr>\n",
       "    <tr>\n",
       "      <th>3</th>\n",
       "      <td>4</td>\n",
       "      <td>Waiting to Exhale</td>\n",
       "      <td>Comedy|Drama</td>\n",
       "      <td>1995</td>\n",
       "    </tr>\n",
       "    <tr>\n",
       "      <th>4</th>\n",
       "      <td>5</td>\n",
       "      <td>Father of the Bride Part II</td>\n",
       "      <td>Comedy</td>\n",
       "      <td>1995</td>\n",
       "    </tr>\n",
       "  </tbody>\n",
       "</table>\n",
       "</div>"
      ],
      "text/plain": [
       "   MovieID                        Title                        Genres  Year\n",
       "0        1                    Toy Story   Animation|Children's|Comedy  1995\n",
       "1        2                      Jumanji  Adventure|Children's|Fantasy  1995\n",
       "2        3             Grumpier Old Men                Comedy|Romance  1995\n",
       "3        4            Waiting to Exhale                  Comedy|Drama  1995\n",
       "4        5  Father of the Bride Part II                        Comedy  1995"
      ]
     },
     "execution_count": 14,
     "metadata": {},
     "output_type": "execute_result"
    }
   ],
   "source": [
    "import re\n",
    "\n",
    "# Separate title of movie from the year\n",
    "movies_df['Year'] = movies_df['Title'].apply(lambda x: re.search(r'\\((\\d{4})\\)', x).group(1) if re.search(r'\\((\\d{4})\\)', x) else None)\n",
    "movies_df['Title'] = movies_df['Title'].apply(lambda x: re.sub(r'\\(\\d{4}\\)', '', x).strip())\n",
    "movies_df.head()"
   ]
  },
  {
   "cell_type": "markdown",
   "id": "11eca98e-2771-4b27-8455-068d0cb6c952",
   "metadata": {},
   "source": [
    "IMDb also records information on television serieses, podcasts, video games, and other media forms. Our user ratings from MovieLens only look at movies, so these mediums are irrelevant. We drop the data associated with these mediums."
   ]
  },
  {
   "cell_type": "code",
   "execution_count": 15,
   "id": "f4a84551-86f7-48ef-9be5-5cc66e8eb209",
   "metadata": {},
   "outputs": [
    {
     "data": {
      "text/html": [
       "<div>\n",
       "<style scoped>\n",
       "    .dataframe tbody tr th:only-of-type {\n",
       "        vertical-align: middle;\n",
       "    }\n",
       "\n",
       "    .dataframe tbody tr th {\n",
       "        vertical-align: top;\n",
       "    }\n",
       "\n",
       "    .dataframe thead th {\n",
       "        text-align: right;\n",
       "    }\n",
       "</style>\n",
       "<table border=\"1\" class=\"dataframe\">\n",
       "  <thead>\n",
       "    <tr style=\"text-align: right;\">\n",
       "      <th></th>\n",
       "      <th>tconst</th>\n",
       "      <th>titleType</th>\n",
       "      <th>primaryTitle</th>\n",
       "      <th>originalTitle</th>\n",
       "      <th>isAdult</th>\n",
       "      <th>startYear</th>\n",
       "      <th>endYear</th>\n",
       "      <th>runtimeMinutes</th>\n",
       "      <th>genres</th>\n",
       "    </tr>\n",
       "  </thead>\n",
       "  <tbody>\n",
       "    <tr>\n",
       "      <th>8</th>\n",
       "      <td>tt0000009</td>\n",
       "      <td>movie</td>\n",
       "      <td>Miss Jerry</td>\n",
       "      <td>Miss Jerry</td>\n",
       "      <td>0</td>\n",
       "      <td>1894</td>\n",
       "      <td>\\N</td>\n",
       "      <td>45</td>\n",
       "      <td>Romance</td>\n",
       "    </tr>\n",
       "    <tr>\n",
       "      <th>144</th>\n",
       "      <td>tt0000147</td>\n",
       "      <td>movie</td>\n",
       "      <td>The Corbett-Fitzsimmons Fight</td>\n",
       "      <td>The Corbett-Fitzsimmons Fight</td>\n",
       "      <td>0</td>\n",
       "      <td>1897</td>\n",
       "      <td>\\N</td>\n",
       "      <td>100</td>\n",
       "      <td>Documentary,News,Sport</td>\n",
       "    </tr>\n",
       "    <tr>\n",
       "      <th>498</th>\n",
       "      <td>tt0000502</td>\n",
       "      <td>movie</td>\n",
       "      <td>Bohemios</td>\n",
       "      <td>Bohemios</td>\n",
       "      <td>0</td>\n",
       "      <td>1905</td>\n",
       "      <td>\\N</td>\n",
       "      <td>100</td>\n",
       "      <td>\\N</td>\n",
       "    </tr>\n",
       "    <tr>\n",
       "      <th>570</th>\n",
       "      <td>tt0000574</td>\n",
       "      <td>movie</td>\n",
       "      <td>The Story of the Kelly Gang</td>\n",
       "      <td>The Story of the Kelly Gang</td>\n",
       "      <td>0</td>\n",
       "      <td>1906</td>\n",
       "      <td>\\N</td>\n",
       "      <td>70</td>\n",
       "      <td>Action,Adventure,Biography</td>\n",
       "    </tr>\n",
       "    <tr>\n",
       "      <th>587</th>\n",
       "      <td>tt0000591</td>\n",
       "      <td>movie</td>\n",
       "      <td>The Prodigal Son</td>\n",
       "      <td>L'enfant prodigue</td>\n",
       "      <td>0</td>\n",
       "      <td>1907</td>\n",
       "      <td>\\N</td>\n",
       "      <td>90</td>\n",
       "      <td>Drama</td>\n",
       "    </tr>\n",
       "  </tbody>\n",
       "</table>\n",
       "</div>"
      ],
      "text/plain": [
       "        tconst titleType                   primaryTitle  \\\n",
       "8    tt0000009     movie                     Miss Jerry   \n",
       "144  tt0000147     movie  The Corbett-Fitzsimmons Fight   \n",
       "498  tt0000502     movie                       Bohemios   \n",
       "570  tt0000574     movie    The Story of the Kelly Gang   \n",
       "587  tt0000591     movie               The Prodigal Son   \n",
       "\n",
       "                     originalTitle isAdult startYear endYear runtimeMinutes  \\\n",
       "8                       Miss Jerry       0      1894      \\N             45   \n",
       "144  The Corbett-Fitzsimmons Fight       0      1897      \\N            100   \n",
       "498                       Bohemios       0      1905      \\N            100   \n",
       "570    The Story of the Kelly Gang       0      1906      \\N             70   \n",
       "587              L'enfant prodigue       0      1907      \\N             90   \n",
       "\n",
       "                         genres  \n",
       "8                       Romance  \n",
       "144      Documentary,News,Sport  \n",
       "498                          \\N  \n",
       "570  Action,Adventure,Biography  \n",
       "587                       Drama  "
      ]
     },
     "execution_count": 15,
     "metadata": {},
     "output_type": "execute_result"
    }
   ],
   "source": [
    "# Filter to get titles that are only associated with movies\n",
    "titles_df = titles_df[titles_df['titleType'] == 'movie']\n",
    "titles_df.head()"
   ]
  },
  {
   "cell_type": "markdown",
   "id": "de7fbd21-f64d-479c-ba74-75704a0f11e5",
   "metadata": {},
   "source": [
    "### Merge the Movies Dataframe and Titles Dataframe Together Given Movie Title and Year"
   ]
  },
  {
   "cell_type": "markdown",
   "id": "2223cfff-5969-4ec0-a6d8-13e2180e7773",
   "metadata": {},
   "source": [
    "We join the movie information in the user ratings with the movie information in IMDb's title dataset to link the unique identifier. The identifier is linked to the movie if the title and year match in both datasets, since MovieLens sources its titles from IMDb. Repeated columns (e.g., title, year, genres) are dropped, as well as irrelevant columns (e.g., runtime)."
   ]
  },
  {
   "cell_type": "code",
   "execution_count": 16,
   "id": "ac69ce2c-e590-4d45-bdd9-1bc6752ddd38",
   "metadata": {
    "scrolled": true
   },
   "outputs": [
    {
     "data": {
      "text/html": [
       "<div>\n",
       "<style scoped>\n",
       "    .dataframe tbody tr th:only-of-type {\n",
       "        vertical-align: middle;\n",
       "    }\n",
       "\n",
       "    .dataframe tbody tr th {\n",
       "        vertical-align: top;\n",
       "    }\n",
       "\n",
       "    .dataframe thead th {\n",
       "        text-align: right;\n",
       "    }\n",
       "</style>\n",
       "<table border=\"1\" class=\"dataframe\">\n",
       "  <thead>\n",
       "    <tr style=\"text-align: right;\">\n",
       "      <th></th>\n",
       "      <th>MovieID</th>\n",
       "      <th>Title</th>\n",
       "      <th>Genres</th>\n",
       "      <th>Year</th>\n",
       "      <th>tconst</th>\n",
       "    </tr>\n",
       "  </thead>\n",
       "  <tbody>\n",
       "    <tr>\n",
       "      <th>0</th>\n",
       "      <td>1</td>\n",
       "      <td>Toy Story</td>\n",
       "      <td>Animation|Children's|Comedy</td>\n",
       "      <td>1995</td>\n",
       "      <td>tt0114709</td>\n",
       "    </tr>\n",
       "    <tr>\n",
       "      <th>1</th>\n",
       "      <td>2</td>\n",
       "      <td>Jumanji</td>\n",
       "      <td>Adventure|Children's|Fantasy</td>\n",
       "      <td>1995</td>\n",
       "      <td>tt0113497</td>\n",
       "    </tr>\n",
       "    <tr>\n",
       "      <th>2</th>\n",
       "      <td>3</td>\n",
       "      <td>Grumpier Old Men</td>\n",
       "      <td>Comedy|Romance</td>\n",
       "      <td>1995</td>\n",
       "      <td>tt0113228</td>\n",
       "    </tr>\n",
       "    <tr>\n",
       "      <th>3</th>\n",
       "      <td>4</td>\n",
       "      <td>Waiting to Exhale</td>\n",
       "      <td>Comedy|Drama</td>\n",
       "      <td>1995</td>\n",
       "      <td>tt0114885</td>\n",
       "    </tr>\n",
       "    <tr>\n",
       "      <th>4</th>\n",
       "      <td>5</td>\n",
       "      <td>Father of the Bride Part II</td>\n",
       "      <td>Comedy</td>\n",
       "      <td>1995</td>\n",
       "      <td>tt0113041</td>\n",
       "    </tr>\n",
       "  </tbody>\n",
       "</table>\n",
       "</div>"
      ],
      "text/plain": [
       "   MovieID                        Title                        Genres  Year  \\\n",
       "0        1                    Toy Story   Animation|Children's|Comedy  1995   \n",
       "1        2                      Jumanji  Adventure|Children's|Fantasy  1995   \n",
       "2        3             Grumpier Old Men                Comedy|Romance  1995   \n",
       "3        4            Waiting to Exhale                  Comedy|Drama  1995   \n",
       "4        5  Father of the Bride Part II                        Comedy  1995   \n",
       "\n",
       "      tconst  \n",
       "0  tt0114709  \n",
       "1  tt0113497  \n",
       "2  tt0113228  \n",
       "3  tt0114885  \n",
       "4  tt0113041  "
      ]
     },
     "execution_count": 16,
     "metadata": {},
     "output_type": "execute_result"
    }
   ],
   "source": [
    "# Merge datasets using Title of movie and year\n",
    "\n",
    "movie_ids = pd.merge(movies_df, titles_df, left_on=['Title', 'Year'], right_on=['primaryTitle', 'startYear'], how='left')\n",
    "movie_ids = movie_ids[['MovieID', 'Title', 'Genres', 'Year', 'tconst']]\n",
    "movie_ids.head()"
   ]
  },
  {
   "cell_type": "markdown",
   "id": "27903a68-f003-4fe2-b2ae-79d8c0b6cfad",
   "metadata": {},
   "source": [
    "### Get Director Gender for each movie"
   ]
  },
  {
   "cell_type": "markdown",
   "id": "2b3347c9-0a88-4d07-82ad-c30b83924719",
   "metadata": {},
   "source": [
    "Because directors can direct multiple movies, each row will be associated with a single director for a single movie. This means that directors who have directed more than one movie will appear in several rows.\n",
    "\n",
    "Also note that a single movie can have more than one director. So, each movie can also appear in several rows."
   ]
  },
  {
   "cell_type": "code",
   "execution_count": 17,
   "id": "adab2652-eb3b-4470-9971-bc3b494bf3b0",
   "metadata": {},
   "outputs": [],
   "source": [
    "# Find gender of each movie identifier associated with the director\n",
    "\n",
    "genders = directors_df.explode('movies_list')\n",
    "genders = pd.concat([genders.drop(['movies_list'], axis=1),\n",
    "                         genders['movies_list'].apply(pd.Series)], axis=1)"
   ]
  },
  {
   "cell_type": "markdown",
   "id": "ad5d6347-e5bf-4653-a464-433ebd81b7db",
   "metadata": {},
   "source": [
    "### Merging User Rating Movie information and Director Gender data "
   ]
  },
  {
   "cell_type": "markdown",
   "id": "3e332d4c-7851-46f8-af48-8a0560194df7",
   "metadata": {},
   "source": [
    "Now that both the user ratings data and the director gender data have the IMDb identifier, the datasets can be combined by matching them together."
   ]
  },
  {
   "cell_type": "code",
   "execution_count": 18,
   "id": "47c6968f-4907-4b2a-a709-caf23091434e",
   "metadata": {},
   "outputs": [
    {
     "data": {
      "text/html": [
       "<div>\n",
       "<style scoped>\n",
       "    .dataframe tbody tr th:only-of-type {\n",
       "        vertical-align: middle;\n",
       "    }\n",
       "\n",
       "    .dataframe tbody tr th {\n",
       "        vertical-align: top;\n",
       "    }\n",
       "\n",
       "    .dataframe thead th {\n",
       "        text-align: right;\n",
       "    }\n",
       "</style>\n",
       "<table border=\"1\" class=\"dataframe\">\n",
       "  <thead>\n",
       "    <tr style=\"text-align: right;\">\n",
       "      <th></th>\n",
       "      <th>MovieID</th>\n",
       "      <th>Title</th>\n",
       "      <th>Genres</th>\n",
       "      <th>Year</th>\n",
       "      <th>gender</th>\n",
       "      <th>name</th>\n",
       "    </tr>\n",
       "  </thead>\n",
       "  <tbody>\n",
       "    <tr>\n",
       "      <th>0</th>\n",
       "      <td>1</td>\n",
       "      <td>Toy Story</td>\n",
       "      <td>Animation|Children's|Comedy</td>\n",
       "      <td>1995</td>\n",
       "      <td>male</td>\n",
       "      <td>John Lasseter</td>\n",
       "    </tr>\n",
       "    <tr>\n",
       "      <th>1</th>\n",
       "      <td>2</td>\n",
       "      <td>Jumanji</td>\n",
       "      <td>Adventure|Children's|Fantasy</td>\n",
       "      <td>1995</td>\n",
       "      <td>male</td>\n",
       "      <td>Joe Johnston</td>\n",
       "    </tr>\n",
       "    <tr>\n",
       "      <th>2</th>\n",
       "      <td>3</td>\n",
       "      <td>Grumpier Old Men</td>\n",
       "      <td>Comedy|Romance</td>\n",
       "      <td>1995</td>\n",
       "      <td>male</td>\n",
       "      <td>Howard Deutch</td>\n",
       "    </tr>\n",
       "    <tr>\n",
       "      <th>3</th>\n",
       "      <td>4</td>\n",
       "      <td>Waiting to Exhale</td>\n",
       "      <td>Comedy|Drama</td>\n",
       "      <td>1995</td>\n",
       "      <td>male</td>\n",
       "      <td>Forest Whitaker</td>\n",
       "    </tr>\n",
       "    <tr>\n",
       "      <th>4</th>\n",
       "      <td>5</td>\n",
       "      <td>Father of the Bride Part II</td>\n",
       "      <td>Comedy</td>\n",
       "      <td>1995</td>\n",
       "      <td>male</td>\n",
       "      <td>Charles Shyer</td>\n",
       "    </tr>\n",
       "  </tbody>\n",
       "</table>\n",
       "</div>"
      ],
      "text/plain": [
       "   MovieID                        Title                        Genres  Year  \\\n",
       "0        1                    Toy Story   Animation|Children's|Comedy  1995   \n",
       "1        2                      Jumanji  Adventure|Children's|Fantasy  1995   \n",
       "2        3             Grumpier Old Men                Comedy|Romance  1995   \n",
       "3        4            Waiting to Exhale                  Comedy|Drama  1995   \n",
       "4        5  Father of the Bride Part II                        Comedy  1995   \n",
       "\n",
       "  gender             name  \n",
       "0   male    John Lasseter  \n",
       "1   male     Joe Johnston  \n",
       "2   male    Howard Deutch  \n",
       "3   male  Forest Whitaker  \n",
       "4   male    Charles Shyer  "
      ]
     },
     "execution_count": 18,
     "metadata": {},
     "output_type": "execute_result"
    }
   ],
   "source": [
    "# Combine datasets based on movie identifier \n",
    "\n",
    "merged_df = pd.merge(movie_ids, genders, left_on='tconst', right_on='movie_id', how='left')\n",
    "merged_df = merged_df.loc[:, ['MovieID', 'Title', 'Genres', 'Year', 'gender', 'name']]\n",
    "merged_df.head()"
   ]
  },
  {
   "cell_type": "markdown",
   "id": "c6b1cbb8",
   "metadata": {},
   "source": [
    "### Checking for Null Values for Each Dataframe"
   ]
  },
  {
   "cell_type": "markdown",
   "id": "038f3733-fe1a-40b8-a54e-b0726d54ee69",
   "metadata": {},
   "source": [
    "Before we proceed with any analysis, we examine the distributions and values of the dataset to check for missing values."
   ]
  },
  {
   "cell_type": "code",
   "execution_count": 19,
   "id": "1489ae9a-a197-48d8-8a9d-dd68ea8ca7cc",
   "metadata": {},
   "outputs": [
    {
     "data": {
      "text/plain": [
       "MovieID    0.00000\n",
       "Title      0.00000\n",
       "Genres     0.00000\n",
       "Year       0.00000\n",
       "gender     0.56348\n",
       "name       0.56348\n",
       "dtype: float64"
      ]
     },
     "execution_count": 19,
     "metadata": {},
     "output_type": "execute_result"
    }
   ],
   "source": [
    "# Check for proportion of missing data in movie information\n",
    "merged_df.isnull().sum() / merged_df.shape[0]"
   ]
  },
  {
   "cell_type": "code",
   "execution_count": 20,
   "id": "0b3df6d1-f750-4271-b887-f69d550885c2",
   "metadata": {},
   "outputs": [
    {
     "data": {
      "text/plain": [
       "UserID       0\n",
       "MovieID      0\n",
       "Rating       0\n",
       "Timestamp    0\n",
       "dtype: int64"
      ]
     },
     "execution_count": 20,
     "metadata": {},
     "output_type": "execute_result"
    }
   ],
   "source": [
    "# Check for proportion of missing data in user ratings\n",
    "ratings_df.isnull().sum()"
   ]
  },
  {
   "cell_type": "markdown",
   "id": "d1c5b9b3-5f37-4309-b68e-d86f495e5080",
   "metadata": {},
   "source": [
    "No data is missing in the user ratings. To check for placeholder values, we check all values of rating scores. The only values are 1-5, which means there are no placeholder values for missing data."
   ]
  },
  {
   "cell_type": "code",
   "execution_count": 21,
   "id": "9a294f37-26af-43c5-a5c9-0d7d67db8fb4",
   "metadata": {},
   "outputs": [
    {
     "data": {
      "text/plain": [
       "Rating\n",
       "4    348971\n",
       "3    261197\n",
       "5    226310\n",
       "2    107557\n",
       "1     56174\n",
       "Name: count, dtype: int64"
      ]
     },
     "execution_count": 21,
     "metadata": {},
     "output_type": "execute_result"
    }
   ],
   "source": [
    "# Check all values of rating scores\n",
    "ratings_df['Rating'].value_counts()"
   ]
  },
  {
   "cell_type": "markdown",
   "id": "66a226d2-0a69-4af5-93d9-704ca80c8e00",
   "metadata": {},
   "source": [
    "### Merging Movies Dataframe with Ratings Dataframe on MovieID to Include Rating and UserID Columns"
   ]
  },
  {
   "cell_type": "markdown",
   "id": "5f883209-5f89-4df6-a8e9-605c4110624e",
   "metadata": {},
   "source": [
    "Now that we have the movie information for the user ratings complete, we combine the unique Movie ID assigned by MovieLens with the full movie information (with director gender) from the merged dataset above.\n",
    "\n",
    "Each row represents 1 movie rated by 1 user.\n",
    "\n",
    "For clarity purposes, we rename columns to specify that the gender in the data represents the director's gender, and the rating represents the user's rating. We also drop irrelevant columns, such as the director's name."
   ]
  },
  {
   "cell_type": "code",
   "execution_count": 22,
   "id": "ebc4f1c8-e482-49bf-a7bd-8eda836dd154",
   "metadata": {},
   "outputs": [
    {
     "data": {
      "text/html": [
       "<div>\n",
       "<style scoped>\n",
       "    .dataframe tbody tr th:only-of-type {\n",
       "        vertical-align: middle;\n",
       "    }\n",
       "\n",
       "    .dataframe tbody tr th {\n",
       "        vertical-align: top;\n",
       "    }\n",
       "\n",
       "    .dataframe thead th {\n",
       "        text-align: right;\n",
       "    }\n",
       "</style>\n",
       "<table border=\"1\" class=\"dataframe\">\n",
       "  <thead>\n",
       "    <tr style=\"text-align: right;\">\n",
       "      <th></th>\n",
       "      <th>MovieID</th>\n",
       "      <th>Title</th>\n",
       "      <th>Genres</th>\n",
       "      <th>Year</th>\n",
       "      <th>Director_Gender</th>\n",
       "      <th>User_Rating</th>\n",
       "      <th>UserID</th>\n",
       "    </tr>\n",
       "  </thead>\n",
       "  <tbody>\n",
       "    <tr>\n",
       "      <th>0</th>\n",
       "      <td>1</td>\n",
       "      <td>Toy Story</td>\n",
       "      <td>Animation|Children's|Comedy</td>\n",
       "      <td>1995</td>\n",
       "      <td>male</td>\n",
       "      <td>5</td>\n",
       "      <td>1</td>\n",
       "    </tr>\n",
       "    <tr>\n",
       "      <th>1</th>\n",
       "      <td>1</td>\n",
       "      <td>Toy Story</td>\n",
       "      <td>Animation|Children's|Comedy</td>\n",
       "      <td>1995</td>\n",
       "      <td>male</td>\n",
       "      <td>4</td>\n",
       "      <td>6</td>\n",
       "    </tr>\n",
       "    <tr>\n",
       "      <th>2</th>\n",
       "      <td>1</td>\n",
       "      <td>Toy Story</td>\n",
       "      <td>Animation|Children's|Comedy</td>\n",
       "      <td>1995</td>\n",
       "      <td>male</td>\n",
       "      <td>4</td>\n",
       "      <td>8</td>\n",
       "    </tr>\n",
       "    <tr>\n",
       "      <th>3</th>\n",
       "      <td>1</td>\n",
       "      <td>Toy Story</td>\n",
       "      <td>Animation|Children's|Comedy</td>\n",
       "      <td>1995</td>\n",
       "      <td>male</td>\n",
       "      <td>5</td>\n",
       "      <td>9</td>\n",
       "    </tr>\n",
       "    <tr>\n",
       "      <th>4</th>\n",
       "      <td>1</td>\n",
       "      <td>Toy Story</td>\n",
       "      <td>Animation|Children's|Comedy</td>\n",
       "      <td>1995</td>\n",
       "      <td>male</td>\n",
       "      <td>5</td>\n",
       "      <td>10</td>\n",
       "    </tr>\n",
       "  </tbody>\n",
       "</table>\n",
       "</div>"
      ],
      "text/plain": [
       "   MovieID      Title                       Genres  Year Director_Gender  \\\n",
       "0        1  Toy Story  Animation|Children's|Comedy  1995            male   \n",
       "1        1  Toy Story  Animation|Children's|Comedy  1995            male   \n",
       "2        1  Toy Story  Animation|Children's|Comedy  1995            male   \n",
       "3        1  Toy Story  Animation|Children's|Comedy  1995            male   \n",
       "4        1  Toy Story  Animation|Children's|Comedy  1995            male   \n",
       "\n",
       "   User_Rating  UserID  \n",
       "0            5       1  \n",
       "1            4       6  \n",
       "2            4       8  \n",
       "3            5       9  \n",
       "4            5      10  "
      ]
     },
     "execution_count": 22,
     "metadata": {},
     "output_type": "execute_result"
    }
   ],
   "source": [
    "# Merge Movies with Ratings on MovieID\n",
    "Ratings_and_Movies = pd.merge(merged_df, ratings_df[['MovieID', 'Rating', 'UserID']], on='MovieID').drop('name', axis=1)\n",
    "\n",
    "# Rename columns for clarity\n",
    "Ratings_and_Movies.rename(columns={'Rating': 'User_Rating', 'gender': 'Director_Gender'}, inplace=True)\n",
    "\n",
    "Ratings_and_Movies.head()"
   ]
  },
  {
   "cell_type": "code",
   "execution_count": 23,
   "id": "34d185a0-fc12-40a4-a948-a729ba7e45af",
   "metadata": {},
   "outputs": [
    {
     "data": {
      "text/plain": [
       "MovieID            0.000000\n",
       "Title              0.000000\n",
       "Genres             0.000000\n",
       "Year               0.000000\n",
       "Director_Gender    0.374465\n",
       "User_Rating        0.000000\n",
       "UserID             0.000000\n",
       "dtype: float64"
      ]
     },
     "execution_count": 23,
     "metadata": {},
     "output_type": "execute_result"
    }
   ],
   "source": [
    "# Check for null values\n",
    "Ratings_and_Movies.isnull().sum() / Ratings_and_Movies.shape[0]"
   ]
  },
  {
   "cell_type": "code",
   "execution_count": 24,
   "id": "3a5f9ade-2fb1-4cff-a2b6-ca7312026d26",
   "metadata": {},
   "outputs": [],
   "source": [
    "# Remove null values\n",
    "Ratings_and_Movies = Ratings_and_Movies.dropna()"
   ]
  },
  {
   "cell_type": "markdown",
   "id": "14a2732c-97c5-4b96-929a-6a11877586be",
   "metadata": {},
   "source": [
    "### Creating Binary Values for Director Gender Columns"
   ]
  },
  {
   "cell_type": "markdown",
   "id": "2d836c00-81ad-48e4-9e2b-b959c96dbd87",
   "metadata": {},
   "source": [
    "To prepare our dataset for model development, we convert the Director's Gender (either 'female' or 'male') to a numerical value. A value of 0 maps to 'female', while a value of 1 maps to 'male'."
   ]
  },
  {
   "cell_type": "code",
   "execution_count": 25,
   "id": "d0592d30-a94f-4610-ac73-6c2e546efe42",
   "metadata": {
    "scrolled": true
   },
   "outputs": [
    {
     "data": {
      "text/html": [
       "<div>\n",
       "<style scoped>\n",
       "    .dataframe tbody tr th:only-of-type {\n",
       "        vertical-align: middle;\n",
       "    }\n",
       "\n",
       "    .dataframe tbody tr th {\n",
       "        vertical-align: top;\n",
       "    }\n",
       "\n",
       "    .dataframe thead th {\n",
       "        text-align: right;\n",
       "    }\n",
       "</style>\n",
       "<table border=\"1\" class=\"dataframe\">\n",
       "  <thead>\n",
       "    <tr style=\"text-align: right;\">\n",
       "      <th></th>\n",
       "      <th>MovieID</th>\n",
       "      <th>Title</th>\n",
       "      <th>Genres</th>\n",
       "      <th>Year</th>\n",
       "      <th>Director_Gender</th>\n",
       "      <th>User_Rating</th>\n",
       "      <th>UserID</th>\n",
       "    </tr>\n",
       "  </thead>\n",
       "  <tbody>\n",
       "    <tr>\n",
       "      <th>0</th>\n",
       "      <td>1</td>\n",
       "      <td>Toy Story</td>\n",
       "      <td>Animation|Children's|Comedy</td>\n",
       "      <td>1995</td>\n",
       "      <td>1</td>\n",
       "      <td>5</td>\n",
       "      <td>1</td>\n",
       "    </tr>\n",
       "    <tr>\n",
       "      <th>1</th>\n",
       "      <td>1</td>\n",
       "      <td>Toy Story</td>\n",
       "      <td>Animation|Children's|Comedy</td>\n",
       "      <td>1995</td>\n",
       "      <td>1</td>\n",
       "      <td>4</td>\n",
       "      <td>6</td>\n",
       "    </tr>\n",
       "    <tr>\n",
       "      <th>2</th>\n",
       "      <td>1</td>\n",
       "      <td>Toy Story</td>\n",
       "      <td>Animation|Children's|Comedy</td>\n",
       "      <td>1995</td>\n",
       "      <td>1</td>\n",
       "      <td>4</td>\n",
       "      <td>8</td>\n",
       "    </tr>\n",
       "    <tr>\n",
       "      <th>3</th>\n",
       "      <td>1</td>\n",
       "      <td>Toy Story</td>\n",
       "      <td>Animation|Children's|Comedy</td>\n",
       "      <td>1995</td>\n",
       "      <td>1</td>\n",
       "      <td>5</td>\n",
       "      <td>9</td>\n",
       "    </tr>\n",
       "    <tr>\n",
       "      <th>4</th>\n",
       "      <td>1</td>\n",
       "      <td>Toy Story</td>\n",
       "      <td>Animation|Children's|Comedy</td>\n",
       "      <td>1995</td>\n",
       "      <td>1</td>\n",
       "      <td>5</td>\n",
       "      <td>10</td>\n",
       "    </tr>\n",
       "  </tbody>\n",
       "</table>\n",
       "</div>"
      ],
      "text/plain": [
       "   MovieID      Title                       Genres  Year  Director_Gender  \\\n",
       "0        1  Toy Story  Animation|Children's|Comedy  1995                1   \n",
       "1        1  Toy Story  Animation|Children's|Comedy  1995                1   \n",
       "2        1  Toy Story  Animation|Children's|Comedy  1995                1   \n",
       "3        1  Toy Story  Animation|Children's|Comedy  1995                1   \n",
       "4        1  Toy Story  Animation|Children's|Comedy  1995                1   \n",
       "\n",
       "   User_Rating  UserID  \n",
       "0            5       1  \n",
       "1            4       6  \n",
       "2            4       8  \n",
       "3            5       9  \n",
       "4            5      10  "
      ]
     },
     "execution_count": 25,
     "metadata": {},
     "output_type": "execute_result"
    }
   ],
   "source": [
    "# Replace 'male' and 'female' with numerical binary values\n",
    "\n",
    "Ratings_and_Movies['Director_Gender'] = Ratings_and_Movies['Director_Gender'].replace({'female': 0, 'male': 1})\n",
    "Ratings_and_Movies.head()"
   ]
  },
  {
   "cell_type": "markdown",
   "id": "73fda777-2cb9-4b58-aca0-94ec49414f1a",
   "metadata": {},
   "source": [
    "### Creating New Genre Column"
   ]
  },
  {
   "cell_type": "markdown",
   "id": "62367c94-ce0e-4389-ae75-29794b0c0922",
   "metadata": {},
   "source": [
    "Currently, the columns are stored as a string of multiple genres split by a '|' character. We seperate each unique genre into its own column with a value of 1 if the movie is categorized under that column, and a 0 if not. A movie can have more than one genre, so multiple values of 1 across columns can be present for a single row.\n",
    "\n",
    "Converting the genres into a binary value of 0 and 1 is necessary to prepare our dataset for model development."
   ]
  },
  {
   "cell_type": "code",
   "execution_count": 26,
   "id": "f6e9d337-5805-411b-b6f8-f40b0ba10cc1",
   "metadata": {},
   "outputs": [],
   "source": [
    "# Split the genres column into a list of genres\n",
    "Ratings_and_Movies['Genres'] = Ratings_and_Movies['Genres'].str.split('|')\n",
    "\n",
    "# Create a list of unique genres\n",
    "unique_genres = set(genre for genres_list in Ratings_and_Movies['Genres'] for genre in genres_list)\n",
    "\n",
    "# Initialize binary columns for each genre with zeros\n",
    "for genre in unique_genres:\n",
    "    Ratings_and_Movies[genre] = 0\n",
    "\n",
    "# Update binary columns using vectorized operations\n",
    "for genre in unique_genres:\n",
    "    Ratings_and_Movies[genre] = Ratings_and_Movies['Genres'].apply(lambda x: 1 if genre in x else 0)\n",
    "\n",
    "# Drop the original genres column\n",
    "Ratings_and_Movies = Ratings_and_Movies.drop('Genres', axis=1)"
   ]
  },
  {
   "cell_type": "code",
   "execution_count": 27,
   "id": "23ce2136-1d6f-4ee4-9069-5f8a40f8fcf1",
   "metadata": {},
   "outputs": [
    {
     "data": {
      "text/html": [
       "<div>\n",
       "<style scoped>\n",
       "    .dataframe tbody tr th:only-of-type {\n",
       "        vertical-align: middle;\n",
       "    }\n",
       "\n",
       "    .dataframe tbody tr th {\n",
       "        vertical-align: top;\n",
       "    }\n",
       "\n",
       "    .dataframe thead th {\n",
       "        text-align: right;\n",
       "    }\n",
       "</style>\n",
       "<table border=\"1\" class=\"dataframe\">\n",
       "  <thead>\n",
       "    <tr style=\"text-align: right;\">\n",
       "      <th></th>\n",
       "      <th>MovieID</th>\n",
       "      <th>Title</th>\n",
       "      <th>Year</th>\n",
       "      <th>Director_Gender</th>\n",
       "      <th>User_Rating</th>\n",
       "      <th>UserID</th>\n",
       "      <th>Horror</th>\n",
       "      <th>Adventure</th>\n",
       "      <th>Sci-Fi</th>\n",
       "      <th>Children's</th>\n",
       "      <th>...</th>\n",
       "      <th>Action</th>\n",
       "      <th>Musical</th>\n",
       "      <th>Film-Noir</th>\n",
       "      <th>Mystery</th>\n",
       "      <th>Fantasy</th>\n",
       "      <th>Crime</th>\n",
       "      <th>Documentary</th>\n",
       "      <th>Comedy</th>\n",
       "      <th>Thriller</th>\n",
       "      <th>Romance</th>\n",
       "    </tr>\n",
       "  </thead>\n",
       "  <tbody>\n",
       "    <tr>\n",
       "      <th>0</th>\n",
       "      <td>1</td>\n",
       "      <td>Toy Story</td>\n",
       "      <td>1995</td>\n",
       "      <td>1</td>\n",
       "      <td>5</td>\n",
       "      <td>1</td>\n",
       "      <td>0</td>\n",
       "      <td>0</td>\n",
       "      <td>0</td>\n",
       "      <td>1</td>\n",
       "      <td>...</td>\n",
       "      <td>0</td>\n",
       "      <td>0</td>\n",
       "      <td>0</td>\n",
       "      <td>0</td>\n",
       "      <td>0</td>\n",
       "      <td>0</td>\n",
       "      <td>0</td>\n",
       "      <td>1</td>\n",
       "      <td>0</td>\n",
       "      <td>0</td>\n",
       "    </tr>\n",
       "    <tr>\n",
       "      <th>1</th>\n",
       "      <td>1</td>\n",
       "      <td>Toy Story</td>\n",
       "      <td>1995</td>\n",
       "      <td>1</td>\n",
       "      <td>4</td>\n",
       "      <td>6</td>\n",
       "      <td>0</td>\n",
       "      <td>0</td>\n",
       "      <td>0</td>\n",
       "      <td>1</td>\n",
       "      <td>...</td>\n",
       "      <td>0</td>\n",
       "      <td>0</td>\n",
       "      <td>0</td>\n",
       "      <td>0</td>\n",
       "      <td>0</td>\n",
       "      <td>0</td>\n",
       "      <td>0</td>\n",
       "      <td>1</td>\n",
       "      <td>0</td>\n",
       "      <td>0</td>\n",
       "    </tr>\n",
       "    <tr>\n",
       "      <th>2</th>\n",
       "      <td>1</td>\n",
       "      <td>Toy Story</td>\n",
       "      <td>1995</td>\n",
       "      <td>1</td>\n",
       "      <td>4</td>\n",
       "      <td>8</td>\n",
       "      <td>0</td>\n",
       "      <td>0</td>\n",
       "      <td>0</td>\n",
       "      <td>1</td>\n",
       "      <td>...</td>\n",
       "      <td>0</td>\n",
       "      <td>0</td>\n",
       "      <td>0</td>\n",
       "      <td>0</td>\n",
       "      <td>0</td>\n",
       "      <td>0</td>\n",
       "      <td>0</td>\n",
       "      <td>1</td>\n",
       "      <td>0</td>\n",
       "      <td>0</td>\n",
       "    </tr>\n",
       "    <tr>\n",
       "      <th>3</th>\n",
       "      <td>1</td>\n",
       "      <td>Toy Story</td>\n",
       "      <td>1995</td>\n",
       "      <td>1</td>\n",
       "      <td>5</td>\n",
       "      <td>9</td>\n",
       "      <td>0</td>\n",
       "      <td>0</td>\n",
       "      <td>0</td>\n",
       "      <td>1</td>\n",
       "      <td>...</td>\n",
       "      <td>0</td>\n",
       "      <td>0</td>\n",
       "      <td>0</td>\n",
       "      <td>0</td>\n",
       "      <td>0</td>\n",
       "      <td>0</td>\n",
       "      <td>0</td>\n",
       "      <td>1</td>\n",
       "      <td>0</td>\n",
       "      <td>0</td>\n",
       "    </tr>\n",
       "    <tr>\n",
       "      <th>4</th>\n",
       "      <td>1</td>\n",
       "      <td>Toy Story</td>\n",
       "      <td>1995</td>\n",
       "      <td>1</td>\n",
       "      <td>5</td>\n",
       "      <td>10</td>\n",
       "      <td>0</td>\n",
       "      <td>0</td>\n",
       "      <td>0</td>\n",
       "      <td>1</td>\n",
       "      <td>...</td>\n",
       "      <td>0</td>\n",
       "      <td>0</td>\n",
       "      <td>0</td>\n",
       "      <td>0</td>\n",
       "      <td>0</td>\n",
       "      <td>0</td>\n",
       "      <td>0</td>\n",
       "      <td>1</td>\n",
       "      <td>0</td>\n",
       "      <td>0</td>\n",
       "    </tr>\n",
       "  </tbody>\n",
       "</table>\n",
       "<p>5 rows × 24 columns</p>\n",
       "</div>"
      ],
      "text/plain": [
       "   MovieID      Title  Year  Director_Gender  User_Rating  UserID  Horror  \\\n",
       "0        1  Toy Story  1995                1            5       1       0   \n",
       "1        1  Toy Story  1995                1            4       6       0   \n",
       "2        1  Toy Story  1995                1            4       8       0   \n",
       "3        1  Toy Story  1995                1            5       9       0   \n",
       "4        1  Toy Story  1995                1            5      10       0   \n",
       "\n",
       "   Adventure  Sci-Fi  Children's  ...  Action  Musical  Film-Noir  Mystery  \\\n",
       "0          0       0           1  ...       0        0          0        0   \n",
       "1          0       0           1  ...       0        0          0        0   \n",
       "2          0       0           1  ...       0        0          0        0   \n",
       "3          0       0           1  ...       0        0          0        0   \n",
       "4          0       0           1  ...       0        0          0        0   \n",
       "\n",
       "   Fantasy  Crime  Documentary  Comedy  Thriller  Romance  \n",
       "0        0      0            0       1         0        0  \n",
       "1        0      0            0       1         0        0  \n",
       "2        0      0            0       1         0        0  \n",
       "3        0      0            0       1         0        0  \n",
       "4        0      0            0       1         0        0  \n",
       "\n",
       "[5 rows x 24 columns]"
      ]
     },
     "execution_count": 27,
     "metadata": {},
     "output_type": "execute_result"
    }
   ],
   "source": [
    "Ratings_and_Movies.head()"
   ]
  },
  {
   "cell_type": "markdown",
   "id": "030afa09-9a50-4be6-99ab-7a6f02fe3d8c",
   "metadata": {},
   "source": [
    "### Creating New Feature - Male & Female Director Proportions"
   ]
  },
  {
   "cell_type": "markdown",
   "id": "097bc51e-1e53-493f-a191-0170584abe10",
   "metadata": {},
   "source": [
    "Movies can have more than 1 director, so we cannot simply assign each movie to whether it's directed by a male or female. We create a new column that denotes the proportion of directors for each movie that are male, and also find the proportion of directors for each movie that are female.\n",
    "\n",
    "A movie directed fully by males will have a male_director_proportion of 1.0 and a female_director_proportion of 0.0.\n",
    "\n",
    "We also rename the columns to lowercase and use underscores for clarity purposes and to keep the column name style consistent."
   ]
  },
  {
   "cell_type": "code",
   "execution_count": 28,
   "id": "59084a55-256d-4336-82ee-3a5f3661652d",
   "metadata": {},
   "outputs": [
    {
     "data": {
      "text/html": [
       "<div>\n",
       "<style scoped>\n",
       "    .dataframe tbody tr th:only-of-type {\n",
       "        vertical-align: middle;\n",
       "    }\n",
       "\n",
       "    .dataframe tbody tr th {\n",
       "        vertical-align: top;\n",
       "    }\n",
       "\n",
       "    .dataframe thead th {\n",
       "        text-align: right;\n",
       "    }\n",
       "</style>\n",
       "<table border=\"1\" class=\"dataframe\">\n",
       "  <thead>\n",
       "    <tr style=\"text-align: right;\">\n",
       "      <th></th>\n",
       "      <th>movie_id</th>\n",
       "      <th>title</th>\n",
       "      <th>year</th>\n",
       "      <th>director_gender</th>\n",
       "      <th>user_rating</th>\n",
       "      <th>user_id</th>\n",
       "      <th>horror</th>\n",
       "      <th>adventure</th>\n",
       "      <th>sci_fi</th>\n",
       "      <th>childrens</th>\n",
       "      <th>...</th>\n",
       "      <th>film_noir</th>\n",
       "      <th>mystery</th>\n",
       "      <th>fantasy</th>\n",
       "      <th>crime</th>\n",
       "      <th>documentary</th>\n",
       "      <th>comedy</th>\n",
       "      <th>thriller</th>\n",
       "      <th>romance</th>\n",
       "      <th>male_director_proportion</th>\n",
       "      <th>female_director_proportion</th>\n",
       "    </tr>\n",
       "  </thead>\n",
       "  <tbody>\n",
       "    <tr>\n",
       "      <th>0</th>\n",
       "      <td>1</td>\n",
       "      <td>Toy Story</td>\n",
       "      <td>1995</td>\n",
       "      <td>1</td>\n",
       "      <td>5</td>\n",
       "      <td>1</td>\n",
       "      <td>0</td>\n",
       "      <td>0</td>\n",
       "      <td>0</td>\n",
       "      <td>1</td>\n",
       "      <td>...</td>\n",
       "      <td>0</td>\n",
       "      <td>0</td>\n",
       "      <td>0</td>\n",
       "      <td>0</td>\n",
       "      <td>0</td>\n",
       "      <td>1</td>\n",
       "      <td>0</td>\n",
       "      <td>0</td>\n",
       "      <td>1.0</td>\n",
       "      <td>0.0</td>\n",
       "    </tr>\n",
       "    <tr>\n",
       "      <th>1</th>\n",
       "      <td>1</td>\n",
       "      <td>Toy Story</td>\n",
       "      <td>1995</td>\n",
       "      <td>1</td>\n",
       "      <td>4</td>\n",
       "      <td>6</td>\n",
       "      <td>0</td>\n",
       "      <td>0</td>\n",
       "      <td>0</td>\n",
       "      <td>1</td>\n",
       "      <td>...</td>\n",
       "      <td>0</td>\n",
       "      <td>0</td>\n",
       "      <td>0</td>\n",
       "      <td>0</td>\n",
       "      <td>0</td>\n",
       "      <td>1</td>\n",
       "      <td>0</td>\n",
       "      <td>0</td>\n",
       "      <td>1.0</td>\n",
       "      <td>0.0</td>\n",
       "    </tr>\n",
       "    <tr>\n",
       "      <th>2</th>\n",
       "      <td>1</td>\n",
       "      <td>Toy Story</td>\n",
       "      <td>1995</td>\n",
       "      <td>1</td>\n",
       "      <td>4</td>\n",
       "      <td>8</td>\n",
       "      <td>0</td>\n",
       "      <td>0</td>\n",
       "      <td>0</td>\n",
       "      <td>1</td>\n",
       "      <td>...</td>\n",
       "      <td>0</td>\n",
       "      <td>0</td>\n",
       "      <td>0</td>\n",
       "      <td>0</td>\n",
       "      <td>0</td>\n",
       "      <td>1</td>\n",
       "      <td>0</td>\n",
       "      <td>0</td>\n",
       "      <td>1.0</td>\n",
       "      <td>0.0</td>\n",
       "    </tr>\n",
       "    <tr>\n",
       "      <th>3</th>\n",
       "      <td>1</td>\n",
       "      <td>Toy Story</td>\n",
       "      <td>1995</td>\n",
       "      <td>1</td>\n",
       "      <td>5</td>\n",
       "      <td>9</td>\n",
       "      <td>0</td>\n",
       "      <td>0</td>\n",
       "      <td>0</td>\n",
       "      <td>1</td>\n",
       "      <td>...</td>\n",
       "      <td>0</td>\n",
       "      <td>0</td>\n",
       "      <td>0</td>\n",
       "      <td>0</td>\n",
       "      <td>0</td>\n",
       "      <td>1</td>\n",
       "      <td>0</td>\n",
       "      <td>0</td>\n",
       "      <td>1.0</td>\n",
       "      <td>0.0</td>\n",
       "    </tr>\n",
       "    <tr>\n",
       "      <th>4</th>\n",
       "      <td>1</td>\n",
       "      <td>Toy Story</td>\n",
       "      <td>1995</td>\n",
       "      <td>1</td>\n",
       "      <td>5</td>\n",
       "      <td>10</td>\n",
       "      <td>0</td>\n",
       "      <td>0</td>\n",
       "      <td>0</td>\n",
       "      <td>1</td>\n",
       "      <td>...</td>\n",
       "      <td>0</td>\n",
       "      <td>0</td>\n",
       "      <td>0</td>\n",
       "      <td>0</td>\n",
       "      <td>0</td>\n",
       "      <td>1</td>\n",
       "      <td>0</td>\n",
       "      <td>0</td>\n",
       "      <td>1.0</td>\n",
       "      <td>0.0</td>\n",
       "    </tr>\n",
       "  </tbody>\n",
       "</table>\n",
       "<p>5 rows × 26 columns</p>\n",
       "</div>"
      ],
      "text/plain": [
       "   movie_id      title  year  director_gender  user_rating  user_id  horror  \\\n",
       "0         1  Toy Story  1995                1            5        1       0   \n",
       "1         1  Toy Story  1995                1            4        6       0   \n",
       "2         1  Toy Story  1995                1            4        8       0   \n",
       "3         1  Toy Story  1995                1            5        9       0   \n",
       "4         1  Toy Story  1995                1            5       10       0   \n",
       "\n",
       "   adventure  sci_fi  childrens  ...  film_noir  mystery  fantasy  crime  \\\n",
       "0          0       0          1  ...          0        0        0      0   \n",
       "1          0       0          1  ...          0        0        0      0   \n",
       "2          0       0          1  ...          0        0        0      0   \n",
       "3          0       0          1  ...          0        0        0      0   \n",
       "4          0       0          1  ...          0        0        0      0   \n",
       "\n",
       "   documentary  comedy  thriller  romance  male_director_proportion  \\\n",
       "0            0       1         0        0                       1.0   \n",
       "1            0       1         0        0                       1.0   \n",
       "2            0       1         0        0                       1.0   \n",
       "3            0       1         0        0                       1.0   \n",
       "4            0       1         0        0                       1.0   \n",
       "\n",
       "   female_director_proportion  \n",
       "0                         0.0  \n",
       "1                         0.0  \n",
       "2                         0.0  \n",
       "3                         0.0  \n",
       "4                         0.0  \n",
       "\n",
       "[5 rows x 26 columns]"
      ]
     },
     "execution_count": 28,
     "metadata": {},
     "output_type": "execute_result"
    }
   ],
   "source": [
    "# Find proportion of male directors for each movie\n",
    "male_prop_dict = dict(Ratings_and_Movies.groupby('MovieID')['Director_Gender'].sum() / Ratings_and_Movies.groupby('MovieID')['Director_Gender'].count())\n",
    "\n",
    "# Add column with proportion of male directors & proportion of female directors for each row\n",
    "Ratings_and_Movies['male_director_proportion'] = Ratings_and_Movies['MovieID'].map(male_prop_dict)\n",
    "Ratings_and_Movies['female_director_proportion'] =  1 - Ratings_and_Movies['male_director_proportion']\n",
    "\n",
    "# Rename columns to lowercase\n",
    "column_mapping = {\n",
    "    'Title': 'title',\n",
    "    'MovieID': 'movie_id',\n",
    "    'Year': 'year',\n",
    "    'Director_Gender': 'director_gender',\n",
    "    'User_Rating': 'user_rating',\n",
    "    'UserID': 'user_id',\n",
    "    'User_Gender': 'user_gender',\n",
    "    'Drama': 'drama',\n",
    "    'Romance': 'romance',\n",
    "    'Thriller': 'thriller',\n",
    "    'Action': 'action',\n",
    "    'Sci-Fi': 'sci_fi',\n",
    "    'Adventure': 'adventure',\n",
    "    'Mystery': 'mystery',\n",
    "    'Comedy': 'comedy',\n",
    "    \"Children's\": 'childrens',\n",
    "    'Animation': 'animation',\n",
    "    'War': 'war',\n",
    "    'Western': 'western',\n",
    "    'Documentary': 'documentary',\n",
    "    'Film-Noir': 'film_noir',\n",
    "    'Horror': 'horror',\n",
    "    'Fantasy': 'fantasy',\n",
    "    'Crime': 'crime',\n",
    "    'Musical': 'musical',\n",
    "    'male_director_proportion': 'male_director_proportion',\n",
    "    'female_director_proportion': 'female_director_proportion'\n",
    "}\n",
    "\n",
    "Ratings_and_Movies.rename(columns=column_mapping, inplace=True)\n",
    "Ratings_and_Movies.head()"
   ]
  },
  {
   "cell_type": "markdown",
   "id": "ff49dd53-3162-4027-9429-2050371bc809",
   "metadata": {},
   "source": [
    "### Ratings and Director Gender EDA"
   ]
  },
  {
   "cell_type": "markdown",
   "id": "1ec2b5d8-3464-4d57-96ea-72e311c89976",
   "metadata": {},
   "source": [
    "Our recommender system looks at how users compare across movie ratings, using similarity between users to determine which movies to recommend. By visualizing the distribution of rating scores, we are able to see users' tendencies when rating movies. Most ratings are on the higher side with a score of 4. There are less low ratings of 1 & 2 in our dataset."
   ]
  },
  {
   "cell_type": "code",
   "execution_count": 29,
   "id": "b69e717a-b8c1-4454-b7d6-e49b2fab3762",
   "metadata": {},
   "outputs": [
    {
     "data": {
      "text/plain": [
       "Text(0, 0.5, 'Count')"
      ]
     },
     "execution_count": 29,
     "metadata": {},
     "output_type": "execute_result"
    },
    {
     "data": {
      "image/png": "[encoded data removed]",
      "text/plain": [
       "<Figure size 640x480 with 1 Axes>"
      ]
     },
     "metadata": {},
     "output_type": "display_data"
    }
   ],
   "source": [
    "%matplotlib inline\n",
    "\n",
    "# Plot distribution of rating scores\n",
    "ratings_df['Rating'].value_counts().sort_index().plot(kind='bar')\n",
    "plt.title('Distribution of Rating Scores')\n",
    "plt.ylabel('Count')"
   ]
  },
  {
   "cell_type": "markdown",
   "id": "53be5f01-cc51-493e-8cbf-ab898a96e5a8",
   "metadata": {},
   "source": [
    "We further separate this by the director's gender to compare the proportion of ratings between male versus female directors. Male directors received a greater proportion of 5 star ratings. This leads us to define the rating of 5 stars as a high rating, using this to identify bias in the next section to determine whether male-directed movies are advantaged by our model to receive a prediction of 5 stars."
   ]
  },
  {
   "cell_type": "code",
   "execution_count": 30,
   "id": "e7265cae-c056-462d-aed8-ec3beab099cf",
   "metadata": {},
   "outputs": [
    {
     "data": {
      "image/png": "[encoded data removed]",
      "text/plain": [
       "<Figure size 640x480 with 1 Axes>"
      ]
     },
     "metadata": {},
     "output_type": "display_data"
    }
   ],
   "source": [
    "# Set 'director_gender' as index\n",
    "Ratings_and_Movies_indexed = Ratings_and_Movies.set_index('director_gender')\n",
    "\n",
    "# Group by 'director_gender' and 'user_rating', and count occurrences\n",
    "rating_counts_by_gender = Ratings_and_Movies.groupby(['director_gender', 'user_rating']).size().unstack()\n",
    "\n",
    "# Normalize by the total number of ratings for each gender\n",
    "rating_percentage_by_gender = rating_counts_by_gender.div(rating_counts_by_gender.sum(axis=1), axis=0)\n",
    "\n",
    "# Plotting\n",
    "ax = rating_percentage_by_gender.plot(kind='bar', stacked=True)\n",
    "\n",
    "# Set custom x-axis labels\n",
    "ax.set_xticklabels(['Female', 'Male'], rotation=0)\n",
    "\n",
    "# Set custom legend\n",
    "plt.legend(title='Rating')\n",
    "\n",
    "plt.title('Proportion of Ratings by Gender')\n",
    "plt.xlabel('Director Gender')\n",
    "plt.ylabel('Proportion')\n",
    "\n",
    "plt.show()"
   ]
  },
  {
   "cell_type": "markdown",
   "id": "c6cf5344-134f-481b-a27f-017a64506ce7",
   "metadata": {},
   "source": [
    "Next, we check for gender imbalance in our dataset. Given societal context, we expect most movies to be directed by males. This is reflected in our dataset with a severe imbalance between the proportion of movies directed by males versus females."
   ]
  },
  {
   "cell_type": "code",
   "execution_count": 31,
   "id": "d88a4c90-c4a5-49d9-b76b-3c0be98b8ad1",
   "metadata": {},
   "outputs": [
    {
     "data": {
      "image/png": "[encoded data removed]",
      "text/plain": [
       "<Figure size 640x480 with 1 Axes>"
      ]
     },
     "metadata": {},
     "output_type": "display_data"
    }
   ],
   "source": [
    "# Proportion of movies in dataset directed by each gender\n",
    "gender_labels = Ratings_and_Movies['director_gender'].map({1: 'Male', 0: 'Female'})\n",
    "props = gender_labels.value_counts() / gender_labels.value_counts().sum()\n",
    "plot = props.plot(kind='bar')\n",
    "plt.xlabel('Director Gender')\n",
    "plt.ylabel('Proportion')\n",
    "plt.title('Proportion of Movies Directed by each Gender')\n",
    "    \n",
    "plt.show()"
   ]
  },
  {
   "cell_type": "markdown",
   "id": "24568828-3634-4a10-ad0b-94c2fbff2d84",
   "metadata": {},
   "source": [
    "While it is important to acknowledge the strong class imbalance within the dataset, training a linear regression model to predict movie ratings did not reveal a substantial discrepancy in accuracy between male-directed and female-directed movies. \n",
    "\n",
    "The model demonstrated comparable performance in predicting ratings for both director genders. The mean squared error (MSE) for predicting ratings of female-directed movies was only slightly lower than that for male-directed movies. There is not a significant difference in accuracy between the different director genders.\n",
    "\n",
    "Because of this similar performance in model accuracy across director genders, plus the time-constraints of the project and limited resources, we decide not to correct the class imbalance. This imbalance does not significantly impact the predictive capabilities of the linear regression model."
   ]
  },
  {
   "cell_type": "code",
   "execution_count": 32,
   "id": "280c7780-398e-44e1-b148-1a6d0d7612b3",
   "metadata": {},
   "outputs": [
    {
     "name": "stdout",
     "output_type": "stream",
     "text": [
      "Mean Squared Error for Male Directed Movies: 1.1701616971798492\n",
      "Mean Squared Error for Female Directed Movies: 1.138547162740209\n"
     ]
    }
   ],
   "source": [
    "# Suppress FutureWarnings related to is_sparse\n",
    "warnings.filterwarnings(\"ignore\", category=FutureWarning, module=\"sklearn.utils.validation\")\n",
    "\n",
    "# Select common features\n",
    "common_features = ['year', 'documentary', 'romance', 'fantasy', 'western', 'thriller',\n",
    "            'childrens', 'film_noir', 'drama', 'comedy', 'adventure', 'horror', 'crime', 'action', 'mystery', 'war', 'musical', 'animation', 'sci_fi', 'male_director_proportion','male_director_proportion']\n",
    "\n",
    "# Filter data for male directed movies and female directed movies separately\n",
    "df_male_director = Ratings_and_Movies[Ratings_and_Movies['director_gender'] == 1]\n",
    "df_female_director = Ratings_and_Movies[Ratings_and_Movies['director_gender'] == 0]\n",
    "\n",
    "# Function to train and evaluate a model\n",
    "def train_and_evaluate(data, director_gender):\n",
    "    X = data[common_features]\n",
    "    y = data['user_rating']\n",
    "\n",
    "    # Split the data into training and testing sets\n",
    "    X_train, X_test, y_train, y_test = train_test_split(X, y, test_size=0.2, random_state=42)\n",
    "\n",
    "    # Create a linear regression model\n",
    "    model = LinearRegression()\n",
    "\n",
    "    # Fit the model on the training data\n",
    "    model.fit(X_train, y_train)\n",
    "\n",
    "    # Make predictions on the testing data\n",
    "    y_pred = model.predict(X_test)\n",
    "\n",
    "    # Evaluate the model\n",
    "    mse = mean_squared_error(y_test, y_pred)\n",
    "    print(f'Mean Squared Error for {director_gender}: {mse}')\n",
    "\n",
    "# Train and evaluate models for male directed movies vs female directed movies\n",
    "train_and_evaluate(df_male_director, 'Male Directed Movies')\n",
    "train_and_evaluate(df_female_director, 'Female Directed Movies')"
   ]
  },
  {
   "cell_type": "markdown",
   "id": "c98662dc-9999-4337-90c6-5d4e1ef5cfba",
   "metadata": {},
   "source": [
    "Our model utilizes features such as the genre of the movie and year to determine whether a user is likely to give that movie a high rating, based on their previous ratings for movies of similar features. So, we examine the distribution of how movie genres and years compare across the different director genders."
   ]
  },
  {
   "cell_type": "code",
   "execution_count": 33,
   "id": "81fb073a-150f-4d0e-adb8-ceb3a83251a3",
   "metadata": {},
   "outputs": [
    {
     "data": {
      "image/png": "[encoded data removed]",
      "text/plain": [
       "<Figure size 640x480 with 1 Axes>"
      ]
     },
     "metadata": {},
     "output_type": "display_data"
    }
   ],
   "source": [
    "# Group by 'director_gender' and calculate sum of genre columns\n",
    "genre_counts_by_gender = Ratings_and_Movies_indexed.groupby(level=0)[['action', \"childrens\", 'comedy', 'adventure', 'fantasy', 'romance', 'drama', 'thriller', 'horror', 'sci_fi', 'crime', 'animation', 'mystery', 'war', 'musical', 'documentary', 'western', 'film_noir']].sum()\n",
    "\n",
    "# Calculate total movies by gender\n",
    "total_movies_by_gender = Ratings_and_Movies_indexed.index.value_counts()\n",
    "\n",
    "# Calculate percentages\n",
    "genre_percentage_by_gender = genre_counts_by_gender.div(total_movies_by_gender, axis=0) * 100\n",
    "\n",
    "# Plotting\n",
    "ax = genre_percentage_by_gender.transpose().plot(kind='bar', stacked=True)\n",
    "\n",
    "# Set custom x-axis labels\n",
    "ax.set_xticks(range(len(genre_percentage_by_gender.columns)))\n",
    "ax.set_xticklabels(genre_percentage_by_gender.columns, rotation=45, ha='right')\n",
    "\n",
    "# Set custom legend\n",
    "plt.legend(title='Director Gender', labels=['Female', 'Male'])\n",
    "\n",
    "plt.title('Percentage of Each Year Among Movies Directed by Male and Female Directors')\n",
    "plt.xlabel('Year')\n",
    "plt.ylabel('Percentage')\n",
    "\n",
    "plt.show()"
   ]
  },
  {
   "cell_type": "markdown",
   "id": "3de0bb39-033a-441b-bca9-86c9b02cac5c",
   "metadata": {},
   "source": [
    "Certain genres, such as animation and western, are dominated by male directors. Users who predominantly rate movies within these genres are likely to receive higher predicted ratings for male-directed movies due to the disproportionate representation of male directors.\n",
    "\n",
    "We also examine the breakdown of gender director across the movies' years."
   ]
  },
  {
   "cell_type": "code",
   "execution_count": 34,
   "id": "8bb66133-a8df-4f2a-ab0c-c225f156c121",
   "metadata": {},
   "outputs": [
    {
     "data": {
      "image/png": "[encoded data removed]",
      "text/plain": [
       "<Figure size 640x480 with 1 Axes>"
      ]
     },
     "metadata": {},
     "output_type": "display_data"
    }
   ],
   "source": [
    "# Group by 'director_gender' and 'year', and count occurrences\n",
    "year_counts_by_gender = Ratings_and_Movies.groupby(['director_gender', 'year']).size().unstack()\n",
    "\n",
    "# Plotting\n",
    "ax = year_counts_by_gender.transpose().plot(kind='line', marker='o')\n",
    "\n",
    "# Set custom x-axis labels\n",
    "x_labels = year_counts_by_gender.columns[::5]  # Show every 5th year\n",
    "ax.set_xticks(range(0, len(year_counts_by_gender.columns), 5))\n",
    "ax.set_xticklabels(x_labels, rotation=45, ha='right')\n",
    "\n",
    "# Set custom legend\n",
    "legend_labels = {0: 'Female', 1: 'Male'}  # Custom legend labels\n",
    "handles, labels = ax.get_legend_handles_labels()\n",
    "custom_legend = ax.legend(handles, [legend_labels[int(label)] for label in labels], title='Director Gender')\n",
    "\n",
    "plt.title('Distribution of Movies Over the Years by Director Gender')\n",
    "plt.xlabel('Year')\n",
    "plt.ylabel('Number of Movies')\n",
    "\n",
    "plt.grid(True)  # Add gridlines for better readability\n",
    "\n",
    "plt.show()"
   ]
  },
  {
   "cell_type": "markdown",
   "id": "58283db4-a45a-40a4-ac29-bf222cbe6312",
   "metadata": {},
   "source": [
    "There is a higher representation of male directors across all years, and an absence of female directors in the dataset until the latter half. With male directors dominating the dataset throughout the years, the model may underestimate predictive ratings for movies directed by women.\n",
    "\n",
    "While the accuracy is comparable across the different director genders, we now look into fairness. We know that the model does not perform significantly better for male directors versus female directors, but as seen in the rating breakdown by director gender, we are inclined to believe male directors will receive higher predictions for a perfect rating of 5."
   ]
  },
  {
   "cell_type": "markdown",
   "id": "60ecbb13-416a-4bc6-8524-2bee76b4ee50",
   "metadata": {},
   "source": [
    "## Checking for Bias"
   ]
  },
  {
   "cell_type": "markdown",
   "id": "44e79f1c-36fc-444e-bf56-4f4198a7645a",
   "metadata": {},
   "source": [
    "#### Remove non-numerical column (title) to make dataset compatible with AIF360"
   ]
  },
  {
   "cell_type": "markdown",
   "id": "21a569e6-5ca4-478b-a1cb-2a7c659170aa",
   "metadata": {},
   "source": [
    "We remove the title of the movie because it is not relevant to our model."
   ]
  },
  {
   "cell_type": "code",
   "execution_count": 35,
   "id": "0c87d1de-df9a-43c4-9542-9d7ddcdbb8e1",
   "metadata": {},
   "outputs": [],
   "source": [
    "Ratings_and_Movies = Ratings_and_Movies.drop('title', axis=1)"
   ]
  },
  {
   "cell_type": "markdown",
   "id": "58939100-29cd-458f-a97a-4659e0a24f8c",
   "metadata": {},
   "source": [
    "In our model, we designate a perfect rating of 5 as the favorable outcome, for the reasons mentioned above. Given the societal context of gender disparities, we acknowledge male directors as the privileged group within our analysis."
   ]
  },
  {
   "cell_type": "code",
   "execution_count": 44,
   "id": "18425445-a9f8-4983-b7db-925cfe60a9d2",
   "metadata": {},
   "outputs": [
    {
     "name": "stdout",
     "output_type": "stream",
     "text": [
      "Disparate Impact Before Mitigation: 0.6699141997747873\n",
      "Statistical Parity Difference Before Mitigation: -0.07465840636314258\n",
      "Disparate Impact After Mitigation: 1.0000000000000002\n",
      "Statistical Parity Difference After Mitigation: 5.551115123125783e-17\n"
     ]
    }
   ],
   "source": [
    "# Define the protected attributes\n",
    "protected_attributes = ['director_gender']\n",
    "\n",
    "# Define the favorable and unfavorable labels\n",
    "favorable_classes = [5]  # Assuming 5 is a high rating (favorable)\n",
    "\n",
    "# Create a StandardDataset\n",
    "dataset = StandardDataset(Ratings_and_Movies, label_name='user_rating', favorable_classes=favorable_classes,\n",
    "                          protected_attribute_names=protected_attributes,\n",
    "                          privileged_classes=[[1]])  # Only one class for User_Gender (e.g., male is privileged)\n",
    "\n",
    "# Calculate the disparate impact before any mitigation\n",
    "metric_before = BinaryLabelDatasetMetric(dataset, unprivileged_groups=[{'director_gender': 0}],\n",
    "                                         privileged_groups=[{'director_gender': 1}])\n",
    "disparate_impact_before = metric_before.disparate_impact()\n",
    "\n",
    "print(\"Disparate Impact Before Mitigation:\", disparate_impact_before)\n",
    "print(\"Statistical Parity Difference Before Mitigation:\", metric_before.statistical_parity_difference())\n",
    "\n",
    "# Apply Reweighing as a bias mitigation technique\n",
    "rw = Reweighing(unprivileged_groups=[{'director_gender': 0}], privileged_groups=[{'director_gender': 1}])\n",
    "dataset_transformed = rw.fit_transform(dataset)\n",
    "\n",
    "# Calculate the disparate impact after mitigation\n",
    "metric_after = BinaryLabelDatasetMetric(dataset_transformed, unprivileged_groups=[{'director_gender': 0}],\n",
    "                                        privileged_groups=[{'director_gender': 1}])\n",
    "disparate_impact_after = metric_after.disparate_impact()\n",
    "\n",
    "print(\"Disparate Impact After Mitigation:\", disparate_impact_after)\n",
    "print(\"Statistical Parity Difference After Mitigation:\", metric_after.statistical_parity_difference())"
   ]
  },
  {
   "cell_type": "markdown",
   "id": "5617902c-e06b-4af5-afba-1a75a3fdbed1",
   "metadata": {},
   "source": [
    "### Disparate Impact:\n",
    "- A Disparate Impact value of 0.6699141997747873 (before mitigation) shows an imbalance in the favorable outcome (perfect rating of 5) between male and female directors within the dataset. Male directors, as the privileged group, are more likely to achieve the favorable outcome compared to female directors.\n",
    "- The 3/4ths rule (the fraction 3/4 maps to a percentage of 75%) is a standard threshold used for disparate impact analysis. According to this rule, if the favorable outcome rate for a group is less than 75%, bias is present in the dataset.\n",
    "- Our Disparate Impact value of 0.6699141997747873 maps to a percentage of 66.9%, which is less than 75%. Female-directed movies are getting 5-star ratings about 66.9% as often as male-directed movies. Since this is less than 75%, there is a bias in how 5-star ratings are distributed between male versus female directed movies.\n",
    "\n",
    "### Statistical Parity:\n",
    "- A Statistical Parity Difference value of -0.07465840636314258 (before mitigation) indicates a difference in the proportion of favorable outcomes (perfect ratings of 5) between male and female directors. The negative value suggests that female directors experience a lower rate of favorable outcomes compared to male directors. It implies that male-directed movies receive a higher proportion of 5-star ratings than female-directed movies.\n",
    "- A Statistical Parity Difference close of 0 shows no difference in the proportion of favorable outcomes between different groups. Our value is close to 0 and does not show a discernible bias."
   ]
  },
  {
   "cell_type": "markdown",
   "id": "fff63c84-fc39-4576-8a89-a4ecfa977869",
   "metadata": {},
   "source": [
    "### [3.](#Table-of-Contents) Model Development & Evaluation"
   ]
  },
  {
   "cell_type": "markdown",
   "id": "fedadd0c-76bb-4ca6-aaa7-c14fd2822f6d",
   "metadata": {},
   "source": [
    "#### Random Forest (Classification Algorithm)\n",
    "- The goal is to use a Random Forest Classifier to predict whether a user will give a movie a perfect rating (5 stars) based on various movie attributes, including the year of release, genre, and the proportion of male directors involved. The model is trained and evaluated on this binary classification task, and additional focus is placed on assessing potential biases related to the protected attribute 'director_gender' to ensure fair and unbiased predictions. The code performs hyperparameter tuning, calculates fairness metrics, and reports on both the model's predictive accuracy and fairness considerations."
   ]
  },
  {
   "cell_type": "code",
   "execution_count": 37,
   "id": "4e36aa37-8bc0-4c05-a980-a44cf1204eab",
   "metadata": {},
   "outputs": [
    {
     "data": {
      "text/markdown": [
       "#### Bias Metrics"
      ],
      "text/plain": [
       "<IPython.core.display.Markdown object>"
      ]
     },
     "metadata": {},
     "output_type": "display_data"
    },
    {
     "name": "stdout",
     "output_type": "stream",
     "text": [
      "Disparate Impact: 0.6437255482351495\n",
      "Statistical Parity Difference: -0.0809762384978597\n"
     ]
    },
    {
     "data": {
      "text/markdown": [
       "#### Random Forest Classifier Metrics"
      ],
      "text/plain": [
       "<IPython.core.display.Markdown object>"
      ]
     },
     "metadata": {},
     "output_type": "display_data"
    },
    {
     "name": "stdout",
     "output_type": "stream",
     "text": [
      "Best n_estimators: 100\n",
      "Accuracy: 0.7812483903960913\n",
      "\n",
      "Classification Report:\n",
      "               precision    recall  f1-score   support\n",
      "\n",
      "           0       0.79      0.97      0.87    105577\n",
      "           1       0.55      0.11      0.18     30326\n",
      "\n",
      "    accuracy                           0.78    135903\n",
      "   macro avg       0.67      0.54      0.53    135903\n",
      "weighted avg       0.74      0.78      0.72    135903\n",
      "\n"
     ]
    }
   ],
   "source": [
    "# Features and target variable\n",
    "X = Ratings_and_Movies[['year', 'documentary', 'romance', 'fantasy', 'western', 'thriller',\n",
    "                         'childrens', 'film_noir', 'drama', 'comedy', 'adventure', 'horror', 'crime', \n",
    "                         'action', 'mystery', 'war', 'musical', 'animation', 'sci_fi', 'male_director_proportion']]\n",
    "y = (Ratings_and_Movies['user_rating'] == 5).astype(int)\n",
    "\n",
    "# Split the data into training and testing sets\n",
    "X_train, X_test, y_train, y_test = train_test_split(X, y, test_size=0.2, random_state=42)\n",
    "\n",
    "# Define the protected attributes\n",
    "protected_attributes = ['director_gender']\n",
    "\n",
    "# Define the privileged and unprivileged groups\n",
    "privileged_groups = [{'director_gender': 1}]\n",
    "unprivileged_groups = [{'director_gender': 0}]\n",
    "\n",
    "# Initialize the Random Forest Classifier model\n",
    "rf_classifier = RandomForestClassifier(random_state=42)\n",
    "\n",
    "# Define the parameter grid for n_estimators\n",
    "param_grid = {'n_estimators': [5, 100, 150, 200]}\n",
    "\n",
    "# Perform grid search using GridSearchCV\n",
    "grid_search = GridSearchCV(rf_classifier, param_grid, cv=4, scoring='accuracy')\n",
    "grid_search.fit(X_train, y_train)\n",
    "\n",
    "# Get the best model from the grid search\n",
    "best_rf_model = grid_search.best_estimator_\n",
    "\n",
    "# Make predictions on the test data using the best model\n",
    "y_pred_rf = best_rf_model.predict(X_test)\n",
    "\n",
    "# Combine X_test, y_test, and y_pred_rf into a new DataFrame\n",
    "test_results = pd.concat([X_test, pd.DataFrame({'user_rating': y_test, 'predicted_rating': y_pred_rf})], axis=1)\n",
    "\n",
    "# Extract the protected attribute 'director_gender' from the original dataset\n",
    "test_results['director_gender'] = Ratings_and_Movies.loc[X_test.index, 'director_gender']\n",
    "\n",
    "# Create a StandardDataset\n",
    "dataset = StandardDataset(df=test_results,\n",
    "                          label_name='user_rating', favorable_classes=[1],\n",
    "                          protected_attribute_names=protected_attributes,\n",
    "                          privileged_classes=[[1]])  # Only one class for User_Gender (e.g., male is privileged)\n",
    "\n",
    "# Create a BinaryLabelDatasetMetric for bias metrics\n",
    "dataset_metric = BinaryLabelDatasetMetric(dataset, unprivileged_groups=unprivileged_groups, privileged_groups=privileged_groups)\n",
    "\n",
    "# Display bias metrics\n",
    "display(Markdown(\"#### Bias Metrics\"))\n",
    "print(\"Disparate Impact:\", dataset_metric.disparate_impact())\n",
    "print(\"Statistical Parity Difference:\", dataset_metric.statistical_parity_difference())\n",
    "\n",
    "# Calculate accuracy using scikit-learn's accuracy_score\n",
    "accuracy_rf = accuracy_score(y_test, y_pred_rf)\n",
    "\n",
    "# Display Random Forest Classifier Metrics\n",
    "display(Markdown(\"#### Random Forest Classifier Metrics\"))\n",
    "print(\"Best n_estimators:\", best_rf_model.n_estimators)\n",
    "print(\"Accuracy:\", accuracy_rf)\n",
    "print(\"\\nClassification Report:\\n\", classification_report(y_test, y_pred_rf))"
   ]
  },
  {
   "cell_type": "markdown",
   "id": "187d898b-1809-400e-bc8e-56282bf9a0f9",
   "metadata": {},
   "source": [
    "1. Classification Report\n",
    "- Precision: Precision is the ratio of correctly predicted positive observations to the total predicted positives. It is a measure of how many of the predicted positive instances are actually positive.\n",
    "- Recall (Sensitivity or True Positive Rate): Recall is the ratio of correctly predicted positive observations to the all observations in the actual class. It is a measure of how many actual positive instances were captured by the model.\n",
    "- F1-score: The F1-score is the weighted average of precision and recall. It is a metric that balances precision and recall. It ranges from 0 to 1, with higher values indicating a better balance.\n",
    "- Support: The number of actual occurrences of the class in the specified dataset.\n",
    "\n",
    "2. Class 0 (user_rating is not 5):\n",
    "- Precision: 0.79\n",
    "- Recall: 0.97\n",
    "- F1-score: 0.87\n",
    "- Support: 105577\n",
    "- Interpretation: Precision for class 0 (user rating not equal to 5) is 0.79, indicating that among the instances predicted as not having a user rating of 5, 79% were correct. Recall for class 0 is 0.97, indicating that the model identified 97% of instances with a user rating not equal to 5. F1-score for class 0 is 0.87, providing a balance between precision and recall.\n",
    "\n",
    "3. Class 1 (user_rating is 5):\n",
    "- Precision: 0.55\n",
    "- Recall: 0.11\n",
    "- F1-score: 0.18\n",
    "- Support: 30326\n",
    "- Interpretation: Precision for class 1 (user rating equal to 5) is 0.55, indicating that among the instances predicted as having a user rating of 5, 55% were correct. Recall for class 1 is 0.11, indicating that the model identified only 11% of instances with a user rating equal to 5. F1-score for class 1 is 0.18, indicating a trade-off between precision and recall for instances with a user rating equal to 5.\n",
    "\n",
    "4. Overall Metrics (macro avg, weighted avg):\n",
    "- Macro avg: The unweighted average of precision, recall, and F1-score across all classes. It treats all classes equally.\n",
    "- Weighted avg: The weighted average of precision, recall, and F1-score, where each class's contribution is weighted by the number of true instances. It provides a better representation when class sizes are imbalanced.\n",
    "\n",
    "5. Bias Metrics\n",
    "- Disparate Impact: Measures the ratio of favorable outcomes for the unprivileged group to the privileged group. A Disparate Impact of 0.6437 suggests that the unprivileged group is at a disadvantage compared to the privileged group, as they are less likely to receive favorable outcomes.\n",
    "- Statistical Parity Difference: Measures the difference in the proportion of favorable outcomes between the unprivileged and privileged groups. A Statistical Parity Difference of -0.081 suggests a slight disadvantage for the unprivileged group, as the proportion of favorable outcomes is slightly lower compared to the privileged group.\n",
    "\n",
    "7. Summary:\n",
    "- In summary, while the model achieves high accuracy, the lower recall for class 1 suggests that it might have difficulty correctly identifying instances with a user rating equal to 5. In terms of bias, the disparate impact suggests that the underpriviledged group is at a disadvantage compared to the priviledged group, as they are less likely to recieve favorable outcomes, or in this case, 5 star ratings."
   ]
  },
  {
   "cell_type": "code",
   "execution_count": 38,
   "id": "52f7c04b-b08c-4516-a0a7-c6a0ea9efc02",
   "metadata": {
    "scrolled": true
   },
   "outputs": [
    {
     "data": {
      "image/png": "[encoded data removed]",
      "text/plain": [
       "<Figure size 800x600 with 1 Axes>"
      ]
     },
     "metadata": {},
     "output_type": "display_data"
    },
    {
     "data": {
      "image/png": "[encoded data removed]",
      "text/plain": [
       "<Figure size 800x600 with 1 Axes>"
      ]
     },
     "metadata": {},
     "output_type": "display_data"
    },
    {
     "data": {
      "image/png": "[encoded data removed]",
      "text/plain": [
       "<Figure size 1000x800 with 1 Axes>"
      ]
     },
     "metadata": {},
     "output_type": "display_data"
    }
   ],
   "source": [
    "# ROC-AUC Curve\n",
    "fpr, tpr, _ = roc_curve(y_test, best_rf_model.predict_proba(X_test)[:, 1])\n",
    "roc_auc = auc(fpr, tpr)\n",
    "\n",
    "plt.figure(figsize=(8, 6))\n",
    "plt.plot(fpr, tpr, color='darkorange', lw=2, label='ROC curve (area = {:.2f})'.format(roc_auc))\n",
    "plt.plot([0, 1], [0, 1], color='navy', lw=2, linestyle='--')\n",
    "plt.xlabel('False Positive Rate')\n",
    "plt.ylabel('True Positive Rate')\n",
    "plt.title('Receiver Operating Characteristic (ROC) Curve')\n",
    "plt.legend(loc='lower right')\n",
    "plt.show()\n",
    "\n",
    "# Precision-Recall Curve\n",
    "precision, recall, _ = precision_recall_curve(y_test, best_rf_model.predict_proba(X_test)[:, 1])\n",
    "average_precision = average_precision_score(y_test, best_rf_model.predict_proba(X_test)[:, 1])\n",
    "\n",
    "plt.figure(figsize=(8, 6))\n",
    "plt.plot(recall, precision, color='blue', lw=2, label='Precision-Recall curve (AP = {:.2f})'.format(average_precision))\n",
    "plt.xlabel('Recall')\n",
    "plt.ylabel('Precision')\n",
    "plt.title('Precision-Recall Curve')\n",
    "plt.legend(loc='lower right')\n",
    "plt.show()\n",
    "\n",
    "# Feature Importances\n",
    "result = permutation_importance(best_rf_model, X_test, y_test, n_repeats=10, random_state=42, n_jobs=-1)\n",
    "sorted_idx = result.importances_mean.argsort()\n",
    "\n",
    "plt.figure(figsize=(10, 8))\n",
    "plt.barh(range(X_test.shape[1]), result.importances_mean[sorted_idx])\n",
    "plt.yticks(range(X_test.shape[1]), X_test.columns[sorted_idx])\n",
    "plt.xlabel('Permutation Importance')\n",
    "plt.title('Feature Importances')\n",
    "plt.show()"
   ]
  },
  {
   "cell_type": "markdown",
   "id": "53217385-8c69-47cb-9381-2ef78b44f93a",
   "metadata": {},
   "source": [
    "1. ROC-AUC Curve: Visualizes the trade-off between true positive rate and false positive rate.\n",
    "- The ROC-AUC score ranges from 0 to 1.\n",
    "- An AUC of 0.71 suggests a moderate discriminatory power of our model.\n",
    "A higher ROC-AUC indicates better separation between the positive and negative classes.\n",
    "A rule of thumb for interpretation:\n",
    "0.5-0.6: Poor\n",
    "0.6-0.7: Fair\n",
    "0.7-0.8: Good\n",
    "0.8-0.9: Very good\n",
    "0.9-1.0: Excellent\n",
    "\n",
    "2. Precision-Recall Curve: Shows the precision-recall trade-off, often useful for imbalanced datasets.\n",
    "- The Precision-Recall AUC score also ranges from 0 to 1.\n",
    "- An AP of 0.41 suggests that the precision-recall trade-off might not be ideal, and there's room for improvement.\n",
    "- Precision-Recall AUC is particularly useful when dealing with imbalanced datasets, focusing on the positive class.\n",
    "\n",
    "3. Feature Importances Bar Plot: Displays the importance of each feature in the trained Random Forest model."
   ]
  },
  {
   "cell_type": "markdown",
   "id": "61cf45a6-c617-416f-92bd-ca6f47b226de",
   "metadata": {},
   "source": [
    "#### Recommender System\n",
    "- In this recommender system, a Movie-User matrix is created based on user ratings. The recommendation algorithm relies on Jaccard similarity between movies to generate personalized recommendations for a user. The generate_movie_recommendations function identifies movies already rated by the user and calculates Jaccard similarity with other movies, considering user preferences. The resulting recommendations are then filtered and ranked by Jaccard similarity. To assess potential bias, one would need to analyze whether the recommended movies exhibit any bias toward director gender, as this information is not explicitly integrated into the recommendation process. Evaluating the fairness and potential bias in movie recommendations would involve examining the recommended movies in relation to the director's gender."
   ]
  },
  {
   "cell_type": "code",
   "execution_count": 39,
   "id": "4ab92a8c-79b7-420e-9246-2ab3b9cefda6",
   "metadata": {},
   "outputs": [],
   "source": [
    "# Create a Movie-User matrix\n",
    "movie_user_matrix = Ratings_and_Movies.pivot_table(index='movie_id', columns='user_id', values='user_rating', fill_value=0)\n",
    "\n",
    "# Function to calculate Jaccard similarity between two movies\n",
    "def calculate_jaccard_similarity(movie1, movie2):\n",
    "    intersection = sum((movie1 > 0) & (movie2 > 0))\n",
    "    union = sum((movie1 > 0) | (movie2 > 0))\n",
    "    \n",
    "    if union == 0:\n",
    "        return 0\n",
    "    \n",
    "    return intersection / union\n",
    "\n",
    "# Function to generate movie recommendations based on Jaccard similarity\n",
    "def generate_movie_recommendations(user_id, movie_user_matrix, df_movies, top_n=5):\n",
    "    # Get movies already rated by the user\n",
    "    user_rated_movies = movie_user_matrix[user_id][movie_user_matrix[user_id] > 0].index\n",
    "    \n",
    "    # Initialize an empty DataFrame to store recommendations\n",
    "    recommendations = pd.DataFrame(columns=['movie_id'])\n",
    "    \n",
    "    for movie_id in user_rated_movies:\n",
    "        target_movie_ratings = movie_user_matrix.loc[movie_id]\n",
    "        similarities = movie_user_matrix.apply(lambda x: calculate_jaccard_similarity(target_movie_ratings, x), axis=1)\n",
    "    \n",
    "        # Sort movies by Jaccard similarity in descending order\n",
    "        similar_movies = similarities.sort_values(ascending=False)\n",
    "    \n",
    "        # Exclude movies already rated by the user\n",
    "        similar_movies = similar_movies.drop(user_rated_movies)\n",
    "    \n",
    "        # Append recommendations to the DataFrame\n",
    "        recommendations = pd.concat([recommendations, similar_movies.head(top_n).reset_index()], ignore_index=True)\n",
    "    \n",
    "    # Drop duplicates and keep the top N recommendations\n",
    "    recommendations = recommendations.drop_duplicates().head(top_n)\n",
    "    \n",
    "    # Rename the column '0' to 'Jaccard_Score'\n",
    "    recommendations = recommendations.rename(columns={0: 'Jaccard_Similarity'})\n",
    "    \n",
    "    return recommendations"
   ]
  },
  {
   "cell_type": "markdown",
   "id": "be4176e9-22a2-46cd-b7e6-ecf7e19cdb67",
   "metadata": {},
   "source": [
    "#### Find top 5 movies for any given user ID"
   ]
  },
  {
   "cell_type": "code",
   "execution_count": 40,
   "id": "39a8f19a-2cd4-4958-a99f-08554d5ca2c4",
   "metadata": {},
   "outputs": [
    {
     "name": "stdout",
     "output_type": "stream",
     "text": [
      "Top 5 Recommended Movies for User ID 1:\n",
      "   movie_id  Jaccard_Similarity\n",
      "0     1265            0.459450\n",
      "1      356            0.403549\n",
      "2     1580            0.394260\n",
      "3     2396            0.382033\n",
      "4     1196            0.379151\n"
     ]
    }
   ],
   "source": [
    "# Example: Recommend top 5 movies for User ID 1\n",
    "user_id_to_recommend = 1\n",
    "recommended_movies = generate_movie_recommendations(user_id_to_recommend, movie_user_matrix, Ratings_and_Movies[['movie_id']], top_n=5)\n",
    "\n",
    "print(f\"Top 5 Recommended Movies for User ID {user_id_to_recommend}:\\n\", recommended_movies)"
   ]
  },
  {
   "cell_type": "markdown",
   "id": "5e85fb11-5dd4-493e-ad7e-b2c3cf31fc5d",
   "metadata": {},
   "source": [
    "#### Plotted director gender proportion of top 5 movies recommended to user"
   ]
  },
  {
   "cell_type": "code",
   "execution_count": 41,
   "id": "104a2f23-6420-4a79-a92b-62c64f8165a7",
   "metadata": {},
   "outputs": [
    {
     "data": {
      "image/png": "[encoded data removed]",
      "text/plain": [
       "<Figure size 800x400 with 1 Axes>"
      ]
     },
     "metadata": {},
     "output_type": "display_data"
    }
   ],
   "source": [
    "# Calculate mean male director proportion of recommended movies\n",
    "mean_male_director_proportion = Ratings_and_Movies[Ratings_and_Movies['movie_id'].isin(list(recommended_movies['movie_id']))].drop_duplicates(subset='movie_id')['male_director_proportion'].mean()\n",
    "\n",
    "# Calculate female director proportion\n",
    "mean_female_director_proportion = 1 - mean_male_director_proportion\n",
    "\n",
    "# Data for the horizontal bar chart\n",
    "labels = ['Male Director', 'Female Director']\n",
    "proportions = [mean_male_director_proportion, mean_female_director_proportion]\n",
    "\n",
    "# Plotting the horizontal bar chart\n",
    "plt.figure(figsize=(8, 4))\n",
    "plt.barh(labels, proportions, color=['blue', 'red'])\n",
    "plt.title('Average Proportion of Director Gender of Recommended Movies')\n",
    "plt.xlabel('Proportion')\n",
    "plt.ylabel('Director Gender')\n",
    "\n",
    "# Adding values to the bars\n",
    "for i, proportion in enumerate(proportions):\n",
    "    plt.text(proportion + 0.01, i, f'{proportion:.2f}', va='center')\n",
    "\n",
    "# Show plot\n",
    "plt.show()"
   ]
  },
  {
   "cell_type": "markdown",
   "id": "ec83f7ba-79a0-4eb4-87be-40eaa6ca5c73",
   "metadata": {},
   "source": [
    "#### Plotted director gender proportion based on user's watch history"
   ]
  },
  {
   "cell_type": "code",
   "execution_count": 42,
   "id": "9f6eeeaa-09e2-4c78-92ca-156fa8688c0a",
   "metadata": {
    "scrolled": true
   },
   "outputs": [
    {
     "data": {
      "image/png": "[encoded data removed]",
      "text/plain": [
       "<Figure size 800x400 with 1 Axes>"
      ]
     },
     "metadata": {},
     "output_type": "display_data"
    }
   ],
   "source": [
    "# Average male director proportion of movies watched by user\n",
    "mean_male_director_proportion = Ratings_and_Movies[Ratings_and_Movies['user_id'] == user_id_to_recommend]['male_director_proportion'].mean()\n",
    "\n",
    "# Calculate female director proportion\n",
    "mean_female_director_proportion = 1 - mean_male_director_proportion\n",
    "\n",
    "# Data for the horizontal bar chart\n",
    "labels = ['Male Director', 'Female Director']\n",
    "proportions = [mean_male_director_proportion, mean_female_director_proportion]\n",
    "\n",
    "# Plotting the horizontal bar chart\n",
    "plt.figure(figsize=(8, 4))\n",
    "plt.barh(labels, proportions, color=['blue', 'red'])\n",
    "plt.title(\"Average Proportion of Director Gender of User's Watch History\")\n",
    "plt.xlabel('Proportion')\n",
    "plt.ylabel('Director Gender')\n",
    "\n",
    "# Adding values to the bars\n",
    "for i, proportion in enumerate(proportions):\n",
    "    plt.text(proportion + 0.01, i, f'{proportion:.2f}', va='center')\n",
    "\n",
    "# Show plot\n",
    "plt.show()"
   ]
  },
  {
   "cell_type": "markdown",
   "id": "ba97678f-6cf6-404c-bb9e-ad2e37b5c2f8",
   "metadata": {},
   "source": [
    "#### Analysis:\n",
    "- Top 5 recommended movies so far do not appear to provide diverse suggestions. After analyzing one user, it was observed that all recommended movies are directed by males, potentially introducing bias and overlooking potentially good recommendations directed by females. We plotted the user's watch history to determine the percentage of female-directed movies they watched, which, for this user, is 3%. However, it is crucial to understand why only male-directed movies are being recommended when director gender should not be a factor in detracting recommendations."
   ]
  },
  {
   "cell_type": "markdown",
   "id": "66f80cc5-be74-48f2-9e08-b7bcd2d0cd97",
   "metadata": {},
   "source": [
    "### [4.](#Table-of-Contents) Bias Mitigation "
   ]
  },
  {
   "cell_type": "markdown",
   "id": "ed60dfdd-01c9-4a97-8622-beccac054f16",
   "metadata": {},
   "source": [
    "#### Random Forest Pre-Processing Bias Mitigation \n",
    "- In this code, a pre-processing technique called reweighing is employed as a bias mitigation strategy. Initially, a Random Forest Classifier is trained on the original dataset, and its predictions are evaluated for bias using metrics like Disparate Impact and Statistical Parity Difference. Subsequently, the dataset is reweighed using the Reweighing technique, which adjusts the instance weights to mitigate bias. A new Random Forest Classifier is then trained on the reweighed dataset, and its performance and bias metrics are assessed. This approach aims to address potential bias in the original model's predictions by reweighing instances based on the protected attribute 'director_gender' before retraining the model."
   ]
  },
  {
   "cell_type": "code",
   "execution_count": 43,
   "id": "8f3e22e7-779e-4b08-9fbc-3c2585c5d928",
   "metadata": {
    "scrolled": true
   },
   "outputs": [
    {
     "data": {
      "text/markdown": [
       "#### Bias Metrics before Reweighing"
      ],
      "text/plain": [
       "<IPython.core.display.Markdown object>"
      ]
     },
     "metadata": {},
     "output_type": "display_data"
    },
    {
     "name": "stdout",
     "output_type": "stream",
     "text": [
      "Disparate Impact: 0.6437255482351495\n",
      "Statistical Parity Difference: -0.0809762384978597\n"
     ]
    },
    {
     "data": {
      "text/markdown": [
       "#### Accuracy before Reweighing"
      ],
      "text/plain": [
       "<IPython.core.display.Markdown object>"
      ]
     },
     "metadata": {},
     "output_type": "display_data"
    },
    {
     "name": "stdout",
     "output_type": "stream",
     "text": [
      "Accuracy before Reweighing: 0.7812483903960913\n"
     ]
    },
    {
     "data": {
      "text/markdown": [
       "#### Random Forest Classifier Metrics after Retraining on Reweighed Data"
      ],
      "text/plain": [
       "<IPython.core.display.Markdown object>"
      ]
     },
     "metadata": {},
     "output_type": "display_data"
    },
    {
     "name": "stdout",
     "output_type": "stream",
     "text": [
      "n_estimators: 100\n",
      "Accuracy after Reweighing: 0.782021000272253\n",
      "\n",
      "Classification Report after Reweighing:\n",
      "               precision    recall  f1-score   support\n",
      "\n",
      "         0.0       0.79      0.97      0.87    105577\n",
      "         1.0       0.56      0.11      0.19     30326\n",
      "\n",
      "    accuracy                           0.78    135903\n",
      "   macro avg       0.68      0.54      0.53    135903\n",
      "weighted avg       0.74      0.78      0.72    135903\n",
      "\n"
     ]
    },
    {
     "data": {
      "text/markdown": [
       "#### Bias Metrics after Retraining"
      ],
      "text/plain": [
       "<IPython.core.display.Markdown object>"
      ]
     },
     "metadata": {},
     "output_type": "display_data"
    },
    {
     "name": "stdout",
     "output_type": "stream",
     "text": [
      "Disparate Impact: 0.9999999999999996\n",
      "Statistical Parity Difference: -1.1102230246251565e-16\n"
     ]
    }
   ],
   "source": [
    "# Features and target variable\n",
    "X = Ratings_and_Movies[['year', 'documentary', 'romance', 'fantasy', 'western', 'thriller',\n",
    "                         'childrens', 'film_noir', 'drama', 'comedy', 'adventure', 'horror', 'crime', \n",
    "                         'action', 'mystery', 'war', 'musical', 'animation', 'sci_fi', 'male_director_proportion']]\n",
    "y = (Ratings_and_Movies['user_rating'] == 5).astype(int)\n",
    "\n",
    "# Split the data into training and testing sets\n",
    "X_train, X_test, y_train, y_test = train_test_split(X, y, test_size=0.2, random_state=42)\n",
    "\n",
    "# Define the protected attributes\n",
    "protected_attributes = ['director_gender']\n",
    "\n",
    "# Define the privileged and unprivileged groups\n",
    "privileged_groups = [{'director_gender': 1}]\n",
    "unprivileged_groups = [{'director_gender': 0}]\n",
    "\n",
    "# Initialize the Random Forest Classifier model with n_estimators=100\n",
    "rf_classifier_before = RandomForestClassifier(n_estimators=100, random_state=42)\n",
    "\n",
    "# Fit the original classifier on the original dataset\n",
    "rf_classifier_before.fit(X_train, y_train)\n",
    "\n",
    "# Make predictions on the test data using the original model\n",
    "y_pred_rf_before = rf_classifier_before.predict(X_test)\n",
    "\n",
    "# Calculate accuracy using scikit-learn's accuracy_score on the original dataset\n",
    "accuracy_rf_before = accuracy_score(y_test, y_pred_rf_before)\n",
    "\n",
    "# Combine X_test, y_test, and y_pred_rf_before into a new DataFrame\n",
    "test_results_before = pd.concat([X_test, pd.DataFrame({'user_rating': y_test, 'predicted_rating': y_pred_rf_before})], axis=1)\n",
    "\n",
    "# Extract the protected attribute 'director_gender' from the original dataset\n",
    "test_results_before['director_gender'] = Ratings_and_Movies.loc[X_test.index, 'director_gender']\n",
    "\n",
    "# Create a StandardDataset\n",
    "dataset_before = StandardDataset(df=test_results_before,\n",
    "                                  label_name='user_rating', favorable_classes=[1],\n",
    "                                  protected_attribute_names=protected_attributes,\n",
    "                                  privileged_classes=[[1]])  # Only one class for User_Gender (e.g., male is privileged)\n",
    "\n",
    "# Use reweighing to adjust weights\n",
    "reweighing = Reweighing(unprivileged_groups=unprivileged_groups, privileged_groups=privileged_groups)\n",
    "dataset_reweighed = reweighing.fit_transform(dataset_before)\n",
    "\n",
    "# Create a BinaryLabelDatasetMetric for bias metrics on the reweighed dataset\n",
    "dataset_metric_before = BinaryLabelDatasetMetric(dataset_before, unprivileged_groups=unprivileged_groups, privileged_groups=privileged_groups)\n",
    "dataset_metric_reweighed = BinaryLabelDatasetMetric(dataset_reweighed, unprivileged_groups=unprivileged_groups, privileged_groups=privileged_groups)\n",
    "\n",
    "# Display bias metrics before reweighing\n",
    "display(Markdown(\"#### Bias Metrics before Reweighing\"))\n",
    "print(\"Disparate Impact:\", dataset_metric_before.disparate_impact())\n",
    "print(\"Statistical Parity Difference:\", dataset_metric_before.statistical_parity_difference())\n",
    "\n",
    "# Display accuracy before reweighing\n",
    "display(Markdown(\"#### Accuracy before Reweighing\"))\n",
    "print(\"Accuracy before Reweighing:\", accuracy_rf_before)\n",
    "\n",
    "# Initialize a new Random Forest Classifier model\n",
    "rf_classifier_reweighed = RandomForestClassifier(n_estimators=100, random_state=42)\n",
    "\n",
    "# Fit the new classifier on the reweighed dataset\n",
    "rf_classifier_reweighed.fit(dataset_reweighed.features, dataset_reweighed.labels.ravel(), sample_weight=dataset_reweighed.instance_weights)\n",
    "\n",
    "# Make predictions on the reweighed test data using the new model\n",
    "y_pred_rf_reweighed = rf_classifier_reweighed.predict(dataset_reweighed.features)\n",
    "\n",
    "# Calculate accuracy using scikit-learn's accuracy_score on the reweighed dataset\n",
    "accuracy_rf_reweighed = accuracy_score(dataset_reweighed.labels, y_pred_rf_reweighed)\n",
    "\n",
    "# Create a BinaryLabelDatasetMetric for bias metrics on the retrained model\n",
    "dataset_retrained_metric = BinaryLabelDatasetMetric(dataset_reweighed, unprivileged_groups=unprivileged_groups, privileged_groups=privileged_groups)\n",
    "\n",
    "# Display Random Forest Classifier Metrics after retraining on reweighed data\n",
    "display(Markdown(\"#### Random Forest Classifier Metrics after Retraining on Reweighed Data\"))\n",
    "print(\"n_estimators:\", rf_classifier_reweighed.n_estimators)\n",
    "print(\"Accuracy after Reweighing:\", accuracy_rf_reweighed)\n",
    "print(\"\\nClassification Report after Reweighing:\\n\", classification_report(dataset_reweighed.labels, y_pred_rf_reweighed))\n",
    "\n",
    "# Display bias metrics after retraining\n",
    "display(Markdown(\"#### Bias Metrics after Retraining\"))\n",
    "print(\"Disparate Impact:\", dataset_retrained_metric.disparate_impact())\n",
    "print(\"Statistical Parity Difference:\", dataset_retrained_metric.statistical_parity_difference())"
   ]
  },
  {
   "cell_type": "markdown",
   "id": "f5669de3-50f8-40f6-9d62-e86829c07d67",
   "metadata": {},
   "source": [
    "- Before reweighing, the original Random Forest Classifier exhibited bias with a Disparate Impact of 0.644 and a Statistical Parity Difference of -0.081. The accuracy before reweighing was 0.781. After retraining on the reweighed data, the Random Forest Classifier with 100 estimators achieved an accuracy of 0.782, showing a slight improvement. The bias metrics also improved significantly, with the Disparate Impact approaching 1 (0.999) and the Statistical Parity Difference close to zero (-1.110e-16). The classification report after reweighing indicated precision of 0.56, recall of 0.11, and an F1-score of 0.19 for the positive class (user rating of 5), with a slight increase in overall accuracy. This suggests that the reweighing technique successfully mitigated bias, resulting in a fairer model while maintaining or slightly improving predictive accuracy."
   ]
  },
  {
   "cell_type": "markdown",
   "id": "821ecc29-6f13-4a2b-b750-2c5aff9fbd17",
   "metadata": {},
   "source": [
    "#### Recommender System Bias Mitigation"
   ]
  },
  {
   "cell_type": "markdown",
   "id": "875761df-6a9d-4ca9-82d4-874405d7036d",
   "metadata": {},
   "source": [
    "### [6.](#Table-of-Contents) Results Summary "
   ]
  },
  {
   "cell_type": "markdown",
   "id": "23becc62-7d5c-44f4-a644-8fb94b750b74",
   "metadata": {},
   "source": [
    "### [6.](#Table-of-Contents) Explainability "
   ]
  },
  {
   "cell_type": "markdown",
   "id": "7df8b228-4fc6-4486-8f9b-0f333133c301",
   "metadata": {},
   "source": [
    "### [7.](#Table-of-Contents) Conclusion & Discussion "
   ]
  }
 ],
 "metadata": {
  "kernelspec": {
   "display_name": "Python 3.8.5 ('base')",
   "language": "python",
   "name": "python3"
  },
  "language_info": {
   "codemirror_mode": {
    "name": "ipython",
    "version": 3
   },
   "file_extension": ".py",
   "mimetype": "text/x-python",
   "name": "python",
   "nbconvert_exporter": "python",
   "pygments_lexer": "ipython3",
   "version": "3.8.5"
  },
  "vscode": {
   "interpreter": {
    "hash": "40d3a090f54c6569ab1632332b64b2c03c39dcf918b08424e98f38b5ae0af88f"
   }
  }
 },
 "nbformat": 4,
 "nbformat_minor": 5
}
