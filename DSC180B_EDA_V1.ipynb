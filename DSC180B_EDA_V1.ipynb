{
 "cells": [
  {
   "cell_type": "code",
   "execution_count": 1,
   "id": "15ff0914",
   "metadata": {
    "scrolled": true
   },
   "outputs": [
    {
     "name": "stderr",
     "output_type": "stream",
     "text": [
      "/home/mig009/.local/lib/python3.9/site-packages/implicit/gpu/__init__.py:13: UserWarning: CUDA extension is built, but disabling GPU support because of 'Cuda Error: CUDA driver version is insufficient for CUDA runtime version (/project/./implicit/gpu/utils.h:71)'\n",
      "  warnings.warn(\n"
     ]
    }
   ],
   "source": [
    "import random\n",
    "from sklearn import linear_model\n",
    "from matplotlib import pyplot as plt\n",
    "from collections import defaultdict\n",
    "import gzip\n",
    "from sklearn.linear_model import LogisticRegression\n",
    "from sklearn.model_selection import train_test_split\n",
    "from sklearn.metrics import accuracy_score, balanced_accuracy_score\n",
    "\n",
    "import json\n",
    "import numpy\n",
    "import dateutil.parser\n",
    "import math\n",
    "import pandas as pd\n",
    "from sklearn.linear_model import LinearRegression\n",
    "from sklearn.model_selection import train_test_split\n",
    "from sklearn.metrics import mean_squared_error\n",
    "\n",
    "import scipy.optimize\n",
    "from sklearn import svm\n",
    "import string\n",
    "import random\n",
    "\n",
    "from surprise import Dataset, Reader, accuracy\n",
    "from surprise.model_selection import train_test_split\n",
    "from surprise.prediction_algorithms.matrix_factorization import SVD\n",
    "from implicit.als import AlternatingLeastSquares\n",
    "import numpy as np\n",
    "import os\n",
    "import tarfile"
   ]
  },
  {
   "cell_type": "markdown",
   "id": "5602c2e8",
   "metadata": {},
   "source": [
    "## MovieLens Data"
   ]
  },
  {
   "cell_type": "code",
   "execution_count": 2,
   "id": "d37b56dd",
   "metadata": {},
   "outputs": [],
   "source": [
    "# Update the file paths based on your extraction path\n",
    "extract_path = \"ml-1m/ml-1m\"\n",
    "\n",
    "# Ratings File\n",
    "ratings_file = os.path.join(extract_path, \"ratings.dat\")\n",
    "ratings_columns = [\"UserID\", \"MovieID\", \"Rating\", \"Timestamp\"]\n",
    "ratings_df = pd.read_csv(ratings_file, sep=\"::\", engine=\"python\", header=None, names=ratings_columns, encoding='latin1')\n",
    "\n",
    "# Users File\n",
    "users_file = os.path.join(extract_path, \"users.dat\")\n",
    "users_columns = [\"UserID\", \"Gender\", \"Age\", \"Occupation\", \"Zip-code\"]\n",
    "users_df = pd.read_csv(users_file, sep=\"::\", engine=\"python\", header=None, names=users_columns, encoding='latin1')\n",
    "\n",
    "# Movies File\n",
    "movies_file = os.path.join(extract_path, \"movies.dat\")\n",
    "movies_columns = [\"MovieID\", \"Title\", \"Genres\"]\n",
    "movies_df = pd.read_csv(movies_file, sep=\"::\", engine=\"python\", header=None, names=movies_columns, encoding='latin1')"
   ]
  },
  {
   "cell_type": "markdown",
   "id": "b6d31eff",
   "metadata": {},
   "source": [
    "## Last.FM (LFM360K) Data"
   ]
  },
  {
   "cell_type": "code",
   "execution_count": 3,
   "id": "894a95df",
   "metadata": {},
   "outputs": [],
   "source": [
    "tar_path = \"lastfm-dataset-360K.tar.gz\"\n",
    "extract_path_lastfm = \"lastfm-dataset-360K/lastfm-dataset-360K\"\n",
    "\n",
    "with tarfile.open(tar_path, 'r:gz') as tar_ref:\n",
    "    tar_ref.extractall(extract_path_lastfm)"
   ]
  },
  {
   "cell_type": "code",
   "execution_count": 4,
   "id": "309a5758",
   "metadata": {},
   "outputs": [],
   "source": [
    "# Users-Artists-Plays File\n",
    "users_artists_plays_file = os.path.join(extract_path_lastfm, \"usersha1-artmbid-artname-plays.tsv\")\n",
    "users_artists_plays_columns = [\"user-mboxsha1\", \"musicbrainz-artist-id\", \"artist-name\", \"plays\"]\n",
    "users_artists_plays_df = pd.read_csv(users_artists_plays_file, sep=\"\\t\", header=None, names=users_artists_plays_columns)\n",
    "\n",
    "# Users Profile File\n",
    "users_profile_file = os.path.join(extract_path_lastfm, \"usersha1-profile.tsv\")\n",
    "users_profile_columns = [\"user-mboxsha1\", \"gender\", \"age\", \"country\", \"signup\"]\n",
    "users_profile_df = pd.read_csv(users_profile_file, sep=\"\\t\", header=None, names=users_profile_columns)"
   ]
  }
 ],
 "metadata": {
  "kernelspec": {
   "display_name": "Python 3 (ipykernel)",
   "language": "python",
   "name": "python3"
  },
  "language_info": {
   "codemirror_mode": {
    "name": "ipython",
    "version": 3
   },
   "file_extension": ".py",
   "mimetype": "text/x-python",
   "name": "python",
   "nbconvert_exporter": "python",
   "pygments_lexer": "ipython3",
   "version": "3.9.5"
  }
 },
 "nbformat": 4,
 "nbformat_minor": 5
}
