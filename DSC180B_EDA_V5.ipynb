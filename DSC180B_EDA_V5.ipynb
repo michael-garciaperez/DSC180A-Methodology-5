{
 "cells": [
  {
   "cell_type": "markdown",
   "id": "7a40dda1",
   "metadata": {
    "scrolled": true
   },
   "source": [
    "# Gender/Age Bias for Movie Ratings Using AIF360"
   ]
  },
  {
   "cell_type": "markdown",
   "id": "6b2cc1c3",
   "metadata": {},
   "source": [
    "## Import Statements"
   ]
  },
  {
   "cell_type": "code",
   "execution_count": 1,
   "id": "1d893309",
   "metadata": {},
   "outputs": [],
   "source": [
    "# !pip uninstall -y numpy"
   ]
  },
  {
   "cell_type": "code",
   "execution_count": 2,
   "id": "93172ffd",
   "metadata": {},
   "outputs": [],
   "source": [
    "# !pip install numpy"
   ]
  },
  {
   "cell_type": "code",
   "execution_count": 3,
   "id": "013b5396",
   "metadata": {},
   "outputs": [
    {
     "name": "stdout",
     "output_type": "stream",
     "text": [
      "Requirement already satisfied: scikit-surprise in c:\\users\\chris\\anaconda3\\envs\\aif360\\lib\\site-packages (1.1.3)\n",
      "Requirement already satisfied: joblib>=1.0.0 in c:\\users\\chris\\anaconda3\\envs\\aif360\\lib\\site-packages (from scikit-surprise) (1.3.2)\n",
      "Requirement already satisfied: numpy>=1.17.3 in c:\\users\\chris\\anaconda3\\envs\\aif360\\lib\\site-packages (from scikit-surprise) (1.26.1)\n",
      "Requirement already satisfied: scipy>=1.3.2 in c:\\users\\chris\\anaconda3\\envs\\aif360\\lib\\site-packages (from scikit-surprise) (1.11.3)\n"
     ]
    }
   ],
   "source": [
    "!pip install scikit-surprise"
   ]
  },
  {
   "cell_type": "code",
   "execution_count": 4,
   "id": "5eb32f23",
   "metadata": {},
   "outputs": [],
   "source": [
    "import random\n",
    "from sklearn import linear_model\n",
    "from matplotlib import pyplot as plt\n",
    "from collections import defaultdict\n",
    "import gzip\n",
    "from sklearn.linear_model import LogisticRegression\n",
    "from sklearn.model_selection import train_test_split\n",
    "from sklearn.metrics import accuracy_score, balanced_accuracy_score\n",
    "\n",
    "import json\n",
    "import numpy\n",
    "import dateutil.parser\n",
    "import math\n",
    "import pandas as pd\n",
    "from sklearn.linear_model import LinearRegression\n",
    "from sklearn.model_selection import train_test_split\n",
    "from sklearn.metrics import mean_squared_error\n",
    "\n",
    "import scipy.optimize\n",
    "from sklearn import svm\n",
    "import string\n",
    "import random\n",
    "\n",
    "from surprise import Dataset, Reader, accuracy\n",
    "from surprise.model_selection import train_test_split\n",
    "from surprise.prediction_algorithms.matrix_factorization import SVD\n",
    "# from implicit.als import AlternatingLeastSquares\n",
    "import numpy as np\n",
    "import os\n",
    "import tarfile"
   ]
  },
  {
   "cell_type": "code",
   "execution_count": 5,
   "id": "9bcdb039",
   "metadata": {
    "scrolled": true
   },
   "outputs": [
    {
     "name": "stderr",
     "output_type": "stream",
     "text": [
      "ERROR: Invalid requirement: \"'aif360'\"\n"
     ]
    }
   ],
   "source": [
    "#Install AIF360\n",
    "!pip install 'aif360'"
   ]
  },
  {
   "cell_type": "code",
   "execution_count": 6,
   "id": "9628d82d-1736-49c7-8bf2-3c54e0e297a3",
   "metadata": {},
   "outputs": [
    {
     "name": "stderr",
     "output_type": "stream",
     "text": [
      "ERROR: Invalid requirement: \"'tensorflow==2.6.0'\"\n"
     ]
    }
   ],
   "source": [
    "# Install TensorFlow\n",
    "!pip install 'tensorflow==2.6.0'"
   ]
  },
  {
   "cell_type": "code",
   "execution_count": 7,
   "id": "29ac8f7a-f03f-45ff-8943-e76a9e839abf",
   "metadata": {},
   "outputs": [
    {
     "name": "stdout",
     "output_type": "stream",
     "text": [
      "Note: you may need to restart the kernel to use updated packages.\n"
     ]
    },
    {
     "name": "stderr",
     "output_type": "stream",
     "text": [
      "ERROR: Invalid requirement: \"'aif360[LawSchoolGPA]'\"\n"
     ]
    }
   ],
   "source": [
    "pip install 'aif360[LawSchoolGPA]'"
   ]
  },
  {
   "cell_type": "code",
   "execution_count": 8,
   "id": "698d224b-e0ce-4637-ad6f-d5b078020848",
   "metadata": {},
   "outputs": [
    {
     "name": "stdout",
     "output_type": "stream",
     "text": [
      "Requirement already satisfied: tensorflow in c:\\users\\chris\\anaconda3\\envs\\aif360\\lib\\site-packages (2.15.0)\n",
      "Requirement already satisfied: aif360 in c:\\users\\chris\\anaconda3\\envs\\aif360\\lib\\site-packages (0.5.0)\n",
      "Requirement already satisfied: tensorflow-intel==2.15.0 in c:\\users\\chris\\anaconda3\\envs\\aif360\\lib\\site-packages (from tensorflow) (2.15.0)\n",
      "Requirement already satisfied: absl-py>=1.0.0 in c:\\users\\chris\\anaconda3\\envs\\aif360\\lib\\site-packages (from tensorflow-intel==2.15.0->tensorflow) (2.0.0)\n",
      "Requirement already satisfied: astunparse>=1.6.0 in c:\\users\\chris\\anaconda3\\envs\\aif360\\lib\\site-packages (from tensorflow-intel==2.15.0->tensorflow) (1.6.3)\n",
      "Requirement already satisfied: flatbuffers>=23.5.26 in c:\\users\\chris\\anaconda3\\envs\\aif360\\lib\\site-packages (from tensorflow-intel==2.15.0->tensorflow) (23.5.26)\n",
      "Requirement already satisfied: gast!=0.5.0,!=0.5.1,!=0.5.2,>=0.2.1 in c:\\users\\chris\\anaconda3\\envs\\aif360\\lib\\site-packages (from tensorflow-intel==2.15.0->tensorflow) (0.5.4)\n",
      "Requirement already satisfied: google-pasta>=0.1.1 in c:\\users\\chris\\anaconda3\\envs\\aif360\\lib\\site-packages (from tensorflow-intel==2.15.0->tensorflow) (0.2.0)\n",
      "Requirement already satisfied: h5py>=2.9.0 in c:\\users\\chris\\anaconda3\\envs\\aif360\\lib\\site-packages (from tensorflow-intel==2.15.0->tensorflow) (3.10.0)\n",
      "Requirement already satisfied: libclang>=13.0.0 in c:\\users\\chris\\anaconda3\\envs\\aif360\\lib\\site-packages (from tensorflow-intel==2.15.0->tensorflow) (16.0.6)\n",
      "Requirement already satisfied: ml-dtypes~=0.2.0 in c:\\users\\chris\\anaconda3\\envs\\aif360\\lib\\site-packages (from tensorflow-intel==2.15.0->tensorflow) (0.2.0)\n",
      "Requirement already satisfied: numpy<2.0.0,>=1.23.5 in c:\\users\\chris\\anaconda3\\envs\\aif360\\lib\\site-packages (from tensorflow-intel==2.15.0->tensorflow) (1.26.1)\n",
      "Requirement already satisfied: opt-einsum>=2.3.2 in c:\\users\\chris\\anaconda3\\envs\\aif360\\lib\\site-packages (from tensorflow-intel==2.15.0->tensorflow) (3.3.0)\n",
      "Requirement already satisfied: packaging in c:\\users\\chris\\anaconda3\\envs\\aif360\\lib\\site-packages (from tensorflow-intel==2.15.0->tensorflow) (23.2)\n",
      "Collecting protobuf!=4.21.0,!=4.21.1,!=4.21.2,!=4.21.3,!=4.21.4,!=4.21.5,<5.0.0dev,>=3.20.3 (from tensorflow-intel==2.15.0->tensorflow)\n",
      "  Using cached protobuf-4.25.2-cp39-cp39-win_amd64.whl.metadata (541 bytes)\n",
      "Requirement already satisfied: setuptools in c:\\users\\chris\\anaconda3\\envs\\aif360\\lib\\site-packages (from tensorflow-intel==2.15.0->tensorflow) (69.0.2)\n",
      "Requirement already satisfied: six>=1.12.0 in c:\\users\\chris\\anaconda3\\envs\\aif360\\lib\\site-packages (from tensorflow-intel==2.15.0->tensorflow) (1.16.0)\n",
      "Requirement already satisfied: termcolor>=1.1.0 in c:\\users\\chris\\anaconda3\\envs\\aif360\\lib\\site-packages (from tensorflow-intel==2.15.0->tensorflow) (2.3.0)\n",
      "Requirement already satisfied: typing-extensions>=3.6.6 in c:\\users\\chris\\anaconda3\\envs\\aif360\\lib\\site-packages (from tensorflow-intel==2.15.0->tensorflow) (4.8.0)\n",
      "Requirement already satisfied: wrapt<1.15,>=1.11.0 in c:\\users\\chris\\anaconda3\\envs\\aif360\\lib\\site-packages (from tensorflow-intel==2.15.0->tensorflow) (1.14.1)\n",
      "Requirement already satisfied: tensorflow-io-gcs-filesystem>=0.23.1 in c:\\users\\chris\\anaconda3\\envs\\aif360\\lib\\site-packages (from tensorflow-intel==2.15.0->tensorflow) (0.31.0)\n",
      "Requirement already satisfied: grpcio<2.0,>=1.24.3 in c:\\users\\chris\\anaconda3\\envs\\aif360\\lib\\site-packages (from tensorflow-intel==2.15.0->tensorflow) (1.59.0)\n",
      "Requirement already satisfied: tensorboard<2.16,>=2.15 in c:\\users\\chris\\anaconda3\\envs\\aif360\\lib\\site-packages (from tensorflow-intel==2.15.0->tensorflow) (2.15.1)\n",
      "Requirement already satisfied: tensorflow-estimator<2.16,>=2.15.0 in c:\\users\\chris\\anaconda3\\envs\\aif360\\lib\\site-packages (from tensorflow-intel==2.15.0->tensorflow) (2.15.0)\n",
      "Requirement already satisfied: keras<2.16,>=2.15.0 in c:\\users\\chris\\anaconda3\\envs\\aif360\\lib\\site-packages (from tensorflow-intel==2.15.0->tensorflow) (2.15.0)\n",
      "Requirement already satisfied: scipy>=1.2.0 in c:\\users\\chris\\anaconda3\\envs\\aif360\\lib\\site-packages (from aif360) (1.11.3)\n",
      "Requirement already satisfied: pandas>=0.24.0 in c:\\users\\chris\\anaconda3\\envs\\aif360\\lib\\site-packages (from aif360) (2.1.1)\n",
      "Requirement already satisfied: scikit-learn>=1.0 in c:\\users\\chris\\anaconda3\\envs\\aif360\\lib\\site-packages (from aif360) (1.1.3)\n",
      "Requirement already satisfied: matplotlib in c:\\users\\chris\\anaconda3\\envs\\aif360\\lib\\site-packages (from aif360) (3.8.0)\n",
      "Requirement already satisfied: python-dateutil>=2.8.2 in c:\\users\\chris\\anaconda3\\envs\\aif360\\lib\\site-packages (from pandas>=0.24.0->aif360) (2.8.2)\n",
      "Requirement already satisfied: pytz>=2020.1 in c:\\users\\chris\\anaconda3\\envs\\aif360\\lib\\site-packages (from pandas>=0.24.0->aif360) (2023.3.post1)\n",
      "Requirement already satisfied: tzdata>=2022.1 in c:\\users\\chris\\anaconda3\\envs\\aif360\\lib\\site-packages (from pandas>=0.24.0->aif360) (2023.3)\n",
      "Requirement already satisfied: joblib>=1.0.0 in c:\\users\\chris\\anaconda3\\envs\\aif360\\lib\\site-packages (from scikit-learn>=1.0->aif360) (1.3.2)\n",
      "Requirement already satisfied: threadpoolctl>=2.0.0 in c:\\users\\chris\\anaconda3\\envs\\aif360\\lib\\site-packages (from scikit-learn>=1.0->aif360) (3.2.0)\n",
      "Requirement already satisfied: contourpy>=1.0.1 in c:\\users\\chris\\anaconda3\\envs\\aif360\\lib\\site-packages (from matplotlib->aif360) (1.1.1)\n",
      "Requirement already satisfied: cycler>=0.10 in c:\\users\\chris\\anaconda3\\envs\\aif360\\lib\\site-packages (from matplotlib->aif360) (0.12.1)\n",
      "Requirement already satisfied: fonttools>=4.22.0 in c:\\users\\chris\\anaconda3\\envs\\aif360\\lib\\site-packages (from matplotlib->aif360) (4.43.1)\n",
      "Requirement already satisfied: kiwisolver>=1.0.1 in c:\\users\\chris\\anaconda3\\envs\\aif360\\lib\\site-packages (from matplotlib->aif360) (1.4.5)\n",
      "Requirement already satisfied: pillow>=6.2.0 in c:\\users\\chris\\anaconda3\\envs\\aif360\\lib\\site-packages (from matplotlib->aif360) (10.1.0)\n",
      "Requirement already satisfied: pyparsing>=2.3.1 in c:\\users\\chris\\anaconda3\\envs\\aif360\\lib\\site-packages (from matplotlib->aif360) (3.1.1)\n",
      "Requirement already satisfied: importlib-resources>=3.2.0 in c:\\users\\chris\\anaconda3\\envs\\aif360\\lib\\site-packages (from matplotlib->aif360) (6.1.0)\n",
      "Requirement already satisfied: wheel<1.0,>=0.23.0 in c:\\users\\chris\\anaconda3\\envs\\aif360\\lib\\site-packages (from astunparse>=1.6.0->tensorflow-intel==2.15.0->tensorflow) (0.41.2)\n",
      "Requirement already satisfied: zipp>=3.1.0 in c:\\users\\chris\\anaconda3\\envs\\aif360\\lib\\site-packages (from importlib-resources>=3.2.0->matplotlib->aif360) (3.17.0)\n",
      "Requirement already satisfied: google-auth<3,>=1.6.3 in c:\\users\\chris\\anaconda3\\envs\\aif360\\lib\\site-packages (from tensorboard<2.16,>=2.15->tensorflow-intel==2.15.0->tensorflow) (2.23.3)\n",
      "Requirement already satisfied: google-auth-oauthlib<2,>=0.5 in c:\\users\\chris\\anaconda3\\envs\\aif360\\lib\\site-packages (from tensorboard<2.16,>=2.15->tensorflow-intel==2.15.0->tensorflow) (1.0.0)\n",
      "Requirement already satisfied: markdown>=2.6.8 in c:\\users\\chris\\anaconda3\\envs\\aif360\\lib\\site-packages (from tensorboard<2.16,>=2.15->tensorflow-intel==2.15.0->tensorflow) (3.5)\n",
      "  Using cached protobuf-4.23.4-cp39-cp39-win_amd64.whl.metadata (540 bytes)\n",
      "Requirement already satisfied: requests<3,>=2.21.0 in c:\\users\\chris\\anaconda3\\envs\\aif360\\lib\\site-packages (from tensorboard<2.16,>=2.15->tensorflow-intel==2.15.0->tensorflow) (2.31.0)\n",
      "Requirement already satisfied: tensorboard-data-server<0.8.0,>=0.7.0 in c:\\users\\chris\\anaconda3\\envs\\aif360\\lib\\site-packages (from tensorboard<2.16,>=2.15->tensorflow-intel==2.15.0->tensorflow) (0.7.1)\n",
      "Requirement already satisfied: werkzeug>=1.0.1 in c:\\users\\chris\\anaconda3\\envs\\aif360\\lib\\site-packages (from tensorboard<2.16,>=2.15->tensorflow-intel==2.15.0->tensorflow) (3.0.0)\n",
      "Requirement already satisfied: cachetools<6.0,>=2.0.0 in c:\\users\\chris\\anaconda3\\envs\\aif360\\lib\\site-packages (from google-auth<3,>=1.6.3->tensorboard<2.16,>=2.15->tensorflow-intel==2.15.0->tensorflow) (5.3.1)\n",
      "Requirement already satisfied: pyasn1-modules>=0.2.1 in c:\\users\\chris\\anaconda3\\envs\\aif360\\lib\\site-packages (from google-auth<3,>=1.6.3->tensorboard<2.16,>=2.15->tensorflow-intel==2.15.0->tensorflow) (0.3.0)\n",
      "Requirement already satisfied: rsa<5,>=3.1.4 in c:\\users\\chris\\anaconda3\\envs\\aif360\\lib\\site-packages (from google-auth<3,>=1.6.3->tensorboard<2.16,>=2.15->tensorflow-intel==2.15.0->tensorflow) (4.9)\n",
      "Requirement already satisfied: requests-oauthlib>=0.7.0 in c:\\users\\chris\\anaconda3\\envs\\aif360\\lib\\site-packages (from google-auth-oauthlib<2,>=0.5->tensorboard<2.16,>=2.15->tensorflow-intel==2.15.0->tensorflow) (1.3.1)\n",
      "Requirement already satisfied: importlib-metadata>=4.4 in c:\\users\\chris\\anaconda3\\envs\\aif360\\lib\\site-packages (from markdown>=2.6.8->tensorboard<2.16,>=2.15->tensorflow-intel==2.15.0->tensorflow) (6.8.0)\n",
      "Requirement already satisfied: charset-normalizer<4,>=2 in c:\\users\\chris\\anaconda3\\envs\\aif360\\lib\\site-packages (from requests<3,>=2.21.0->tensorboard<2.16,>=2.15->tensorflow-intel==2.15.0->tensorflow) (3.3.0)\n",
      "Requirement already satisfied: idna<4,>=2.5 in c:\\users\\chris\\anaconda3\\envs\\aif360\\lib\\site-packages (from requests<3,>=2.21.0->tensorboard<2.16,>=2.15->tensorflow-intel==2.15.0->tensorflow) (3.4)\n",
      "Requirement already satisfied: urllib3<3,>=1.21.1 in c:\\users\\chris\\anaconda3\\envs\\aif360\\lib\\site-packages (from requests<3,>=2.21.0->tensorboard<2.16,>=2.15->tensorflow-intel==2.15.0->tensorflow) (2.0.7)\n",
      "Requirement already satisfied: certifi>=2017.4.17 in c:\\users\\chris\\anaconda3\\envs\\aif360\\lib\\site-packages (from requests<3,>=2.21.0->tensorboard<2.16,>=2.15->tensorflow-intel==2.15.0->tensorflow) (2023.7.22)\n",
      "Requirement already satisfied: MarkupSafe>=2.1.1 in c:\\users\\chris\\anaconda3\\envs\\aif360\\lib\\site-packages (from werkzeug>=1.0.1->tensorboard<2.16,>=2.15->tensorflow-intel==2.15.0->tensorflow) (2.1.1)\n",
      "Requirement already satisfied: pyasn1<0.6.0,>=0.4.6 in c:\\users\\chris\\anaconda3\\envs\\aif360\\lib\\site-packages (from pyasn1-modules>=0.2.1->google-auth<3,>=1.6.3->tensorboard<2.16,>=2.15->tensorflow-intel==2.15.0->tensorflow) (0.5.0)\n",
      "Requirement already satisfied: oauthlib>=3.0.0 in c:\\users\\chris\\anaconda3\\envs\\aif360\\lib\\site-packages (from requests-oauthlib>=0.7.0->google-auth-oauthlib<2,>=0.5->tensorboard<2.16,>=2.15->tensorflow-intel==2.15.0->tensorflow) (3.2.2)\n",
      "Using cached protobuf-4.23.4-cp39-cp39-win_amd64.whl (422 kB)\n",
      "Installing collected packages: protobuf\n",
      "  Attempting uninstall: protobuf\n",
      "    Found existing installation: protobuf 3.19.0\n",
      "    Uninstalling protobuf-3.19.0:\n",
      "      Successfully uninstalled protobuf-3.19.0\n",
      "Successfully installed protobuf-4.23.4\n",
      "Note: you may need to restart the kernel to use updated packages.\n"
     ]
    }
   ],
   "source": [
    "pip install --upgrade tensorflow aif360"
   ]
  },
  {
   "cell_type": "code",
   "execution_count": 9,
   "id": "41b1c7cd-3162-4857-bc98-7c0d86ae6e90",
   "metadata": {},
   "outputs": [
    {
     "name": "stdout",
     "output_type": "stream",
     "text": [
      "Collecting protobuf==3.19.0\n",
      "  Using cached protobuf-3.19.0-cp39-cp39-win_amd64.whl (895 kB)\n",
      "Installing collected packages: protobuf\n",
      "  Attempting uninstall: protobuf\n",
      "    Found existing installation: protobuf 4.23.4\n",
      "    Uninstalling protobuf-4.23.4:\n",
      "      Successfully uninstalled protobuf-4.23.4\n",
      "Successfully installed protobuf-3.19.0\n",
      "Note: you may need to restart the kernel to use updated packages.\n"
     ]
    },
    {
     "name": "stderr",
     "output_type": "stream",
     "text": [
      "ERROR: pip's dependency resolver does not currently take into account all the packages that are installed. This behaviour is the source of the following dependency conflicts.\n",
      "tensorboard 2.15.1 requires protobuf<4.24,>=3.19.6, but you have protobuf 3.19.0 which is incompatible.\n",
      "tensorflow-intel 2.15.0 requires protobuf!=4.21.0,!=4.21.1,!=4.21.2,!=4.21.3,!=4.21.4,!=4.21.5,<5.0.0dev,>=3.20.3, but you have protobuf 3.19.0 which is incompatible.\n"
     ]
    }
   ],
   "source": [
    "pip install protobuf==3.19.0"
   ]
  },
  {
   "cell_type": "code",
   "execution_count": 10,
   "id": "f4302074-2b84-462a-bc61-be2f4f150cb0",
   "metadata": {},
   "outputs": [
    {
     "name": "stdout",
     "output_type": "stream",
     "text": [
      "Note: you may need to restart the kernel to use updated packages.\n"
     ]
    },
    {
     "name": "stderr",
     "output_type": "stream",
     "text": [
      "ERROR: Invalid requirement: \"'aif360[AdversarialDebiasing]'\"\n"
     ]
    }
   ],
   "source": [
    "pip install 'aif360[AdversarialDebiasing]'"
   ]
  },
  {
   "cell_type": "code",
   "execution_count": 11,
   "id": "87e7eb87-bd15-4aee-9ec6-5f15c84ae661",
   "metadata": {},
   "outputs": [
    {
     "name": "stderr",
     "output_type": "stream",
     "text": [
      "WARNING:root:cannot import name 'builder' from 'google.protobuf.internal' (C:\\Users\\chris\\anaconda3\\envs\\aif360\\lib\\site-packages\\google\\protobuf\\internal\\__init__.py): AdversarialDebiasing will be unavailable. To install, run:\n",
      "pip install 'aif360[AdversarialDebiasing]'\n",
      "WARNING:root:cannot import name 'builder' from 'google.protobuf.internal' (C:\\Users\\chris\\anaconda3\\envs\\aif360\\lib\\site-packages\\google\\protobuf\\internal\\__init__.py): AdversarialDebiasing will be unavailable. To install, run:\n",
      "pip install 'aif360[AdversarialDebiasing]'\n"
     ]
    }
   ],
   "source": [
    "from aif360.datasets import StandardDataset\n",
    "from aif360.metrics import BinaryLabelDatasetMetric\n",
    "from aif360.algorithms.preprocessing import DisparateImpactRemover\n",
    "from sklearn.linear_model import LinearRegression\n",
    "from sklearn.model_selection import train_test_split\n",
    "from sklearn.metrics import mean_squared_error"
   ]
  },
  {
   "cell_type": "markdown",
   "id": "5602c2e8",
   "metadata": {},
   "source": [
    "## Reading File Path"
   ]
  },
  {
   "cell_type": "code",
   "execution_count": 12,
   "id": "d37b56dd",
   "metadata": {
    "scrolled": true
   },
   "outputs": [],
   "source": [
    "# Update the file paths based on your extraction path\n",
    "extract_path = \"\"\n",
    "\n",
    "# Ratings File\n",
    "ratings_file = os.path.join(extract_path, \"ratings.dat\")\n",
    "ratings_columns = [\"UserID\", \"MovieID\", \"Rating\", \"Timestamp\"]\n",
    "ratings_df = pd.read_csv(ratings_file, sep=\"::\", engine=\"python\", header=None, names=ratings_columns, encoding='latin1')\n",
    "\n",
    "# Users File\n",
    "users_file = os.path.join(extract_path, \"users.dat\")\n",
    "users_columns = [\"UserID\", \"Gender\", \"Age\", \"Occupation\", \"Zip-code\"]\n",
    "users_df = pd.read_csv(users_file, sep=\"::\", engine=\"python\", header=None, names=users_columns, encoding='latin1')\n",
    "\n",
    "# Movies File\n",
    "movies_file = os.path.join(extract_path, \"movies.dat\")\n",
    "movies_columns = [\"MovieID\", \"Title\", \"Genres\"]\n",
    "movies_df = pd.read_csv(movies_file, sep=\"::\", engine=\"python\", header=None, names=movies_columns, encoding='latin1')"
   ]
  },
  {
   "cell_type": "markdown",
   "id": "c6b1cbb8",
   "metadata": {},
   "source": [
    "## Checking for Null Values for Each Dataframe"
   ]
  },
  {
   "cell_type": "code",
   "execution_count": 13,
   "id": "9e8a63ab-fe86-44cb-9dff-3ad177e31a3e",
   "metadata": {},
   "outputs": [
    {
     "data": {
      "text/plain": [
       "UserID       0\n",
       "MovieID      0\n",
       "Rating       0\n",
       "Timestamp    0\n",
       "dtype: int64"
      ]
     },
     "execution_count": 13,
     "metadata": {},
     "output_type": "execute_result"
    }
   ],
   "source": [
    "# Check for null values in Ratings file\n",
    "ratings_df.isnull().sum()"
   ]
  },
  {
   "cell_type": "code",
   "execution_count": 14,
   "id": "853722fb",
   "metadata": {
    "scrolled": true
   },
   "outputs": [
    {
     "data": {
      "text/plain": [
       "UserID        0\n",
       "Gender        0\n",
       "Age           0\n",
       "Occupation    0\n",
       "Zip-code      0\n",
       "dtype: int64"
      ]
     },
     "execution_count": 14,
     "metadata": {},
     "output_type": "execute_result"
    }
   ],
   "source": [
    "# Check for null values in Users file\n",
    "users_df.isnull().sum()"
   ]
  },
  {
   "cell_type": "code",
   "execution_count": 15,
   "id": "b44129ad",
   "metadata": {},
   "outputs": [
    {
     "data": {
      "text/plain": [
       "MovieID    0\n",
       "Title      0\n",
       "Genres     0\n",
       "dtype: int64"
      ]
     },
     "execution_count": 15,
     "metadata": {},
     "output_type": "execute_result"
    }
   ],
   "source": [
    "# Check for null values in Movies file\n",
    "\n",
    "movies_df.isnull().sum()"
   ]
  },
  {
   "cell_type": "markdown",
   "id": "01bdb9bf",
   "metadata": {},
   "source": [
    "## Ratings Dataframe EDA"
   ]
  },
  {
   "cell_type": "code",
   "execution_count": 16,
   "id": "9d50d7ad-8aaf-4242-aafa-9f0d94774b52",
   "metadata": {},
   "outputs": [
    {
     "data": {
      "text/plain": [
       "Text(0, 0.5, 'Count')"
      ]
     },
     "execution_count": 16,
     "metadata": {},
     "output_type": "execute_result"
    },
    {
     "data": {
      "image/png": "[encoded data removed]",
      "text/plain": [
       "<Figure size 640x480 with 1 Axes>"
      ]
     },
     "metadata": {},
     "output_type": "display_data"
    }
   ],
   "source": [
    "# Plot distribution of rating scores\n",
    "ratings_df['Rating'].value_counts().sort_index().plot(kind='bar')\n",
    "plt.title('Distribution of rating scores')\n",
    "plt.ylabel('Count')\n",
    "\n",
    "# There do not appear to be any placeholders for missing vals\n",
    "# Most ratings are 4 stars, the least amount of ratings are 1 star"
   ]
  },
  {
   "cell_type": "code",
   "execution_count": 17,
   "id": "be6d9647-1e8a-4118-bc18-adfb95238e47",
   "metadata": {},
   "outputs": [
    {
     "data": {
      "text/plain": [
       "Text(0, 0.5, 'Count')"
      ]
     },
     "execution_count": 17,
     "metadata": {},
     "output_type": "execute_result"
    },
    {
     "data": {
      "image/png": "[encoded data removed]",
      "text/plain": [
       "<Figure size 640x480 with 1 Axes>"
      ]
     },
     "metadata": {},
     "output_type": "display_data"
    }
   ],
   "source": [
    "# Convert Timestamp col to datetime objects for visualizations\n",
    "datetime = pd.to_datetime(ratings_df['Timestamp'], unit='s')\n",
    "\n",
    "# Plot year of rating\n",
    "datetime.dt.year.value_counts().sort_index().plot(kind='bar')\n",
    "plt.title('Distribution of rating years')\n",
    "plt.xlabel('Year')\n",
    "plt.ylabel('Count')\n",
    "\n",
    "# Almost all ratings are from 2000"
   ]
  },
  {
   "cell_type": "code",
   "execution_count": 18,
   "id": "af584060-7233-4cf1-9c31-cba9a2d7592b",
   "metadata": {},
   "outputs": [
    {
     "data": {
      "text/plain": [
       "Text(0, 0.5, 'Count')"
      ]
     },
     "execution_count": 18,
     "metadata": {},
     "output_type": "execute_result"
    },
    {
     "data": {
      "image/png": "[encoded data removed]",
      "text/plain": [
       "<Figure size 640x480 with 1 Axes>"
      ]
     },
     "metadata": {},
     "output_type": "display_data"
    }
   ],
   "source": [
    "# Plot months of rating\n",
    "datetime.dt.month.value_counts().sort_index().plot(kind='bar')\n",
    "plt.title('Distribution of rating months')\n",
    "plt.xlabel('Month')\n",
    "plt.ylabel('Count')\n",
    "\n",
    "# Most ratings are from November"
   ]
  },
  {
   "cell_type": "code",
   "execution_count": 19,
   "id": "bdbf125c-9126-43df-b307-f571a6114367",
   "metadata": {},
   "outputs": [
    {
     "data": {
      "text/plain": [
       "Text(0, 0.5, 'Count')"
      ]
     },
     "execution_count": 19,
     "metadata": {},
     "output_type": "execute_result"
    },
    {
     "data": {
      "image/png": "[encoded data removed]",
      "text/plain": [
       "<Figure size 640x480 with 1 Axes>"
      ]
     },
     "metadata": {},
     "output_type": "display_data"
    }
   ],
   "source": [
    "# Plot hour of rating\n",
    "datetime.dt.hour.value_counts().sort_index().plot(kind='bar')\n",
    "plt.title('Distribution of rating hours')\n",
    "plt.xlabel('Hour')\n",
    "plt.ylabel('Count')\n",
    "\n",
    "# Most ratings happen at the beginning of the day or the end, as that's where peaks happen."
   ]
  },
  {
   "cell_type": "code",
   "execution_count": 20,
   "id": "e24d418a-00cc-442c-b2c6-32d6dc9d7ac5",
   "metadata": {},
   "outputs": [
    {
     "data": {
      "text/plain": [
       "(1, 6040)"
      ]
     },
     "execution_count": 20,
     "metadata": {},
     "output_type": "execute_result"
    }
   ],
   "source": [
    "# There do not appear to be any placeholders for null values\n",
    "ratings_df['UserID'].min(), ratings_df['UserID'].max()"
   ]
  },
  {
   "cell_type": "code",
   "execution_count": 21,
   "id": "4da70ddb-1056-442a-9820-5bf3b12c9203",
   "metadata": {},
   "outputs": [
    {
     "data": {
      "text/plain": [
       "UserID\n",
       "4169    2314\n",
       "1680    1850\n",
       "4277    1743\n",
       "1941    1595\n",
       "1181    1521\n",
       "Name: count, dtype: int64"
      ]
     },
     "execution_count": 21,
     "metadata": {},
     "output_type": "execute_result"
    }
   ],
   "source": [
    "# Top 5 user IDs who left the most ratings\n",
    "ratings_df['UserID'].value_counts()[:5]"
   ]
  },
  {
   "cell_type": "code",
   "execution_count": 22,
   "id": "d86c3596-2bd5-4d3f-9663-723e2448faad",
   "metadata": {},
   "outputs": [
    {
     "data": {
      "text/plain": [
       "(1, 3952)"
      ]
     },
     "execution_count": 22,
     "metadata": {},
     "output_type": "execute_result"
    }
   ],
   "source": [
    "# There do not appear to be any placeholders for null values\n",
    "ratings_df['MovieID'].min(), ratings_df['MovieID'].max()"
   ]
  },
  {
   "cell_type": "code",
   "execution_count": 23,
   "id": "8b8ccd8a-bc8e-4ade-819c-ad045761fd53",
   "metadata": {},
   "outputs": [
    {
     "data": {
      "text/plain": [
       "MovieID\n",
       "2858    3428\n",
       "260     2991\n",
       "1196    2990\n",
       "1210    2883\n",
       "480     2672\n",
       "Name: count, dtype: int64"
      ]
     },
     "execution_count": 23,
     "metadata": {},
     "output_type": "execute_result"
    }
   ],
   "source": [
    "# Top 5 movie IDs with the most ratings\n",
    "ratings_df['MovieID'].value_counts()[:5]"
   ]
  },
  {
   "cell_type": "markdown",
   "id": "b1346bf8",
   "metadata": {},
   "source": [
    "## Merge Dataframes"
   ]
  },
  {
   "cell_type": "code",
   "execution_count": 24,
   "id": "a266cd80",
   "metadata": {},
   "outputs": [],
   "source": [
    "merged_df = ratings_df.merge(users_df[['UserID', 'Age', 'Gender', 'Occupation']], on='UserID')"
   ]
  },
  {
   "cell_type": "code",
   "execution_count": 25,
   "id": "780577ad",
   "metadata": {},
   "outputs": [],
   "source": [
    "merged_df['Gender'] = merged_df['Gender'].replace({'F': 0, 'M': 1})"
   ]
  },
  {
   "cell_type": "code",
   "execution_count": 26,
   "id": "da6442e8",
   "metadata": {
    "scrolled": true
   },
   "outputs": [
    {
     "data": {
      "text/html": [
       "<div>\n",
       "<style scoped>\n",
       "    .dataframe tbody tr th:only-of-type {\n",
       "        vertical-align: middle;\n",
       "    }\n",
       "\n",
       "    .dataframe tbody tr th {\n",
       "        vertical-align: top;\n",
       "    }\n",
       "\n",
       "    .dataframe thead th {\n",
       "        text-align: right;\n",
       "    }\n",
       "</style>\n",
       "<table border=\"1\" class=\"dataframe\">\n",
       "  <thead>\n",
       "    <tr style=\"text-align: right;\">\n",
       "      <th></th>\n",
       "      <th>UserID</th>\n",
       "      <th>MovieID</th>\n",
       "      <th>Rating</th>\n",
       "      <th>Timestamp</th>\n",
       "      <th>Age</th>\n",
       "      <th>Gender</th>\n",
       "      <th>Occupation</th>\n",
       "    </tr>\n",
       "  </thead>\n",
       "  <tbody>\n",
       "    <tr>\n",
       "      <th>0</th>\n",
       "      <td>1</td>\n",
       "      <td>1193</td>\n",
       "      <td>5</td>\n",
       "      <td>978300760</td>\n",
       "      <td>1</td>\n",
       "      <td>0</td>\n",
       "      <td>10</td>\n",
       "    </tr>\n",
       "    <tr>\n",
       "      <th>1</th>\n",
       "      <td>1</td>\n",
       "      <td>661</td>\n",
       "      <td>3</td>\n",
       "      <td>978302109</td>\n",
       "      <td>1</td>\n",
       "      <td>0</td>\n",
       "      <td>10</td>\n",
       "    </tr>\n",
       "    <tr>\n",
       "      <th>2</th>\n",
       "      <td>1</td>\n",
       "      <td>914</td>\n",
       "      <td>3</td>\n",
       "      <td>978301968</td>\n",
       "      <td>1</td>\n",
       "      <td>0</td>\n",
       "      <td>10</td>\n",
       "    </tr>\n",
       "    <tr>\n",
       "      <th>3</th>\n",
       "      <td>1</td>\n",
       "      <td>3408</td>\n",
       "      <td>4</td>\n",
       "      <td>978300275</td>\n",
       "      <td>1</td>\n",
       "      <td>0</td>\n",
       "      <td>10</td>\n",
       "    </tr>\n",
       "    <tr>\n",
       "      <th>4</th>\n",
       "      <td>1</td>\n",
       "      <td>2355</td>\n",
       "      <td>5</td>\n",
       "      <td>978824291</td>\n",
       "      <td>1</td>\n",
       "      <td>0</td>\n",
       "      <td>10</td>\n",
       "    </tr>\n",
       "    <tr>\n",
       "      <th>...</th>\n",
       "      <td>...</td>\n",
       "      <td>...</td>\n",
       "      <td>...</td>\n",
       "      <td>...</td>\n",
       "      <td>...</td>\n",
       "      <td>...</td>\n",
       "      <td>...</td>\n",
       "    </tr>\n",
       "    <tr>\n",
       "      <th>1000204</th>\n",
       "      <td>6040</td>\n",
       "      <td>1091</td>\n",
       "      <td>1</td>\n",
       "      <td>956716541</td>\n",
       "      <td>25</td>\n",
       "      <td>1</td>\n",
       "      <td>6</td>\n",
       "    </tr>\n",
       "    <tr>\n",
       "      <th>1000205</th>\n",
       "      <td>6040</td>\n",
       "      <td>1094</td>\n",
       "      <td>5</td>\n",
       "      <td>956704887</td>\n",
       "      <td>25</td>\n",
       "      <td>1</td>\n",
       "      <td>6</td>\n",
       "    </tr>\n",
       "    <tr>\n",
       "      <th>1000206</th>\n",
       "      <td>6040</td>\n",
       "      <td>562</td>\n",
       "      <td>5</td>\n",
       "      <td>956704746</td>\n",
       "      <td>25</td>\n",
       "      <td>1</td>\n",
       "      <td>6</td>\n",
       "    </tr>\n",
       "    <tr>\n",
       "      <th>1000207</th>\n",
       "      <td>6040</td>\n",
       "      <td>1096</td>\n",
       "      <td>4</td>\n",
       "      <td>956715648</td>\n",
       "      <td>25</td>\n",
       "      <td>1</td>\n",
       "      <td>6</td>\n",
       "    </tr>\n",
       "    <tr>\n",
       "      <th>1000208</th>\n",
       "      <td>6040</td>\n",
       "      <td>1097</td>\n",
       "      <td>4</td>\n",
       "      <td>956715569</td>\n",
       "      <td>25</td>\n",
       "      <td>1</td>\n",
       "      <td>6</td>\n",
       "    </tr>\n",
       "  </tbody>\n",
       "</table>\n",
       "<p>1000209 rows × 7 columns</p>\n",
       "</div>"
      ],
      "text/plain": [
       "         UserID  MovieID  Rating  Timestamp  Age  Gender  Occupation\n",
       "0             1     1193       5  978300760    1       0          10\n",
       "1             1      661       3  978302109    1       0          10\n",
       "2             1      914       3  978301968    1       0          10\n",
       "3             1     3408       4  978300275    1       0          10\n",
       "4             1     2355       5  978824291    1       0          10\n",
       "...         ...      ...     ...        ...  ...     ...         ...\n",
       "1000204    6040     1091       1  956716541   25       1           6\n",
       "1000205    6040     1094       5  956704887   25       1           6\n",
       "1000206    6040      562       5  956704746   25       1           6\n",
       "1000207    6040     1096       4  956715648   25       1           6\n",
       "1000208    6040     1097       4  956715569   25       1           6\n",
       "\n",
       "[1000209 rows x 7 columns]"
      ]
     },
     "execution_count": 26,
     "metadata": {},
     "output_type": "execute_result"
    }
   ],
   "source": [
    "merged_df"
   ]
  },
  {
   "cell_type": "markdown",
   "id": "b961304b-a61e-4ecc-aff8-7b8909c8333c",
   "metadata": {},
   "source": [
    "## Bias EDA"
   ]
  },
  {
   "cell_type": "code",
   "execution_count": 27,
   "id": "74f2a0f6-f42b-4d41-bd9e-6e44547ae9bd",
   "metadata": {
    "scrolled": true
   },
   "outputs": [
    {
     "name": "stdout",
     "output_type": "stream",
     "text": [
      "Sum of Star Ratings per Unique Age:\n",
      "Rating      1      2       3       4      5\n",
      "Age                                        \n",
      "1        2238   2983    6380    8808   6802\n",
      "18      13063  22073   47601   60241  40558\n",
      "25      23898  44817  104287  136824  85730\n",
      "35       9067  20253   52990   71983  44710\n",
      "45       3409   8437   22311   30334  19142\n",
      "50       2948   5993   18465   26484  18600\n",
      "56       1551   3001    9163   14297  10768\n"
     ]
    },
    {
     "data": {
      "image/png": "[encoded data removed]",
      "text/plain": [
       "<Figure size 1000x600 with 1 Axes>"
      ]
     },
     "metadata": {},
     "output_type": "display_data"
    }
   ],
   "source": [
    "# Group by Age and Rating, then calculate the sum\n",
    "grouped_data = merged_df.groupby(['Age', 'Rating']).size().unstack().fillna(0)\n",
    "\n",
    "# Print the specific values\n",
    "print(\"Sum of Star Ratings per Unique Age:\")\n",
    "print(grouped_data)\n",
    "\n",
    "# Plot the bar plot\n",
    "grouped_data.plot(kind='bar', stacked=True, figsize=(10, 6))\n",
    "\n",
    "# Set plot labels and title\n",
    "plt.xlabel('Age')\n",
    "plt.ylabel('Number of Ratings')\n",
    "plt.title('Sum of Star Ratings per Unique Age')\n",
    "\n",
    "# Show the plot\n",
    "plt.show()"
   ]
  },
  {
   "cell_type": "code",
   "execution_count": 28,
   "id": "8bb66133-a8df-4f2a-ab0c-c225f156c121",
   "metadata": {},
   "outputs": [
    {
     "name": "stdout",
     "output_type": "stream",
     "text": [
      "Sum of Star Ratings per Gender:\n",
      "Rating      1      2       3       4       5\n",
      "Gender                                      \n",
      "0       13347  24548   62966   87033   58546\n",
      "1       42827  83009  198231  261938  167764\n"
     ]
    },
    {
     "data": {
      "image/png": "[encoded data removed]",
      "text/plain": [
       "<Figure size 1000x600 with 1 Axes>"
      ]
     },
     "metadata": {},
     "output_type": "display_data"
    }
   ],
   "source": [
    "import pandas as pd\n",
    "import matplotlib.pyplot as plt\n",
    "\n",
    "# Assuming your DataFrame is named merged_df\n",
    "# If not, you can replace merged_df with your DataFrame name\n",
    "\n",
    "# Group by Gender and Rating, then calculate the sum\n",
    "grouped_data_gender = merged_df.groupby(['Gender', 'Rating']).size().unstack().fillna(0)\n",
    "\n",
    "# Print the specific values\n",
    "print(\"Sum of Star Ratings per Gender:\")\n",
    "print(grouped_data_gender)\n",
    "\n",
    "# Plot the bar plot\n",
    "grouped_data_gender.plot(kind='bar', stacked=True, figsize=(10, 6))\n",
    "\n",
    "# Set plot labels and title\n",
    "plt.xlabel('Gender (0: Female, 1: Male)')\n",
    "plt.ylabel('Number of Ratings')\n",
    "plt.title('Sum of Star Ratings per Gender')\n",
    "\n",
    "# Show the plot\n",
    "plt.show()"
   ]
  },
  {
   "cell_type": "markdown",
   "id": "3abfa1fe",
   "metadata": {},
   "source": [
    "## Checking for Bias with AIF360"
   ]
  },
  {
   "cell_type": "code",
   "execution_count": 29,
   "id": "fa40042f-4a2c-420d-bd49-349c3a795ff2",
   "metadata": {},
   "outputs": [
    {
     "name": "stdout",
     "output_type": "stream",
     "text": [
      "[ 1 56 25 45 50 35 18]\n"
     ]
    }
   ],
   "source": [
    "print(merged_df['Age'].unique())"
   ]
  },
  {
   "cell_type": "code",
   "execution_count": 30,
   "id": "f90b66be-1c74-4064-b8da-adb7cb73cf27",
   "metadata": {},
   "outputs": [],
   "source": [
    "# # Assuming 'merged_df' is your DataFrame containing the data\n",
    "# # Choose relevant columns for features and labels\n",
    "# features = ['Age', 'Gender', 'Occupation']  # Include other relevant features\n",
    "# label = 'Rating'\n",
    "\n",
    "# # Split the dataset into training and testing sets\n",
    "# train_df, test_df = train_test_split(merged_df, test_size=0.2, random_state=42)\n",
    "\n",
    "# # Create StandardDatasets for training and testing\n",
    "# train_dataset = StandardDataset(train_df, label_name=label, favorable_classes=[5],\n",
    "#                                 protected_attribute_names=['Age'], privileged_classes=[[1]])\n",
    "# test_dataset = StandardDataset(test_df, label_name=label, favorable_classes=[5],\n",
    "#                                protected_attribute_names=['Age'], privileged_classes=[[1]])\n",
    "\n",
    "\n",
    "# # Initialize and train the linear regression model\n",
    "# lr_model = LinearRegression()\n",
    "# lr_model.fit(train_dataset.features, train_dataset.labels.ravel())\n",
    "\n",
    "\n",
    "# # Make predictions on the test set\n",
    "# test_predictions = lr_model.predict(test_dataset.features)\n",
    "\n",
    "# # Evaluate the performance (e.g., mean squared error)\n",
    "# mse = mean_squared_error(test_dataset.labels, test_predictions)\n",
    "# print(\"Mean Squared Error:\", mse)\n",
    "\n",
    "# # Calculate the disparate impact before any mitigation\n",
    "# metric_before = BinaryLabelDatasetMetric(test_dataset, unprivileged_groups=[{'Age': 0}], privileged_groups=[{'Age': 1}])\n",
    "# disparate_impact_before = metric_before.disparate_impact()\n",
    "# print(\"Disparate Impact Before Mitigation:\", disparate_impact_before)\n",
    "\n",
    "# # Apply Disparate Impact Remover as a mitigation technique\n",
    "# di_removal = DisparateImpactRemover(repair_level=1.0, sensitive_attribute='Age')\n",
    "# test_dataset_transformed = di_removal.fit_transform(test_dataset)\n",
    "\n",
    "# # Calculate the disparate impact after mitigation\n",
    "# metric_after = BinaryLabelDatasetMetric(test_dataset_transformed, unprivileged_groups=[{'Age': 0}], privileged_groups=[{'Age': 1}])\n",
    "# disparate_impact_after = metric_after.disparate_impact()\n",
    "# print(\"Disparate Impact After Mitigation:\", disparate_impact_after)"
   ]
  },
  {
   "cell_type": "markdown",
   "id": "f13b1349-43bc-4a96-a04a-e5d8c3f73427",
   "metadata": {},
   "source": [
    "### Checking for Bias When Age >= 56"
   ]
  },
  {
   "cell_type": "code",
   "execution_count": 32,
   "id": "73f3cd28-58db-4a42-b6bf-6e48d81aa8d6",
   "metadata": {},
   "outputs": [
    {
     "name": "stdout",
     "output_type": "stream",
     "text": [
      "Disparate Impact Before Mitigation: 0.8073975893273045\n",
      "Disparate Impact After Mitigation: 1.0000000000000007\n"
     ]
    }
   ],
   "source": [
    "from aif360.algorithms.preprocessing import Reweighing\n",
    "\n",
    "# Define the protected attributes\n",
    "protected_attributes = ['Age']\n",
    "\n",
    "# Define the favorable and unfavorable labels\n",
    "favorable_classes = [5]  # Assuming 5 is a high rating (favorable)\n",
    "\n",
    "# Create a StandardDataset\n",
    "dataset = StandardDataset(merged_df, label_name='Rating', favorable_classes=favorable_classes,\n",
    "                          protected_attribute_names=protected_attributes,\n",
    "                          privileged_classes=[lambda x: x >= 56])  # Assuming 56 indicates privileged class\n",
    "\n",
    "# Calculate the disparate impact before any mitigation\n",
    "metric_before = BinaryLabelDatasetMetric(dataset, unprivileged_groups=[{'Age': 0}], privileged_groups=[{'Age': 1}])\n",
    "disparate_impact_before = metric_before.disparate_impact()\n",
    "\n",
    "print(\"Disparate Impact Before Mitigation:\", disparate_impact_before)\n",
    "\n",
    "# Apply Disparate Impact Remover as a mitigation technique\n",
    "privileged_groups = [{'Age': 1}]\n",
    "unprivileged_groups = [{'Age': 0}]\n",
    "\n",
    "rw = Reweighing(unprivileged_groups=[{'Age': 0}], privileged_groups=[{'Age': 1}])\n",
    "dataset_transformed = rw.fit_transform(dataset)\n",
    "\n",
    "# Calculate the disparate impact after mitigation\n",
    "metric_after = BinaryLabelDatasetMetric(dataset_transformed, unprivileged_groups=unprivileged_groups, privileged_groups=privileged_groups)\n",
    "disparate_impact_after = metric_after.disparate_impact()\n",
    "\n",
    "print(\"Disparate Impact After Mitigation:\", disparate_impact_after)"
   ]
  },
  {
   "cell_type": "markdown",
   "id": "fa44b4e2-3d0a-43df-96ec-fb542cbb8ea8",
   "metadata": {},
   "source": [
    "#### Analysis: \n",
    "- Privileged Group (Males, Age >= 56)\n",
    "- Unprivileged Group (Females, Age < 56):\n",
    "- Disparate Impact Before Mitigation (0.8074):\n",
    "  - Interpretation: Females (age less than 56) are less likely to give high ratings compared to males (age greater than or equal to 56) before mitigation."
   ]
  },
  {
   "cell_type": "code",
   "execution_count": 33,
   "id": "66ab20b0-c4c8-476f-bbe8-cbb35cce6fc7",
   "metadata": {},
   "outputs": [
    {
     "name": "stdout",
     "output_type": "stream",
     "text": [
      "Disparate Impact Before Mitigation: 1.2385471708345885\n",
      "Disparate Impact After Mitigation: 0.9999999999999992\n"
     ]
    }
   ],
   "source": [
    "#Now switching underpriviledged group\n",
    "\n",
    "# Define the protected attributes\n",
    "protected_attributes = ['Age']\n",
    "\n",
    "# Define the favorable and unfavorable labels\n",
    "favorable_classes = [5]  # Assuming 5 is a high rating (favorable)\n",
    "\n",
    "# Create a StandardDataset\n",
    "dataset = StandardDataset(merged_df, label_name='Rating', favorable_classes=favorable_classes,\n",
    "                          protected_attribute_names=protected_attributes,\n",
    "                          privileged_classes=[lambda x: x >= 56])  # Assuming 56 indicates privileged class\n",
    "\n",
    "# Calculate the disparate impact before any mitigation\n",
    "metric_before = BinaryLabelDatasetMetric(dataset, unprivileged_groups=[{'Age': 1}], privileged_groups=[{'Age': 0}])\n",
    "disparate_impact_before = metric_before.disparate_impact()\n",
    "\n",
    "print(\"Disparate Impact Before Mitigation:\", disparate_impact_before)\n",
    "\n",
    "# Apply Disparate Impact Remover as a mitigation technique\n",
    "privileged_groups = [{'Age': 0}]\n",
    "unprivileged_groups = [{'Age': 1}]\n",
    "\n",
    "rw = Reweighing(unprivileged_groups=[{'Age': 1}], privileged_groups=[{'Age': 0}])\n",
    "dataset_transformed = rw.fit_transform(dataset)\n",
    "\n",
    "# Calculate the disparate impact after mitigation\n",
    "metric_after = BinaryLabelDatasetMetric(dataset_transformed, unprivileged_groups=unprivileged_groups, privileged_groups=privileged_groups)\n",
    "disparate_impact_after = metric_after.disparate_impact()\n",
    "\n",
    "print(\"Disparate Impact After Mitigation:\", disparate_impact_after)"
   ]
  },
  {
   "cell_type": "markdown",
   "id": "904cbf88-7fb5-41eb-8321-afcc1e2135fe",
   "metadata": {},
   "source": [
    "- Privileged Group (Females, Age >= 56)\n",
    "- Unprivileged Group (Males, Age < 56):\n",
    "- Disparate Impact Before Mitigation (1.2437):\n",
    "  - Interpretation: Males (age less than 56) are more likely to give high ratings compared to females (age greater than or equal to 56) before mitigation."
   ]
  },
  {
   "cell_type": "markdown",
   "id": "57d01a52-aa3b-4141-a9a9-4e8944caa51b",
   "metadata": {},
   "source": [
    "#### TESTING"
   ]
  },
  {
   "cell_type": "code",
   "execution_count": 34,
   "id": "8d077652-6cc1-4ffb-a550-c0944b6dca1a",
   "metadata": {},
   "outputs": [
    {
     "name": "stdout",
     "output_type": "stream",
     "text": [
      "Disparate Impact Before Mitigation: 1.5808932997581773\n",
      "Disparate Impact After Mitigation: 1.5808932997581773\n"
     ]
    }
   ],
   "source": [
    "from aif360.datasets import StandardDataset\n",
    "from aif360.metrics import BinaryLabelDatasetMetric\n",
    "from aif360.algorithms.preprocessing import DisparateImpactRemover\n",
    "\n",
    "# Define the protected attributes\n",
    "protected_attributes = ['Gender', 'Age']\n",
    "\n",
    "# Define the favorable and unfavorable labels\n",
    "favorable_classes = [5]  # Assuming 5 is a high rating (favorable)\n",
    "\n",
    "# Create a StandardDataset\n",
    "dataset = StandardDataset(merged_df, label_name='Rating', favorable_classes=favorable_classes,\n",
    "                          protected_attribute_names=protected_attributes,\n",
    "                          privileged_classes=([1, 1], [25, 25]))\n",
    "\n",
    "# Calculate the disparate impact before any mitigation\n",
    "metric_before = BinaryLabelDatasetMetric(dataset, unprivileged_groups=[{'Gender': 0, 'Age': 56}],\n",
    "                                         privileged_groups=[{'Gender': 1, 'Age': 25}])\n",
    "disparate_impact_before = metric_before.disparate_impact()\n",
    "\n",
    "print(\"Disparate Impact Before Mitigation:\", disparate_impact_before)\n",
    "\n",
    "# Apply Disparate Impact Remover separately for each sensitive attribute\n",
    "di_removal_gender = DisparateImpactRemover(repair_level=1.0, sensitive_attribute='Gender')\n",
    "di_removal_age = DisparateImpactRemover(repair_level=1.0, sensitive_attribute='Age')\n",
    "\n",
    "dataset_transformed = di_removal_gender.fit_transform(dataset)\n",
    "dataset_transformed = di_removal_age.fit_transform(dataset_transformed)\n",
    "\n",
    "# Calculate the disparate impact after mitigation\n",
    "metric_after = BinaryLabelDatasetMetric(dataset_transformed, unprivileged_groups=[{'Gender': 0, 'Age': 56}],\n",
    "                                        privileged_groups=[{'Gender': 1, 'Age': 25}])\n",
    "disparate_impact_after = metric_after.disparate_impact()\n",
    "\n",
    "print(\"Disparate Impact After Mitigation:\", disparate_impact_after)"
   ]
  },
  {
   "cell_type": "markdown",
   "id": "2d65abdd-8a74-4a9c-a931-0c60ac6c82b6",
   "metadata": {},
   "source": [
    "Privileged Group (Males, Age = 25)\n",
    "Unprivileged Group (Females, Age = 1)"
   ]
  },
  {
   "cell_type": "code",
   "execution_count": 35,
   "id": "0926ef42-eaad-413b-89fd-9e4b0ceecfa2",
   "metadata": {},
   "outputs": [
    {
     "name": "stdout",
     "output_type": "stream",
     "text": [
      "Mean Squared Error: 0.1736178028954279\n"
     ]
    }
   ],
   "source": [
    "from sklearn.linear_model import LinearRegression\n",
    "from sklearn.model_selection import train_test_split\n",
    "from sklearn.metrics import mean_squared_error\n",
    "\n",
    "# Assuming 'Rating' is the target variable and other columns are features\n",
    "features = dataset_transformed.features\n",
    "labels = dataset_transformed.labels.flatten()\n",
    "\n",
    "# Split the data into training and testing sets\n",
    "X_train, X_test, y_train, y_test = train_test_split(features, labels, test_size=0.2)\n",
    "\n",
    "# Initialize and train the linear regression model\n",
    "linear_regressor = LinearRegression()\n",
    "linear_regressor.fit(X_train, y_train)\n",
    "\n",
    "# Make predictions on the test set\n",
    "y_pred = linear_regressor.predict(X_test)\n",
    "\n",
    "# Evaluate the model\n",
    "mse = mean_squared_error(y_test, y_pred)\n",
    "print(\"Mean Squared Error:\", mse)"
   ]
  },
  {
   "cell_type": "code",
   "execution_count": 36,
   "id": "4e51f41d-8409-4c53-b03a-9759d2f9d96c",
   "metadata": {},
   "outputs": [
    {
     "name": "stdout",
     "output_type": "stream",
     "text": [
      "Disparate Impact Before Mitigation: 1.5808932997581773\n",
      "Disparate Impact After Mitigation: 1.0000000000000002\n"
     ]
    }
   ],
   "source": [
    "from aif360.datasets import StandardDataset\n",
    "from aif360.metrics import BinaryLabelDatasetMetric\n",
    "\n",
    "# Define the protected attributes\n",
    "protected_attributes = ['Gender', 'Age']\n",
    "\n",
    "# Define the favorable and unfavorable labels\n",
    "favorable_classes = [5]  # Assuming 5 is a high rating (favorable)\n",
    "\n",
    "# Create a StandardDataset\n",
    "dataset = StandardDataset(merged_df, label_name='Rating', favorable_classes=favorable_classes,\n",
    "                          protected_attribute_names=protected_attributes,\n",
    "                          privileged_classes=([1, 1], [25, 25]))\n",
    "\n",
    "# Calculate the disparate impact before any mitigation\n",
    "metric_before = BinaryLabelDatasetMetric(dataset, unprivileged_groups=[{'Gender': 0, 'Age': 56}],\n",
    "                                         privileged_groups=[{'Gender': 1, 'Age': 25}])\n",
    "disparate_impact_before = metric_before.disparate_impact()\n",
    "\n",
    "print(\"Disparate Impact Before Mitigation:\", disparate_impact_before)\n",
    "\n",
    "# Apply Reweighing as a bias mitigation technique\n",
    "rw = Reweighing(unprivileged_groups=[{'Gender': 0, 'Age': 56}], privileged_groups=[{'Gender': 1, 'Age': 25}])\n",
    "dataset_transformed = rw.fit_transform(dataset)\n",
    "\n",
    "# Calculate the disparate impact after mitigation\n",
    "metric_after = BinaryLabelDatasetMetric(dataset_transformed, unprivileged_groups=[{'Gender': 0, 'Age': 56}],\n",
    "                                        privileged_groups=[{'Gender': 1, 'Age': 25}])\n",
    "disparate_impact_after = metric_after.disparate_impact()\n",
    "\n",
    "print(\"Disparate Impact After Mitigation:\", disparate_impact_after)"
   ]
  },
  {
   "cell_type": "code",
   "execution_count": 37,
   "id": "8e125a64-5a3c-483c-ad99-673781bdb337",
   "metadata": {},
   "outputs": [
    {
     "name": "stdout",
     "output_type": "stream",
     "text": [
      "Mean Squared Error: 0.17412443451826862\n"
     ]
    }
   ],
   "source": [
    "# Split the data into training and testing sets\n",
    "X_train, X_test, y_train, y_test = train_test_split(dataset_transformed.features, dataset_transformed.labels.flatten(), test_size=0.2)\n",
    "\n",
    "# Initialize and train the linear regression model on the transformed data\n",
    "linear_regressor = LinearRegression()\n",
    "linear_regressor.fit(X_train, y_train)\n",
    "\n",
    "# Make predictions on the test set\n",
    "y_pred = linear_regressor.predict(X_test)\n",
    "\n",
    "# Evaluate the model\n",
    "mse = mean_squared_error(y_test, y_pred)\n",
    "print(\"Mean Squared Error:\", mse)"
   ]
  }
 ],
 "metadata": {
  "kernelspec": {
   "display_name": "Python 3 (ipykernel)",
   "language": "python",
   "name": "python3"
  },
  "language_info": {
   "codemirror_mode": {
    "name": "ipython",
    "version": 3
   },
   "file_extension": ".py",
   "mimetype": "text/x-python",
   "name": "python",
   "nbconvert_exporter": "python",
   "pygments_lexer": "ipython3",
   "version": "3.9.18"
  }
 },
 "nbformat": 4,
 "nbformat_minor": 5
}
