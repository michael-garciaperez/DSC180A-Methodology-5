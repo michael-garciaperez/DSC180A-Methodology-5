{
 "cells": [
  {
   "cell_type": "markdown",
   "id": "7a40dda1",
   "metadata": {
    "scrolled": true
   },
   "source": [
    "## Imports"
   ]
  },
  {
   "cell_type": "code",
   "execution_count": 31,
   "id": "1d893309",
   "metadata": {},
   "outputs": [
    {
     "name": "stdout",
     "output_type": "stream",
     "text": [
      "Found existing installation: numpy 1.22.4\n",
      "Uninstalling numpy-1.22.4:\n",
      "\u001b[31mERROR: Exception:\n",
      "Traceback (most recent call last):\n",
      "  File \"/opt/conda/lib/python3.9/shutil.py\", line 806, in move\n",
      "    os.rename(src, real_dst)\n",
      "PermissionError: [Errno 13] Permission denied: '/opt/conda/bin/f2py' -> '/tmp/pip-uninstall-w15xekdv/f2py'\n",
      "\n",
      "During handling of the above exception, another exception occurred:\n",
      "\n",
      "Traceback (most recent call last):\n",
      "  File \"/opt/conda/lib/python3.9/site-packages/pip/_internal/cli/base_command.py\", line 180, in _main\n",
      "    status = self.run(options, args)\n",
      "  File \"/opt/conda/lib/python3.9/site-packages/pip/_internal/commands/uninstall.py\", line 85, in run\n",
      "    uninstall_pathset = req.uninstall(\n",
      "  File \"/opt/conda/lib/python3.9/site-packages/pip/_internal/req/req_install.py\", line 658, in uninstall\n",
      "    uninstalled_pathset.remove(auto_confirm, verbose)\n",
      "  File \"/opt/conda/lib/python3.9/site-packages/pip/_internal/req/req_uninstall.py\", line 386, in remove\n",
      "    moved.stash(path)\n",
      "  File \"/opt/conda/lib/python3.9/site-packages/pip/_internal/req/req_uninstall.py\", line 275, in stash\n",
      "    renames(path, new_path)\n",
      "  File \"/opt/conda/lib/python3.9/site-packages/pip/_internal/utils/misc.py\", line 324, in renames\n",
      "    shutil.move(old, new)\n",
      "  File \"/opt/conda/lib/python3.9/shutil.py\", line 827, in move\n",
      "    os.unlink(src)\n",
      "PermissionError: [Errno 13] Permission denied: '/opt/conda/bin/f2py'\u001b[0m\n"
     ]
    }
   ],
   "source": [
    "!pip uninstall -y numpy"
   ]
  },
  {
   "cell_type": "code",
   "execution_count": 32,
   "id": "93172ffd",
   "metadata": {},
   "outputs": [
    {
     "name": "stdout",
     "output_type": "stream",
     "text": [
      "Defaulting to user installation because normal site-packages is not writeable\n",
      "Requirement already satisfied: numpy in /opt/conda/lib/python3.9/site-packages (1.22.4)\n"
     ]
    }
   ],
   "source": [
    "!pip install numpy"
   ]
  },
  {
   "cell_type": "code",
   "execution_count": 33,
   "id": "013b5396",
   "metadata": {},
   "outputs": [
    {
     "name": "stdout",
     "output_type": "stream",
     "text": [
      "Defaulting to user installation because normal site-packages is not writeable\n",
      "Requirement already satisfied: scikit-surprise in /home/mig009/.local/lib/python3.9/site-packages (1.1.3)\n",
      "Requirement already satisfied: numpy>=1.17.3 in /opt/conda/lib/python3.9/site-packages (from scikit-surprise) (1.22.4)\n",
      "Requirement already satisfied: scipy>=1.3.2 in /opt/conda/lib/python3.9/site-packages (from scikit-surprise) (1.7.0)\n",
      "Requirement already satisfied: joblib>=1.0.0 in /opt/conda/lib/python3.9/site-packages (from scikit-surprise) (1.0.1)\n"
     ]
    }
   ],
   "source": [
    "!pip install scikit-surprise"
   ]
  },
  {
   "cell_type": "code",
   "execution_count": 34,
   "id": "5eb32f23",
   "metadata": {},
   "outputs": [],
   "source": [
    "import random\n",
    "from sklearn import linear_model\n",
    "from matplotlib import pyplot as plt\n",
    "from collections import defaultdict\n",
    "import gzip\n",
    "from sklearn.linear_model import LogisticRegression\n",
    "from sklearn.model_selection import train_test_split\n",
    "from sklearn.metrics import accuracy_score, balanced_accuracy_score\n",
    "\n",
    "import json\n",
    "import numpy\n",
    "import dateutil.parser\n",
    "import math\n",
    "import pandas as pd\n",
    "from sklearn.linear_model import LinearRegression\n",
    "from sklearn.model_selection import train_test_split\n",
    "from sklearn.metrics import mean_squared_error\n",
    "\n",
    "import scipy.optimize\n",
    "from sklearn import svm\n",
    "import string\n",
    "import random\n",
    "\n",
    "from surprise import Dataset, Reader, accuracy\n",
    "from surprise.model_selection import train_test_split\n",
    "from surprise.prediction_algorithms.matrix_factorization import SVD\n",
    "from implicit.als import AlternatingLeastSquares\n",
    "import numpy as np\n",
    "import os\n",
    "import tarfile"
   ]
  },
  {
   "cell_type": "markdown",
   "id": "5602c2e8",
   "metadata": {},
   "source": [
    "## MovieLens Data Cleaning"
   ]
  },
  {
   "cell_type": "code",
   "execution_count": 5,
   "id": "d37b56dd",
   "metadata": {
    "scrolled": true
   },
   "outputs": [],
   "source": [
    "# Update the file paths based on your extraction path\n",
    "extract_path = \"ml-1m/ml-1m\"\n",
    "\n",
    "# Ratings File\n",
    "ratings_file = os.path.join(extract_path, \"ratings.dat\")\n",
    "ratings_columns = [\"UserID\", \"MovieID\", \"Rating\", \"Timestamp\"]\n",
    "ratings_df = pd.read_csv(ratings_file, sep=\"::\", engine=\"python\", header=None, names=ratings_columns, encoding='latin1')\n",
    "\n",
    "# Users File\n",
    "users_file = os.path.join(extract_path, \"users.dat\")\n",
    "users_columns = [\"UserID\", \"Gender\", \"Age\", \"Occupation\", \"Zip-code\"]\n",
    "users_df = pd.read_csv(users_file, sep=\"::\", engine=\"python\", header=None, names=users_columns, encoding='latin1')\n",
    "\n",
    "# Movies File\n",
    "movies_file = os.path.join(extract_path, \"movies.dat\")\n",
    "movies_columns = [\"MovieID\", \"Title\", \"Genres\"]\n",
    "movies_df = pd.read_csv(movies_file, sep=\"::\", engine=\"python\", header=None, names=movies_columns, encoding='latin1')"
   ]
  },
  {
   "cell_type": "code",
   "execution_count": 6,
   "id": "9e8a63ab-fe86-44cb-9dff-3ad177e31a3e",
   "metadata": {},
   "outputs": [
    {
     "data": {
      "text/plain": [
       "UserID       0\n",
       "MovieID      0\n",
       "Rating       0\n",
       "Timestamp    0\n",
       "dtype: int64"
      ]
     },
     "execution_count": 6,
     "metadata": {},
     "output_type": "execute_result"
    }
   ],
   "source": [
    "# Check for null values in Ratings file\n",
    "\n",
    "# None of the columns contain null values\n",
    "ratings_df.isnull().sum()"
   ]
  },
  {
   "cell_type": "code",
   "execution_count": 7,
   "id": "9d50d7ad-8aaf-4242-aafa-9f0d94774b52",
   "metadata": {},
   "outputs": [
    {
     "data": {
      "text/plain": [
       "Text(0, 0.5, 'Count')"
      ]
     },
     "execution_count": 7,
     "metadata": {},
     "output_type": "execute_result"
    },
    {
     "data": {
      "image/png": "[encoded data removed]",
      "text/plain": [
       "<Figure size 432x288 with 1 Axes>"
      ]
     },
     "metadata": {
      "needs_background": "light"
     },
     "output_type": "display_data"
    }
   ],
   "source": [
    "# Plot distribution of rating scores\n",
    "ratings_df['Rating'].value_counts().sort_index().plot(kind='bar')\n",
    "plt.title('Distribution of rating scores')\n",
    "plt.ylabel('Count')\n",
    "\n",
    "# There do not appear to be any placeholders for missing vals\n",
    "# Most ratings are 4 stars, the least amount of ratings are 1 star"
   ]
  },
  {
   "cell_type": "code",
   "execution_count": 8,
   "id": "be6d9647-1e8a-4118-bc18-adfb95238e47",
   "metadata": {},
   "outputs": [
    {
     "data": {
      "text/plain": [
       "Text(0, 0.5, 'Count')"
      ]
     },
     "execution_count": 8,
     "metadata": {},
     "output_type": "execute_result"
    },
    {
     "data": {
      "image/png": "[encoded data removed]",
      "text/plain": [
       "<Figure size 432x288 with 1 Axes>"
      ]
     },
     "metadata": {
      "needs_background": "light"
     },
     "output_type": "display_data"
    }
   ],
   "source": [
    "# Convert Timestamp col to datetime objects for visualizations\n",
    "datetime = pd.to_datetime(ratings_df['Timestamp'], unit='s')\n",
    "\n",
    "# Plot year of rating\n",
    "datetime.dt.year.value_counts().sort_index().plot(kind='bar')\n",
    "plt.title('Distribution of rating years')\n",
    "plt.xlabel('Year')\n",
    "plt.ylabel('Count')\n",
    "\n",
    "# Almost all ratings are from 2000"
   ]
  },
  {
   "cell_type": "code",
   "execution_count": 9,
   "id": "af584060-7233-4cf1-9c31-cba9a2d7592b",
   "metadata": {},
   "outputs": [
    {
     "data": {
      "text/plain": [
       "Text(0, 0.5, 'Count')"
      ]
     },
     "execution_count": 9,
     "metadata": {},
     "output_type": "execute_result"
    },
    {
     "data": {
      "image/png": "[encoded data removed]",
      "text/plain": [
       "<Figure size 432x288 with 1 Axes>"
      ]
     },
     "metadata": {
      "needs_background": "light"
     },
     "output_type": "display_data"
    }
   ],
   "source": [
    "# Plot months of rating\n",
    "datetime.dt.month.value_counts().sort_index().plot(kind='bar')\n",
    "plt.title('Distribution of rating months')\n",
    "plt.xlabel('Month')\n",
    "plt.ylabel('Count')\n",
    "\n",
    "# Most ratings are from November"
   ]
  },
  {
   "cell_type": "code",
   "execution_count": 10,
   "id": "bdbf125c-9126-43df-b307-f571a6114367",
   "metadata": {},
   "outputs": [
    {
     "data": {
      "text/plain": [
       "Text(0, 0.5, 'Count')"
      ]
     },
     "execution_count": 10,
     "metadata": {},
     "output_type": "execute_result"
    },
    {
     "data": {
      "image/png": "[encoded data removed]",
      "text/plain": [
       "<Figure size 432x288 with 1 Axes>"
      ]
     },
     "metadata": {
      "needs_background": "light"
     },
     "output_type": "display_data"
    }
   ],
   "source": [
    "# Plot hour of rating\n",
    "datetime.dt.hour.value_counts().sort_index().plot(kind='bar')\n",
    "plt.title('Distribution of rating hours')\n",
    "plt.xlabel('Hour')\n",
    "plt.ylabel('Count')\n",
    "\n",
    "# Most ratings happen at the beginning of the day or the end, as that's where peaks happen."
   ]
  },
  {
   "cell_type": "code",
   "execution_count": 11,
   "id": "e24d418a-00cc-442c-b2c6-32d6dc9d7ac5",
   "metadata": {},
   "outputs": [
    {
     "data": {
      "text/plain": [
       "(1, 6040)"
      ]
     },
     "execution_count": 11,
     "metadata": {},
     "output_type": "execute_result"
    }
   ],
   "source": [
    "# There do not appear to be any placeholders for null values\n",
    "ratings_df['UserID'].min(), ratings_df['UserID'].max()"
   ]
  },
  {
   "cell_type": "code",
   "execution_count": 12,
   "id": "4da70ddb-1056-442a-9820-5bf3b12c9203",
   "metadata": {},
   "outputs": [
    {
     "data": {
      "text/plain": [
       "UserID\n",
       "4169    2314\n",
       "1680    1850\n",
       "4277    1743\n",
       "1941    1595\n",
       "1181    1521\n",
       "Name: count, dtype: int64"
      ]
     },
     "execution_count": 12,
     "metadata": {},
     "output_type": "execute_result"
    }
   ],
   "source": [
    "# Top 5 user IDs who left the most ratings\n",
    "ratings_df['UserID'].value_counts()[:5]"
   ]
  },
  {
   "cell_type": "code",
   "execution_count": 13,
   "id": "d86c3596-2bd5-4d3f-9663-723e2448faad",
   "metadata": {},
   "outputs": [
    {
     "data": {
      "text/plain": [
       "(1, 3952)"
      ]
     },
     "execution_count": 13,
     "metadata": {},
     "output_type": "execute_result"
    }
   ],
   "source": [
    "# There do not appear to be any placeholders for null values\n",
    "ratings_df['MovieID'].min(), ratings_df['MovieID'].max()"
   ]
  },
  {
   "cell_type": "code",
   "execution_count": 14,
   "id": "8b8ccd8a-bc8e-4ade-819c-ad045761fd53",
   "metadata": {},
   "outputs": [
    {
     "data": {
      "text/plain": [
       "MovieID\n",
       "2858    3428\n",
       "260     2991\n",
       "1196    2990\n",
       "1210    2883\n",
       "480     2672\n",
       "Name: count, dtype: int64"
      ]
     },
     "execution_count": 14,
     "metadata": {},
     "output_type": "execute_result"
    }
   ],
   "source": [
    "# Top 5 movie IDs with the most ratings\n",
    "ratings_df['MovieID'].value_counts()[:5]"
   ]
  },
  {
   "cell_type": "markdown",
   "id": "b6d31eff",
   "metadata": {},
   "source": [
    "## Last.FM (LFM360K) Data Cleaning"
   ]
  },
  {
   "cell_type": "code",
   "execution_count": 15,
   "id": "894a95df",
   "metadata": {},
   "outputs": [],
   "source": [
    "tar_path = \"lastfm-dataset-360K.tar.gz\"\n",
    "extract_path_lastfm = \"lastfm-dataset-360K/lastfm-dataset-360K\"\n",
    "\n",
    "with tarfile.open(tar_path, 'r:gz') as tar_ref:\n",
    "    tar_ref.extractall(extract_path_lastfm)"
   ]
  },
  {
   "cell_type": "code",
   "execution_count": 16,
   "id": "309a5758",
   "metadata": {},
   "outputs": [],
   "source": [
    "# Users-Artists-Plays File\n",
    "users_artists_plays_file = os.path.join(extract_path_lastfm, \"usersha1-artmbid-artname-plays.tsv\")\n",
    "users_artists_plays_columns = [\"user-mboxsha1\", \"musicbrainz-artist-id\", \"artist-name\", \"plays\"]\n",
    "users_artists_plays_df = pd.read_csv(users_artists_plays_file, sep=\"\\t\", header=None, names=users_artists_plays_columns)\n",
    "\n",
    "# Users Profile File\n",
    "users_profile_file = os.path.join(extract_path_lastfm, \"usersha1-profile.tsv\")\n",
    "users_profile_columns = [\"user-mboxsha1\", \"gender\", \"age\", \"country\", \"signup\"]\n",
    "users_profile_df = pd.read_csv(users_profile_file, sep=\"\\t\", header=None, names=users_profile_columns)"
   ]
  },
  {
   "cell_type": "code",
   "execution_count": 17,
   "id": "726264d4-f228-4649-9b91-157ed17aeded",
   "metadata": {},
   "outputs": [
    {
     "data": {
      "text/plain": [
       "user-mboxsha1                 0\n",
       "musicbrainz-artist-id    226137\n",
       "artist-name                 204\n",
       "plays                         0\n",
       "dtype: int64"
      ]
     },
     "execution_count": 17,
     "metadata": {},
     "output_type": "execute_result"
    }
   ],
   "source": [
    "# Check for null values in Users-Artists-Plays file\n",
    "users_artists_plays_df.isnull().sum()"
   ]
  },
  {
   "cell_type": "code",
   "execution_count": 18,
   "id": "997996df",
   "metadata": {},
   "outputs": [
    {
     "name": "stdout",
     "output_type": "stream",
     "text": [
      "0.0% of the data from user-mboxsha1 column is missing\n",
      "1.29% of the data from musicbrainz-artist-id column is missing\n",
      "0.0% of the data from artist-name column is missing\n",
      "0.0% of the data from plays column is missing\n"
     ]
    }
   ],
   "source": [
    "for column in list(users_artists_plays_df.columns):\n",
    "    print (\"{}% of the data from {} column is missing\".format(round(users_artists_plays_df[column].isnull().sum() * 100 / len(users_artists_plays_df[column]),2), column))"
   ]
  },
  {
   "cell_type": "code",
   "execution_count": 19,
   "id": "e8108151-8f77-4057-9369-21072e779cf6",
   "metadata": {},
   "outputs": [],
   "source": [
    "# TO-DO: how to fill in nulls for artist-id & artist-name? Backfill?"
   ]
  },
  {
   "cell_type": "code",
   "execution_count": 20,
   "id": "5ecf2d30-dfb5-4bed-a753-e0d363190a31",
   "metadata": {},
   "outputs": [
    {
     "data": {
      "text/plain": [
       "user-mboxsha1        0\n",
       "gender           32775\n",
       "age              74900\n",
       "country              0\n",
       "signup               0\n",
       "dtype: int64"
      ]
     },
     "execution_count": 20,
     "metadata": {},
     "output_type": "execute_result"
    }
   ],
   "source": [
    "# Check for null values in Users Profile file\n",
    "\n",
    "# Gender & age columns contain null values\n",
    "users_profile_df.isnull().sum()"
   ]
  },
  {
   "cell_type": "code",
   "execution_count": 21,
   "id": "6d7a6321",
   "metadata": {},
   "outputs": [
    {
     "name": "stdout",
     "output_type": "stream",
     "text": [
      "0.0% of the data from user-mboxsha1 column is missing\n",
      "9.12% of the data from gender column is missing\n",
      "20.84% of the data from age column is missing\n",
      "0.0% of the data from country column is missing\n",
      "0.0% of the data from signup column is missing\n"
     ]
    }
   ],
   "source": [
    "for column in list(users_profile_df.columns):\n",
    "    print (\"{}% of the data from {} column is missing\".format(round(users_profile_df[column].isnull().sum() * 100 / len(users_profile_df[column]),2), column))"
   ]
  },
  {
   "cell_type": "code",
   "execution_count": 22,
   "id": "757cc4e2-9f29-41a4-9dce-a2fbab7ecad2",
   "metadata": {},
   "outputs": [],
   "source": [
    "# Fill missing gender with backfill\n",
    "users_profile_df = users_profile_df.bfill()"
   ]
  },
  {
   "cell_type": "code",
   "execution_count": 23,
   "id": "3ff09a04-481e-48b7-b6ec-805e7d3185e9",
   "metadata": {},
   "outputs": [
    {
     "data": {
      "text/plain": [
       "Text(0.5, 0, 'Count')"
      ]
     },
     "execution_count": 23,
     "metadata": {},
     "output_type": "execute_result"
    },
    {
     "data": {
      "image/png": "[encoded data removed]",
      "text/plain": [
       "<Figure size 432x288 with 1 Axes>"
      ]
     },
     "metadata": {
      "needs_background": "light"
     },
     "output_type": "display_data"
    }
   ],
   "source": [
    "# Plot gender distribution of users\n",
    "users_profile_df['gender'].value_counts().plot(kind='barh')\n",
    "plt.title('Distribution of gender')\n",
    "plt.yticks(ticks=[0,1], labels=[\"male\", \"female\"])\n",
    "plt.xlabel('Count')\n",
    "\n",
    "# Most users are male"
   ]
  },
  {
   "cell_type": "code",
   "execution_count": 24,
   "id": "f69f6bf3-e47b-4faa-a25c-e843e055438c",
   "metadata": {},
   "outputs": [
    {
     "data": {
      "text/plain": [
       "count    359347.000000\n",
       "mean         25.075387\n",
       "std          22.708784\n",
       "min       -1337.000000\n",
       "25%          20.000000\n",
       "50%          23.000000\n",
       "75%          28.000000\n",
       "max        1002.000000\n",
       "Name: age, dtype: float64"
      ]
     },
     "execution_count": 24,
     "metadata": {},
     "output_type": "execute_result"
    }
   ],
   "source": [
    "# Summary stats for Age col\n",
    "# Min and max show that there are errors in data since ages of -1337 and 1002 are impossible\n",
    "users_profile_df['age'].describe()"
   ]
  },
  {
   "cell_type": "code",
   "execution_count": 25,
   "id": "539c2d54-ec3c-406d-9a04-09714bb32844",
   "metadata": {},
   "outputs": [
    {
     "data": {
      "text/plain": [
       "count    357870.000000\n",
       "mean         25.059424\n",
       "std           8.234709\n",
       "min           1.000000\n",
       "25%          20.000000\n",
       "50%          23.000000\n",
       "75%          28.000000\n",
       "max         100.000000\n",
       "Name: age, dtype: float64"
      ]
     },
     "execution_count": 25,
     "metadata": {},
     "output_type": "execute_result"
    }
   ],
   "source": [
    "# Change age to null in rows where age is entered incorrectly (negative or over 100)\n",
    "users_profile_df.loc[(users_profile_df['age'] < 0) | (users_profile_df['age'] > 100), ['age']] = np.nan\n",
    "\n",
    "users_profile_df['age'].describe()"
   ]
  },
  {
   "cell_type": "code",
   "execution_count": 26,
   "id": "eacf1f5e-b2f0-4ffb-a5ba-322727253aad",
   "metadata": {},
   "outputs": [],
   "source": [
    "# Fill missing age with age (in years) closest to mean age\n",
    "users_profile_df['age'] = users_profile_df['age'].fillna(np.round(users_profile_df['age'].mean()))"
   ]
  },
  {
   "cell_type": "code",
   "execution_count": 27,
   "id": "f8ca0faf-34e1-41d3-a64e-9d8705b00c93",
   "metadata": {},
   "outputs": [
    {
     "data": {
      "text/plain": [
       "Text(0, 0.5, 'Count')"
      ]
     },
     "execution_count": 27,
     "metadata": {},
     "output_type": "execute_result"
    },
    {
     "data": {
      "image/png": "[encoded data removed]",
      "text/plain": [
       "<Figure size 2160x1440 with 1 Axes>"
      ]
     },
     "metadata": {
      "needs_background": "light"
     },
     "output_type": "display_data"
    }
   ],
   "source": [
    "# Plot age of users\n",
    "users_profile_df['age'].value_counts().sort_index().plot(kind='bar', figsize=(30,20))\n",
    "plt.title('Distribution of age')\n",
    "plt.ylabel('Count')\n",
    "\n",
    "# Right skewed distribution, most users between 18-25 years old"
   ]
  },
  {
   "cell_type": "code",
   "execution_count": 28,
   "id": "6112ece8-e0c8-46a4-a0bd-31099248d2a6",
   "metadata": {},
   "outputs": [
    {
     "data": {
      "text/plain": [
       "Text(0.5, 0, 'Count')"
      ]
     },
     "execution_count": 28,
     "metadata": {},
     "output_type": "execute_result"
    },
    {
     "data": {
      "image/png": "[encoded data removed]",
      "text/plain": [
       "<Figure size 432x288 with 1 Axes>"
      ]
     },
     "metadata": {
      "needs_background": "light"
     },
     "output_type": "display_data"
    }
   ],
   "source": [
    "# Top 25 countries users are based in\n",
    "users_profile_df['country'].value_counts()[:25].plot(kind='barh')\n",
    "plt.title('Distribution of country')\n",
    "plt.xlabel('Count')\n",
    "\n",
    "# Most users from the U.S."
   ]
  },
  {
   "cell_type": "code",
   "execution_count": 29,
   "id": "3877f24f-f453-4985-81fb-29f2813648ca",
   "metadata": {},
   "outputs": [
    {
     "data": {
      "text/plain": [
       "Text(0, 0.5, 'Count')"
      ]
     },
     "execution_count": 29,
     "metadata": {},
     "output_type": "execute_result"
    },
    {
     "data": {
      "image/png": "[encoded data removed]",
      "text/plain": [
       "<Figure size 432x288 with 1 Axes>"
      ]
     },
     "metadata": {
      "needs_background": "light"
     },
     "output_type": "display_data"
    }
   ],
   "source": [
    "# Convert signup date col to datetime objects for visualizations\n",
    "signup = pd.to_datetime(users_profile_df['signup'])\n",
    "\n",
    "# Plot year of rating\n",
    "signup.dt.year.value_counts().sort_index().plot(kind='bar')\n",
    "plt.title('Distribution of signup years')\n",
    "plt.xlabel('Year')\n",
    "plt.ylabel('Count')\n",
    "\n",
    "# Most users signed up in 2008"
   ]
  },
  {
   "cell_type": "code",
   "execution_count": 30,
   "id": "626e788c-93cf-4b67-83c7-a531720ee31c",
   "metadata": {},
   "outputs": [
    {
     "data": {
      "text/plain": [
       "Text(0, 0.5, 'Count')"
      ]
     },
     "execution_count": 30,
     "metadata": {},
     "output_type": "execute_result"
    },
    {
     "data": {
      "image/png": "[encoded data removed]",
      "text/plain": [
       "<Figure size 432x288 with 1 Axes>"
      ]
     },
     "metadata": {
      "needs_background": "light"
     },
     "output_type": "display_data"
    }
   ],
   "source": [
    "# Plot month of rating\n",
    "signup.dt.month.value_counts().sort_index().plot(kind='bar')\n",
    "plt.title('Distribution of signup months')\n",
    "plt.xlabel('Month')\n",
    "plt.ylabel('Count')\n",
    "\n",
    "# Most users sign up in beginning of year (Jan) but mostly uniform distribution"
   ]
  }
 ],
 "metadata": {
  "kernelspec": {
   "display_name": "Python 3 (ipykernel)",
   "language": "python",
   "name": "python3"
  },
  "language_info": {
   "codemirror_mode": {
    "name": "ipython",
    "version": 3
   },
   "file_extension": ".py",
   "mimetype": "text/x-python",
   "name": "python",
   "nbconvert_exporter": "python",
   "pygments_lexer": "ipython3",
   "version": "3.9.5"
  }
 },
 "nbformat": 4,
 "nbformat_minor": 5
}
