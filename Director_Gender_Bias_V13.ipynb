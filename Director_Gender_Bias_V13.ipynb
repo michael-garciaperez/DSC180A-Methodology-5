{
 "cells": [
  {
   "cell_type": "markdown",
   "id": "7a40dda1",
   "metadata": {},
   "source": [
    "# Mitigating Director Gender Bias in Movie Recommender Systems\n",
    "\n",
    "By: Michael Garcia-Perez & Christine Deng with mentors Emily Ramond, Parker Addison, Greg Thein from Deloitte"
   ]
  },
  {
   "cell_type": "markdown",
   "id": "fa51ecac-bf7f-47e6-959f-ad93ab75c9dc",
   "metadata": {},
   "source": [
    "### Table of Contents\n",
    "To return to the table of contents, click on the number at any major section heading."
   ]
  },
  {
   "cell_type": "markdown",
   "id": "97989f0f-5f08-423a-9e64-8584fa85ed7f",
   "metadata": {},
   "source": [
    "[1. Introduction](#1.-Introduction)\n",
    "\n",
    "[2. Exploratory Data Analysis](#2.-Exploratory-Data-Analysis)\n",
    "\n",
    "[3. Model Development & Evaluation](#3.-Model-Development-&-Evaluation)\n",
    "\n",
    "[4. Bias Mitigation](#4.-Bias-Mitigation)\n",
    "\n",
    "[5. Results Summary](#5.-Results-Summary)\n",
    "\n",
    "[6. Conclusion & Discussion](#6.-Conclusion-&-Discussion)"
   ]
  },
  {
   "cell_type": "markdown",
   "id": "1a869d5c-b5b2-48fe-8f03-616ffd6b221f",
   "metadata": {},
   "source": [
    "### [1.](#Table-of-Contents) Introduction"
   ]
  },
  {
   "cell_type": "markdown",
   "id": "24f5e814-d5ee-40ad-b3a1-cf78fa60e6c9",
   "metadata": {},
   "source": [
    "Past literature across sociology and media studies has widely studied the gender gap in the film industry, namely the underrepresentation of female directors in film production. A comprehensive analysis of over 2000 films released between 1994 and 2016 showed that only 5% of the directors were female (<a href=\"https://doi.org/10.1177/00222437221100217\">Karniouchina et al., 2023</a>). Another study on the gender composition of directors in top-grossing films released between 2007 and 2021 revealed that the ratio of male to female directors was 11:1 (<a href=\"https://ca-times.brightspotcdn.com/32/1f/434e9de042a9a366c08aac1ed1db/inclusion-in-the-director-2.8.22%20Final.pdf\">Smith et al., 2017</a>).\n",
    "\n",
    "Previous research has found the presence of this gender gap, but the implications of the gender disparity on recommendation systems is not widely researched. Many content distribution platforms, such as Netflix, utilize recommendation models for personalized user content. Our project investigates whether this bias is embedded into the recommendation models.\n",
    "\n",
    "Additionally, widely adopted bias mitigation tools (such as IBM's AIF360) are optimized for regression and classification tasks. Research into ethical biases within recommender models remains limited, with most studies focusing on statistical biases like popularity bias. Our project fills this gap by investigating whether bias mitigation techniques developed for regression and classification tasks can be extended to recommendation systems. Our aim is to develop a fair movie recommender system that minimizes biases associated with the gender of the director."
   ]
  },
  {
   "cell_type": "markdown",
   "id": "9b74c009-7346-42e9-891e-5ab1e93636ec",
   "metadata": {},
   "source": [
    "### [2.](#Table-of-Contents) Exploratory Data Analysis"
   ]
  },
  {
   "cell_type": "markdown",
   "id": "6b2cc1c3",
   "metadata": {},
   "source": [
    "### Import Statements"
   ]
  },
  {
   "cell_type": "markdown",
   "id": "e5d62d3f-0fb6-441b-a946-d7a956510a1b",
   "metadata": {},
   "source": [
    "We use Python's import statements so we can utilize external libraries in our project. These libraries contain pre-built functions and classes."
   ]
  },
  {
   "cell_type": "code",
   "execution_count": 1,
   "id": "e29ba5bf-b1e6-41bb-8860-e9b603069929",
   "metadata": {},
   "outputs": [],
   "source": [
    "%%capture\n",
    "!pip install 'aif360[LawSchoolGPA]' > /dev/null\n",
    "!pip install 'aif360' > /dev/null\n",
    "!pip install --upgrade tensorflow aif360 > /dev/null\n",
    "!pip install protobuf==3.19.0 > /dev/null\n",
    "!pip install 'aif360[AdversarialDebiasing]' > /dev/null\n",
    "!pip install scikit-surprise > /dev/null\n",
    "!pip install seaborn > /dev/null"
   ]
  },
  {
   "cell_type": "code",
   "execution_count": 2,
   "id": "5eb32f23",
   "metadata": {},
   "outputs": [
    {
     "name": "stderr",
     "output_type": "stream",
     "text": [
      "WARNING:root:No module named 'fairlearn': ExponentiatedGradientReduction will be unavailable. To install, run:\n",
      "pip install 'aif360[Reductions]'\n",
      "WARNING:root:No module named 'fairlearn': GridSearchReduction will be unavailable. To install, run:\n",
      "pip install 'aif360[Reductions]'\n",
      "WARNING:root:No module named 'inFairness': SenSeI and SenSR will be unavailable. To install, run:\n",
      "pip install 'aif360[inFairness]'\n",
      "WARNING:root:No module named 'fairlearn': GridSearchReduction will be unavailable. To install, run:\n",
      "pip install 'aif360[Reductions]'\n"
     ]
    }
   ],
   "source": [
    "import warnings\n",
    "\n",
    "# Suppress all warnings\n",
    "warnings.filterwarnings(\"ignore\")\n",
    "\n",
    "# Import statements\n",
    "import random\n",
    "import gzip\n",
    "import json\n",
    "import numpy as np\n",
    "import math\n",
    "import pandas as pd\n",
    "import scipy.optimize\n",
    "import string\n",
    "import random\n",
    "import os\n",
    "import re\n",
    "import tarfile\n",
    "import warnings\n",
    "import seaborn as sns\n",
    "\n",
    "from matplotlib import pyplot as plt\n",
    "from collections import defaultdict\n",
    "from sklearn import linear_model\n",
    "from sklearn.linear_model import LogisticRegression\n",
    "from sklearn.metrics import accuracy_score, balanced_accuracy_score\n",
    "from sklearn.linear_model import LinearRegression\n",
    "from sklearn.metrics import mean_squared_error\n",
    "from sklearn import svm\n",
    "from sklearn.metrics import jaccard_score\n",
    "from sklearn.ensemble import RandomForestClassifier\n",
    "from sklearn.model_selection import GridSearchCV\n",
    "from sklearn.metrics import accuracy_score, classification_report\n",
    "from sklearn.metrics import roc_curve, auc, precision_recall_curve, average_precision_score\n",
    "from sklearn.inspection import permutation_importance\n",
    "from sklearn.metrics.pairwise import cosine_similarity\n",
    "from sklearn.model_selection import train_test_split as sklearn_train_test_split\n",
    "     \n",
    "from surprise import Dataset, Reader, accuracy\n",
    "from surprise.model_selection import cross_validate, train_test_split\n",
    "from surprise.prediction_algorithms.matrix_factorization import SVD\n",
    "from surprise import SVD\n",
    "from surprise import accuracy\n",
    "     \n",
    "from aif360.datasets import StandardDataset\n",
    "from aif360.metrics import BinaryLabelDatasetMetric, ClassificationMetric\n",
    "from aif360.algorithms.preprocessing import Reweighing\n",
    "from aif360.algorithms.preprocessing import DisparateImpactRemover\n",
    "     \n",
    "from scipy.stats import pearsonr\n",
    "from IPython.display import Markdown, display"
   ]
  },
  {
   "cell_type": "markdown",
   "id": "71b6dfb2-4f7e-4572-9f93-ed28e5381c40",
   "metadata": {},
   "source": [
    "### Getting the data"
   ]
  },
  {
   "cell_type": "markdown",
   "id": "5602c2e8",
   "metadata": {},
   "source": [
    "### Reading File Path (Ratings, Users, Movies, Directors, Titles)"
   ]
  },
  {
   "cell_type": "markdown",
   "id": "330af35d-4fce-4efb-a2a3-7c3875a65018",
   "metadata": {},
   "source": [
    "The <a href=\"https://grouplens.org/datasets/movielens/1m/\">data</a> for user ratings is sourced from <a href=\"https://movielens.org/\">MovieLens</a>, an online platform that provides personalized movie recommendations based on users' viewing preferences and rating history. Our dataset is composed of 1 million ratings from 6000 different users on 4000 unique movies."
   ]
  },
  {
   "cell_type": "code",
   "execution_count": 3,
   "id": "d37b56dd",
   "metadata": {
    "scrolled": true
   },
   "outputs": [],
   "source": [
    "# Update the file paths based on your extraction path\n",
    "extract_path = \"\"\n",
    "\n",
    "# Ratings File\n",
    "ratings_file = os.path.join(extract_path, \"ratings.dat\")\n",
    "ratings_columns = [\"UserID\", \"MovieID\", \"Rating\", \"Timestamp\"]\n",
    "ratings_df = pd.read_csv(ratings_file, sep=\"::\", engine=\"python\", header=None, names=ratings_columns, encoding='latin1')\n",
    "\n",
    "# Movies File\n",
    "movies_file = os.path.join(extract_path, \"movies.dat\")\n",
    "movies_columns = [\"MovieID\", \"Title\", \"Genres\"]\n",
    "movies_df = pd.read_csv(movies_file, sep=\"::\", engine=\"python\", header=None, names=movies_columns, encoding='latin1')"
   ]
  },
  {
   "cell_type": "markdown",
   "id": "0c76ea33-5420-4516-ad84-05a28a9f8196",
   "metadata": {},
   "source": [
    "Each user is uniquely identified by a distinct user ID. Similarly, each movie also has its own unique movie ID.\n",
    "\n",
    "User ratings fall on a discrete scale ranging from 1 to 5, where a rating of 1 denotes the lowest level of enjoyment with the movie, while a rating of 5 signifies the highest level.\n",
    "\n",
    "Each row in the dataset corresponds to a single movie rating by a single user. Users can only rate a movie once."
   ]
  },
  {
   "cell_type": "code",
   "execution_count": 4,
   "id": "4cd12187-a903-410a-a003-f597b7096c12",
   "metadata": {},
   "outputs": [
    {
     "data": {
      "text/html": [
       "<div>\n",
       "<style scoped>\n",
       "    .dataframe tbody tr th:only-of-type {\n",
       "        vertical-align: middle;\n",
       "    }\n",
       "\n",
       "    .dataframe tbody tr th {\n",
       "        vertical-align: top;\n",
       "    }\n",
       "\n",
       "    .dataframe thead th {\n",
       "        text-align: right;\n",
       "    }\n",
       "</style>\n",
       "<table border=\"1\" class=\"dataframe\">\n",
       "  <thead>\n",
       "    <tr style=\"text-align: right;\">\n",
       "      <th></th>\n",
       "      <th>UserID</th>\n",
       "      <th>MovieID</th>\n",
       "      <th>Rating</th>\n",
       "      <th>Timestamp</th>\n",
       "    </tr>\n",
       "  </thead>\n",
       "  <tbody>\n",
       "    <tr>\n",
       "      <th>0</th>\n",
       "      <td>1</td>\n",
       "      <td>1193</td>\n",
       "      <td>5</td>\n",
       "      <td>978300760</td>\n",
       "    </tr>\n",
       "    <tr>\n",
       "      <th>1</th>\n",
       "      <td>1</td>\n",
       "      <td>661</td>\n",
       "      <td>3</td>\n",
       "      <td>978302109</td>\n",
       "    </tr>\n",
       "    <tr>\n",
       "      <th>2</th>\n",
       "      <td>1</td>\n",
       "      <td>914</td>\n",
       "      <td>3</td>\n",
       "      <td>978301968</td>\n",
       "    </tr>\n",
       "    <tr>\n",
       "      <th>3</th>\n",
       "      <td>1</td>\n",
       "      <td>3408</td>\n",
       "      <td>4</td>\n",
       "      <td>978300275</td>\n",
       "    </tr>\n",
       "    <tr>\n",
       "      <th>4</th>\n",
       "      <td>1</td>\n",
       "      <td>2355</td>\n",
       "      <td>5</td>\n",
       "      <td>978824291</td>\n",
       "    </tr>\n",
       "  </tbody>\n",
       "</table>\n",
       "</div>"
      ],
      "text/plain": [
       "   UserID  MovieID  Rating  Timestamp\n",
       "0       1     1193       5  978300760\n",
       "1       1      661       3  978302109\n",
       "2       1      914       3  978301968\n",
       "3       1     3408       4  978300275\n",
       "4       1     2355       5  978824291"
      ]
     },
     "execution_count": 4,
     "metadata": {},
     "output_type": "execute_result"
    }
   ],
   "source": [
    "ratings_df.head()"
   ]
  },
  {
   "cell_type": "markdown",
   "id": "e960618d-636c-47e2-b8f7-f20563a27fc6",
   "metadata": {},
   "source": [
    "Each movie with its unique ID has information on the title, genres, and year."
   ]
  },
  {
   "cell_type": "code",
   "execution_count": 5,
   "id": "1a800107-d45e-4f65-bd03-147359d09c76",
   "metadata": {},
   "outputs": [
    {
     "data": {
      "text/html": [
       "<div>\n",
       "<style scoped>\n",
       "    .dataframe tbody tr th:only-of-type {\n",
       "        vertical-align: middle;\n",
       "    }\n",
       "\n",
       "    .dataframe tbody tr th {\n",
       "        vertical-align: top;\n",
       "    }\n",
       "\n",
       "    .dataframe thead th {\n",
       "        text-align: right;\n",
       "    }\n",
       "</style>\n",
       "<table border=\"1\" class=\"dataframe\">\n",
       "  <thead>\n",
       "    <tr style=\"text-align: right;\">\n",
       "      <th></th>\n",
       "      <th>MovieID</th>\n",
       "      <th>Title</th>\n",
       "      <th>Genres</th>\n",
       "    </tr>\n",
       "  </thead>\n",
       "  <tbody>\n",
       "    <tr>\n",
       "      <th>0</th>\n",
       "      <td>1</td>\n",
       "      <td>Toy Story (1995)</td>\n",
       "      <td>Animation|Children's|Comedy</td>\n",
       "    </tr>\n",
       "    <tr>\n",
       "      <th>1</th>\n",
       "      <td>2</td>\n",
       "      <td>Jumanji (1995)</td>\n",
       "      <td>Adventure|Children's|Fantasy</td>\n",
       "    </tr>\n",
       "    <tr>\n",
       "      <th>2</th>\n",
       "      <td>3</td>\n",
       "      <td>Grumpier Old Men (1995)</td>\n",
       "      <td>Comedy|Romance</td>\n",
       "    </tr>\n",
       "    <tr>\n",
       "      <th>3</th>\n",
       "      <td>4</td>\n",
       "      <td>Waiting to Exhale (1995)</td>\n",
       "      <td>Comedy|Drama</td>\n",
       "    </tr>\n",
       "    <tr>\n",
       "      <th>4</th>\n",
       "      <td>5</td>\n",
       "      <td>Father of the Bride Part II (1995)</td>\n",
       "      <td>Comedy</td>\n",
       "    </tr>\n",
       "  </tbody>\n",
       "</table>\n",
       "</div>"
      ],
      "text/plain": [
       "   MovieID                               Title                        Genres\n",
       "0        1                    Toy Story (1995)   Animation|Children's|Comedy\n",
       "1        2                      Jumanji (1995)  Adventure|Children's|Fantasy\n",
       "2        3             Grumpier Old Men (1995)                Comedy|Romance\n",
       "3        4            Waiting to Exhale (1995)                  Comedy|Drama\n",
       "4        5  Father of the Bride Part II (1995)                        Comedy"
      ]
     },
     "execution_count": 5,
     "metadata": {},
     "output_type": "execute_result"
    }
   ],
   "source": [
    "movies_df.head()"
   ]
  },
  {
   "cell_type": "markdown",
   "id": "83fc5189-8cf9-4bca-a32c-2f72b0cd4231",
   "metadata": {},
   "source": [
    "No information about the movie's director is present in the MovieLens dataset."
   ]
  },
  {
   "cell_type": "markdown",
   "id": "df4fd91d-6fd8-4621-9c23-a1b370500d2a",
   "metadata": {},
   "source": [
    "The <a href=\"https://figshare.com/articles/dataset/U_S_movies_with_gender-disambiguated_actors_directors_and_producers/4967876\">dataset</a> on the gender of the directors comes from Northwestern University's Amaral Lab, which looks at the gender breakdown of the crew of U.S. films released between 1894 and 2011."
   ]
  },
  {
   "cell_type": "code",
   "execution_count": 6,
   "id": "5c9c814f-5cde-47dd-93ad-f76e78c5667a",
   "metadata": {},
   "outputs": [],
   "source": [
    "# Directors File\n",
    "directors_file = os.path.join(extract_path, \"directors.json\")\n",
    "directors_df = pd.read_json(directors_file)"
   ]
  },
  {
   "cell_type": "markdown",
   "id": "bffc20d4-3603-43d5-881e-376182c6d78b",
   "metadata": {},
   "source": [
    "The relevant columns in this dataset are the gender of the director, as well as the list of movies they have directed. The movies in the list are not identified by title, but rather their unique numerical identifier assigned by IMDb, the world's most popular media database."
   ]
  },
  {
   "cell_type": "code",
   "execution_count": 7,
   "id": "773fcffe-f793-4828-8097-1c2fbffd00cd",
   "metadata": {},
   "outputs": [
    {
     "data": {
      "text/html": [
       "<div>\n",
       "<style scoped>\n",
       "    .dataframe tbody tr th:only-of-type {\n",
       "        vertical-align: middle;\n",
       "    }\n",
       "\n",
       "    .dataframe tbody tr th {\n",
       "        vertical-align: top;\n",
       "    }\n",
       "\n",
       "    .dataframe thead th {\n",
       "        text-align: right;\n",
       "    }\n",
       "</style>\n",
       "<table border=\"1\" class=\"dataframe\">\n",
       "  <thead>\n",
       "    <tr style=\"text-align: right;\">\n",
       "      <th></th>\n",
       "      <th>first_movie</th>\n",
       "      <th>actress_credits</th>\n",
       "      <th>male_count</th>\n",
       "      <th>_id</th>\n",
       "      <th>gender</th>\n",
       "      <th>name</th>\n",
       "      <th>female_count</th>\n",
       "      <th>last_movie</th>\n",
       "      <th>actor_credits</th>\n",
       "      <th>movies_list</th>\n",
       "    </tr>\n",
       "  </thead>\n",
       "  <tbody>\n",
       "    <tr>\n",
       "      <th>0</th>\n",
       "      <td>1940</td>\n",
       "      <td>False</td>\n",
       "      <td>272</td>\n",
       "      <td>nm0000033</td>\n",
       "      <td>male</td>\n",
       "      <td>Alfred Hitchcock</td>\n",
       "      <td>13</td>\n",
       "      <td>1976</td>\n",
       "      <td>True</td>\n",
       "      <td>[{'movie_id': 'tt0046912', 'year': 1954, 'type...</td>\n",
       "    </tr>\n",
       "    <tr>\n",
       "      <th>1</th>\n",
       "      <td>1917</td>\n",
       "      <td>False</td>\n",
       "      <td>247</td>\n",
       "      <td>nm0000036</td>\n",
       "      <td>male</td>\n",
       "      <td>Buster Keaton</td>\n",
       "      <td>7</td>\n",
       "      <td>1939</td>\n",
       "      <td>True</td>\n",
       "      <td>[{'movie_id': 'tt0011541', 'year': 1920, 'type...</td>\n",
       "    </tr>\n",
       "    <tr>\n",
       "      <th>2</th>\n",
       "      <td>1951</td>\n",
       "      <td>False</td>\n",
       "      <td>366</td>\n",
       "      <td>nm0000040</td>\n",
       "      <td>male</td>\n",
       "      <td>Stanley Kubrick</td>\n",
       "      <td>24</td>\n",
       "      <td>1980</td>\n",
       "      <td>True</td>\n",
       "      <td>[{'movie_id': 'tt0062622', 'year': 1968, 'type...</td>\n",
       "    </tr>\n",
       "    <tr>\n",
       "      <th>3</th>\n",
       "      <td>1968</td>\n",
       "      <td>False</td>\n",
       "      <td>253</td>\n",
       "      <td>nm0000056</td>\n",
       "      <td>male</td>\n",
       "      <td>Paul Newman</td>\n",
       "      <td>15</td>\n",
       "      <td>1987</td>\n",
       "      <td>True</td>\n",
       "      <td>[{'movie_id': 'tt0093093', 'year': 1987, 'type...</td>\n",
       "    </tr>\n",
       "    <tr>\n",
       "      <th>4</th>\n",
       "      <td>1996</td>\n",
       "      <td>False</td>\n",
       "      <td>59</td>\n",
       "      <td>nm0000114</td>\n",
       "      <td>male</td>\n",
       "      <td>Steve Buscemi</td>\n",
       "      <td>1</td>\n",
       "      <td>2007</td>\n",
       "      <td>True</td>\n",
       "      <td>[{'movie_id': 'tt0480269', 'year': 2007, 'type...</td>\n",
       "    </tr>\n",
       "  </tbody>\n",
       "</table>\n",
       "</div>"
      ],
      "text/plain": [
       "   first_movie  actress_credits  male_count        _id gender  \\\n",
       "0         1940            False         272  nm0000033   male   \n",
       "1         1917            False         247  nm0000036   male   \n",
       "2         1951            False         366  nm0000040   male   \n",
       "3         1968            False         253  nm0000056   male   \n",
       "4         1996            False          59  nm0000114   male   \n",
       "\n",
       "               name  female_count  last_movie  actor_credits  \\\n",
       "0  Alfred Hitchcock            13        1976           True   \n",
       "1     Buster Keaton             7        1939           True   \n",
       "2   Stanley Kubrick            24        1980           True   \n",
       "3       Paul Newman            15        1987           True   \n",
       "4     Steve Buscemi             1        2007           True   \n",
       "\n",
       "                                         movies_list  \n",
       "0  [{'movie_id': 'tt0046912', 'year': 1954, 'type...  \n",
       "1  [{'movie_id': 'tt0011541', 'year': 1920, 'type...  \n",
       "2  [{'movie_id': 'tt0062622', 'year': 1968, 'type...  \n",
       "3  [{'movie_id': 'tt0093093', 'year': 1987, 'type...  \n",
       "4  [{'movie_id': 'tt0480269', 'year': 2007, 'type...  "
      ]
     },
     "execution_count": 7,
     "metadata": {},
     "output_type": "execute_result"
    }
   ],
   "source": [
    "directors_df.head()"
   ]
  },
  {
   "cell_type": "markdown",
   "id": "c8d5e8af-3c1c-4126-a186-7e9a47aa7289",
   "metadata": {},
   "source": [
    "As such, we also utilize <a href=\"https://datasets.imdbws.com/\">IMDb's dataset</a> on titles and identifiers. Each row represents a single movie, with relevant columns being its unique identifier, title, and year."
   ]
  },
  {
   "cell_type": "code",
   "execution_count": 8,
   "id": "44fffcf8-7736-4523-907b-bec257aad151",
   "metadata": {},
   "outputs": [],
   "source": [
    "# Titles File\n",
    "titles_file = os.path.join(extract_path, \"title.basics.tsv.gz\")\n",
    "titles_df = pd.read_csv(titles_file, compression='gzip', sep='\\t', encoding='utf-8')"
   ]
  },
  {
   "cell_type": "code",
   "execution_count": 9,
   "id": "56fcdee5-a993-4d2e-9bd5-9e4e212f2cb6",
   "metadata": {},
   "outputs": [
    {
     "data": {
      "text/html": [
       "<div>\n",
       "<style scoped>\n",
       "    .dataframe tbody tr th:only-of-type {\n",
       "        vertical-align: middle;\n",
       "    }\n",
       "\n",
       "    .dataframe tbody tr th {\n",
       "        vertical-align: top;\n",
       "    }\n",
       "\n",
       "    .dataframe thead th {\n",
       "        text-align: right;\n",
       "    }\n",
       "</style>\n",
       "<table border=\"1\" class=\"dataframe\">\n",
       "  <thead>\n",
       "    <tr style=\"text-align: right;\">\n",
       "      <th></th>\n",
       "      <th>tconst</th>\n",
       "      <th>titleType</th>\n",
       "      <th>primaryTitle</th>\n",
       "      <th>originalTitle</th>\n",
       "      <th>isAdult</th>\n",
       "      <th>startYear</th>\n",
       "      <th>endYear</th>\n",
       "      <th>runtimeMinutes</th>\n",
       "      <th>genres</th>\n",
       "    </tr>\n",
       "  </thead>\n",
       "  <tbody>\n",
       "    <tr>\n",
       "      <th>0</th>\n",
       "      <td>tt0000001</td>\n",
       "      <td>short</td>\n",
       "      <td>Carmencita</td>\n",
       "      <td>Carmencita</td>\n",
       "      <td>0</td>\n",
       "      <td>1894</td>\n",
       "      <td>\\N</td>\n",
       "      <td>1</td>\n",
       "      <td>Documentary,Short</td>\n",
       "    </tr>\n",
       "    <tr>\n",
       "      <th>1</th>\n",
       "      <td>tt0000002</td>\n",
       "      <td>short</td>\n",
       "      <td>Le clown et ses chiens</td>\n",
       "      <td>Le clown et ses chiens</td>\n",
       "      <td>0</td>\n",
       "      <td>1892</td>\n",
       "      <td>\\N</td>\n",
       "      <td>5</td>\n",
       "      <td>Animation,Short</td>\n",
       "    </tr>\n",
       "    <tr>\n",
       "      <th>2</th>\n",
       "      <td>tt0000003</td>\n",
       "      <td>short</td>\n",
       "      <td>Pauvre Pierrot</td>\n",
       "      <td>Pauvre Pierrot</td>\n",
       "      <td>0</td>\n",
       "      <td>1892</td>\n",
       "      <td>\\N</td>\n",
       "      <td>4</td>\n",
       "      <td>Animation,Comedy,Romance</td>\n",
       "    </tr>\n",
       "    <tr>\n",
       "      <th>3</th>\n",
       "      <td>tt0000004</td>\n",
       "      <td>short</td>\n",
       "      <td>Un bon bock</td>\n",
       "      <td>Un bon bock</td>\n",
       "      <td>0</td>\n",
       "      <td>1892</td>\n",
       "      <td>\\N</td>\n",
       "      <td>12</td>\n",
       "      <td>Animation,Short</td>\n",
       "    </tr>\n",
       "    <tr>\n",
       "      <th>4</th>\n",
       "      <td>tt0000005</td>\n",
       "      <td>short</td>\n",
       "      <td>Blacksmith Scene</td>\n",
       "      <td>Blacksmith Scene</td>\n",
       "      <td>0</td>\n",
       "      <td>1893</td>\n",
       "      <td>\\N</td>\n",
       "      <td>1</td>\n",
       "      <td>Comedy,Short</td>\n",
       "    </tr>\n",
       "  </tbody>\n",
       "</table>\n",
       "</div>"
      ],
      "text/plain": [
       "      tconst titleType            primaryTitle           originalTitle  \\\n",
       "0  tt0000001     short              Carmencita              Carmencita   \n",
       "1  tt0000002     short  Le clown et ses chiens  Le clown et ses chiens   \n",
       "2  tt0000003     short          Pauvre Pierrot          Pauvre Pierrot   \n",
       "3  tt0000004     short             Un bon bock             Un bon bock   \n",
       "4  tt0000005     short        Blacksmith Scene        Blacksmith Scene   \n",
       "\n",
       "  isAdult startYear endYear runtimeMinutes                    genres  \n",
       "0       0      1894      \\N              1         Documentary,Short  \n",
       "1       0      1892      \\N              5           Animation,Short  \n",
       "2       0      1892      \\N              4  Animation,Comedy,Romance  \n",
       "3       0      1892      \\N             12           Animation,Short  \n",
       "4       0      1893      \\N              1              Comedy,Short  "
      ]
     },
     "execution_count": 9,
     "metadata": {},
     "output_type": "execute_result"
    }
   ],
   "source": [
    "titles_df.head()"
   ]
  },
  {
   "cell_type": "markdown",
   "id": "21e65172-bd54-4831-8a9f-103867e4b1be",
   "metadata": {},
   "source": [
    "### Separting Title of Movie from the Year in Movies Dataframe"
   ]
  },
  {
   "cell_type": "markdown",
   "id": "98b28427-88c1-45e6-8a88-48dd45398c39",
   "metadata": {},
   "source": [
    "To clean the dataset, we separate the title of the movie from the year and create a separate column to record the movie's release year."
   ]
  },
  {
   "cell_type": "code",
   "execution_count": 10,
   "id": "cd2602d5-c1cb-4ea1-923f-1bf62f4ab8c0",
   "metadata": {
    "scrolled": true
   },
   "outputs": [
    {
     "data": {
      "text/html": [
       "<div>\n",
       "<style scoped>\n",
       "    .dataframe tbody tr th:only-of-type {\n",
       "        vertical-align: middle;\n",
       "    }\n",
       "\n",
       "    .dataframe tbody tr th {\n",
       "        vertical-align: top;\n",
       "    }\n",
       "\n",
       "    .dataframe thead th {\n",
       "        text-align: right;\n",
       "    }\n",
       "</style>\n",
       "<table border=\"1\" class=\"dataframe\">\n",
       "  <thead>\n",
       "    <tr style=\"text-align: right;\">\n",
       "      <th></th>\n",
       "      <th>MovieID</th>\n",
       "      <th>Title</th>\n",
       "      <th>Genres</th>\n",
       "      <th>Year</th>\n",
       "    </tr>\n",
       "  </thead>\n",
       "  <tbody>\n",
       "    <tr>\n",
       "      <th>0</th>\n",
       "      <td>1</td>\n",
       "      <td>Toy Story</td>\n",
       "      <td>Animation|Children's|Comedy</td>\n",
       "      <td>1995</td>\n",
       "    </tr>\n",
       "    <tr>\n",
       "      <th>1</th>\n",
       "      <td>2</td>\n",
       "      <td>Jumanji</td>\n",
       "      <td>Adventure|Children's|Fantasy</td>\n",
       "      <td>1995</td>\n",
       "    </tr>\n",
       "    <tr>\n",
       "      <th>2</th>\n",
       "      <td>3</td>\n",
       "      <td>Grumpier Old Men</td>\n",
       "      <td>Comedy|Romance</td>\n",
       "      <td>1995</td>\n",
       "    </tr>\n",
       "    <tr>\n",
       "      <th>3</th>\n",
       "      <td>4</td>\n",
       "      <td>Waiting to Exhale</td>\n",
       "      <td>Comedy|Drama</td>\n",
       "      <td>1995</td>\n",
       "    </tr>\n",
       "    <tr>\n",
       "      <th>4</th>\n",
       "      <td>5</td>\n",
       "      <td>Father of the Bride Part II</td>\n",
       "      <td>Comedy</td>\n",
       "      <td>1995</td>\n",
       "    </tr>\n",
       "  </tbody>\n",
       "</table>\n",
       "</div>"
      ],
      "text/plain": [
       "   MovieID                        Title                        Genres  Year\n",
       "0        1                    Toy Story   Animation|Children's|Comedy  1995\n",
       "1        2                      Jumanji  Adventure|Children's|Fantasy  1995\n",
       "2        3             Grumpier Old Men                Comedy|Romance  1995\n",
       "3        4            Waiting to Exhale                  Comedy|Drama  1995\n",
       "4        5  Father of the Bride Part II                        Comedy  1995"
      ]
     },
     "execution_count": 10,
     "metadata": {},
     "output_type": "execute_result"
    }
   ],
   "source": [
    "# Separate title of movie from the year\n",
    "movies_df['Year'] = movies_df['Title'].apply(lambda x: re.search(r'\\((\\d{4})\\)', x).group(1) if re.search(r'\\((\\d{4})\\)', x) else None)\n",
    "movies_df['Title'] = movies_df['Title'].apply(lambda x: re.sub(r'\\(\\d{4}\\)', '', x).strip())\n",
    "movies_df.head()"
   ]
  },
  {
   "cell_type": "markdown",
   "id": "11eca98e-2771-4b27-8455-068d0cb6c952",
   "metadata": {},
   "source": [
    "IMDb also records information on television serieses, podcasts, video games, and other media forms. Our user ratings from MovieLens only look at movies, so these mediums are irrelevant. We drop the data associated with these mediums."
   ]
  },
  {
   "cell_type": "code",
   "execution_count": 11,
   "id": "f4a84551-86f7-48ef-9be5-5cc66e8eb209",
   "metadata": {},
   "outputs": [
    {
     "data": {
      "text/html": [
       "<div>\n",
       "<style scoped>\n",
       "    .dataframe tbody tr th:only-of-type {\n",
       "        vertical-align: middle;\n",
       "    }\n",
       "\n",
       "    .dataframe tbody tr th {\n",
       "        vertical-align: top;\n",
       "    }\n",
       "\n",
       "    .dataframe thead th {\n",
       "        text-align: right;\n",
       "    }\n",
       "</style>\n",
       "<table border=\"1\" class=\"dataframe\">\n",
       "  <thead>\n",
       "    <tr style=\"text-align: right;\">\n",
       "      <th></th>\n",
       "      <th>tconst</th>\n",
       "      <th>titleType</th>\n",
       "      <th>primaryTitle</th>\n",
       "      <th>originalTitle</th>\n",
       "      <th>isAdult</th>\n",
       "      <th>startYear</th>\n",
       "      <th>endYear</th>\n",
       "      <th>runtimeMinutes</th>\n",
       "      <th>genres</th>\n",
       "    </tr>\n",
       "  </thead>\n",
       "  <tbody>\n",
       "    <tr>\n",
       "      <th>8</th>\n",
       "      <td>tt0000009</td>\n",
       "      <td>movie</td>\n",
       "      <td>Miss Jerry</td>\n",
       "      <td>Miss Jerry</td>\n",
       "      <td>0</td>\n",
       "      <td>1894</td>\n",
       "      <td>\\N</td>\n",
       "      <td>45</td>\n",
       "      <td>Romance</td>\n",
       "    </tr>\n",
       "    <tr>\n",
       "      <th>144</th>\n",
       "      <td>tt0000147</td>\n",
       "      <td>movie</td>\n",
       "      <td>The Corbett-Fitzsimmons Fight</td>\n",
       "      <td>The Corbett-Fitzsimmons Fight</td>\n",
       "      <td>0</td>\n",
       "      <td>1897</td>\n",
       "      <td>\\N</td>\n",
       "      <td>100</td>\n",
       "      <td>Documentary,News,Sport</td>\n",
       "    </tr>\n",
       "    <tr>\n",
       "      <th>498</th>\n",
       "      <td>tt0000502</td>\n",
       "      <td>movie</td>\n",
       "      <td>Bohemios</td>\n",
       "      <td>Bohemios</td>\n",
       "      <td>0</td>\n",
       "      <td>1905</td>\n",
       "      <td>\\N</td>\n",
       "      <td>100</td>\n",
       "      <td>\\N</td>\n",
       "    </tr>\n",
       "    <tr>\n",
       "      <th>570</th>\n",
       "      <td>tt0000574</td>\n",
       "      <td>movie</td>\n",
       "      <td>The Story of the Kelly Gang</td>\n",
       "      <td>The Story of the Kelly Gang</td>\n",
       "      <td>0</td>\n",
       "      <td>1906</td>\n",
       "      <td>\\N</td>\n",
       "      <td>70</td>\n",
       "      <td>Action,Adventure,Biography</td>\n",
       "    </tr>\n",
       "    <tr>\n",
       "      <th>587</th>\n",
       "      <td>tt0000591</td>\n",
       "      <td>movie</td>\n",
       "      <td>The Prodigal Son</td>\n",
       "      <td>L'enfant prodigue</td>\n",
       "      <td>0</td>\n",
       "      <td>1907</td>\n",
       "      <td>\\N</td>\n",
       "      <td>90</td>\n",
       "      <td>Drama</td>\n",
       "    </tr>\n",
       "  </tbody>\n",
       "</table>\n",
       "</div>"
      ],
      "text/plain": [
       "        tconst titleType                   primaryTitle  \\\n",
       "8    tt0000009     movie                     Miss Jerry   \n",
       "144  tt0000147     movie  The Corbett-Fitzsimmons Fight   \n",
       "498  tt0000502     movie                       Bohemios   \n",
       "570  tt0000574     movie    The Story of the Kelly Gang   \n",
       "587  tt0000591     movie               The Prodigal Son   \n",
       "\n",
       "                     originalTitle isAdult startYear endYear runtimeMinutes  \\\n",
       "8                       Miss Jerry       0      1894      \\N             45   \n",
       "144  The Corbett-Fitzsimmons Fight       0      1897      \\N            100   \n",
       "498                       Bohemios       0      1905      \\N            100   \n",
       "570    The Story of the Kelly Gang       0      1906      \\N             70   \n",
       "587              L'enfant prodigue       0      1907      \\N             90   \n",
       "\n",
       "                         genres  \n",
       "8                       Romance  \n",
       "144      Documentary,News,Sport  \n",
       "498                          \\N  \n",
       "570  Action,Adventure,Biography  \n",
       "587                       Drama  "
      ]
     },
     "execution_count": 11,
     "metadata": {},
     "output_type": "execute_result"
    }
   ],
   "source": [
    "# Filter to get titles that are only associated with movies\n",
    "titles_df = titles_df[titles_df['titleType'] == 'movie']\n",
    "titles_df.head()"
   ]
  },
  {
   "cell_type": "markdown",
   "id": "de7fbd21-f64d-479c-ba74-75704a0f11e5",
   "metadata": {},
   "source": [
    "### Merge the Movies Dataframe and Titles Dataframe Together Given Movie Title and Year"
   ]
  },
  {
   "cell_type": "markdown",
   "id": "2223cfff-5969-4ec0-a6d8-13e2180e7773",
   "metadata": {},
   "source": [
    "We join the movie information in the user ratings with the movie information in IMDb's title dataset to link the unique identifier. The identifier is linked to the movie if the title and year match in both datasets, since MovieLens sources its titles from IMDb. Repeated columns (e.g., title, year, genres) are dropped, as well as irrelevant columns (e.g., runtime)."
   ]
  },
  {
   "cell_type": "code",
   "execution_count": 12,
   "id": "ac69ce2c-e590-4d45-bdd9-1bc6752ddd38",
   "metadata": {
    "scrolled": true
   },
   "outputs": [
    {
     "data": {
      "text/html": [
       "<div>\n",
       "<style scoped>\n",
       "    .dataframe tbody tr th:only-of-type {\n",
       "        vertical-align: middle;\n",
       "    }\n",
       "\n",
       "    .dataframe tbody tr th {\n",
       "        vertical-align: top;\n",
       "    }\n",
       "\n",
       "    .dataframe thead th {\n",
       "        text-align: right;\n",
       "    }\n",
       "</style>\n",
       "<table border=\"1\" class=\"dataframe\">\n",
       "  <thead>\n",
       "    <tr style=\"text-align: right;\">\n",
       "      <th></th>\n",
       "      <th>MovieID</th>\n",
       "      <th>Title</th>\n",
       "      <th>Genres</th>\n",
       "      <th>Year</th>\n",
       "      <th>tconst</th>\n",
       "    </tr>\n",
       "  </thead>\n",
       "  <tbody>\n",
       "    <tr>\n",
       "      <th>0</th>\n",
       "      <td>1</td>\n",
       "      <td>Toy Story</td>\n",
       "      <td>Animation|Children's|Comedy</td>\n",
       "      <td>1995</td>\n",
       "      <td>tt0114709</td>\n",
       "    </tr>\n",
       "    <tr>\n",
       "      <th>1</th>\n",
       "      <td>2</td>\n",
       "      <td>Jumanji</td>\n",
       "      <td>Adventure|Children's|Fantasy</td>\n",
       "      <td>1995</td>\n",
       "      <td>tt0113497</td>\n",
       "    </tr>\n",
       "    <tr>\n",
       "      <th>2</th>\n",
       "      <td>3</td>\n",
       "      <td>Grumpier Old Men</td>\n",
       "      <td>Comedy|Romance</td>\n",
       "      <td>1995</td>\n",
       "      <td>tt0113228</td>\n",
       "    </tr>\n",
       "    <tr>\n",
       "      <th>3</th>\n",
       "      <td>4</td>\n",
       "      <td>Waiting to Exhale</td>\n",
       "      <td>Comedy|Drama</td>\n",
       "      <td>1995</td>\n",
       "      <td>tt0114885</td>\n",
       "    </tr>\n",
       "    <tr>\n",
       "      <th>4</th>\n",
       "      <td>5</td>\n",
       "      <td>Father of the Bride Part II</td>\n",
       "      <td>Comedy</td>\n",
       "      <td>1995</td>\n",
       "      <td>tt0113041</td>\n",
       "    </tr>\n",
       "  </tbody>\n",
       "</table>\n",
       "</div>"
      ],
      "text/plain": [
       "   MovieID                        Title                        Genres  Year  \\\n",
       "0        1                    Toy Story   Animation|Children's|Comedy  1995   \n",
       "1        2                      Jumanji  Adventure|Children's|Fantasy  1995   \n",
       "2        3             Grumpier Old Men                Comedy|Romance  1995   \n",
       "3        4            Waiting to Exhale                  Comedy|Drama  1995   \n",
       "4        5  Father of the Bride Part II                        Comedy  1995   \n",
       "\n",
       "      tconst  \n",
       "0  tt0114709  \n",
       "1  tt0113497  \n",
       "2  tt0113228  \n",
       "3  tt0114885  \n",
       "4  tt0113041  "
      ]
     },
     "execution_count": 12,
     "metadata": {},
     "output_type": "execute_result"
    }
   ],
   "source": [
    "# Merge datasets using Title of movie and year\n",
    "movie_ids = pd.merge(movies_df, titles_df, left_on=['Title', 'Year'], right_on=['primaryTitle', 'startYear'], how='left')\n",
    "movie_ids = movie_ids[['MovieID', 'Title', 'Genres', 'Year', 'tconst']]\n",
    "movie_ids.head()"
   ]
  },
  {
   "cell_type": "markdown",
   "id": "27903a68-f003-4fe2-b2ae-79d8c0b6cfad",
   "metadata": {},
   "source": [
    "### Get Director Gender for each movie"
   ]
  },
  {
   "cell_type": "markdown",
   "id": "2b3347c9-0a88-4d07-82ad-c30b83924719",
   "metadata": {},
   "source": [
    "Because directors can direct multiple movies, each row will be associated with a single director for a single movie. This means that directors who have directed more than one movie will appear in several rows.\n",
    "\n",
    "Also note that a single movie can have more than one director. So, each movie can also appear in several rows."
   ]
  },
  {
   "cell_type": "code",
   "execution_count": 13,
   "id": "adab2652-eb3b-4470-9971-bc3b494bf3b0",
   "metadata": {},
   "outputs": [],
   "source": [
    "# Find gender of each movie identifier associated with the director\n",
    "genders = directors_df.explode('movies_list')\n",
    "genders = pd.concat([genders.drop(['movies_list'], axis=1),\n",
    "                         genders['movies_list'].apply(pd.Series)], axis=1)"
   ]
  },
  {
   "cell_type": "markdown",
   "id": "ad5d6347-e5bf-4653-a464-433ebd81b7db",
   "metadata": {},
   "source": [
    "### Merging User Rating Movie information and Director Gender data "
   ]
  },
  {
   "cell_type": "markdown",
   "id": "3e332d4c-7851-46f8-af48-8a0560194df7",
   "metadata": {},
   "source": [
    "Now that both the user ratings data and the director gender data have the IMDb identifier, the datasets can be combined by matching them together."
   ]
  },
  {
   "cell_type": "code",
   "execution_count": 14,
   "id": "47c6968f-4907-4b2a-a709-caf23091434e",
   "metadata": {},
   "outputs": [
    {
     "data": {
      "text/html": [
       "<div>\n",
       "<style scoped>\n",
       "    .dataframe tbody tr th:only-of-type {\n",
       "        vertical-align: middle;\n",
       "    }\n",
       "\n",
       "    .dataframe tbody tr th {\n",
       "        vertical-align: top;\n",
       "    }\n",
       "\n",
       "    .dataframe thead th {\n",
       "        text-align: right;\n",
       "    }\n",
       "</style>\n",
       "<table border=\"1\" class=\"dataframe\">\n",
       "  <thead>\n",
       "    <tr style=\"text-align: right;\">\n",
       "      <th></th>\n",
       "      <th>MovieID</th>\n",
       "      <th>Title</th>\n",
       "      <th>Genres</th>\n",
       "      <th>Year</th>\n",
       "      <th>gender</th>\n",
       "      <th>name</th>\n",
       "    </tr>\n",
       "  </thead>\n",
       "  <tbody>\n",
       "    <tr>\n",
       "      <th>0</th>\n",
       "      <td>1</td>\n",
       "      <td>Toy Story</td>\n",
       "      <td>Animation|Children's|Comedy</td>\n",
       "      <td>1995</td>\n",
       "      <td>male</td>\n",
       "      <td>John Lasseter</td>\n",
       "    </tr>\n",
       "    <tr>\n",
       "      <th>1</th>\n",
       "      <td>2</td>\n",
       "      <td>Jumanji</td>\n",
       "      <td>Adventure|Children's|Fantasy</td>\n",
       "      <td>1995</td>\n",
       "      <td>male</td>\n",
       "      <td>Joe Johnston</td>\n",
       "    </tr>\n",
       "    <tr>\n",
       "      <th>2</th>\n",
       "      <td>3</td>\n",
       "      <td>Grumpier Old Men</td>\n",
       "      <td>Comedy|Romance</td>\n",
       "      <td>1995</td>\n",
       "      <td>male</td>\n",
       "      <td>Howard Deutch</td>\n",
       "    </tr>\n",
       "    <tr>\n",
       "      <th>3</th>\n",
       "      <td>4</td>\n",
       "      <td>Waiting to Exhale</td>\n",
       "      <td>Comedy|Drama</td>\n",
       "      <td>1995</td>\n",
       "      <td>male</td>\n",
       "      <td>Forest Whitaker</td>\n",
       "    </tr>\n",
       "    <tr>\n",
       "      <th>4</th>\n",
       "      <td>5</td>\n",
       "      <td>Father of the Bride Part II</td>\n",
       "      <td>Comedy</td>\n",
       "      <td>1995</td>\n",
       "      <td>male</td>\n",
       "      <td>Charles Shyer</td>\n",
       "    </tr>\n",
       "  </tbody>\n",
       "</table>\n",
       "</div>"
      ],
      "text/plain": [
       "   MovieID                        Title                        Genres  Year  \\\n",
       "0        1                    Toy Story   Animation|Children's|Comedy  1995   \n",
       "1        2                      Jumanji  Adventure|Children's|Fantasy  1995   \n",
       "2        3             Grumpier Old Men                Comedy|Romance  1995   \n",
       "3        4            Waiting to Exhale                  Comedy|Drama  1995   \n",
       "4        5  Father of the Bride Part II                        Comedy  1995   \n",
       "\n",
       "  gender             name  \n",
       "0   male    John Lasseter  \n",
       "1   male     Joe Johnston  \n",
       "2   male    Howard Deutch  \n",
       "3   male  Forest Whitaker  \n",
       "4   male    Charles Shyer  "
      ]
     },
     "execution_count": 14,
     "metadata": {},
     "output_type": "execute_result"
    }
   ],
   "source": [
    "# Combine datasets based on movie identifier \n",
    "merged_df = pd.merge(movie_ids, genders, left_on='tconst', right_on='movie_id', how='left')\n",
    "merged_df = merged_df.loc[:, ['MovieID', 'Title', 'Genres', 'Year', 'gender', 'name']]\n",
    "merged_df.head()"
   ]
  },
  {
   "cell_type": "markdown",
   "id": "c6b1cbb8",
   "metadata": {},
   "source": [
    "### Checking for Null Values for Each Dataframe"
   ]
  },
  {
   "cell_type": "markdown",
   "id": "038f3733-fe1a-40b8-a54e-b0726d54ee69",
   "metadata": {},
   "source": [
    "Before we proceed with any analysis, we examine the distributions and values of the dataset to check for missing values."
   ]
  },
  {
   "cell_type": "code",
   "execution_count": 15,
   "id": "1489ae9a-a197-48d8-8a9d-dd68ea8ca7cc",
   "metadata": {},
   "outputs": [
    {
     "data": {
      "text/plain": [
       "MovieID    0.00000\n",
       "Title      0.00000\n",
       "Genres     0.00000\n",
       "Year       0.00000\n",
       "gender     0.56348\n",
       "name       0.56348\n",
       "dtype: float64"
      ]
     },
     "execution_count": 15,
     "metadata": {},
     "output_type": "execute_result"
    }
   ],
   "source": [
    "# Check for proportion of missing data in movie information\n",
    "merged_df.isnull().sum() / merged_df.shape[0]"
   ]
  },
  {
   "cell_type": "code",
   "execution_count": 16,
   "id": "0b3df6d1-f750-4271-b887-f69d550885c2",
   "metadata": {},
   "outputs": [
    {
     "data": {
      "text/plain": [
       "UserID       0\n",
       "MovieID      0\n",
       "Rating       0\n",
       "Timestamp    0\n",
       "dtype: int64"
      ]
     },
     "execution_count": 16,
     "metadata": {},
     "output_type": "execute_result"
    }
   ],
   "source": [
    "# Check for proportion of missing data in user ratings\n",
    "ratings_df.isnull().sum()"
   ]
  },
  {
   "cell_type": "markdown",
   "id": "d1c5b9b3-5f37-4309-b68e-d86f495e5080",
   "metadata": {},
   "source": [
    "No data is missing in the user ratings. To check for placeholder values, we check all values of rating scores. The only values are 1-5, which means there are no placeholder values for missing data."
   ]
  },
  {
   "cell_type": "code",
   "execution_count": 17,
   "id": "9a294f37-26af-43c5-a5c9-0d7d67db8fb4",
   "metadata": {},
   "outputs": [
    {
     "data": {
      "text/plain": [
       "Rating\n",
       "4    348971\n",
       "3    261197\n",
       "5    226310\n",
       "2    107557\n",
       "1     56174\n",
       "Name: count, dtype: int64"
      ]
     },
     "execution_count": 17,
     "metadata": {},
     "output_type": "execute_result"
    }
   ],
   "source": [
    "# Check all values of rating scores\n",
    "ratings_df['Rating'].value_counts()"
   ]
  },
  {
   "cell_type": "markdown",
   "id": "14a2732c-97c5-4b96-929a-6a11877586be",
   "metadata": {},
   "source": [
    "### Creating Binary Values for Director Gender Columns"
   ]
  },
  {
   "cell_type": "markdown",
   "id": "49adbe80-b47b-4687-9b9c-2b76344a6871",
   "metadata": {},
   "source": [
    "To prepare our dataset for model development, we convert the Director's Gender (either 'female' or 'male') to a numerical value. A value of 0 maps to 'female', while a value of 1 maps to 'male'."
   ]
  },
  {
   "cell_type": "code",
   "execution_count": 18,
   "id": "260359f2-a0ae-4d87-bddc-7356958fa5c3",
   "metadata": {},
   "outputs": [
    {
     "data": {
      "text/html": [
       "<div>\n",
       "<style scoped>\n",
       "    .dataframe tbody tr th:only-of-type {\n",
       "        vertical-align: middle;\n",
       "    }\n",
       "\n",
       "    .dataframe tbody tr th {\n",
       "        vertical-align: top;\n",
       "    }\n",
       "\n",
       "    .dataframe thead th {\n",
       "        text-align: right;\n",
       "    }\n",
       "</style>\n",
       "<table border=\"1\" class=\"dataframe\">\n",
       "  <thead>\n",
       "    <tr style=\"text-align: right;\">\n",
       "      <th></th>\n",
       "      <th>MovieID</th>\n",
       "      <th>Title</th>\n",
       "      <th>Genres</th>\n",
       "      <th>Year</th>\n",
       "      <th>gender</th>\n",
       "      <th>name</th>\n",
       "    </tr>\n",
       "  </thead>\n",
       "  <tbody>\n",
       "    <tr>\n",
       "      <th>0</th>\n",
       "      <td>1</td>\n",
       "      <td>Toy Story</td>\n",
       "      <td>Animation|Children's|Comedy</td>\n",
       "      <td>1995</td>\n",
       "      <td>1.0</td>\n",
       "      <td>John Lasseter</td>\n",
       "    </tr>\n",
       "    <tr>\n",
       "      <th>1</th>\n",
       "      <td>2</td>\n",
       "      <td>Jumanji</td>\n",
       "      <td>Adventure|Children's|Fantasy</td>\n",
       "      <td>1995</td>\n",
       "      <td>1.0</td>\n",
       "      <td>Joe Johnston</td>\n",
       "    </tr>\n",
       "    <tr>\n",
       "      <th>2</th>\n",
       "      <td>3</td>\n",
       "      <td>Grumpier Old Men</td>\n",
       "      <td>Comedy|Romance</td>\n",
       "      <td>1995</td>\n",
       "      <td>1.0</td>\n",
       "      <td>Howard Deutch</td>\n",
       "    </tr>\n",
       "    <tr>\n",
       "      <th>3</th>\n",
       "      <td>4</td>\n",
       "      <td>Waiting to Exhale</td>\n",
       "      <td>Comedy|Drama</td>\n",
       "      <td>1995</td>\n",
       "      <td>1.0</td>\n",
       "      <td>Forest Whitaker</td>\n",
       "    </tr>\n",
       "    <tr>\n",
       "      <th>4</th>\n",
       "      <td>5</td>\n",
       "      <td>Father of the Bride Part II</td>\n",
       "      <td>Comedy</td>\n",
       "      <td>1995</td>\n",
       "      <td>1.0</td>\n",
       "      <td>Charles Shyer</td>\n",
       "    </tr>\n",
       "  </tbody>\n",
       "</table>\n",
       "</div>"
      ],
      "text/plain": [
       "   MovieID                        Title                        Genres  Year  \\\n",
       "0        1                    Toy Story   Animation|Children's|Comedy  1995   \n",
       "1        2                      Jumanji  Adventure|Children's|Fantasy  1995   \n",
       "2        3             Grumpier Old Men                Comedy|Romance  1995   \n",
       "3        4            Waiting to Exhale                  Comedy|Drama  1995   \n",
       "4        5  Father of the Bride Part II                        Comedy  1995   \n",
       "\n",
       "   gender             name  \n",
       "0     1.0    John Lasseter  \n",
       "1     1.0     Joe Johnston  \n",
       "2     1.0    Howard Deutch  \n",
       "3     1.0  Forest Whitaker  \n",
       "4     1.0    Charles Shyer  "
      ]
     },
     "execution_count": 18,
     "metadata": {},
     "output_type": "execute_result"
    }
   ],
   "source": [
    "# Replace 'male' and 'female' with numerical binary values\n",
    "merged_df['gender'] = merged_df['gender'].replace({'female': 0, 'male': 1})\n",
    "merged_df.head()"
   ]
  },
  {
   "cell_type": "markdown",
   "id": "c3c2b6bf-1bf9-4f60-b776-83f890b5f450",
   "metadata": {},
   "source": [
    "### Creating New Feature - Director Gender Proportions"
   ]
  },
  {
   "cell_type": "markdown",
   "id": "b3603ff1-b2a4-48ce-8c22-0b1002202e30",
   "metadata": {},
   "source": [
    "Movies can have more than 1 director, so we cannot simply assign each movie to whether it's directed by a male or female. We create a new column that denotes the proportion of directors for each movie that are male, and also find the proportion of directors for each movie that are female.\n",
    "\n",
    "A movie directed fully by males will have a male_director_proportion of 1.0, and a movie directed fully by females will have a male_director_proportion of 0.0."
   ]
  },
  {
   "cell_type": "code",
   "execution_count": 19,
   "id": "34e2c3d4-40b9-4e96-a005-e7b6bc9d4e74",
   "metadata": {},
   "outputs": [
    {
     "data": {
      "text/html": [
       "<div>\n",
       "<style scoped>\n",
       "    .dataframe tbody tr th:only-of-type {\n",
       "        vertical-align: middle;\n",
       "    }\n",
       "\n",
       "    .dataframe tbody tr th {\n",
       "        vertical-align: top;\n",
       "    }\n",
       "\n",
       "    .dataframe thead th {\n",
       "        text-align: right;\n",
       "    }\n",
       "</style>\n",
       "<table border=\"1\" class=\"dataframe\">\n",
       "  <thead>\n",
       "    <tr style=\"text-align: right;\">\n",
       "      <th></th>\n",
       "      <th>MovieID</th>\n",
       "      <th>Title</th>\n",
       "      <th>Genres</th>\n",
       "      <th>Year</th>\n",
       "      <th>gender</th>\n",
       "      <th>name</th>\n",
       "      <th>male_director_proportion</th>\n",
       "    </tr>\n",
       "  </thead>\n",
       "  <tbody>\n",
       "    <tr>\n",
       "      <th>0</th>\n",
       "      <td>1</td>\n",
       "      <td>Toy Story</td>\n",
       "      <td>Animation|Children's|Comedy</td>\n",
       "      <td>1995</td>\n",
       "      <td>1.0</td>\n",
       "      <td>John Lasseter</td>\n",
       "      <td>1.0</td>\n",
       "    </tr>\n",
       "    <tr>\n",
       "      <th>1</th>\n",
       "      <td>2</td>\n",
       "      <td>Jumanji</td>\n",
       "      <td>Adventure|Children's|Fantasy</td>\n",
       "      <td>1995</td>\n",
       "      <td>1.0</td>\n",
       "      <td>Joe Johnston</td>\n",
       "      <td>1.0</td>\n",
       "    </tr>\n",
       "    <tr>\n",
       "      <th>2</th>\n",
       "      <td>3</td>\n",
       "      <td>Grumpier Old Men</td>\n",
       "      <td>Comedy|Romance</td>\n",
       "      <td>1995</td>\n",
       "      <td>1.0</td>\n",
       "      <td>Howard Deutch</td>\n",
       "      <td>1.0</td>\n",
       "    </tr>\n",
       "    <tr>\n",
       "      <th>3</th>\n",
       "      <td>4</td>\n",
       "      <td>Waiting to Exhale</td>\n",
       "      <td>Comedy|Drama</td>\n",
       "      <td>1995</td>\n",
       "      <td>1.0</td>\n",
       "      <td>Forest Whitaker</td>\n",
       "      <td>1.0</td>\n",
       "    </tr>\n",
       "    <tr>\n",
       "      <th>4</th>\n",
       "      <td>5</td>\n",
       "      <td>Father of the Bride Part II</td>\n",
       "      <td>Comedy</td>\n",
       "      <td>1995</td>\n",
       "      <td>1.0</td>\n",
       "      <td>Charles Shyer</td>\n",
       "      <td>1.0</td>\n",
       "    </tr>\n",
       "  </tbody>\n",
       "</table>\n",
       "</div>"
      ],
      "text/plain": [
       "   MovieID                        Title                        Genres  Year  \\\n",
       "0        1                    Toy Story   Animation|Children's|Comedy  1995   \n",
       "1        2                      Jumanji  Adventure|Children's|Fantasy  1995   \n",
       "2        3             Grumpier Old Men                Comedy|Romance  1995   \n",
       "3        4            Waiting to Exhale                  Comedy|Drama  1995   \n",
       "4        5  Father of the Bride Part II                        Comedy  1995   \n",
       "\n",
       "   gender             name  male_director_proportion  \n",
       "0     1.0    John Lasseter                       1.0  \n",
       "1     1.0     Joe Johnston                       1.0  \n",
       "2     1.0    Howard Deutch                       1.0  \n",
       "3     1.0  Forest Whitaker                       1.0  \n",
       "4     1.0    Charles Shyer                       1.0  "
      ]
     },
     "execution_count": 19,
     "metadata": {},
     "output_type": "execute_result"
    }
   ],
   "source": [
    "# Find proportion of male directors for each movie\n",
    "male_prop_dict = dict(merged_df.groupby('MovieID')['gender'].sum() / merged_df.groupby('MovieID')['gender'].count())\n",
    "\n",
    "# Add column with proportion of male directors & proportion of female directors for each row\n",
    "merged_df['male_director_proportion'] = merged_df['MovieID'].map(male_prop_dict)\n",
    "\n",
    "merged_df.head()"
   ]
  },
  {
   "cell_type": "markdown",
   "id": "0e4ae469-4537-4178-807b-4cebc906811f",
   "metadata": {},
   "source": [
    "To prepare our data for modeling the prediction of ratings, we binarize the variable representing the proportion of male directors involved in each movie. Binarization involves categorizing the variable into two distinct groups based on a specified threshold. To determine this threshold, we examine the distribution of the male_director_proportion across our dataset."
   ]
  },
  {
   "cell_type": "code",
   "execution_count": 20,
   "id": "ec595b14-b2f8-4f8e-aaa8-7e6b7c8d6aec",
   "metadata": {},
   "outputs": [
    {
     "data": {
      "text/plain": [
       "male_director_proportion\n",
       "1.000000    1659\n",
       "0.000000      81\n",
       "0.500000      44\n",
       "0.666667       6\n",
       "0.750000       4\n",
       "Name: count, dtype: int64"
      ]
     },
     "execution_count": 20,
     "metadata": {},
     "output_type": "execute_result"
    }
   ],
   "source": [
    "merged_df['male_director_proportion'].value_counts()"
   ]
  },
  {
   "cell_type": "markdown",
   "id": "5bc04fe9-b161-47e4-868a-4ddc1808b80d",
   "metadata": {},
   "source": [
    "Binarizing our variables consists of converting our proportions to binary values of either 0 or 1. We considered rounding the proportion, but that would result in only a few data points being 0. There would be a strong imbalance between 0s and 1s due to the overrepresentation of 1s.\n",
    "\n",
    "So, we decided to convert the value into 1 if the movie is fully directed by males, and 0 if the movie involves at least one female director."
   ]
  },
  {
   "cell_type": "code",
   "execution_count": 21,
   "id": "0025f9c9-8cc2-4eb5-9548-d9168d6a3cbc",
   "metadata": {},
   "outputs": [
    {
     "data": {
      "text/html": [
       "<div>\n",
       "<style scoped>\n",
       "    .dataframe tbody tr th:only-of-type {\n",
       "        vertical-align: middle;\n",
       "    }\n",
       "\n",
       "    .dataframe tbody tr th {\n",
       "        vertical-align: top;\n",
       "    }\n",
       "\n",
       "    .dataframe thead th {\n",
       "        text-align: right;\n",
       "    }\n",
       "</style>\n",
       "<table border=\"1\" class=\"dataframe\">\n",
       "  <thead>\n",
       "    <tr style=\"text-align: right;\">\n",
       "      <th></th>\n",
       "      <th>MovieID</th>\n",
       "      <th>Title</th>\n",
       "      <th>Genres</th>\n",
       "      <th>Year</th>\n",
       "      <th>gender</th>\n",
       "      <th>name</th>\n",
       "      <th>male_director_proportion</th>\n",
       "      <th>all_male_director</th>\n",
       "    </tr>\n",
       "  </thead>\n",
       "  <tbody>\n",
       "    <tr>\n",
       "      <th>0</th>\n",
       "      <td>1</td>\n",
       "      <td>Toy Story</td>\n",
       "      <td>Animation|Children's|Comedy</td>\n",
       "      <td>1995</td>\n",
       "      <td>1.0</td>\n",
       "      <td>John Lasseter</td>\n",
       "      <td>1.0</td>\n",
       "      <td>1.0</td>\n",
       "    </tr>\n",
       "    <tr>\n",
       "      <th>1</th>\n",
       "      <td>2</td>\n",
       "      <td>Jumanji</td>\n",
       "      <td>Adventure|Children's|Fantasy</td>\n",
       "      <td>1995</td>\n",
       "      <td>1.0</td>\n",
       "      <td>Joe Johnston</td>\n",
       "      <td>1.0</td>\n",
       "      <td>1.0</td>\n",
       "    </tr>\n",
       "    <tr>\n",
       "      <th>2</th>\n",
       "      <td>3</td>\n",
       "      <td>Grumpier Old Men</td>\n",
       "      <td>Comedy|Romance</td>\n",
       "      <td>1995</td>\n",
       "      <td>1.0</td>\n",
       "      <td>Howard Deutch</td>\n",
       "      <td>1.0</td>\n",
       "      <td>1.0</td>\n",
       "    </tr>\n",
       "    <tr>\n",
       "      <th>3</th>\n",
       "      <td>4</td>\n",
       "      <td>Waiting to Exhale</td>\n",
       "      <td>Comedy|Drama</td>\n",
       "      <td>1995</td>\n",
       "      <td>1.0</td>\n",
       "      <td>Forest Whitaker</td>\n",
       "      <td>1.0</td>\n",
       "      <td>1.0</td>\n",
       "    </tr>\n",
       "    <tr>\n",
       "      <th>4</th>\n",
       "      <td>5</td>\n",
       "      <td>Father of the Bride Part II</td>\n",
       "      <td>Comedy</td>\n",
       "      <td>1995</td>\n",
       "      <td>1.0</td>\n",
       "      <td>Charles Shyer</td>\n",
       "      <td>1.0</td>\n",
       "      <td>1.0</td>\n",
       "    </tr>\n",
       "  </tbody>\n",
       "</table>\n",
       "</div>"
      ],
      "text/plain": [
       "   MovieID                        Title                        Genres  Year  \\\n",
       "0        1                    Toy Story   Animation|Children's|Comedy  1995   \n",
       "1        2                      Jumanji  Adventure|Children's|Fantasy  1995   \n",
       "2        3             Grumpier Old Men                Comedy|Romance  1995   \n",
       "3        4            Waiting to Exhale                  Comedy|Drama  1995   \n",
       "4        5  Father of the Bride Part II                        Comedy  1995   \n",
       "\n",
       "   gender             name  male_director_proportion  all_male_director  \n",
       "0     1.0    John Lasseter                       1.0                1.0  \n",
       "1     1.0     Joe Johnston                       1.0                1.0  \n",
       "2     1.0    Howard Deutch                       1.0                1.0  \n",
       "3     1.0  Forest Whitaker                       1.0                1.0  \n",
       "4     1.0    Charles Shyer                       1.0                1.0  "
      ]
     },
     "execution_count": 21,
     "metadata": {},
     "output_type": "execute_result"
    }
   ],
   "source": [
    "merged_df['all_male_director'] = (merged_df['male_director_proportion'] == 1).astype(float)\n",
    "merged_df = merged_df.dropna(subset=['gender', 'name', 'male_director_proportion'])\n",
    "merged_df.drop_duplicates(subset=['MovieID'], inplace=True)\n",
    "merged_df.head()"
   ]
  },
  {
   "cell_type": "code",
   "execution_count": 22,
   "id": "3ccce96e-3017-4933-908e-251fb5326131",
   "metadata": {},
   "outputs": [
    {
     "data": {
      "text/plain": [
       "all_male_director\n",
       "1.0    1498\n",
       "0.0     103\n",
       "Name: count, dtype: int64"
      ]
     },
     "execution_count": 22,
     "metadata": {},
     "output_type": "execute_result"
    }
   ],
   "source": [
    "merged_df['all_male_director'].value_counts()"
   ]
  },
  {
   "cell_type": "markdown",
   "id": "b4583f32-93bc-4e23-b8d6-51a55341200d",
   "metadata": {},
   "source": [
    "This results in a less imbalanced distribution of 0s and 1s, compared to rounding the proportions.\n",
    "\n",
    "To reiterate, male_director_proportion demonstrates the ratio of male directors out of the total directors for that movie. all__male_director is a value of 0 or 1, 1 if the movie is entirely male-directed, 0 if not (i.e., female directors are involved)."
   ]
  },
  {
   "cell_type": "markdown",
   "id": "73fda777-2cb9-4b58-aca0-94ec49414f1a",
   "metadata": {},
   "source": [
    "### Creating New Genre Column"
   ]
  },
  {
   "cell_type": "markdown",
   "id": "5c5d67ad-57ca-42f6-92ae-fe6decd67e8e",
   "metadata": {},
   "source": [
    "Currently, the columns are stored as a string of multiple genres split by a '|' character. We seperate each unique genre into its own column with a value of 1 if the movie is categorized under that column, and a 0 if not. A movie can have more than one genre, so multiple values of 1 across columns can be present for a single row.\n",
    "\n",
    "Converting the genres into a binary value of 0 and 1 is necessary to prepare our dataset for model development."
   ]
  },
  {
   "cell_type": "code",
   "execution_count": 23,
   "id": "35f8601c-10fb-4394-98fc-153c745a364e",
   "metadata": {},
   "outputs": [],
   "source": [
    "# Split the genres column into a list of genres\n",
    "merged_df['Genres'] = merged_df['Genres'].str.split('|')\n",
    "\n",
    "# Create a list of unique genres\n",
    "unique_genres = set(genre for genres_list in merged_df['Genres'] for genre in genres_list)\n",
    "\n",
    "# Initialize binary columns for each genre with zeros\n",
    "for genre in unique_genres:\n",
    "    merged_df[genre] = 0\n",
    "\n",
    "# Update binary columns using vectorized operations\n",
    "for genre in unique_genres:\n",
    "    merged_df[genre] = merged_df['Genres'].apply(lambda x: 1 if genre in x else 0)\n",
    "\n",
    "# Drop the original genres column\n",
    "merged_df = merged_df.drop('Genres', axis=1)"
   ]
  },
  {
   "cell_type": "code",
   "execution_count": 24,
   "id": "28cc059e-6f66-445b-96d4-9966eab1de73",
   "metadata": {},
   "outputs": [
    {
     "data": {
      "text/html": [
       "<div>\n",
       "<style scoped>\n",
       "    .dataframe tbody tr th:only-of-type {\n",
       "        vertical-align: middle;\n",
       "    }\n",
       "\n",
       "    .dataframe tbody tr th {\n",
       "        vertical-align: top;\n",
       "    }\n",
       "\n",
       "    .dataframe thead th {\n",
       "        text-align: right;\n",
       "    }\n",
       "</style>\n",
       "<table border=\"1\" class=\"dataframe\">\n",
       "  <thead>\n",
       "    <tr style=\"text-align: right;\">\n",
       "      <th></th>\n",
       "      <th>MovieID</th>\n",
       "      <th>Title</th>\n",
       "      <th>Year</th>\n",
       "      <th>gender</th>\n",
       "      <th>name</th>\n",
       "      <th>male_director_proportion</th>\n",
       "      <th>all_male_director</th>\n",
       "      <th>Drama</th>\n",
       "      <th>Children's</th>\n",
       "      <th>Sci-Fi</th>\n",
       "      <th>...</th>\n",
       "      <th>Crime</th>\n",
       "      <th>Mystery</th>\n",
       "      <th>Adventure</th>\n",
       "      <th>Comedy</th>\n",
       "      <th>Documentary</th>\n",
       "      <th>Western</th>\n",
       "      <th>Animation</th>\n",
       "      <th>Film-Noir</th>\n",
       "      <th>Action</th>\n",
       "      <th>Fantasy</th>\n",
       "    </tr>\n",
       "  </thead>\n",
       "  <tbody>\n",
       "    <tr>\n",
       "      <th>0</th>\n",
       "      <td>1</td>\n",
       "      <td>Toy Story</td>\n",
       "      <td>1995</td>\n",
       "      <td>1.0</td>\n",
       "      <td>John Lasseter</td>\n",
       "      <td>1.0</td>\n",
       "      <td>1.0</td>\n",
       "      <td>0</td>\n",
       "      <td>1</td>\n",
       "      <td>0</td>\n",
       "      <td>...</td>\n",
       "      <td>0</td>\n",
       "      <td>0</td>\n",
       "      <td>0</td>\n",
       "      <td>1</td>\n",
       "      <td>0</td>\n",
       "      <td>0</td>\n",
       "      <td>1</td>\n",
       "      <td>0</td>\n",
       "      <td>0</td>\n",
       "      <td>0</td>\n",
       "    </tr>\n",
       "    <tr>\n",
       "      <th>1</th>\n",
       "      <td>2</td>\n",
       "      <td>Jumanji</td>\n",
       "      <td>1995</td>\n",
       "      <td>1.0</td>\n",
       "      <td>Joe Johnston</td>\n",
       "      <td>1.0</td>\n",
       "      <td>1.0</td>\n",
       "      <td>0</td>\n",
       "      <td>1</td>\n",
       "      <td>0</td>\n",
       "      <td>...</td>\n",
       "      <td>0</td>\n",
       "      <td>0</td>\n",
       "      <td>1</td>\n",
       "      <td>0</td>\n",
       "      <td>0</td>\n",
       "      <td>0</td>\n",
       "      <td>0</td>\n",
       "      <td>0</td>\n",
       "      <td>0</td>\n",
       "      <td>1</td>\n",
       "    </tr>\n",
       "    <tr>\n",
       "      <th>2</th>\n",
       "      <td>3</td>\n",
       "      <td>Grumpier Old Men</td>\n",
       "      <td>1995</td>\n",
       "      <td>1.0</td>\n",
       "      <td>Howard Deutch</td>\n",
       "      <td>1.0</td>\n",
       "      <td>1.0</td>\n",
       "      <td>0</td>\n",
       "      <td>0</td>\n",
       "      <td>0</td>\n",
       "      <td>...</td>\n",
       "      <td>0</td>\n",
       "      <td>0</td>\n",
       "      <td>0</td>\n",
       "      <td>1</td>\n",
       "      <td>0</td>\n",
       "      <td>0</td>\n",
       "      <td>0</td>\n",
       "      <td>0</td>\n",
       "      <td>0</td>\n",
       "      <td>0</td>\n",
       "    </tr>\n",
       "    <tr>\n",
       "      <th>3</th>\n",
       "      <td>4</td>\n",
       "      <td>Waiting to Exhale</td>\n",
       "      <td>1995</td>\n",
       "      <td>1.0</td>\n",
       "      <td>Forest Whitaker</td>\n",
       "      <td>1.0</td>\n",
       "      <td>1.0</td>\n",
       "      <td>1</td>\n",
       "      <td>0</td>\n",
       "      <td>0</td>\n",
       "      <td>...</td>\n",
       "      <td>0</td>\n",
       "      <td>0</td>\n",
       "      <td>0</td>\n",
       "      <td>1</td>\n",
       "      <td>0</td>\n",
       "      <td>0</td>\n",
       "      <td>0</td>\n",
       "      <td>0</td>\n",
       "      <td>0</td>\n",
       "      <td>0</td>\n",
       "    </tr>\n",
       "    <tr>\n",
       "      <th>4</th>\n",
       "      <td>5</td>\n",
       "      <td>Father of the Bride Part II</td>\n",
       "      <td>1995</td>\n",
       "      <td>1.0</td>\n",
       "      <td>Charles Shyer</td>\n",
       "      <td>1.0</td>\n",
       "      <td>1.0</td>\n",
       "      <td>0</td>\n",
       "      <td>0</td>\n",
       "      <td>0</td>\n",
       "      <td>...</td>\n",
       "      <td>0</td>\n",
       "      <td>0</td>\n",
       "      <td>0</td>\n",
       "      <td>1</td>\n",
       "      <td>0</td>\n",
       "      <td>0</td>\n",
       "      <td>0</td>\n",
       "      <td>0</td>\n",
       "      <td>0</td>\n",
       "      <td>0</td>\n",
       "    </tr>\n",
       "  </tbody>\n",
       "</table>\n",
       "<p>5 rows × 25 columns</p>\n",
       "</div>"
      ],
      "text/plain": [
       "   MovieID                        Title  Year  gender             name  \\\n",
       "0        1                    Toy Story  1995     1.0    John Lasseter   \n",
       "1        2                      Jumanji  1995     1.0     Joe Johnston   \n",
       "2        3             Grumpier Old Men  1995     1.0    Howard Deutch   \n",
       "3        4            Waiting to Exhale  1995     1.0  Forest Whitaker   \n",
       "4        5  Father of the Bride Part II  1995     1.0    Charles Shyer   \n",
       "\n",
       "   male_director_proportion  all_male_director  Drama  Children's  Sci-Fi  \\\n",
       "0                       1.0                1.0      0           1       0   \n",
       "1                       1.0                1.0      0           1       0   \n",
       "2                       1.0                1.0      0           0       0   \n",
       "3                       1.0                1.0      1           0       0   \n",
       "4                       1.0                1.0      0           0       0   \n",
       "\n",
       "   ...  Crime  Mystery  Adventure  Comedy  Documentary  Western  Animation  \\\n",
       "0  ...      0        0          0       1            0        0          1   \n",
       "1  ...      0        0          1       0            0        0          0   \n",
       "2  ...      0        0          0       1            0        0          0   \n",
       "3  ...      0        0          0       1            0        0          0   \n",
       "4  ...      0        0          0       1            0        0          0   \n",
       "\n",
       "   Film-Noir  Action  Fantasy  \n",
       "0          0       0        0  \n",
       "1          0       0        1  \n",
       "2          0       0        0  \n",
       "3          0       0        0  \n",
       "4          0       0        0  \n",
       "\n",
       "[5 rows x 25 columns]"
      ]
     },
     "execution_count": 24,
     "metadata": {},
     "output_type": "execute_result"
    }
   ],
   "source": [
    "merged_df.head()"
   ]
  },
  {
   "cell_type": "markdown",
   "id": "f0d864b4-45d9-4c49-8054-482691a62f4b",
   "metadata": {},
   "source": [
    "### Merging Movies Dataframe with Ratings Dataframe on MovieID to Include Rating and UserID Columns"
   ]
  },
  {
   "cell_type": "markdown",
   "id": "e9b5989c-9b02-4750-9342-1795c3267b8a",
   "metadata": {},
   "source": [
    "Now that we have the movie information for the user ratings complete, we combine the unique Movie ID assigned by MovieLens with the full movie information (with director gender) from the merged dataset above.\n",
    "\n",
    "Each row represents 1 movie rated by 1 user.\n",
    "\n",
    "For clarity purposes, we rename columns to specify that the gender in the data represents the director's gender, and the rating represents the user's rating. We also drop irrelevant columns, such as the director's name."
   ]
  },
  {
   "cell_type": "code",
   "execution_count": 25,
   "id": "ebc4f1c8-e482-49bf-a7bd-8eda836dd154",
   "metadata": {},
   "outputs": [
    {
     "data": {
      "text/html": [
       "<div>\n",
       "<style scoped>\n",
       "    .dataframe tbody tr th:only-of-type {\n",
       "        vertical-align: middle;\n",
       "    }\n",
       "\n",
       "    .dataframe tbody tr th {\n",
       "        vertical-align: top;\n",
       "    }\n",
       "\n",
       "    .dataframe thead th {\n",
       "        text-align: right;\n",
       "    }\n",
       "</style>\n",
       "<table border=\"1\" class=\"dataframe\">\n",
       "  <thead>\n",
       "    <tr style=\"text-align: right;\">\n",
       "      <th></th>\n",
       "      <th>MovieID</th>\n",
       "      <th>Title</th>\n",
       "      <th>Year</th>\n",
       "      <th>Director_Gender</th>\n",
       "      <th>male_director_proportion</th>\n",
       "      <th>all_male_director</th>\n",
       "      <th>Drama</th>\n",
       "      <th>Children's</th>\n",
       "      <th>Sci-Fi</th>\n",
       "      <th>Romance</th>\n",
       "      <th>...</th>\n",
       "      <th>Adventure</th>\n",
       "      <th>Comedy</th>\n",
       "      <th>Documentary</th>\n",
       "      <th>Western</th>\n",
       "      <th>Animation</th>\n",
       "      <th>Film-Noir</th>\n",
       "      <th>Action</th>\n",
       "      <th>Fantasy</th>\n",
       "      <th>User_Rating</th>\n",
       "      <th>UserID</th>\n",
       "    </tr>\n",
       "  </thead>\n",
       "  <tbody>\n",
       "    <tr>\n",
       "      <th>0</th>\n",
       "      <td>1</td>\n",
       "      <td>Toy Story</td>\n",
       "      <td>1995</td>\n",
       "      <td>1.0</td>\n",
       "      <td>1.0</td>\n",
       "      <td>1.0</td>\n",
       "      <td>0</td>\n",
       "      <td>1</td>\n",
       "      <td>0</td>\n",
       "      <td>0</td>\n",
       "      <td>...</td>\n",
       "      <td>0</td>\n",
       "      <td>1</td>\n",
       "      <td>0</td>\n",
       "      <td>0</td>\n",
       "      <td>1</td>\n",
       "      <td>0</td>\n",
       "      <td>0</td>\n",
       "      <td>0</td>\n",
       "      <td>5</td>\n",
       "      <td>1</td>\n",
       "    </tr>\n",
       "    <tr>\n",
       "      <th>1</th>\n",
       "      <td>1</td>\n",
       "      <td>Toy Story</td>\n",
       "      <td>1995</td>\n",
       "      <td>1.0</td>\n",
       "      <td>1.0</td>\n",
       "      <td>1.0</td>\n",
       "      <td>0</td>\n",
       "      <td>1</td>\n",
       "      <td>0</td>\n",
       "      <td>0</td>\n",
       "      <td>...</td>\n",
       "      <td>0</td>\n",
       "      <td>1</td>\n",
       "      <td>0</td>\n",
       "      <td>0</td>\n",
       "      <td>1</td>\n",
       "      <td>0</td>\n",
       "      <td>0</td>\n",
       "      <td>0</td>\n",
       "      <td>4</td>\n",
       "      <td>6</td>\n",
       "    </tr>\n",
       "    <tr>\n",
       "      <th>2</th>\n",
       "      <td>1</td>\n",
       "      <td>Toy Story</td>\n",
       "      <td>1995</td>\n",
       "      <td>1.0</td>\n",
       "      <td>1.0</td>\n",
       "      <td>1.0</td>\n",
       "      <td>0</td>\n",
       "      <td>1</td>\n",
       "      <td>0</td>\n",
       "      <td>0</td>\n",
       "      <td>...</td>\n",
       "      <td>0</td>\n",
       "      <td>1</td>\n",
       "      <td>0</td>\n",
       "      <td>0</td>\n",
       "      <td>1</td>\n",
       "      <td>0</td>\n",
       "      <td>0</td>\n",
       "      <td>0</td>\n",
       "      <td>4</td>\n",
       "      <td>8</td>\n",
       "    </tr>\n",
       "    <tr>\n",
       "      <th>3</th>\n",
       "      <td>1</td>\n",
       "      <td>Toy Story</td>\n",
       "      <td>1995</td>\n",
       "      <td>1.0</td>\n",
       "      <td>1.0</td>\n",
       "      <td>1.0</td>\n",
       "      <td>0</td>\n",
       "      <td>1</td>\n",
       "      <td>0</td>\n",
       "      <td>0</td>\n",
       "      <td>...</td>\n",
       "      <td>0</td>\n",
       "      <td>1</td>\n",
       "      <td>0</td>\n",
       "      <td>0</td>\n",
       "      <td>1</td>\n",
       "      <td>0</td>\n",
       "      <td>0</td>\n",
       "      <td>0</td>\n",
       "      <td>5</td>\n",
       "      <td>9</td>\n",
       "    </tr>\n",
       "    <tr>\n",
       "      <th>4</th>\n",
       "      <td>1</td>\n",
       "      <td>Toy Story</td>\n",
       "      <td>1995</td>\n",
       "      <td>1.0</td>\n",
       "      <td>1.0</td>\n",
       "      <td>1.0</td>\n",
       "      <td>0</td>\n",
       "      <td>1</td>\n",
       "      <td>0</td>\n",
       "      <td>0</td>\n",
       "      <td>...</td>\n",
       "      <td>0</td>\n",
       "      <td>1</td>\n",
       "      <td>0</td>\n",
       "      <td>0</td>\n",
       "      <td>1</td>\n",
       "      <td>0</td>\n",
       "      <td>0</td>\n",
       "      <td>0</td>\n",
       "      <td>5</td>\n",
       "      <td>10</td>\n",
       "    </tr>\n",
       "  </tbody>\n",
       "</table>\n",
       "<p>5 rows × 26 columns</p>\n",
       "</div>"
      ],
      "text/plain": [
       "   MovieID      Title  Year  Director_Gender  male_director_proportion  \\\n",
       "0        1  Toy Story  1995              1.0                       1.0   \n",
       "1        1  Toy Story  1995              1.0                       1.0   \n",
       "2        1  Toy Story  1995              1.0                       1.0   \n",
       "3        1  Toy Story  1995              1.0                       1.0   \n",
       "4        1  Toy Story  1995              1.0                       1.0   \n",
       "\n",
       "   all_male_director  Drama  Children's  Sci-Fi  Romance  ...  Adventure  \\\n",
       "0                1.0      0           1       0        0  ...          0   \n",
       "1                1.0      0           1       0        0  ...          0   \n",
       "2                1.0      0           1       0        0  ...          0   \n",
       "3                1.0      0           1       0        0  ...          0   \n",
       "4                1.0      0           1       0        0  ...          0   \n",
       "\n",
       "   Comedy  Documentary  Western  Animation  Film-Noir  Action  Fantasy  \\\n",
       "0       1            0        0          1          0       0        0   \n",
       "1       1            0        0          1          0       0        0   \n",
       "2       1            0        0          1          0       0        0   \n",
       "3       1            0        0          1          0       0        0   \n",
       "4       1            0        0          1          0       0        0   \n",
       "\n",
       "   User_Rating  UserID  \n",
       "0            5       1  \n",
       "1            4       6  \n",
       "2            4       8  \n",
       "3            5       9  \n",
       "4            5      10  \n",
       "\n",
       "[5 rows x 26 columns]"
      ]
     },
     "execution_count": 25,
     "metadata": {},
     "output_type": "execute_result"
    }
   ],
   "source": [
    "# Merge Movies with Ratings on MovieID\n",
    "Ratings_and_Movies = pd.merge(merged_df, ratings_df[['MovieID', 'Rating', 'UserID']], on='MovieID').drop('name', axis=1)\n",
    "\n",
    "# Rename columns for clarity\n",
    "Ratings_and_Movies.rename(columns={'Rating': 'User_Rating', 'gender': 'Director_Gender'}, inplace=True)\n",
    "\n",
    "Ratings_and_Movies.head()"
   ]
  },
  {
   "cell_type": "markdown",
   "id": "ef023bb7-e50b-407f-babf-fb784f8f3e81",
   "metadata": {},
   "source": [
    "We also rename the columns to lowercase and use underscores for clarity purposes and to keep the column name style consistent."
   ]
  },
  {
   "cell_type": "code",
   "execution_count": 26,
   "id": "e604cd5e-78f9-4b4d-bb77-0bc52bcd7bb2",
   "metadata": {},
   "outputs": [],
   "source": [
    "# Rename columns to lowercase\n",
    "column_mapping = {\n",
    "    'Title': 'title',\n",
    "    'MovieID': 'movie_id',\n",
    "    'Year': 'year',\n",
    "    'User_Rating': 'user_rating',\n",
    "    'UserID': 'user_id',\n",
    "    'User_Gender': 'user_gender',\n",
    "    'Drama': 'drama',\n",
    "    'Romance': 'romance',\n",
    "    'Thriller': 'thriller',\n",
    "    'Action': 'action',\n",
    "    'Sci-Fi': 'sci_fi',\n",
    "    'Adventure': 'adventure',\n",
    "    'Mystery': 'mystery',\n",
    "    'Comedy': 'comedy',\n",
    "    \"Children's\": 'childrens',\n",
    "    'Animation': 'animation',\n",
    "    'War': 'war',\n",
    "    'Western': 'western',\n",
    "    'Documentary': 'documentary',\n",
    "    'Film-Noir': 'film_noir',\n",
    "    'Horror': 'horror',\n",
    "    'Fantasy': 'fantasy',\n",
    "    'Crime': 'crime',\n",
    "    'Musical': 'musical',\n",
    "    'Director_Gender': 'director_gender',\n",
    "    'male_director_proportion': 'male_director_proportion',\n",
    "    'all_male_director': 'all_male_director'\n",
    "}\n",
    "\n",
    "Ratings_and_Movies.rename(columns=column_mapping, inplace=True)\n",
    "Ratings_and_Movies = Ratings_and_Movies.dropna(subset=['all_male_director', 'director_gender'])"
   ]
  },
  {
   "cell_type": "markdown",
   "id": "3c40ca98-3e02-417f-8c6a-afe0c2a06bc7",
   "metadata": {},
   "source": [
    "We drop duplicate rows where the combination of MovieID and UserID is identical, ensuring that each unique user-movie pair has only one corresponding rating.\n",
    "\n",
    "We also remove the column with the director's gender because we will analyze the proportion of male directors associated with each movie, so the individual director gender is not necessary to retain."
   ]
  },
  {
   "cell_type": "code",
   "execution_count": 27,
   "id": "0ae6b2e7-cb08-4365-a50e-a7dc2b416b20",
   "metadata": {},
   "outputs": [
    {
     "data": {
      "text/html": [
       "<div>\n",
       "<style scoped>\n",
       "    .dataframe tbody tr th:only-of-type {\n",
       "        vertical-align: middle;\n",
       "    }\n",
       "\n",
       "    .dataframe tbody tr th {\n",
       "        vertical-align: top;\n",
       "    }\n",
       "\n",
       "    .dataframe thead th {\n",
       "        text-align: right;\n",
       "    }\n",
       "</style>\n",
       "<table border=\"1\" class=\"dataframe\">\n",
       "  <thead>\n",
       "    <tr style=\"text-align: right;\">\n",
       "      <th></th>\n",
       "      <th>movie_id</th>\n",
       "      <th>title</th>\n",
       "      <th>year</th>\n",
       "      <th>male_director_proportion</th>\n",
       "      <th>all_male_director</th>\n",
       "      <th>drama</th>\n",
       "      <th>childrens</th>\n",
       "      <th>sci_fi</th>\n",
       "      <th>romance</th>\n",
       "      <th>horror</th>\n",
       "      <th>...</th>\n",
       "      <th>adventure</th>\n",
       "      <th>comedy</th>\n",
       "      <th>documentary</th>\n",
       "      <th>western</th>\n",
       "      <th>animation</th>\n",
       "      <th>film_noir</th>\n",
       "      <th>action</th>\n",
       "      <th>fantasy</th>\n",
       "      <th>user_rating</th>\n",
       "      <th>user_id</th>\n",
       "    </tr>\n",
       "  </thead>\n",
       "  <tbody>\n",
       "    <tr>\n",
       "      <th>0</th>\n",
       "      <td>1</td>\n",
       "      <td>Toy Story</td>\n",
       "      <td>1995</td>\n",
       "      <td>1.0</td>\n",
       "      <td>1.0</td>\n",
       "      <td>0</td>\n",
       "      <td>1</td>\n",
       "      <td>0</td>\n",
       "      <td>0</td>\n",
       "      <td>0</td>\n",
       "      <td>...</td>\n",
       "      <td>0</td>\n",
       "      <td>1</td>\n",
       "      <td>0</td>\n",
       "      <td>0</td>\n",
       "      <td>1</td>\n",
       "      <td>0</td>\n",
       "      <td>0</td>\n",
       "      <td>0</td>\n",
       "      <td>5</td>\n",
       "      <td>1</td>\n",
       "    </tr>\n",
       "    <tr>\n",
       "      <th>1</th>\n",
       "      <td>1</td>\n",
       "      <td>Toy Story</td>\n",
       "      <td>1995</td>\n",
       "      <td>1.0</td>\n",
       "      <td>1.0</td>\n",
       "      <td>0</td>\n",
       "      <td>1</td>\n",
       "      <td>0</td>\n",
       "      <td>0</td>\n",
       "      <td>0</td>\n",
       "      <td>...</td>\n",
       "      <td>0</td>\n",
       "      <td>1</td>\n",
       "      <td>0</td>\n",
       "      <td>0</td>\n",
       "      <td>1</td>\n",
       "      <td>0</td>\n",
       "      <td>0</td>\n",
       "      <td>0</td>\n",
       "      <td>4</td>\n",
       "      <td>6</td>\n",
       "    </tr>\n",
       "    <tr>\n",
       "      <th>2</th>\n",
       "      <td>1</td>\n",
       "      <td>Toy Story</td>\n",
       "      <td>1995</td>\n",
       "      <td>1.0</td>\n",
       "      <td>1.0</td>\n",
       "      <td>0</td>\n",
       "      <td>1</td>\n",
       "      <td>0</td>\n",
       "      <td>0</td>\n",
       "      <td>0</td>\n",
       "      <td>...</td>\n",
       "      <td>0</td>\n",
       "      <td>1</td>\n",
       "      <td>0</td>\n",
       "      <td>0</td>\n",
       "      <td>1</td>\n",
       "      <td>0</td>\n",
       "      <td>0</td>\n",
       "      <td>0</td>\n",
       "      <td>4</td>\n",
       "      <td>8</td>\n",
       "    </tr>\n",
       "    <tr>\n",
       "      <th>3</th>\n",
       "      <td>1</td>\n",
       "      <td>Toy Story</td>\n",
       "      <td>1995</td>\n",
       "      <td>1.0</td>\n",
       "      <td>1.0</td>\n",
       "      <td>0</td>\n",
       "      <td>1</td>\n",
       "      <td>0</td>\n",
       "      <td>0</td>\n",
       "      <td>0</td>\n",
       "      <td>...</td>\n",
       "      <td>0</td>\n",
       "      <td>1</td>\n",
       "      <td>0</td>\n",
       "      <td>0</td>\n",
       "      <td>1</td>\n",
       "      <td>0</td>\n",
       "      <td>0</td>\n",
       "      <td>0</td>\n",
       "      <td>5</td>\n",
       "      <td>9</td>\n",
       "    </tr>\n",
       "    <tr>\n",
       "      <th>4</th>\n",
       "      <td>1</td>\n",
       "      <td>Toy Story</td>\n",
       "      <td>1995</td>\n",
       "      <td>1.0</td>\n",
       "      <td>1.0</td>\n",
       "      <td>0</td>\n",
       "      <td>1</td>\n",
       "      <td>0</td>\n",
       "      <td>0</td>\n",
       "      <td>0</td>\n",
       "      <td>...</td>\n",
       "      <td>0</td>\n",
       "      <td>1</td>\n",
       "      <td>0</td>\n",
       "      <td>0</td>\n",
       "      <td>1</td>\n",
       "      <td>0</td>\n",
       "      <td>0</td>\n",
       "      <td>0</td>\n",
       "      <td>5</td>\n",
       "      <td>10</td>\n",
       "    </tr>\n",
       "  </tbody>\n",
       "</table>\n",
       "<p>5 rows × 25 columns</p>\n",
       "</div>"
      ],
      "text/plain": [
       "   movie_id      title  year  male_director_proportion  all_male_director  \\\n",
       "0         1  Toy Story  1995                       1.0                1.0   \n",
       "1         1  Toy Story  1995                       1.0                1.0   \n",
       "2         1  Toy Story  1995                       1.0                1.0   \n",
       "3         1  Toy Story  1995                       1.0                1.0   \n",
       "4         1  Toy Story  1995                       1.0                1.0   \n",
       "\n",
       "   drama  childrens  sci_fi  romance  horror  ...  adventure  comedy  \\\n",
       "0      0          1       0        0       0  ...          0       1   \n",
       "1      0          1       0        0       0  ...          0       1   \n",
       "2      0          1       0        0       0  ...          0       1   \n",
       "3      0          1       0        0       0  ...          0       1   \n",
       "4      0          1       0        0       0  ...          0       1   \n",
       "\n",
       "   documentary  western  animation  film_noir  action  fantasy  user_rating  \\\n",
       "0            0        0          1          0       0        0            5   \n",
       "1            0        0          1          0       0        0            4   \n",
       "2            0        0          1          0       0        0            4   \n",
       "3            0        0          1          0       0        0            5   \n",
       "4            0        0          1          0       0        0            5   \n",
       "\n",
       "   user_id  \n",
       "0        1  \n",
       "1        6  \n",
       "2        8  \n",
       "3        9  \n",
       "4       10  \n",
       "\n",
       "[5 rows x 25 columns]"
      ]
     },
     "execution_count": 27,
     "metadata": {},
     "output_type": "execute_result"
    }
   ],
   "source": [
    "Ratings_and_Movies.drop_duplicates(subset=['movie_id', 'user_id'], inplace=True)\n",
    "Ratings_and_Movies = Ratings_and_Movies.drop('director_gender', axis=1)\n",
    "Ratings_and_Movies.head()"
   ]
  },
  {
   "cell_type": "markdown",
   "id": "ff49dd53-3162-4027-9429-2050371bc809",
   "metadata": {},
   "source": [
    "### Ratings and Director Gender EDA"
   ]
  },
  {
   "cell_type": "markdown",
   "id": "1ec2b5d8-3464-4d57-96ea-72e311c89976",
   "metadata": {},
   "source": [
    "Our recommender system looks at how users compare across movie ratings, using similarity between users to determine which movies to recommend. By visualizing the distribution of rating scores, we are able to see users' tendencies when rating movies. Most ratings are on the higher side with a score of 4. There are less low ratings of 1 & 2 in our dataset."
   ]
  },
  {
   "cell_type": "code",
   "execution_count": 28,
   "id": "b69e717a-b8c1-4454-b7d6-e49b2fab3762",
   "metadata": {},
   "outputs": [
    {
     "data": {
      "image/png": "[encoded data removed]",
      "text/plain": [
       "<Figure size 640x480 with 1 Axes>"
      ]
     },
     "metadata": {},
     "output_type": "display_data"
    }
   ],
   "source": [
    "%matplotlib inline\n",
    "\n",
    "# Count the occurrences of each rating\n",
    "rating_counts = ratings_df['Rating'].value_counts()\n",
    "\n",
    "# Sort the ratings in ascending order\n",
    "rating_counts = rating_counts.sort_index()\n",
    "\n",
    "# Create a bar plot\n",
    "rating_counts.plot(kind='bar', color='skyblue')\n",
    "\n",
    "# Add title and labels\n",
    "plt.title('Distribution of Rating Scores')\n",
    "plt.xlabel('Rating')\n",
    "plt.ylabel('Count')\n",
    "\n",
    "plt.show()"
   ]
  },
  {
   "cell_type": "markdown",
   "id": "53be5f01-cc51-493e-8cbf-ab898a96e5a8",
   "metadata": {},
   "source": [
    "We further separate this by the director's gender breakdown to compare the proportion of ratings between male versus female directors. Movies with all male directors received a greater proportion of 5 star ratings. This leads us to define the rating of 5 stars as a high rating, using this to identify bias in the next section to determine whether fully male-directed movies are advantaged by our model to receive a prediction of 5 stars."
   ]
  },
  {
   "cell_type": "code",
   "execution_count": 29,
   "id": "e7265cae-c056-462d-aed8-ec3beab099cf",
   "metadata": {},
   "outputs": [
    {
     "data": {
      "image/png": "[encoded data removed]",
      "text/plain": [
       "<Figure size 640x480 with 1 Axes>"
      ]
     },
     "metadata": {},
     "output_type": "display_data"
    }
   ],
   "source": [
    "# Group by 'director_gender' and 'user_rating', and count occurrences\n",
    "rating_counts_by_gender = Ratings_and_Movies.groupby(['all_male_director', 'user_rating']).size().unstack()\n",
    "\n",
    "# Normalize by the total number of ratings for each gender\n",
    "rating_percentage_by_gender = rating_counts_by_gender.div(rating_counts_by_gender.sum(axis=1), axis=0)\n",
    "\n",
    "# Define custom color palette with ordinal colors\n",
    "colors = ['#deebf7', '#c6dbef', '#9ecae1', '#6baed6', '#3182bd']  # Light to dark shades for 1-star to 5-star\n",
    "\n",
    "# Plotting\n",
    "ax = rating_percentage_by_gender.plot(kind='bar', stacked=True, color=colors)\n",
    "\n",
    "# Set custom x-axis labels\n",
    "ax.set_xticklabels(['At least one Female', 'All Male'], rotation=0)\n",
    "\n",
    "# Set custom legend outside the plot\n",
    "plt.legend(title='Rating', bbox_to_anchor=(1.05, 1), loc='upper left')\n",
    "\n",
    "plt.title('Proportion of Ratings by Director Gender')\n",
    "plt.xlabel('Director Genders')\n",
    "plt.ylabel('Proportion of Ratings')\n",
    "\n",
    "plt.show()"
   ]
  },
  {
   "cell_type": "markdown",
   "id": "c6cf5344-134f-481b-a27f-017a64506ce7",
   "metadata": {},
   "source": [
    "Next, we check for gender imbalance in our dataset. Given societal context, we expect most movies to be directed by males. This is reflected in our dataset with a severe imbalance between the proportion of movies directed by males versus females."
   ]
  },
  {
   "cell_type": "code",
   "execution_count": 30,
   "id": "d88a4c90-c4a5-49d9-b76b-3c0be98b8ad1",
   "metadata": {},
   "outputs": [
    {
     "data": {
      "image/png": "[encoded data removed]",
      "text/plain": [
       "<Figure size 640x480 with 1 Axes>"
      ]
     },
     "metadata": {},
     "output_type": "display_data"
    }
   ],
   "source": [
    "# Proportion of movies in dataset directed by each gender\n",
    "gender_labels = merged_df['gender'].map({1: 'Male', 0: 'Female'})\n",
    "props = gender_labels.value_counts() / gender_labels.value_counts().sum()\n",
    "\n",
    "# Define colors for male and female directors\n",
    "colors = ['blue', '#FF69B4']\n",
    "\n",
    "plot = props.plot(kind='bar', color=colors)  # Set colors for male and female directors\n",
    "plt.xlabel('Director Gender')\n",
    "plt.ylabel('Proportion')\n",
    "plt.title('Proportion of Movies Directed by Each Gender')\n",
    "\n",
    "plt.show()"
   ]
  },
  {
   "cell_type": "markdown",
   "id": "24568828-3634-4a10-ad0b-94c2fbff2d84",
   "metadata": {},
   "source": [
    "While it is important to acknowledge the strong class imbalance within the dataset, training a linear regression model to predict movie ratings did not reveal a substantial discrepancy in accuracy between male-directed and female-directed movies. \n",
    "\n",
    "The model demonstrated comparable performance in predicting ratings for both director genders. The mean squared error (MSE) for predicting ratings of female-directed movies was only slightly lower than that for male-directed movies. There is not a significant difference in MSE between the different director genders.\n",
    "\n",
    "Because of this similar performance in MSE across director genders, plus the time-constraints of the project and limited resources, we decide not to correct the class imbalance. This imbalance does not significantly impact the predictive capabilities of the linear regression model."
   ]
  },
  {
   "cell_type": "code",
   "execution_count": 31,
   "id": "280c7780-398e-44e1-b148-1a6d0d7612b3",
   "metadata": {},
   "outputs": [
    {
     "name": "stdout",
     "output_type": "stream",
     "text": [
      "Mean Squared Error for Movies with all Male Directors: 1.1619440978928832\n",
      "Mean Squared Error for Movies with Female Directors: 1.1397977798088128\n"
     ]
    }
   ],
   "source": [
    "# Suppress FutureWarnings related to is_sparse\n",
    "warnings.filterwarnings(\"ignore\", category=FutureWarning, module=\"sklearn.utils.validation\")\n",
    "\n",
    "# Select common features\n",
    "common_features = ['year', 'documentary', 'romance', 'fantasy', 'western', 'thriller',\n",
    "            'childrens', 'film_noir', 'drama', 'comedy', 'adventure', 'horror', 'crime', 'action', 'mystery', 'war', 'musical', 'animation', 'sci_fi', 'male_director_proportion', 'all_male_director']\n",
    "\n",
    "# Filter data for fully male directed movies separately\n",
    "df_male_director = Ratings_and_Movies[Ratings_and_Movies['all_male_director'] == 1]\n",
    "df_female_director = Ratings_and_Movies[Ratings_and_Movies['all_male_director'] == 0]\n",
    "\n",
    "# Function to train and evaluate a model\n",
    "def train_and_evaluate(data, director_gender):\n",
    "    X = data[common_features]\n",
    "    y = data['user_rating']\n",
    "\n",
    "    # Split the data into training and testing sets\n",
    "    X_train, X_test, y_train, y_test = sklearn_train_test_split(X, y, test_size=0.2, random_state=42)\n",
    "\n",
    "    # Create a linear regression model\n",
    "    model = LinearRegression()\n",
    "\n",
    "    # Fit the model on the training data\n",
    "    model.fit(X_train, y_train)\n",
    "\n",
    "    # Make predictions on the testing data\n",
    "    y_pred = model.predict(X_test)\n",
    "\n",
    "    # Evaluate the model\n",
    "    mse = mean_squared_error(y_test, y_pred)\n",
    "    print(f'Mean Squared Error for {director_gender}: {mse}')\n",
    "\n",
    "# Train and evaluate models for male directed movies vs female directed movies\n",
    "train_and_evaluate(df_male_director, 'Movies with all Male Directors')\n",
    "train_and_evaluate(df_female_director, 'Movies with Female Directors')"
   ]
  },
  {
   "cell_type": "markdown",
   "id": "c98662dc-9999-4337-90c6-5d4e1ef5cfba",
   "metadata": {},
   "source": [
    "Our model utilizes features such as the genre of the movie and year to determine whether a user is likely to give that movie a high rating, based on their previous ratings for movies of similar features. So, we examine the distribution of how movie genres and years compare across the different director genders."
   ]
  },
  {
   "cell_type": "code",
   "execution_count": 32,
   "id": "81fb073a-150f-4d0e-adb8-ceb3a83251a3",
   "metadata": {},
   "outputs": [
    {
     "data": {
      "image/png": "[encoded data removed]",
      "text/plain": [
       "<Figure size 640x480 with 1 Axes>"
      ]
     },
     "metadata": {},
     "output_type": "display_data"
    }
   ],
   "source": [
    "# Group by 'director_gender' and calculate sum of genre columns\n",
    "genre_counts_by_gender = merged_df.groupby('gender')[['Action', \"Children's\", 'Comedy', 'Adventure', 'Fantasy', 'Romance', 'Drama', 'Thriller', 'Horror', 'Sci-Fi', 'Crime', 'Animation', 'Mystery', 'War', 'Musical', 'Documentary', 'Western', 'Film-Noir']].sum()\n",
    "\n",
    "# Calculate total movies by gender\n",
    "total_movies_by_gender = merged_df['gender'].value_counts()\n",
    "\n",
    "# Calculate percentages\n",
    "genre_percentage_by_gender = genre_counts_by_gender.div(total_movies_by_gender, axis=0) * 100\n",
    "\n",
    "# Plotting\n",
    "bar_width = 0.35\n",
    "index = np.arange(len(genre_percentage_by_gender.columns))\n",
    "\n",
    "female_data = genre_percentage_by_gender.loc[0.0]\n",
    "male_data = genre_percentage_by_gender.loc[1.0]\n",
    "\n",
    "plt.bar(index, female_data, bar_width, label='Female', color='#FF69B4')\n",
    "plt.bar(index + bar_width, male_data, bar_width, label='Male', color='blue')\n",
    "\n",
    "# Set custom x-axis labels\n",
    "plt.xlabel('Genre')\n",
    "plt.ylabel('Percentage')\n",
    "plt.title('Percentage of Each Genre Among Movies Directed by Male and Female Directors')\n",
    "plt.xticks(index + bar_width / 2, genre_percentage_by_gender.columns, rotation=45, ha='right')\n",
    "\n",
    "# Set custom legend\n",
    "plt.legend(title='Director Gender')\n",
    "\n",
    "# Customize grid lines\n",
    "plt.grid(alpha=0.3)\n",
    "\n",
    "plt.show()"
   ]
  },
  {
   "cell_type": "markdown",
   "id": "3de0bb39-033a-441b-bca9-86c9b02cac5c",
   "metadata": {},
   "source": [
    "Certain genres, such as animation and western, are dominated by male directors. Users who predominantly rate movies within these genres are likely to receive higher predicted ratings for male-directed movies due to the disproportionate representation of male directors."
   ]
  },
  {
   "cell_type": "markdown",
   "id": "1cf74a00-d13c-45a3-93cb-8c2f65b3d70a",
   "metadata": {},
   "source": [
    "While the MSE is comparable across the different director genders, we now look into fairness. We know that the model does not perform significantly better for male directors versus female directors, but as seen in the rating breakdown by director gender, we are inclined to believe movies with all male directors receive higher predictions for a perfect rating of 5."
   ]
  },
  {
   "cell_type": "markdown",
   "id": "60ecbb13-416a-4bc6-8524-2bee76b4ee50",
   "metadata": {},
   "source": [
    "## Checking for Bias"
   ]
  },
  {
   "cell_type": "markdown",
   "id": "44e79f1c-36fc-444e-bf56-4f4198a7645a",
   "metadata": {},
   "source": [
    "#### Remove non-numerical column (title) to make dataset compatible with AIF360"
   ]
  },
  {
   "cell_type": "markdown",
   "id": "21a569e6-5ca4-478b-a1cb-2a7c659170aa",
   "metadata": {},
   "source": [
    "We remove the title of the movie because it is not relevant to our model."
   ]
  },
  {
   "cell_type": "code",
   "execution_count": 33,
   "id": "0c87d1de-df9a-43c4-9542-9d7ddcdbb8e1",
   "metadata": {},
   "outputs": [],
   "source": [
    "Ratings_and_Movies = Ratings_and_Movies.drop('title', axis=1)"
   ]
  },
  {
   "cell_type": "markdown",
   "id": "58939100-29cd-458f-a97a-4659e0a24f8c",
   "metadata": {},
   "source": [
    "In our model, we designate a perfect rating of 5 as the favorable outcome, for the reasons mentioned above. Given the societal context of gender disparities, we acknowledge movies fully directed by males as the privileged group within our analysis."
   ]
  },
  {
   "cell_type": "code",
   "execution_count": 34,
   "id": "18425445-a9f8-4983-b7db-925cfe60a9d2",
   "metadata": {},
   "outputs": [
    {
     "name": "stdout",
     "output_type": "stream",
     "text": [
      "Disparate Impact Before Mitigation: 0.6936728137652075\n",
      "Statistical Parity Difference Before Mitigation: -0.06811093669303028\n"
     ]
    }
   ],
   "source": [
    "# Define the protected attributes\n",
    "protected_attributes = ['all_male_director']\n",
    "\n",
    "# Define the favorable and unfavorable labels\n",
    "favorable_classes = [5]  # 5 is a high rating (favorable)\n",
    "\n",
    "# Create a StandardDataset\n",
    "dataset = StandardDataset(Ratings_and_Movies, label_name='user_rating', favorable_classes=favorable_classes,\n",
    "                          protected_attribute_names=protected_attributes,\n",
    "                          privileged_classes=[[1]])  # Only one class for all_male_director (e.g., male is privileged)\n",
    "\n",
    "# Calculate the disparate impact before any mitigation\n",
    "metric_before = BinaryLabelDatasetMetric(dataset, unprivileged_groups=[{'all_male_director': 0}],\n",
    "                                         privileged_groups=[{'all_male_director': 1}])\n",
    "disparate_impact_before = metric_before.disparate_impact()\n",
    "\n",
    "print(\"Disparate Impact Before Mitigation:\", disparate_impact_before)\n",
    "print(\"Statistical Parity Difference Before Mitigation:\", metric_before.statistical_parity_difference())"
   ]
  },
  {
   "cell_type": "markdown",
   "id": "5617902c-e06b-4af5-afba-1a75a3fdbed1",
   "metadata": {},
   "source": [
    "#### Disparate Impact:\n",
    "- A Disparate Impact value of 0.6936728137652075 (before mitigation) shows an imbalance in the favorable outcome (perfect rating of 5) between male and female directors within the dataset. Fully male-directed movies, as the privileged group, are more likely to achieve the favorable outcome compared to movies with female directors.\n",
    "- The 3/4ths rule (the fraction 3/4 maps to a percentage of 75%) is a standard threshold used for disparate impact analysis. According to this rule, if the favorable outcome rate for a group is less than 75%, bias is present in the dataset.\n",
    "- Our Disparate Impact value of 0.6936728137652075 maps to a percentage of ~69%, which is less than 75%. Movies with female directors are getting 5-star ratings about 69% as often as fully male-directed movies. Since this is less than 75%, there is a bias in how 5-star ratings are distributed between the different gender breakdowns of the movie directors.\n",
    "\n",
    "#### Statistical Parity:\n",
    "- A Statistical Parity Difference value of -0.06811093669303028 (before mitigation) indicates a difference in the proportion of favorable outcomes (perfect ratings of 5) between fully-male directed movies and movies with female directors. The negative value suggests that movies with female directors experience a lower rate of favorable outcomes compared to fully-male directed movies. It implies that fully male-directed movies receive a higher proportion of 5-star ratings than female-directed movies.\n",
    "- A Statistical Parity Difference close of 0 shows no difference in the proportion of favorable outcomes between different groups. Our value is close to 0 and does not show a discernible bias."
   ]
  },
  {
   "cell_type": "markdown",
   "id": "fff63c84-fc39-4576-8a89-a4ecfa977869",
   "metadata": {},
   "source": [
    "### [3.](#Table-of-Contents) Model Development & Evaluation"
   ]
  },
  {
   "cell_type": "markdown",
   "id": "fedadd0c-76bb-4ca6-aaa7-c14fd2822f6d",
   "metadata": {},
   "source": [
    "#### Random Forest (Classification Algorithm)\n",
    "- The goal is to use a Random Forest Classifier to predict whether a user will give a movie a perfect rating (5 stars) based on various movie attributes, including the year of release, genre, and whether or not the movies is fully male-directed. The model is trained and evaluated on this binary classification task, and additional focus is placed on assessing potential biases related to the protected attribute 'all_male_director' to ensure fair and unbiased predictions. The code performs hyperparameter tuning, calculates fairness metrics, and reports on both the model's predictive accuracy and fairness considerations."
   ]
  },
  {
   "cell_type": "code",
   "execution_count": 35,
   "id": "4e36aa37-8bc0-4c05-a980-a44cf1204eab",
   "metadata": {},
   "outputs": [
    {
     "data": {
      "text/markdown": [
       "#### Bias Metrics"
      ],
      "text/plain": [
       "<IPython.core.display.Markdown object>"
      ]
     },
     "metadata": {},
     "output_type": "display_data"
    },
    {
     "name": "stdout",
     "output_type": "stream",
     "text": [
      "Disparate Impact: 0.6683266010922667\n",
      "Statistical Parity Difference: -0.07358900435300986\n"
     ]
    },
    {
     "data": {
      "text/markdown": [
       "#### Random Forest Classifier Metrics"
      ],
      "text/plain": [
       "<IPython.core.display.Markdown object>"
      ]
     },
     "metadata": {},
     "output_type": "display_data"
    },
    {
     "name": "stdout",
     "output_type": "stream",
     "text": [
      "Best n_estimators: 150\n",
      "Accuracy: 0.7880449340387062\n",
      "\n",
      "Classification Report:\n",
      "               precision    recall  f1-score   support\n",
      "\n",
      "           0       0.80      0.97      0.88     93464\n",
      "           1       0.56      0.12      0.19     26000\n",
      "\n",
      "    accuracy                           0.79    119464\n",
      "   macro avg       0.68      0.55      0.54    119464\n",
      "weighted avg       0.75      0.79      0.73    119464\n",
      "\n"
     ]
    }
   ],
   "source": [
    "# Features and target variable\n",
    "X = Ratings_and_Movies[['year', 'documentary', 'romance', 'fantasy', 'western', 'thriller',\n",
    "                         'childrens', 'film_noir', 'drama', 'comedy', 'adventure', 'horror', 'crime', \n",
    "                         'action', 'mystery', 'war', 'musical', 'animation', 'sci_fi', 'male_director_proportion', 'all_male_director']]\n",
    "y = (Ratings_and_Movies['user_rating'] == 5).astype(int)\n",
    "\n",
    "# Split the data into training and testing sets\n",
    "X_train, X_test, y_train, y_test = sklearn_train_test_split(X, y, test_size=0.2, random_state=42)\n",
    "\n",
    "# Define the protected attributes\n",
    "protected_attributes = ['all_male_director']\n",
    "\n",
    "# Define the privileged and unprivileged groups\n",
    "privileged_groups = [{'all_male_director': 1}]\n",
    "unprivileged_groups = [{'all_male_director': 0}]\n",
    "\n",
    "# Initialize the Random Forest Classifier model\n",
    "rf_classifier = RandomForestClassifier(random_state=42)\n",
    "\n",
    "# Define the parameter grid for n_estimators\n",
    "param_grid = {'n_estimators': [5, 100, 150, 200]}\n",
    "\n",
    "# Perform grid search using GridSearchCV\n",
    "grid_search = GridSearchCV(rf_classifier, param_grid, cv=4, scoring='accuracy')\n",
    "grid_search.fit(X_train, y_train)\n",
    "\n",
    "# Get the best model from the grid search\n",
    "best_rf_model = grid_search.best_estimator_\n",
    "\n",
    "# Make predictions on the test data using the best model\n",
    "y_pred_rf = best_rf_model.predict(X_test)\n",
    "\n",
    "# Combine X_test, y_test, and y_pred_rf into a new DataFrame\n",
    "test_results = pd.concat([X_test, pd.DataFrame({'user_rating': y_test, 'predicted_rating': y_pred_rf})], axis=1)\n",
    "\n",
    "# Extract the protected attribute 'director_gender' from the original dataset\n",
    "test_results['all_male_director'] = Ratings_and_Movies.loc[X_test.index, 'all_male_director']\n",
    "\n",
    "# Create a StandardDataset\n",
    "dataset = StandardDataset(df=test_results,\n",
    "                          label_name='user_rating', favorable_classes=[1], # This is 1 instead of 5 given that user_ratring is transformed to binary values\n",
    "                          protected_attribute_names=protected_attributes,\n",
    "                          privileged_classes=[[1]])  # Only one class for all_male_director (e.g., male is privileged)\n",
    "\n",
    "# Create a BinaryLabelDatasetMetric for bias metrics\n",
    "dataset_metric = BinaryLabelDatasetMetric(dataset, unprivileged_groups=unprivileged_groups, privileged_groups=privileged_groups)\n",
    "\n",
    "# Display bias metrics\n",
    "display(Markdown(\"#### Bias Metrics\"))\n",
    "print(\"Disparate Impact:\", dataset_metric.disparate_impact())\n",
    "print(\"Statistical Parity Difference:\", dataset_metric.statistical_parity_difference())\n",
    "\n",
    "# Calculate accuracy using scikit-learn's accuracy_score\n",
    "accuracy_rf = accuracy_score(y_test, y_pred_rf)\n",
    "\n",
    "# Display Random Forest Classifier Metrics\n",
    "display(Markdown(\"#### Random Forest Classifier Metrics\"))\n",
    "print(\"Best n_estimators:\", best_rf_model.n_estimators)\n",
    "print(\"Accuracy:\", accuracy_rf)\n",
    "print(\"\\nClassification Report:\\n\", classification_report(y_test, y_pred_rf))"
   ]
  },
  {
   "cell_type": "markdown",
   "id": "187d898b-1809-400e-bc8e-56282bf9a0f9",
   "metadata": {},
   "source": [
    "1. Classification Report\n",
    "- Precision: Precision is the ratio of correctly predicted positive observations to the total predicted positives. It is a measure of how many of the predicted positive instances are actually positive.\n",
    "- Recall (Sensitivity or True Positive Rate): Recall is the ratio of correctly predicted positive observations to the all observations in the actual class. It is a measure of how many actual positive instances were captured by the model.\n",
    "- F1-score: The F1-score is the weighted average of precision and recall. It is a metric that balances precision and recall. It ranges from 0 to 1, with higher values indicating a better balance.\n",
    "- Support: The number of actual occurrences of the class in the specified dataset.\n",
    "\n",
    "2. Class 0 (user_rating is not 5):\n",
    "- Interpretation: Precision for class 0 (user rating not equal to 5) is 0.80, indicating that among the instances predicted as not having a user rating of 5, 80% were correct. Recall for class 0 is 0.97, indicating that the model identified 97% of instances with a user rating not equal to 5. F1-score for class 0 is 0.88, providing a balance between precision and recall.\n",
    "\n",
    "3. Class 1 (user_rating is 5):\n",
    "- Interpretation: Precision for class 1 (user rating equal to 5) is 0.56, indicating that among the instances predicted as having a user rating of 5, 56% were correct. Recall for class 1 is 0.12, indicating that the model identified only 12% of instances with a user rating equal to 5. F1-score for class 1 is 0.19, indicating a trade-off between precision and recall for instances with a user rating equal to 5.\n",
    "\n",
    "4. Overall Metrics (macro avg, weighted avg):\n",
    "- Macro avg: The unweighted average of precision, recall, and F1-score across all classes. It treats all classes equally.\n",
    "- Weighted avg: The weighted average of precision, recall, and F1-score, where each class's contribution is weighted by the number of true instances. It provides a better representation when class sizes are imbalanced.\n",
    "\n",
    "5. Bias Metrics\n",
    "- Disparate Impact: Measures the ratio of favorable outcomes for the unprivileged group to the privileged group. A Disparate Impact of ~0.67 suggests that the unprivileged group is at a disadvantage compared to the privileged group, as they are less likely to receive favorable outcomes.\n",
    "- Statistical Parity Difference: Measures the difference in the proportion of favorable outcomes between the unprivileged and privileged groups. A Statistical Parity Difference of -0.074 suggests a slight disadvantage for the unprivileged group, as the proportion of favorable outcomes is slightly lower compared to the privileged group.\n",
    "\n",
    "7. Summary:\n",
    "- In summary, while the model achieves high accuracy, the lower recall for class 1 suggests that it might have difficulty correctly identifying instances with a user rating equal to 5. In terms of bias, the disparate impact suggests that the underpriviledged group is at a disadvantage compared to the priviledged group, as they are less likely to recieve favorable outcomes, or in this case, 5 star ratings."
   ]
  },
  {
   "cell_type": "code",
   "execution_count": 36,
   "id": "52f7c04b-b08c-4516-a0a7-c6a0ea9efc02",
   "metadata": {
    "scrolled": true
   },
   "outputs": [
    {
     "data": {
      "image/png": "[encoded data removed]",
      "text/plain": [
       "<Figure size 800x600 with 1 Axes>"
      ]
     },
     "metadata": {},
     "output_type": "display_data"
    },
    {
     "data": {
      "image/png": "[encoded data removed]",
      "text/plain": [
       "<Figure size 800x600 with 1 Axes>"
      ]
     },
     "metadata": {},
     "output_type": "display_data"
    },
    {
     "data": {
      "image/png": "[encoded data removed]",
      "text/plain": [
       "<Figure size 1000x800 with 1 Axes>"
      ]
     },
     "metadata": {},
     "output_type": "display_data"
    }
   ],
   "source": [
    "# ROC-AUC Curve\n",
    "fpr, tpr, _ = roc_curve(y_test, best_rf_model.predict_proba(X_test)[:, 1])\n",
    "roc_auc = auc(fpr, tpr)\n",
    "\n",
    "plt.figure(figsize=(8, 6))\n",
    "plt.plot(fpr, tpr, color='darkorange', lw=2, label='ROC curve (area = {:.2f})'.format(roc_auc))\n",
    "plt.plot([0, 1], [0, 1], color='navy', lw=2, linestyle='--')\n",
    "plt.xlabel('False Positive Rate')\n",
    "plt.ylabel('True Positive Rate')\n",
    "plt.title('Receiver Operating Characteristic (ROC) Curve')\n",
    "plt.legend(loc='lower right')\n",
    "# Customize grid lines\n",
    "plt.grid(alpha=0.3)\n",
    "plt.show()\n",
    "\n",
    "# Precision-Recall Curve\n",
    "precision, recall, _ = precision_recall_curve(y_test, best_rf_model.predict_proba(X_test)[:, 1])\n",
    "average_precision = average_precision_score(y_test, best_rf_model.predict_proba(X_test)[:, 1])\n",
    "\n",
    "plt.figure(figsize=(8, 6))\n",
    "plt.plot(recall, precision, color='blue', lw=2, label='Precision-Recall curve (AP = {:.2f})'.format(average_precision))\n",
    "plt.xlabel('Recall')\n",
    "plt.ylabel('Precision')\n",
    "plt.title('Precision-Recall Curve')\n",
    "plt.legend(loc='lower right')\n",
    "# Customize grid lines\n",
    "plt.grid(alpha=0.3)\n",
    "plt.show()\n",
    "\n",
    "# Feature Importances\n",
    "result = permutation_importance(best_rf_model, X_test, y_test, n_repeats=10, random_state=42, n_jobs=-1)\n",
    "sorted_idx = result.importances_mean.argsort()\n",
    "\n",
    "plt.figure(figsize=(10, 8))\n",
    "plt.barh(range(X_test.shape[1]), result.importances_mean[sorted_idx])\n",
    "plt.yticks(range(X_test.shape[1]), X_test.columns[sorted_idx])\n",
    "plt.xlabel('Permutation Importance')\n",
    "plt.title('Feature Importances')\n",
    "# Customize grid lines\n",
    "plt.grid(alpha=0.3)\n",
    "plt.show()"
   ]
  },
  {
   "cell_type": "markdown",
   "id": "53217385-8c69-47cb-9381-2ef78b44f93a",
   "metadata": {},
   "source": [
    "1. ROC-AUC Curve: Visualizes the trade-off between true positive rate and false positive rate.\n",
    "- The ROC-AUC score ranges from 0 to 1.\n",
    "- An AUC of 0.72 suggests a moderate discriminatory power of our model.\n",
    "A higher ROC-AUC indicates better separation between the positive and negative classes.\n",
    "A rule of thumb for interpretation:\n",
    "0.5-0.6: Poor\n",
    "0.6-0.7: Fair\n",
    "0.7-0.8: Good\n",
    "0.8-0.9: Very good\n",
    "0.9-1.0: Excellent\n",
    "\n",
    "2. Precision-Recall Curve: Shows the precision-recall trade-off, often useful for imbalanced datasets.\n",
    "- The Precision-Recall AUC score also ranges from 0 to 1.\n",
    "- An AP of 0.41 suggests that the precision-recall trade-off might not be ideal, and there's room for improvement.\n",
    "- Precision-Recall AUC is particularly useful when dealing with imbalanced datasets, focusing on the positive class.\n",
    "\n",
    "3. Feature Importances Bar Plot: Displays the importance of each feature in the trained Random Forest model."
   ]
  },
  {
   "cell_type": "markdown",
   "id": "61cf45a6-c617-416f-92bd-ca6f47b226de",
   "metadata": {},
   "source": [
    "#### Recommender System using Jaccard Similarity\n",
    "- In this recommender system, a Movie-User matrix is created based on user ratings. The recommendation algorithm relies on Jaccard similarity between movies to generate personalized recommendations for a user. The generate_movie_recommendations function identifies movies already rated by the user and calculates Jaccard similarity with other movies, considering user preferences. The resulting recommendations are then filtered and ranked by Jaccard similarity. To assess potential bias, one would need to analyze whether the recommended movies exhibit any bias toward director gender, as this information is not explicitly integrated into the recommendation process. Evaluating the fairness and potential bias in movie recommendations would involve examining the recommended movies in relation to the director's gender."
   ]
  },
  {
   "cell_type": "code",
   "execution_count": 37,
   "id": "4ab92a8c-79b7-420e-9246-2ab3b9cefda6",
   "metadata": {},
   "outputs": [],
   "source": [
    "# Create a Movie-User matrix\n",
    "movie_user_matrix = Ratings_and_Movies.pivot_table(index='movie_id', columns='user_id', values='user_rating', fill_value=0)\n",
    "\n",
    "# Function to calculate Jaccard similarity between two movies\n",
    "def calculate_jaccard_similarity(movie1, movie2):\n",
    "    intersection = sum((movie1 > 0) & (movie2 > 0))\n",
    "    union = sum((movie1 > 0) | (movie2 > 0))\n",
    "    \n",
    "    if union == 0:\n",
    "        return 0\n",
    "    \n",
    "    return intersection / union\n",
    "\n",
    "# Function to generate movie recommendations based on Jaccard similarity\n",
    "def generate_movie_recommendations(user_id, movie_user_matrix, df_movies, top_n=5):\n",
    "    # Get movies already rated by the user\n",
    "    user_rated_movies = movie_user_matrix[user_id][movie_user_matrix[user_id] > 0].index\n",
    "    \n",
    "    # Initialize an empty DataFrame to store recommendations\n",
    "    recommendations = pd.DataFrame(columns=['movie_id'])\n",
    "    \n",
    "    for movie_id in user_rated_movies:\n",
    "        target_movie_ratings = movie_user_matrix.loc[movie_id]\n",
    "        similarities = movie_user_matrix.apply(lambda x: calculate_jaccard_similarity(target_movie_ratings, x), axis=1)\n",
    "    \n",
    "        # Sort movies by Jaccard similarity in descending order\n",
    "        similar_movies = similarities.sort_values(ascending=False)\n",
    "    \n",
    "        # Exclude movies already rated by the user\n",
    "        similar_movies = similar_movies.drop(user_rated_movies)\n",
    "    \n",
    "        # Append recommendations to the DataFrame\n",
    "        recommendations = pd.concat([recommendations, similar_movies.head(top_n).reset_index()], ignore_index=True)\n",
    "    \n",
    "    # Drop duplicates and keep the top N recommendations\n",
    "    recommendations = recommendations.drop_duplicates().head(top_n)\n",
    "    \n",
    "    # Rename the column '0' to 'Jaccard_Score'\n",
    "    recommendations = recommendations.rename(columns={0: 'Jaccard_Similarity'})\n",
    "    \n",
    "    return recommendations"
   ]
  },
  {
   "cell_type": "markdown",
   "id": "be4176e9-22a2-46cd-b7e6-ecf7e19cdb67",
   "metadata": {},
   "source": [
    "#### Find top 10 movies for any given user ID"
   ]
  },
  {
   "cell_type": "code",
   "execution_count": 38,
   "id": "39a8f19a-2cd4-4958-a99f-08554d5ca2c4",
   "metadata": {},
   "outputs": [
    {
     "name": "stdout",
     "output_type": "stream",
     "text": [
      "Top 10 Recommended Movies for User ID 1:\n",
      "   movie_id  Jaccard_Similarity\n",
      "0     1265            0.459450\n",
      "1      356            0.403549\n",
      "2     1580            0.394260\n",
      "3     2396            0.382033\n",
      "4     1196            0.379151\n",
      "5     1923            0.370974\n",
      "6     1198            0.363528\n",
      "7      589            0.360783\n",
      "8      296            0.360666\n",
      "9     2716            0.359949\n"
     ]
    }
   ],
   "source": [
    "# Example: Recommend top 10 movies for User ID 1\n",
    "user_id_to_recommend = 1\n",
    "recommended_movies = generate_movie_recommendations(user_id_to_recommend, movie_user_matrix, Ratings_and_Movies[['movie_id']], top_n=10)\n",
    "\n",
    "print(f\"Top 10 Recommended Movies for User ID {user_id_to_recommend}:\\n\", recommended_movies)"
   ]
  },
  {
   "cell_type": "markdown",
   "id": "b89103b9",
   "metadata": {},
   "source": [
    "#### Plotted director gender proportion of top 10 movies recommended to user"
   ]
  },
  {
   "cell_type": "code",
   "execution_count": 39,
   "id": "17f92138-4be3-4e41-8a49-33252409c898",
   "metadata": {},
   "outputs": [
    {
     "data": {
      "image/png": "[encoded data removed]",
      "text/plain": [
       "<Figure size 800x400 with 1 Axes>"
      ]
     },
     "metadata": {},
     "output_type": "display_data"
    }
   ],
   "source": [
    "# Calculate the proportion of movies with all male directors\n",
    "all_male_director_proportion = merged_df[merged_df['MovieID'].isin(list(recommended_movies['movie_id']))]['all_male_director'].mean() * 100\n",
    "\n",
    "# Calculate female director proportion\n",
    "female_director_proportion = 100 - all_male_director_proportion\n",
    "\n",
    "# Data for the horizontal bar chart\n",
    "labels = ['All Male Directors', 'At least one Female Director']\n",
    "proportions = [all_male_director_proportion, female_director_proportion]\n",
    "\n",
    "# Plotting the horizontal bar chart\n",
    "plt.figure(figsize=(8, 4))\n",
    "plt.barh(labels, proportions, color=['blue', '#FF69B4'])\n",
    "plt.title('Percentage of Recommended Movies by Director Gender, Jaccard Similarity')\n",
    "plt.xlabel('Percentage')\n",
    "plt.ylabel('Director Gender')\n",
    "\n",
    "# Adding values to the bars\n",
    "for i, proportion in enumerate(proportions):\n",
    "    plt.text(proportion, i, f'{int(proportion)}%', va='center')\n",
    "\n",
    "# Customize grid lines\n",
    "plt.grid(alpha=0.3)\n",
    "\n",
    "# Show plot\n",
    "plt.show()"
   ]
  },
  {
   "cell_type": "markdown",
   "id": "e4df72fb",
   "metadata": {},
   "source": [
    "#### Plotted director gender proportion based on user's watch history"
   ]
  },
  {
   "cell_type": "code",
   "execution_count": 40,
   "id": "d096b710",
   "metadata": {},
   "outputs": [
    {
     "data": {
      "image/png": "[encoded data removed]",
      "text/plain": [
       "<Figure size 800x400 with 1 Axes>"
      ]
     },
     "metadata": {},
     "output_type": "display_data"
    }
   ],
   "source": [
    "# Calculate the proportion of movies with all male directors for the user's rating history\n",
    "all_male_director_proportion = Ratings_and_Movies[Ratings_and_Movies['user_id'] == user_id_to_recommend]['all_male_director'].mean() * 100\n",
    "\n",
    "# Calculate the proportion of movies with female directors\n",
    "female_director_proportion = 100 - all_male_director_proportion\n",
    "\n",
    "# Data for the horizontal bar chart\n",
    "labels = ['All Male Directors', 'At least one Female Director']\n",
    "proportions = [all_male_director_proportion, female_director_proportion]\n",
    "\n",
    "# Plotting the horizontal bar chart\n",
    "plt.figure(figsize=(8, 4))\n",
    "plt.barh(labels, proportions, color=['blue', '#FF69B4'])\n",
    "plt.title(\"Percentage of Director Gender of User's Rating History\")\n",
    "plt.xlabel('Percentage')\n",
    "plt.ylabel('Director Gender')\n",
    "\n",
    "# Adding values to the bars\n",
    "for i, proportion in enumerate(proportions):\n",
    "    plt.text(proportion, i, f'{proportion: .2f}%', va='center')\n",
    "\n",
    "# Customize grid lines\n",
    "plt.grid(alpha=0.3)\n",
    "\n",
    "# Show plot\n",
    "plt.show()"
   ]
  },
  {
   "cell_type": "markdown",
   "id": "ba97678f-6cf6-404c-bb9e-ad2e37b5c2f8",
   "metadata": {},
   "source": [
    "#### Analysis:\n",
    "- Top 10 recommended movies so far do not appear to provide diverse suggestions. After analyzing one user, it was observed that all recommended movies are directed by males, potentially introducing bias and overlooking potentially good recommendations directed by females. We plotted the user's watch history to determine the percentage of movies they watched that included female directors, which, for this user, is 0.5%. However, it is crucial to understand why solely male-directed movies are being recommended when director gender should not be a factor in detracting recommendations."
   ]
  },
  {
   "cell_type": "markdown",
   "id": "46368743",
   "metadata": {},
   "source": [
    "#### Recommender System using Cosine Similarity"
   ]
  },
  {
   "cell_type": "markdown",
   "id": "104eac92-a9f5-432e-a9c1-7861fbe9f3b7",
   "metadata": {},
   "source": [
    "We investigate whether recommender systems using different similarity measures are able to provide more diverse recommendations. We look at Cosine Similarity, a popular measure for capturing nuanced relationships between items and users, particularly in high-dimensional spaces.\n",
    "\n",
    "Cosine similarity evaluates the similarity between movies based on the cosine of the angle between their respective feature vectors, representing user ratings. The higher the cosine similarity value, the more alike two movies are considered to be in terms of user ratings.\n",
    "\n",
    "To generate movie recommendations for a given user using Cosine similarity, the model takes the unique user ID, a matrix representing user-movie ratings, the movie information, and the desired number of top recommendations (top_n). It first identifies movies already rated by the user, then computes the similarity between each of these rated movies and all other movies in the dataset. Based on the Cosine similarity scores, it selects the top N movies as recommendations, excluding those already rated by the user."
   ]
  },
  {
   "cell_type": "code",
   "execution_count": 41,
   "id": "06c5d1bf",
   "metadata": {},
   "outputs": [
    {
     "name": "stdout",
     "output_type": "stream",
     "text": [
      "Top 10 Recommended Movies (Cosine) for User ID 1:\n",
      "   movie_id  Cosine_Similarity\n",
      "0     1265           0.610826\n",
      "1     1196           0.552856\n",
      "2     1580           0.552362\n",
      "3      356           0.551034\n",
      "4     2396           0.533700\n",
      "5     1198           0.530881\n",
      "6     1923           0.523675\n",
      "7     1210           0.521209\n",
      "8     2716           0.519305\n",
      "9      589           0.515537\n"
     ]
    }
   ],
   "source": [
    "# Function to calculate Cosine similarity between two movies\n",
    "def calculate_cosine_similarity(movie1, movie2):\n",
    "    return cosine_similarity([movie1], [movie2])[0][0]\n",
    "\n",
    "# Function to generate movie recommendations based on Cosine similarity\n",
    "def generate_movie_recommendations_cosine(user_id, movie_user_matrix, df_movies, top_n=5):\n",
    "    # Get movies already rated by the user\n",
    "    user_rated_movies = movie_user_matrix[user_id][movie_user_matrix[user_id] > 0].index\n",
    "    \n",
    "    # Initialize an empty DataFrame to store recommendations\n",
    "    recommendations = pd.DataFrame(columns=['movie_id'])\n",
    "    \n",
    "    for movie_id in user_rated_movies:\n",
    "        target_movie_ratings = movie_user_matrix.loc[movie_id]\n",
    "        similarities = movie_user_matrix.apply(lambda x: calculate_cosine_similarity(target_movie_ratings, x), axis=1)\n",
    "    \n",
    "        # Sort movies by Cosine similarity in descending order\n",
    "        similar_movies = similarities.sort_values(ascending=False)\n",
    "    \n",
    "        # Exclude movies already rated by the user\n",
    "        similar_movies = similar_movies.drop(user_rated_movies)\n",
    "    \n",
    "        # Append recommendations to the DataFrame\n",
    "        recommendations = pd.concat([recommendations, similar_movies.head(top_n).reset_index()], ignore_index=True)\n",
    "    \n",
    "    # Drop duplicates and keep the top N recommendations\n",
    "    recommendations = recommendations.drop_duplicates().head(top_n)\n",
    "    \n",
    "    # Rename the column '0' to 'Cosine_Similarity'\n",
    "    recommendations = recommendations.rename(columns={0: 'Cosine_Similarity'})\n",
    "    \n",
    "    return recommendations\n",
    "\n",
    "# Example usage\n",
    "user_id_to_recommend = 1\n",
    "top_recommendations_cosine = generate_movie_recommendations_cosine(user_id_to_recommend, movie_user_matrix, Ratings_and_Movies[['movie_id']], top_n=10)\n",
    "print(f\"Top 10 Recommended Movies (Cosine) for User ID {user_id_to_recommend}:\\n\", top_recommendations_cosine)"
   ]
  },
  {
   "cell_type": "code",
   "execution_count": 42,
   "id": "a72e037f",
   "metadata": {},
   "outputs": [
    {
     "data": {
      "image/png": "[encoded data removed]",
      "text/plain": [
       "<Figure size 800x400 with 1 Axes>"
      ]
     },
     "metadata": {},
     "output_type": "display_data"
    }
   ],
   "source": [
    "# Calculate mean male director proportion of recommended movies using cosine similarity\n",
    "all_male_director_proportion_cosine = merged_df[merged_df['MovieID'].isin(list(top_recommendations_cosine['movie_id']))]['all_male_director'].mean() * 100\n",
    "\n",
    "# Calculate female director proportion\n",
    "female_director_proportion_cosine = 100 - all_male_director_proportion_cosine\n",
    "\n",
    "# Data for the horizontal bar chart\n",
    "labels = ['All Male Directors', 'At least one Female Director']\n",
    "proportions = [all_male_director_proportion_cosine, female_director_proportion_cosine]\n",
    "\n",
    "# Plotting the horizontal bar chart\n",
    "plt.figure(figsize=(8, 4))\n",
    "plt.barh(labels, proportions, color=['blue', '#FF69B4'])\n",
    "plt.title('Percentage of Director Gender of Recommended Movies, Cosine Similarity')\n",
    "plt.xlabel('Percentage')\n",
    "plt.ylabel('Director Gender')\n",
    "\n",
    "# Adding values to the bars\n",
    "for i, proportion in enumerate(proportions):\n",
    "    plt.text(proportion, i, f'{int(proportion)}%', va='center')\n",
    "\n",
    "# Customize grid lines\n",
    "plt.grid(alpha=0.3)\n",
    "\n",
    "# Show plot\n",
    "plt.show()"
   ]
  },
  {
   "cell_type": "markdown",
   "id": "ffe6ac30-df27-4fdd-acbb-37d2ed3a63dc",
   "metadata": {},
   "source": [
    "The model's diversity in director genders of recommended movies was worse than the model using Jaccard Similarity, as all movie recommendations are fully directed by males.\n",
    "\n",
    "Analysis:\n",
    "- Top 10 recommended movies so far do not appear to provide diverse suggestions. After analyzing one user, it was observed that all recommended movies are directed by males, potentially introducing bias and overlooking potentially good recommendations directed by females. We plotted the user's watch history to determine the percentage of movies they watched that included female directors, which, for this user, is 0.5%. However, it is crucial to understand why solely male-directed movies are being recommended when director gender should not be a factor in detracting recommendations."
   ]
  },
  {
   "cell_type": "markdown",
   "id": "afe08599",
   "metadata": {},
   "source": [
    "#### Recommender System using Pearson Correlation"
   ]
  },
  {
   "cell_type": "markdown",
   "id": "c17b8ad9-bfcf-4041-929f-60d0b95593dc",
   "metadata": {},
   "source": [
    "Pearson correlation is a different metric that is often used to capture linear relationships between variables.\n",
    "\n",
    "This approach measures the linear correlation between two movies based on the ratings provided by users. A higher Pearson correlation indicates greater similarity in user ratings between two movies. It first identifies the common users who have rated both movies, then computes the correlation coefficient based on their ratings. If there are no common users, the correlation is considered to be zero.\n",
    "\n",
    "The recommender system identifies movies already rated by the user, computes the Pearson correlation between each of these rated movies and all other movies in the dataset, and selects the top N movies with the highest correlation to reccomend, excluding those already rated by the user."
   ]
  },
  {
   "cell_type": "code",
   "execution_count": 43,
   "id": "7bc9532c",
   "metadata": {},
   "outputs": [
    {
     "name": "stdout",
     "output_type": "stream",
     "text": [
      "Top 10 Recommended Movies (Pearson) for User ID 1:\n",
      "   movie_id  Pearson_Correlation\n",
      "0     1265             0.407547\n",
      "1     3253             0.370424\n",
      "2     1923             0.357726\n",
      "3     1517             0.347186\n",
      "4       39             0.326788\n",
      "5     1500             0.325082\n",
      "6      356             0.323808\n",
      "7      500             0.308802\n",
      "8     2174             0.306969\n",
      "9      586             0.302354\n"
     ]
    }
   ],
   "source": [
    "# Function to calculate Pearson correlation between two movies\n",
    "def calculate_pearson_correlation(movie1, movie2):\n",
    "    common_users = movie1.index.intersection(movie2.index)\n",
    "    \n",
    "    if len(common_users) == 0:\n",
    "        return 0\n",
    "    \n",
    "    rating1 = movie1[common_users]\n",
    "    rating2 = movie2[common_users]\n",
    "    \n",
    "    correlation, _ = pearsonr(rating1, rating2)\n",
    "    return correlation\n",
    "\n",
    "# Function to generate movie recommendations based on Pearson correlation\n",
    "def generate_movie_recommendations_pearson(user_id, movie_user_matrix, df_movies, top_n=5):\n",
    "    # Get movies already rated by the user\n",
    "    user_rated_movies = movie_user_matrix[user_id][movie_user_matrix[user_id] > 0].index\n",
    "    \n",
    "    # Initialize an empty DataFrame to store recommendations\n",
    "    recommendations = pd.DataFrame(columns=['movie_id'])\n",
    "    \n",
    "    for movie_id in user_rated_movies:\n",
    "        target_movie_ratings = movie_user_matrix.loc[movie_id]\n",
    "        similarities = movie_user_matrix.apply(lambda x: calculate_pearson_correlation(target_movie_ratings, x), axis=1)\n",
    "    \n",
    "        # Sort movies by Pearson correlation in descending order\n",
    "        similar_movies = similarities.sort_values(ascending=False)\n",
    "    \n",
    "        # Exclude movies already rated by the user\n",
    "        similar_movies = similar_movies.drop(user_rated_movies)\n",
    "    \n",
    "        # Append recommendations to the DataFrame\n",
    "        recommendations = pd.concat([recommendations, similar_movies.head(top_n).reset_index()], ignore_index=True)\n",
    "    \n",
    "    # Drop duplicates and keep the top N recommendations\n",
    "    recommendations = recommendations.drop_duplicates().head(top_n)\n",
    "    \n",
    "    # Rename the column '0' to 'Pearson_Correlation'\n",
    "    recommendations = recommendations.rename(columns={0: 'Pearson_Correlation'})\n",
    "    \n",
    "    return recommendations\n",
    "\n",
    "# Example usage\n",
    "user_id_to_recommend = 1\n",
    "top_recommendations_pearson = generate_movie_recommendations_pearson(user_id_to_recommend, movie_user_matrix, Ratings_and_Movies[['movie_id']], top_n=10)\n",
    "print(f\"Top 10 Recommended Movies (Pearson) for User ID {user_id_to_recommend}:\\n\", top_recommendations_pearson)"
   ]
  },
  {
   "cell_type": "code",
   "execution_count": 44,
   "id": "a7754df5",
   "metadata": {},
   "outputs": [
    {
     "data": {
      "image/png": "[encoded data removed]",
      "text/plain": [
       "<Figure size 800x400 with 1 Axes>"
      ]
     },
     "metadata": {},
     "output_type": "display_data"
    }
   ],
   "source": [
    "# Calculate mean male director proportion of recommended movies\n",
    "all_male_director_proportion_pearson = merged_df[merged_df['MovieID'].isin(list(top_recommendations_pearson['movie_id']))]['all_male_director'].mean() * 100\n",
    "\n",
    "# Calculate female director proportion\n",
    "female_director_proportion_pearson = 100 - all_male_director_proportion_pearson\n",
    "\n",
    "# Data for the horizontal bar chart\n",
    "labels = ['All Male Director', 'At least one Female Director']\n",
    "proportions = [all_male_director_proportion_pearson, female_director_proportion_pearson]\n",
    "\n",
    "# Plotting the horizontal bar chart\n",
    "plt.figure(figsize=(8, 4))\n",
    "plt.barh(labels, proportions, color=['blue', '#FF69B4'])\n",
    "plt.title('Percentage of Director Gender of Recommended Movies, Pearson Correlation')\n",
    "plt.xlabel('Percentage')\n",
    "plt.ylabel('Director Gender')\n",
    "\n",
    "# Adding values to the bars\n",
    "for i, proportion in enumerate(proportions):\n",
    "    plt.text(proportion, i, f'{int(proportion)}%', va='center')\n",
    "\n",
    "# Customize grid lines\n",
    "plt.grid(alpha=0.3)\n",
    "\n",
    "# Show plot\n",
    "plt.show()"
   ]
  },
  {
   "cell_type": "markdown",
   "id": "a42ece55-e237-4cd5-b11d-af24f9c4d95a",
   "metadata": {},
   "source": [
    "Recommendations generated by the system using Pearson Correlation exhibited a slight increase in diversity concerning the gender of movie directors compared to the other similarity metrics. Specifically, the recommended movies exhibited an average proportion of female directors of 20%, a notable increase compared to the 5% average observed within the user's watch history. This suggests that the recommender system that uses Pearson Correlation yielded a more inclusive selection of movies, showcasing a greater representation of films directed by women."
   ]
  },
  {
   "cell_type": "markdown",
   "id": "dc167925",
   "metadata": {},
   "source": [
    "#### Recommender System using Singular Value Decomposition"
   ]
  },
  {
   "cell_type": "markdown",
   "id": "90d9a85e-d0d8-4a7d-af84-c20de93469c6",
   "metadata": {},
   "source": [
    "From the Surprise machine learning toolkit, Singular Value Decomposition (SVD) is a Matrix Factorization-based algorithm that often captures latent factors underlying user preferences. The recommender model uses an SVD object, which is trained on the training dataset to optimize predictive performance using user-item interactions."
   ]
  },
  {
   "cell_type": "code",
   "execution_count": 45,
   "id": "5b34d414",
   "metadata": {
    "scrolled": true
   },
   "outputs": [
    {
     "name": "stdout",
     "output_type": "stream",
     "text": [
      "Evaluating RMSE, MAE of algorithm SVD on 5 split(s).\n",
      "\n",
      "                  Fold 1  Fold 2  Fold 3  Fold 4  Fold 5  Mean    Std     \n",
      "RMSE (testset)    0.8775  0.8806  0.8774  0.8778  0.8832  0.8793  0.0023  \n",
      "MAE (testset)     0.6912  0.6931  0.6909  0.6909  0.6960  0.6924  0.0020  \n",
      "Fit time          2.78    3.41    2.94    3.33    3.10    3.11    0.24    \n",
      "Test time         0.52    0.38    0.24    0.55    0.22    0.38    0.14    \n"
     ]
    },
    {
     "data": {
      "text/plain": [
       "{'test_rmse': array([0.87749929, 0.88063137, 0.87738905, 0.87777468, 0.88324071]),\n",
       " 'test_mae': array([0.69117587, 0.69307878, 0.6908693 , 0.6908653 , 0.69604436]),\n",
       " 'fit_time': (2.7826311588287354,\n",
       "  3.4147379398345947,\n",
       "  2.9423749446868896,\n",
       "  3.32967209815979,\n",
       "  3.0986390113830566),\n",
       " 'test_time': (0.521953821182251,\n",
       "  0.3802981376647949,\n",
       "  0.2372722625732422,\n",
       "  0.5493528842926025,\n",
       "  0.21722126007080078)}"
      ]
     },
     "execution_count": 45,
     "metadata": {},
     "output_type": "execute_result"
    }
   ],
   "source": [
    "# Create a Surprise Reader object\n",
    "reader = Reader(rating_scale=(1, 5))\n",
    "\n",
    "# Load data from DataFrame to Surprise Dataset\n",
    "data = Dataset.load_from_df(Ratings_and_Movies[['user_id', 'movie_id', 'user_rating']], reader)\n",
    "\n",
    "# Split the data into train and test sets\n",
    "trainset, testset = train_test_split(data, test_size=0.2, random_state=42)\n",
    "\n",
    "# Initialize the SVD algorithm\n",
    "svd = SVD()\n",
    "\n",
    "# Train the algorithm on the training set\n",
    "svd.fit(trainset)\n",
    "\n",
    "# Evaluate the algorithm using cross-validation\n",
    "cross_validate(svd, data, measures=['RMSE', 'MAE'], cv=5, verbose=True)"
   ]
  },
  {
   "cell_type": "code",
   "execution_count": 46,
   "id": "52d9e78e",
   "metadata": {},
   "outputs": [
    {
     "name": "stdout",
     "output_type": "stream",
     "text": [
      "Prediction for user 1, movie 302: 4\n"
     ]
    }
   ],
   "source": [
    "# Example: Make a prediction for user 1, movie 302\n",
    "user_id_to_predict = 1\n",
    "movie_id_to_predict = 302\n",
    "\n",
    "# Get the prediction\n",
    "prediction = svd.predict(user_id_to_predict, movie_id_to_predict, 3)\n",
    "\n",
    "# Round the prediction before printing\n",
    "rounded_prediction = round(prediction.est)\n",
    "\n",
    "# Print the rounded prediction details\n",
    "print(f\"Prediction for user {user_id_to_predict}, movie {movie_id_to_predict}: {rounded_prediction}\")"
   ]
  },
  {
   "cell_type": "code",
   "execution_count": 47,
   "id": "aea51234",
   "metadata": {
    "scrolled": true
   },
   "outputs": [
    {
     "name": "stdout",
     "output_type": "stream",
     "text": [
      "Prediction for user 1, movie 1: 5\n",
      "Prediction for user 1, movie 48: 4\n",
      "Prediction for user 1, movie 150: 5\n",
      "Prediction for user 1, movie 260: 5\n",
      "Prediction for user 1, movie 527: 5\n",
      "Prediction for user 1, movie 588: 4\n",
      "Prediction for user 1, movie 594: 4\n",
      "Prediction for user 1, movie 595: 5\n",
      "Prediction for user 1, movie 661: 3\n",
      "Prediction for user 1, movie 914: 4\n",
      "Prediction for user 1, movie 938: 4\n",
      "Prediction for user 1, movie 1022: 4\n",
      "Prediction for user 1, movie 1028: 5\n",
      "Prediction for user 1, movie 1029: 4\n",
      "Prediction for user 1, movie 1097: 4\n",
      "Prediction for user 1, movie 1193: 5\n",
      "Prediction for user 1, movie 1207: 5\n",
      "Prediction for user 1, movie 1246: 4\n",
      "Prediction for user 1, movie 1270: 4\n",
      "Prediction for user 1, movie 1287: 4\n",
      "Prediction for user 1, movie 1566: 4\n",
      "Prediction for user 1, movie 1721: 4\n",
      "Prediction for user 1, movie 1907: 4\n",
      "Prediction for user 1, movie 1961: 4\n",
      "Prediction for user 1, movie 1962: 4\n",
      "Prediction for user 1, movie 2018: 4\n",
      "Prediction for user 1, movie 2028: 4\n",
      "Prediction for user 1, movie 2294: 4\n",
      "Prediction for user 1, movie 2321: 4\n",
      "Prediction for user 1, movie 2340: 3\n",
      "Prediction for user 1, movie 2398: 4\n",
      "Prediction for user 1, movie 2687: 4\n",
      "Prediction for user 1, movie 2791: 4\n",
      "Prediction for user 1, movie 2797: 4\n",
      "Prediction for user 1, movie 2918: 4\n",
      "Prediction for user 1, movie 3105: 4\n",
      "Prediction for user 1, movie 3114: 5\n",
      "Prediction for user 1, movie 3186: 4\n",
      "Prediction for user 1, movie 3408: 4\n"
     ]
    }
   ],
   "source": [
    "user_id_to_predict = 1\n",
    "\n",
    "# Filter Ratings_and_Movies DataFrame for a specific user\n",
    "user_ratings = Ratings_and_Movies[Ratings_and_Movies['user_id'] == user_id_to_predict]\n",
    "\n",
    "# Iterate over the user's rated movies and make predictions\n",
    "for _, row in user_ratings.iterrows():\n",
    "    movie_id_to_predict = row['movie_id']\n",
    "    \n",
    "    # Get the prediction\n",
    "    prediction = svd.predict(user_id_to_predict, movie_id_to_predict, 3)\n",
    "    \n",
    "    # Round the prediction before printing\n",
    "    rounded_prediction = round(prediction.est)\n",
    "    \n",
    "    # Print the rounded prediction details\n",
    "    print(f\"Prediction for user {user_id_to_predict}, movie {movie_id_to_predict}: {rounded_prediction}\")"
   ]
  },
  {
   "cell_type": "markdown",
   "id": "253786c6-66ee-4d85-acb0-609ec098a80b",
   "metadata": {},
   "source": [
    "To assess the predictive accuracy and generalization capability of the model, we use cross-validation. We perform k-fold cross-validation, with k set to 5 for robustness. The model's performance is evaluated using Root Mean Squared Error (RMSE) and Mean Absolute Error (MAE). These metrics provide insights into the model's ability to accurately predict user ratings and its overall performance across different folds of the dataset."
   ]
  },
  {
   "cell_type": "code",
   "execution_count": 48,
   "id": "18facfce-77cc-427b-bfbe-ce9a255a2ded",
   "metadata": {},
   "outputs": [
    {
     "name": "stdout",
     "output_type": "stream",
     "text": [
      "        user_id  movie_id  predicted_rating  all_male_director\n",
      "0             1         1               4.0                1.0\n",
      "1             1        48               4.0                1.0\n",
      "2             1       150               5.0                1.0\n",
      "3             1       260               4.0                1.0\n",
      "4             1       527               5.0                1.0\n",
      "...         ...       ...               ...                ...\n",
      "597312      745      3915               3.0                0.0\n",
      "597313      745      3916               3.0                1.0\n",
      "597314      745      3946               3.0                1.0\n",
      "597315      745      3948               4.0                1.0\n",
      "597316      745      3950               3.0                1.0\n",
      "\n",
      "[597317 rows x 4 columns]\n",
      "Disparate Impact Before Mitigation: 0.4066520018999674\n",
      "Statistical Parity Difference Before Mitigation: -0.05233643018606083\n"
     ]
    }
   ],
   "source": [
    "# Create a Surprise Reader object\n",
    "reader = Reader(rating_scale=(1, 5))\n",
    "\n",
    "# Load data from DataFrame to Surprise Dataset\n",
    "data = Dataset.load_from_df(Ratings_and_Movies[['user_id', 'movie_id', 'user_rating']], reader)\n",
    "\n",
    "# Split the data into train and test sets\n",
    "trainset, testset = train_test_split(data, test_size=0.2, random_state=42)\n",
    "\n",
    "# Initialize the SVD algorithm\n",
    "svd = SVD()\n",
    "\n",
    "# Train the algorithm on the training set\n",
    "svd.fit(trainset)\n",
    "\n",
    "# Get all unique user IDs\n",
    "all_user_ids = Ratings_and_Movies['user_id'].unique()\n",
    "\n",
    "# Initialize an empty list to store predictions\n",
    "all_predictions = []\n",
    "\n",
    "# Iterate through all user IDs and make predictions for all movies\n",
    "for user_id_to_predict in all_user_ids:\n",
    "    all_movie_ids = Ratings_and_Movies['movie_id'].unique()\n",
    "    predictions = [(user_id_to_predict, movie_id, svd.predict(user_id_to_predict, movie_id).est) for movie_id in all_movie_ids]\n",
    "    all_predictions.extend(predictions)\n",
    "\n",
    "# Create a DataFrame from all predictions and round the 'predicted_rating' column\n",
    "predictions_df = pd.DataFrame(all_predictions, columns=['user_id', 'movie_id', 'predicted_rating'])\n",
    "predictions_df['predicted_rating'] = predictions_df['predicted_rating'].round()\n",
    "\n",
    "# Include 'all_male_director' from Ratings_and_Movies DataFrame\n",
    "predictions_df = pd.merge(predictions_df, Ratings_and_Movies[['user_id', 'movie_id', 'all_male_director']], on=['user_id', 'movie_id'])\n",
    "\n",
    "print(predictions_df)\n",
    "\n",
    "# Define protected attributes\n",
    "protected_attributes = ['all_male_director']\n",
    "\n",
    "# Define favorable classes (e.g., high ratings)\n",
    "favorable_classes = [5]\n",
    "\n",
    "# Create a StandardDataset for AIF360\n",
    "aif360_dataset = StandardDataset(predictions_df, label_name='predicted_rating', favorable_classes=favorable_classes,\n",
    "                                  protected_attribute_names=protected_attributes,\n",
    "                                  privileged_classes=[[1]])\n",
    "\n",
    "# Calculate disparate impact before any mitigation\n",
    "metric_before = BinaryLabelDatasetMetric(aif360_dataset, unprivileged_groups=[{'all_male_director': 0}],\n",
    "                                         privileged_groups=[{'all_male_director': 1}])\n",
    "disparate_impact_before = metric_before.disparate_impact()\n",
    "\n",
    "print(\"Disparate Impact Before Mitigation:\", disparate_impact_before)\n",
    "print(\"Statistical Parity Difference Before Mitigation:\", metric_before.statistical_parity_difference())"
   ]
  },
  {
   "cell_type": "code",
   "execution_count": 49,
   "id": "e2bf55a7-1f33-4430-99e1-e57e0bb9ce9f",
   "metadata": {},
   "outputs": [
    {
     "name": "stdout",
     "output_type": "stream",
     "text": [
      "RMSE: 0.8787\n",
      "RMSE Before Mitigation: 0.8787317309258256\n",
      "MAE:  0.6920\n",
      "MAE Before Mitigation: 0.6919703786304106\n"
     ]
    }
   ],
   "source": [
    "# Make predictions on the test set\n",
    "predictions = svd.test(testset)\n",
    "\n",
    "# Calculate and print the RMSE (Root Mean Squared Error) on the test set\n",
    "rmse_before = accuracy.rmse(predictions)\n",
    "print(\"RMSE Before Mitigation:\", rmse_before)\n",
    "\n",
    "# Calculate and print the MAE (Mean Absolute Error) on the test set\n",
    "mae_before = accuracy.mae(predictions)\n",
    "print(\"MAE Before Mitigation:\", mae_before)"
   ]
  },
  {
   "cell_type": "markdown",
   "id": "53a38e8d-9cfa-49b7-b1e2-560e024dffe1",
   "metadata": {},
   "source": [
    "Bias metrics:\n",
    "- Disparate Impact Before Mitigation: ~0.40\n",
    "    - This metric indicates a significant disparity in favorable outcomes between movies directed by males and those directed by females, with a value of ~0.40 suggesting unequal representation in the recommended items.\n",
    "\n",
    "- Statistical Parity Difference Before Mitigation: -0.052\n",
    "    - The negative value of -0.052 indicates a bias favoring movies directed by females in receiving favorable outcomes, further highlighting the imbalance in recommendations.\n",
    "\n",
    "Utility:\n",
    "- RMSE (Root Mean Squared Error) Before Mitigation: 0.8802\n",
    "    - The RMSE value of 0.8802 signifies the average discrepancy between predicted and actual ratings, reflecting the prediction accuracy of the model in prioritizing male-directed content.\n",
    "\n",
    "- MAE (Mean Absolute Error) Before Mitigation: 0.6937\n",
    "    - With an MAE value of 0.6937, the model's average deviation from actual ratings is approximately 0.6937 units, providing insight into prediction accuracy without considering the direction of errors."
   ]
  },
  {
   "cell_type": "markdown",
   "id": "66f80cc5-be74-48f2-9e08-b7bcd2d0cd97",
   "metadata": {},
   "source": [
    "### [4.](#Table-of-Contents) Bias Mitigation "
   ]
  },
  {
   "cell_type": "markdown",
   "id": "ed60dfdd-01c9-4a97-8622-beccac054f16",
   "metadata": {},
   "source": [
    "#### Random Forest Pre-Processing Bias Mitigation \n",
    "- In this code, a pre-processing technique called reweighing is employed as a bias mitigation strategy. Initially, a Random Forest Classifier is trained on the original dataset, and its predictions are evaluated for bias using metrics like Disparate Impact and Statistical Parity Difference. Subsequently, the dataset is reweighed using the Reweighing technique, which adjusts the instance weights to mitigate bias. A new Random Forest Classifier is then trained on the reweighed dataset, and its performance and bias metrics are assessed. This approach aims to address potential bias in the original model's predictions by reweighing instances based on the protected attribute 'all_male_director' before retraining the model."
   ]
  },
  {
   "cell_type": "code",
   "execution_count": 50,
   "id": "8ba0344b-c2f6-4bcc-8cce-2f0b02b1dea3",
   "metadata": {},
   "outputs": [
    {
     "data": {
      "text/markdown": [
       "#### Bias Metrics before Reweighing"
      ],
      "text/plain": [
       "<IPython.core.display.Markdown object>"
      ]
     },
     "metadata": {},
     "output_type": "display_data"
    },
    {
     "name": "stdout",
     "output_type": "stream",
     "text": [
      "Disparate Impact: 0.6683266010922667\n",
      "Statistical Parity Difference: -0.07358900435300986\n"
     ]
    },
    {
     "data": {
      "text/markdown": [
       "#### Accuracy before Reweighing"
      ],
      "text/plain": [
       "<IPython.core.display.Markdown object>"
      ]
     },
     "metadata": {},
     "output_type": "display_data"
    },
    {
     "name": "stdout",
     "output_type": "stream",
     "text": [
      "Accuracy before Reweighing: 0.7880449340387062\n"
     ]
    },
    {
     "data": {
      "text/markdown": [
       "#### Random Forest Classifier Metrics after Retraining on Reweighed Data"
      ],
      "text/plain": [
       "<IPython.core.display.Markdown object>"
      ]
     },
     "metadata": {},
     "output_type": "display_data"
    },
    {
     "name": "stdout",
     "output_type": "stream",
     "text": [
      "n_estimators: 100\n",
      "Accuracy after Reweighing: 0.7879947097033416\n",
      "\n",
      "Classification Report after Reweighing:\n",
      "               precision    recall  f1-score   support\n",
      "\n",
      "         0.0       0.80      0.97      0.88     93464\n",
      "         1.0       0.56      0.12      0.20     26000\n",
      "\n",
      "    accuracy                           0.79    119464\n",
      "   macro avg       0.68      0.55      0.54    119464\n",
      "weighted avg       0.75      0.79      0.73    119464\n",
      "\n"
     ]
    },
    {
     "data": {
      "text/markdown": [
       "#### Bias Metrics after Retraining"
      ],
      "text/plain": [
       "<IPython.core.display.Markdown object>"
      ]
     },
     "metadata": {},
     "output_type": "display_data"
    },
    {
     "name": "stdout",
     "output_type": "stream",
     "text": [
      "Disparate Impact: 0.9999999999999998\n",
      "Statistical Parity Difference: -5.551115123125783e-17\n"
     ]
    }
   ],
   "source": [
    "# Suppress specific warning\n",
    "warnings.filterwarnings(\"ignore\", message=\"`load_boston` has been removed from scikit-learn since version 1.2.\")\n",
    "\n",
    "# Features and target variable\n",
    "X = Ratings_and_Movies[['year', 'documentary', 'romance', 'fantasy', 'western', 'thriller',\n",
    "                         'childrens', 'film_noir', 'drama', 'comedy', 'adventure', 'horror', 'crime', \n",
    "                         'action', 'mystery', 'war', 'musical', 'animation', 'sci_fi', 'male_director_proportion', 'all_male_director']]\n",
    "y = (Ratings_and_Movies['user_rating'] == 5).astype(int)\n",
    "\n",
    "# Split the data into training and testing sets\n",
    "X_train, X_test, y_train, y_test = sklearn_train_test_split(X, y, test_size=0.2, random_state=42)\n",
    "\n",
    "# Define the protected attributes\n",
    "protected_attributes = ['all_male_director']\n",
    "\n",
    "# Define the privileged and unprivileged groups\n",
    "privileged_groups = [{'all_male_director': 1}]\n",
    "unprivileged_groups = [{'all_male_director': 0}]\n",
    "\n",
    "# Initialize the Random Forest Classifier model with n_estimators=100\n",
    "rf_classifier_before = RandomForestClassifier(n_estimators=100, random_state=42)\n",
    "\n",
    "# Fit the original classifier on the original dataset\n",
    "rf_classifier_before.fit(X_train, y_train)\n",
    "\n",
    "# Make predictions on the test data using the original model\n",
    "y_pred_rf_before = rf_classifier_before.predict(X_test)\n",
    "\n",
    "# Calculate accuracy using scikit-learn's accuracy_score on the original dataset\n",
    "accuracy_rf_before = accuracy_score(y_test, y_pred_rf_before)\n",
    "\n",
    "# Combine X_test, y_test, and y_pred_rf_before into a new DataFrame\n",
    "test_results_before = pd.concat([X_test, pd.DataFrame({'user_rating': y_test, 'predicted_rating': y_pred_rf_before})], axis=1)\n",
    "\n",
    "# Extract the protected attribute 'director_gender' from the original dataset\n",
    "test_results_before['all_male_director'] = Ratings_and_Movies.loc[X_test.index, 'all_male_director']\n",
    "\n",
    "# Create a StandardDataset\n",
    "dataset_before = StandardDataset(df=test_results_before,\n",
    "                                  label_name='user_rating', favorable_classes=[1],\n",
    "                                  protected_attribute_names=protected_attributes,\n",
    "                                  privileged_classes=[[1]])  # Only one class for all_male_director (e.g., male is privileged)\n",
    "\n",
    "# Use reweighing to adjust weights\n",
    "reweighing = Reweighing(unprivileged_groups=unprivileged_groups, privileged_groups=privileged_groups)\n",
    "dataset_reweighed = reweighing.fit_transform(dataset_before)\n",
    "\n",
    "# Create a BinaryLabelDatasetMetric for bias metrics on the reweighed dataset\n",
    "dataset_metric_before = BinaryLabelDatasetMetric(dataset_before, unprivileged_groups=unprivileged_groups, privileged_groups=privileged_groups)\n",
    "dataset_metric_reweighed = BinaryLabelDatasetMetric(dataset_reweighed, unprivileged_groups=unprivileged_groups, privileged_groups=privileged_groups)\n",
    "\n",
    "# Display bias metrics before reweighing\n",
    "display(Markdown(\"#### Bias Metrics before Reweighing\"))\n",
    "print(\"Disparate Impact:\", dataset_metric_before.disparate_impact())\n",
    "print(\"Statistical Parity Difference:\", dataset_metric_before.statistical_parity_difference())\n",
    "\n",
    "# Display accuracy before reweighing\n",
    "display(Markdown(\"#### Accuracy before Reweighing\"))\n",
    "print(\"Accuracy before Reweighing:\", accuracy_rf_before)\n",
    "\n",
    "# Initialize a new Random Forest Classifier model with same n_estimators=100\n",
    "rf_classifier_reweighed = RandomForestClassifier(n_estimators=100, random_state=42)\n",
    "\n",
    "# Fit the new classifier on the reweighed dataset\n",
    "rf_classifier_reweighed.fit(dataset_reweighed.features, dataset_reweighed.labels.ravel(), sample_weight=dataset_reweighed.instance_weights)\n",
    "\n",
    "# Make predictions on the reweighed test data using the new model\n",
    "y_pred_rf_reweighed = rf_classifier_reweighed.predict(dataset_reweighed.features)\n",
    "\n",
    "# Calculate accuracy using scikit-learn's accuracy_score on the reweighed dataset\n",
    "accuracy_rf_reweighed = accuracy_score(dataset_reweighed.labels, y_pred_rf_reweighed)\n",
    "\n",
    "# Create a BinaryLabelDatasetMetric for bias metrics on the retrained model\n",
    "dataset_retrained_metric = BinaryLabelDatasetMetric(dataset_reweighed, unprivileged_groups=unprivileged_groups, privileged_groups=privileged_groups)\n",
    "\n",
    "# Display Random Forest Classifier Metrics after retraining on reweighed data\n",
    "display(Markdown(\"#### Random Forest Classifier Metrics after Retraining on Reweighed Data\"))\n",
    "print(\"n_estimators:\", rf_classifier_reweighed.n_estimators)\n",
    "print(\"Accuracy after Reweighing:\", accuracy_rf_reweighed)\n",
    "print(\"\\nClassification Report after Reweighing:\\n\", classification_report(dataset_reweighed.labels, y_pred_rf_reweighed))\n",
    "\n",
    "# Display bias metrics after retraining\n",
    "display(Markdown(\"#### Bias Metrics after Retraining\"))\n",
    "print(\"Disparate Impact:\", dataset_retrained_metric.disparate_impact())\n",
    "print(\"Statistical Parity Difference:\", dataset_retrained_metric.statistical_parity_difference())"
   ]
  },
  {
   "cell_type": "markdown",
   "id": "f5669de3-50f8-40f6-9d62-e86829c07d67",
   "metadata": {},
   "source": [
    "- Before reweighing, the original Random Forest Classifier exhibited bias with a Disparate Impact of 0.668 and a Statistical Parity Difference of -0.0736. The accuracy before reweighing was 0.788. After retraining on the reweighed data, the Random Forest Classifier with 100 estimators achieved an accuracy of 0.788, showing a slight decrease in accuracy. The bias metrics also improved significantly, with the Disparate Impact being approximately 1 and the Statistical Parity Difference close to zero (-5.551115123125783e-17). The classification report after reweighing indicated precision of 0.56, recall of 0.12, and an F1-score of 0.20 for the positive class (user rating of 5), with a slight decrease in overall accuracy. This suggests that the reweighing technique successfully mitigated bias, resulting in a fairer model while maintaining similar predictive accuracy."
   ]
  },
  {
   "cell_type": "markdown",
   "id": "821ecc29-6f13-4a2b-b750-2c5aff9fbd17",
   "metadata": {},
   "source": [
    "#### Recommender System Bias Mitigation (Jaccard Similarity) - Using Reweighed Dataset"
   ]
  },
  {
   "cell_type": "markdown",
   "id": "7653ce2d-0160-4fc1-bd31-1a8e6dce5d8f",
   "metadata": {},
   "source": [
    "AIF360's reweighing technique helps mitigate bias present in the original dataset by adjusting the weights of instances based on sensitive attributes such as director gender. By doing so, it aims to ensure fairness by reducing the influence of biased features on the learning process.\n",
    "\n",
    "The original dataset exhibits bias towards male-directed content through the underrepresentation of female directors, leading to a disproportionate representation of such movies in the recommendations. AIF360's reweighing technique helps mitigate this bias by adjusting the weights of movie instances based on director gender, ensuring a more balanced representation of both male and female-directed content.\n",
    "\n",
    "The similarity metrics used in our recommender models above (Jaccard, Cosine, and Pearson correlation) rely on the dataset to calculate similarities between movies. Since the dataset exhibits bias towards male-directed content, these similarity metrics also favor male-directed movies in recommendations. By applying reweighing, the transformed dataset aims to mitigate such bias, ensuring that similarity calculations consider a more balanced representation of movies directed by individuals of different genders. As such, we develop the models again using the same similarity metrics on the transformed dataset."
   ]
  },
  {
   "cell_type": "code",
   "execution_count": 51,
   "id": "697209c2-151b-4182-885b-9c0c3615fd45",
   "metadata": {},
   "outputs": [],
   "source": [
    "# Define protected attributes\n",
    "protected_attributes = ['all_male_director']\n",
    "\n",
    "# Define favorable classes (e.g., high ratings)\n",
    "favorable_classes = [5]\n",
    "\n",
    "Ratings_and_Movies['user_rating_copy'] = Ratings_and_Movies['user_rating']\n",
    "\n",
    "# Create a StandardDataset for AIF360\n",
    "aif360_dataset_original = StandardDataset(Ratings_and_Movies, label_name='user_rating', favorable_classes=favorable_classes,\n",
    "                                  protected_attribute_names=protected_attributes,\n",
    "                                  privileged_classes=[[1]])\n",
    "\n",
    "# Apply Reweighing as a bias mitigation technique\n",
    "rw = Reweighing(unprivileged_groups=[{'all_male_director': 0}], privileged_groups=[{'all_male_director': 1}])\n",
    "aif360_dataset_reweighed = rw.fit_transform(aif360_dataset_original)\n",
    "\n",
    "# Convert StandardDataset to DataFrame\n",
    "aif360_df_reweighed = aif360_dataset_reweighed.convert_to_dataframe()[0]\n",
    "\n",
    "# Extract relevant columns from the original dataset\n",
    "original_df_reweighed = aif360_df_reweighed[['movie_id', 'user_id', 'user_rating_copy']]\n",
    "\n",
    "# Create a Movie-User matrix from the original dataset\n",
    "movie_user_matrix_reweighed = original_df_reweighed.pivot_table(index='movie_id', columns='user_id', values='user_rating_copy', fill_value=0)"
   ]
  },
  {
   "cell_type": "code",
   "execution_count": 52,
   "id": "f70f497a-b5c3-4285-8edb-5e645617ad63",
   "metadata": {},
   "outputs": [
    {
     "name": "stdout",
     "output_type": "stream",
     "text": [
      "Top 10 Recommended Movies (Reweighted) for User ID 1:\n",
      "    movie_id  Jaccard_Similarity\n",
      "0    1265.0            0.459450\n",
      "1     356.0            0.403549\n",
      "2    1580.0            0.394260\n",
      "3    2396.0            0.382033\n",
      "4    1196.0            0.379151\n",
      "5    1923.0            0.370974\n",
      "6    1198.0            0.363528\n",
      "7     589.0            0.360783\n",
      "8     296.0            0.360666\n",
      "9    2716.0            0.359949\n"
     ]
    }
   ],
   "source": [
    "def generate_movie_recommendations_reweighed(user_id, movie_user_matrix_reweighed, df_movies, top_n=10):\n",
    "    # Get movies already rated by the user\n",
    "    user_rated_movies = movie_user_matrix_reweighed[user_id][movie_user_matrix_reweighed[user_id] > 0].index\n",
    "    \n",
    "    # Initialize an empty DataFrame to store recommendations\n",
    "    recommendations = pd.DataFrame(columns=['movie_id'])\n",
    "    \n",
    "    for movie_id in user_rated_movies:\n",
    "        target_movie_ratings = movie_user_matrix_reweighed.loc[movie_id]\n",
    "        similarities = movie_user_matrix_reweighed.apply(lambda x: calculate_jaccard_similarity(target_movie_ratings, x), axis=1)\n",
    "    \n",
    "        # Sort movies by Jaccard similarity in descending order\n",
    "        similar_movies = similarities.sort_values(ascending=False)\n",
    "    \n",
    "        # Exclude movies already rated by the user\n",
    "        similar_movies = similar_movies.drop(user_rated_movies)\n",
    "    \n",
    "        # Append recommendations to the DataFrame\n",
    "        recommendations = pd.concat([recommendations, similar_movies.head(top_n).reset_index()], ignore_index=True)\n",
    "    \n",
    "    # Drop duplicates and keep the top N recommendations\n",
    "    recommendations = recommendations.drop_duplicates().head(top_n)\n",
    "    \n",
    "    # Rename the column '0' to 'Jaccard_Similarity'\n",
    "    recommendations = recommendations.rename(columns={0: 'Jaccard_Similarity'})\n",
    "    \n",
    "    return recommendations\n",
    "\n",
    "# Example usage\n",
    "user_id_to_recommend = 1 \n",
    "top_recommendations_reweighed = generate_movie_recommendations_reweighed(user_id_to_recommend, movie_user_matrix_reweighed, original_df_reweighed[['movie_id']], top_n=10)\n",
    "print(f\"Top 10 Recommended Movies (Reweighted) for User ID {user_id_to_recommend}:\\n\", top_recommendations_reweighed)"
   ]
  },
  {
   "cell_type": "code",
   "execution_count": 53,
   "id": "a57c9e53-6d6f-4154-9c8d-2111ce979330",
   "metadata": {},
   "outputs": [
    {
     "data": {
      "image/png": "[encoded data removed]",
      "text/plain": [
       "<Figure size 800x400 with 1 Axes>"
      ]
     },
     "metadata": {},
     "output_type": "display_data"
    }
   ],
   "source": [
    "# Calculate the proportion of movies with all male directors\n",
    "all_male_director_proportion = merged_df[merged_df['MovieID'].isin(list(top_recommendations_reweighed['movie_id']))]['all_male_director'].mean() * 100\n",
    "\n",
    "# Calculate the proportion of movies with female directors\n",
    "female_director_proportion = 100 - all_male_director_proportion\n",
    "\n",
    "# Data for the horizontal bar chart\n",
    "labels = ['All Male Directors', 'At least one Female Director']\n",
    "proportions = [all_male_director_proportion, female_director_proportion]\n",
    "\n",
    "# Plotting the horizontal bar chart\n",
    "plt.figure(figsize=(8, 4))\n",
    "plt.barh(labels, proportions, color=['blue', '#FF69B4'])\n",
    "plt.title('Percentage of Recommended Movies by Director Gender, Jaccard Similarity')\n",
    "plt.xlabel('Percentage')\n",
    "plt.ylabel('Director Gender')\n",
    "\n",
    "# Adding values to the bars\n",
    "for i, proportion in enumerate(proportions):\n",
    "    plt.text(proportion, i, f'{int(proportion)}%', va='center')\n",
    "\n",
    "# Customize grid lines\n",
    "plt.grid(alpha=0.3)\n",
    "\n",
    "# Show plot\n",
    "plt.show()"
   ]
  },
  {
   "cell_type": "markdown",
   "id": "5656a18c-cd2e-43c7-9979-6b9723ad7ab0",
   "metadata": {},
   "source": [
    "#### Recommender System Bias Mitigation (Cosine Similarity) - Using Reweighed Dataset¶"
   ]
  },
  {
   "cell_type": "code",
   "execution_count": 54,
   "id": "c9a6ab26-f16c-4057-b451-50c9daca6c18",
   "metadata": {},
   "outputs": [
    {
     "name": "stdout",
     "output_type": "stream",
     "text": [
      "Top 10 Recommended Movies (Cosine - Reweighted) for User ID 1:\n",
      "    movie_id  Cosine_Similarity\n",
      "0    1265.0           0.610826\n",
      "1    1196.0           0.552856\n",
      "2    1580.0           0.552362\n",
      "3     356.0           0.551034\n",
      "4    2396.0           0.533700\n",
      "5    1198.0           0.530881\n",
      "6    1923.0           0.523675\n",
      "7    1210.0           0.521209\n",
      "8    2716.0           0.519305\n",
      "9     589.0           0.515537\n"
     ]
    }
   ],
   "source": [
    "# Function to calculate Cosine similarity between two movies\n",
    "def calculate_cosine_similarity(movie1, movie2):\n",
    "    return cosine_similarity([movie1], [movie2])[0][0]\n",
    "\n",
    "# Function to generate movie recommendations based on Cosine similarity\n",
    "def generate_movie_recommendations_cosine(user_id, movie_user_matrix, df_movies, top_n=5):\n",
    "    # Get movies already rated by the user\n",
    "    user_rated_movies = movie_user_matrix[user_id][movie_user_matrix[user_id] > 0].index\n",
    "    \n",
    "    # Initialize an empty DataFrame to store recommendations\n",
    "    recommendations = pd.DataFrame(columns=['movie_id'])\n",
    "    \n",
    "    for movie_id in user_rated_movies:\n",
    "        target_movie_ratings = movie_user_matrix.loc[movie_id]\n",
    "        similarities = movie_user_matrix.apply(lambda x: calculate_cosine_similarity(target_movie_ratings, x), axis=1)\n",
    "    \n",
    "        # Sort movies by Cosine similarity in descending order\n",
    "        similar_movies = similarities.sort_values(ascending=False)\n",
    "    \n",
    "        # Exclude movies already rated by the user\n",
    "        similar_movies = similar_movies.drop(user_rated_movies)\n",
    "    \n",
    "        # Append recommendations to the DataFrame\n",
    "        recommendations = pd.concat([recommendations, similar_movies.head(top_n).reset_index()], ignore_index=True)\n",
    "    \n",
    "    # Drop duplicates and keep the top N recommendations\n",
    "    recommendations = recommendations.drop_duplicates().head(top_n)\n",
    "    \n",
    "    # Rename the column '0' to 'Cosine_Similarity'\n",
    "    recommendations = recommendations.rename(columns={0: 'Cosine_Similarity'})\n",
    "    \n",
    "    return recommendations\n",
    "\n",
    "# Example usage for reweighed dataset\n",
    "user_id_to_recommend_reweighed = 1 \n",
    "top_recommendations_reweighed = generate_movie_recommendations_cosine(user_id_to_recommend_reweighed, movie_user_matrix_reweighed, original_df_reweighed[['movie_id']], top_n=10)\n",
    "print(f\"Top 10 Recommended Movies (Cosine - Reweighted) for User ID {user_id_to_recommend_reweighed}:\\n\", top_recommendations_reweighed)"
   ]
  },
  {
   "cell_type": "code",
   "execution_count": 55,
   "id": "6a74139d-51f3-4a61-83d6-df6b3508c54d",
   "metadata": {},
   "outputs": [
    {
     "data": {
      "image/png": "[encoded data removed]",
      "text/plain": [
       "<Figure size 800x400 with 1 Axes>"
      ]
     },
     "metadata": {},
     "output_type": "display_data"
    }
   ],
   "source": [
    "# Calculate mean male director proportion of recommended movies using cosine similarity\n",
    "all_male_director_proportion_cosine = merged_df[merged_df['MovieID'].isin(list(top_recommendations_reweighed['movie_id']))]['all_male_director'].mean() * 100\n",
    "\n",
    "# Calculate female director proportion\n",
    "female_director_proportion_cosine = 100 - all_male_director_proportion_cosine\n",
    "\n",
    "# Data for the horizontal bar chart\n",
    "labels = ['All Male Directors', 'At least one Female Director']\n",
    "proportions = [all_male_director_proportion_cosine, female_director_proportion_cosine]\n",
    "\n",
    "# Plotting the horizontal bar chart\n",
    "plt.figure(figsize=(8, 4))\n",
    "plt.barh(labels, proportions, color=['blue', '#FF69B4'])\n",
    "plt.title('Percentage of Director Gender of Recommended Movies, Cosine Similarity')\n",
    "plt.xlabel('Percentage')\n",
    "plt.ylabel('Director Gender')\n",
    "\n",
    "# Adding values to the bars\n",
    "for i, proportion in enumerate(proportions):\n",
    "    plt.text(proportion, i, f'{int(proportion)}%', va='center')\n",
    "\n",
    "# Customize grid lines\n",
    "plt.grid(alpha=0.3)\n",
    "\n",
    "# Show plot\n",
    "plt.show()"
   ]
  },
  {
   "cell_type": "markdown",
   "id": "fea3ed01",
   "metadata": {},
   "source": [
    "#### Recommender System Bias Mitigation (Pearson) - Using Reweighed Dataset¶"
   ]
  },
  {
   "cell_type": "code",
   "execution_count": 56,
   "id": "f095d915-9087-4f54-8c6b-2f37ad597c98",
   "metadata": {},
   "outputs": [
    {
     "name": "stdout",
     "output_type": "stream",
     "text": [
      "Top 10 Recommended Movies (Pearson - Reweighted) for User ID 1:\n",
      "    movie_id  Pearson_Correlation\n",
      "0    1265.0             0.407547\n",
      "1    3253.0             0.370424\n",
      "2    1923.0             0.357726\n",
      "3    1517.0             0.347186\n",
      "4      39.0             0.326788\n",
      "5    1500.0             0.325082\n",
      "6     356.0             0.323808\n",
      "7     500.0             0.308802\n",
      "8    2174.0             0.306969\n",
      "9     586.0             0.302354\n"
     ]
    }
   ],
   "source": [
    "# Function to calculate Pearson correlation between two movies\n",
    "def calculate_pearson_correlation(movie1, movie2):\n",
    "    common_users = movie1.index.intersection(movie2.index)\n",
    "    \n",
    "    if len(common_users) == 0:\n",
    "        return 0\n",
    "    \n",
    "    rating1 = movie1[common_users]\n",
    "    rating2 = movie2[common_users]\n",
    "    \n",
    "    correlation, _ = pearsonr(rating1, rating2)\n",
    "    return correlation\n",
    "\n",
    "# Function to generate movie recommendations based on Pearson correlation\n",
    "def generate_movie_recommendations_pearson_reweighed(user_id, movie_user_matrix_reweighed, df_movies, top_n=10):\n",
    "    # Get movies already rated by the user\n",
    "    user_rated_movies = movie_user_matrix_reweighed[user_id][movie_user_matrix_reweighed[user_id] > 0].index\n",
    "    \n",
    "    # Initialize an empty DataFrame to store recommendations\n",
    "    recommendations = pd.DataFrame(columns=['movie_id'])\n",
    "    \n",
    "    for movie_id in user_rated_movies:\n",
    "        target_movie_ratings = movie_user_matrix_reweighed.loc[movie_id]\n",
    "        similarities = movie_user_matrix_reweighed.apply(lambda x: calculate_pearson_correlation(target_movie_ratings, x), axis=1)\n",
    "    \n",
    "        # Sort movies by Pearson correlation in descending order\n",
    "        similar_movies = similarities.sort_values(ascending=False)\n",
    "    \n",
    "        # Exclude movies already rated by the user\n",
    "        similar_movies = similar_movies.drop(user_rated_movies)\n",
    "    \n",
    "        # Append recommendations to the DataFrame\n",
    "        recommendations = pd.concat([recommendations, similar_movies.head(top_n).reset_index()], ignore_index=True)\n",
    "    \n",
    "    # Drop duplicates and keep the top N recommendations\n",
    "    recommendations = recommendations.drop_duplicates().head(top_n)\n",
    "    \n",
    "    # Rename the column '0' to 'Pearson_Correlation'\n",
    "    recommendations = recommendations.rename(columns={0: 'Pearson_Correlation'})\n",
    "    \n",
    "    return recommendations\n",
    "\n",
    "# Example usage for Pearson correlation on the reweighed dataset\n",
    "user_id_to_recommend_reweighed = 1\n",
    "top_recommendations_pearson_reweighed = generate_movie_recommendations_pearson_reweighed(user_id_to_recommend_reweighed, movie_user_matrix_reweighed, original_df_reweighed[['movie_id']], top_n=10)\n",
    "print(f\"Top 10 Recommended Movies (Pearson - Reweighted) for User ID {user_id_to_recommend_reweighed}:\\n\", top_recommendations_pearson_reweighed)"
   ]
  },
  {
   "cell_type": "code",
   "execution_count": 57,
   "id": "14f114a6-4745-4f2b-addb-32708762ac2e",
   "metadata": {},
   "outputs": [
    {
     "data": {
      "image/png": "[encoded data removed]",
      "text/plain": [
       "<Figure size 800x400 with 1 Axes>"
      ]
     },
     "metadata": {},
     "output_type": "display_data"
    }
   ],
   "source": [
    "# Calculate mean male director proportion of recommended movies\n",
    "all_male_director_proportion_pearson = merged_df[merged_df['MovieID'].isin(list(top_recommendations_pearson_reweighed['movie_id']))]['all_male_director'].mean() * 100\n",
    "\n",
    "# Calculate female director proportion\n",
    "female_director_proportion_pearson = 100 - all_male_director_proportion_pearson\n",
    "\n",
    "# Data for the horizontal bar chart\n",
    "labels = ['All Male Director', 'At least one Female Director']\n",
    "proportions = [all_male_director_proportion_pearson, female_director_proportion_pearson]\n",
    "\n",
    "# Plotting the horizontal bar chart\n",
    "plt.figure(figsize=(8, 4))\n",
    "plt.barh(labels, proportions, color=['blue', '#FF69B4'])\n",
    "plt.title('Percentage of Director Gender of Recommended Movies, Pearson Correlation')\n",
    "plt.xlabel('Percentage')\n",
    "plt.ylabel('Director Gender')\n",
    "\n",
    "# Adding values to the bars\n",
    "for i, proportion in enumerate(proportions):\n",
    "    plt.text(proportion, i, f'{int(proportion)}%', va='center')\n",
    "\n",
    "# Customize grid lines\n",
    "plt.grid(alpha=0.3)\n",
    "\n",
    "# Show plot\n",
    "plt.show()"
   ]
  },
  {
   "cell_type": "markdown",
   "id": "a1acbab9-4c39-420a-abf0-9cdeee1777de",
   "metadata": {},
   "source": [
    "Despite applying the reweighted dataset to the recommender models utilizing Jaccard and Cosine Similarity, and Pearson Correlation, there was no difference in the diversity of movie recommendations. The top movie recommendations continued to exhibit a dominance of male-directed content, indicating that the reweighing technique did not effectively mitigate gender bias in the recommendation process.\n",
    "\n",
    "It appears that reweighing the dataset did not impact the calculation of the similarity metrics, resulting in the same top 10 movie recommendations before and after bias mitigation in the model."
   ]
  },
  {
   "cell_type": "markdown",
   "id": "33309595-b85b-4958-84ed-3ad0a9e5fb4a",
   "metadata": {},
   "source": [
    "#### Recommender System Bias Mitigation (Surprise)"
   ]
  },
  {
   "cell_type": "markdown",
   "id": "744e3caa-769a-47ff-9ae2-0078bfa70a94",
   "metadata": {},
   "source": [
    "Like the other similarity metrics above, SVD relies on user-item interaction data to make recommendations. By using a reweighted dataset, which adjusts the representation of male-directed and female-directed movies, we investigate whether there is a difference in recommended movies before and after mitigation."
   ]
  },
  {
   "cell_type": "markdown",
   "id": "c1b7660a-60d2-4149-9d3e-e84c0d852b4c",
   "metadata": {},
   "source": [
    "##### Calculating disparate impact for Ratings_and_Movies Dataframe"
   ]
  },
  {
   "cell_type": "code",
   "execution_count": 58,
   "id": "e72553dd-7fdc-41d8-937b-992799cc1b6e",
   "metadata": {},
   "outputs": [
    {
     "name": "stdout",
     "output_type": "stream",
     "text": [
      "Disparate Impact for Ratings_and_Movies DF Before Mitigation: 0.6936728137652075\n",
      "Statistical Parity Difference for Ratings_and_Movies DF Before Mitigation: -0.06811093669303028\n"
     ]
    }
   ],
   "source": [
    "movies_aif360_dataset = StandardDataset(Ratings_and_Movies,\n",
    "                                 label_name='user_rating',\n",
    "                                 favorable_classes=favorable_classes,\n",
    "                                 protected_attribute_names=protected_attributes,\n",
    "                                 privileged_classes=[[1]])\n",
    "\n",
    "# Calculate disparate impact before any mitigation\n",
    "movies_metric_before = BinaryLabelDatasetMetric(movies_aif360_dataset, unprivileged_groups=[{'all_male_director': 0}],\n",
    "                                         privileged_groups=[{'all_male_director': 1}])\n",
    "movies_disparate_impact_before = movies_metric_before.disparate_impact()\n",
    "\n",
    "print(\"Disparate Impact for Ratings_and_Movies DF Before Mitigation:\", movies_disparate_impact_before)\n",
    "print(\"Statistical Parity Difference for Ratings_and_Movies DF Before Mitigation:\", movies_metric_before.statistical_parity_difference())"
   ]
  },
  {
   "cell_type": "markdown",
   "id": "83f4c243-c0f3-4ee5-947b-3c438de40bc6",
   "metadata": {},
   "source": [
    "##### Making predictions with SVD using Ratings_and_Movies Dataframe & and calculating bias metrics"
   ]
  },
  {
   "cell_type": "code",
   "execution_count": 59,
   "id": "ee561082-c925-409a-8f62-80fa78a02060",
   "metadata": {},
   "outputs": [
    {
     "name": "stdout",
     "output_type": "stream",
     "text": [
      "Disparate Impact for Predictions DF Before Mitigation: 0.4112089138777133\n",
      "Statistical Parity Difference for Predictions DF Before Mitigation: -0.05148629803645343\n",
      "RMSE: 0.8802\n",
      "RMSE Before Mitigation: 0.8801716528332468\n",
      "MAE:  0.6928\n",
      "MAE Before Mitigation: 0.6927858435003217\n"
     ]
    }
   ],
   "source": [
    "# Create a Surprise Reader object\n",
    "reader = Reader(rating_scale=(1, 5))\n",
    "\n",
    "# Load data from DataFrame to Surprise Dataset\n",
    "data = Dataset.load_from_df(Ratings_and_Movies[['user_id', 'movie_id', 'user_rating']], reader)\n",
    "\n",
    "# Split the data into train and test sets\n",
    "trainset, testset = train_test_split(data, test_size=0.2, random_state=42)\n",
    "\n",
    "# Initialize the SVD algorithm\n",
    "svd = SVD()\n",
    "\n",
    "# Train the algorithm on the training set\n",
    "svd.fit(trainset)\n",
    "\n",
    "# Get all unique user IDs\n",
    "all_user_ids = Ratings_and_Movies['user_id'].unique()\n",
    "\n",
    "# Initialize an empty list to store predictions\n",
    "all_predictions = []\n",
    "\n",
    "# Iterate through all user IDs and make predictions for all movies\n",
    "for user_id_to_predict in all_user_ids:\n",
    "    all_movie_ids = Ratings_and_Movies['movie_id'].unique()\n",
    "    predictions = [(user_id_to_predict, movie_id, svd.predict(user_id_to_predict, movie_id).est) for movie_id in all_movie_ids]\n",
    "    all_predictions.extend(predictions)\n",
    "\n",
    "# Create a DataFrame from all predictions and round the 'predicted_rating' column\n",
    "predictions_df = pd.DataFrame(all_predictions, columns=['user_id', 'movie_id', 'predicted_rating'])\n",
    "predictions_df['predicted_rating'] = predictions_df['predicted_rating'].round()\n",
    "\n",
    "# Include additional features from Ratings_and_Movies DataFrame\n",
    "predictions_df = pd.merge(predictions_df,\n",
    "                                    Ratings_and_Movies[['user_id', 'movie_id', 'all_male_director']],\n",
    "                                    on=['user_id', 'movie_id'])\n",
    "\n",
    "# Define protected attributes\n",
    "protected_attributes = ['all_male_director']\n",
    "\n",
    "# Define favorable classes (e.g., high ratings)\n",
    "favorable_classes = [5]\n",
    "\n",
    "# Create a StandardDataset using predictions dataframe\n",
    "aif360_dataset = StandardDataset(predictions_df,\n",
    "                                 label_name='predicted_rating',\n",
    "                                 favorable_classes=favorable_classes,\n",
    "                                 protected_attribute_names=protected_attributes,\n",
    "                                 privileged_classes=[[1]])\n",
    "\n",
    "# Calculate disparate impact before any mitigation\n",
    "metric_before = BinaryLabelDatasetMetric(aif360_dataset, unprivileged_groups=[{'all_male_director': 0}],\n",
    "                                         privileged_groups=[{'all_male_director': 1}])\n",
    "disparate_impact_before = metric_before.disparate_impact()\n",
    "\n",
    "print(\"Disparate Impact for Predictions DF Before Mitigation:\", disparate_impact_before)\n",
    "print(\"Statistical Parity Difference for Predictions DF Before Mitigation:\", metric_before.statistical_parity_difference())\n",
    "\n",
    "# Make predictions on the test set\n",
    "predictions = svd.test(testset)\n",
    "\n",
    "# Calculate and print the RMSE (Root Mean Squared Error) on the test set\n",
    "rmse_before = accuracy.rmse(predictions)\n",
    "print(\"RMSE Before Mitigation:\", rmse_before)\n",
    "\n",
    "# Calculate and print the MAE (Mean Absolute Error) on the test set\n",
    "mae_before = accuracy.mae(predictions)\n",
    "print(\"MAE Before Mitigation:\", mae_before)"
   ]
  },
  {
   "cell_type": "markdown",
   "id": "fb756265-da8f-4193-b178-6616bd92ae1b",
   "metadata": {},
   "source": [
    "##### Reweighing Ratings_and_Movies dataframe before feeding into the SVD algorithm and re-calculating bias metrics"
   ]
  },
  {
   "cell_type": "code",
   "execution_count": 60,
   "id": "e9492824-d9ba-4edd-9893-4bbca41027f1",
   "metadata": {},
   "outputs": [
    {
     "name": "stdout",
     "output_type": "stream",
     "text": [
      "Disparate Impact for Ratings_and_Movies DF After Mitigation: 0.9999999999999998\n",
      "Statistical Parity Difference for Ratings_and_Movies DF After Mitigation: -5.551115123125783e-17\n"
     ]
    }
   ],
   "source": [
    "# Apply Reweighing as a bias mitigation technique\n",
    "rw = Reweighing(unprivileged_groups=[{'all_male_director': 0}], privileged_groups=[{'all_male_director': 1}])\n",
    "aif360_dataset_reweighed = rw.fit_transform(movies_aif360_dataset)\n",
    "\n",
    "# Calculate disparate impact after mitigation\n",
    "metric_after = BinaryLabelDatasetMetric(aif360_dataset_reweighed, unprivileged_groups=[{'all_male_director': 0}],\n",
    "                                        privileged_groups=[{'all_male_director': 1}])\n",
    "disparate_impact_after = metric_after.disparate_impact()\n",
    "\n",
    "print(\"Disparate Impact for Ratings_and_Movies DF After Mitigation:\", disparate_impact_after)\n",
    "print(\"Statistical Parity Difference for Ratings_and_Movies DF After Mitigation:\", metric_after.statistical_parity_difference())\n",
    "\n",
    "# Convert StandardDataset to DataFrame\n",
    "aif360_df_reweighed = aif360_dataset_reweighed.convert_to_dataframe()[0]"
   ]
  },
  {
   "cell_type": "markdown",
   "id": "551b8f77-bace-4ff9-a9ab-44a06b3d95ff",
   "metadata": {},
   "source": [
    "##### New rating predictions with reweighed dataset"
   ]
  },
  {
   "cell_type": "code",
   "execution_count": 61,
   "id": "29f35771-7b4b-4671-880e-2666bca7f2fd",
   "metadata": {},
   "outputs": [],
   "source": [
    "# Split the DataFrame into train and test sets\n",
    "train_df, test_df = sklearn_train_test_split(aif360_df_reweighed[['movie_id', 'user_id', 'user_rating_copy']], test_size=0.2, random_state=42)\n",
    "\n",
    "# Initialize the SVD algorithm for the new DataFrame with the reweighed dataset\n",
    "svd_reweighed = SVD()\n",
    "\n",
    "# Load data from DataFrame to Surprise Dataset for training\n",
    "trainset_reweighed = Dataset.load_from_df(train_df[['user_id', 'movie_id', 'user_rating_copy']], reader).build_full_trainset()\n",
    "\n",
    "# Train the algorithm on the training set for the new DataFrame with the reweighed dataset\n",
    "svd_reweighed.fit(trainset_reweighed)\n",
    "\n",
    "# Load data from DataFrame to Surprise Dataset for testing\n",
    "testset_reweighed = Dataset.load_from_df(test_df[['user_id', 'movie_id', 'user_rating_copy']], reader)\n",
    "\n",
    "# Make predictions on the test set for the new DataFrame with the reweighed dataset\n",
    "predictions_after_mitigation_reweighed = svd_reweighed.test(testset_reweighed.build_full_trainset().build_testset())\n",
    "\n",
    "new_all_user_ids = Ratings_and_Movies['user_id'].unique()\n",
    "\n",
    "new_all_predictions = []\n",
    "\n",
    "for new_user_id_to_predict in new_all_user_ids:\n",
    "    new_all_movie_ids = Ratings_and_Movies['movie_id'].unique()\n",
    "    new_predictions = [(new_user_id_to_predict, movie_id, svd_reweighed.predict(new_user_id_to_predict, movie_id).est) for movie_id in new_all_movie_ids]\n",
    "    new_all_predictions.extend(new_predictions)\n",
    "\n",
    "\n",
    "new_predictions_df = pd.DataFrame(new_all_predictions, columns = ['user_id', 'movie_id', 'predicted_rating'])\n",
    "new_predictions_df['predicted_rating'] = new_predictions_df['predicted_rating'].round()\n",
    "new_predictions_df = pd.merge(new_predictions_df,\n",
    "                              Ratings_and_Movies[['user_id', 'movie_id', 'all_male_director']],\n",
    "                              on = ['user_id', 'movie_id'])"
   ]
  },
  {
   "cell_type": "markdown",
   "id": "0564d252-1e6a-4609-bc77-aaea263bbbe1",
   "metadata": {},
   "source": [
    "##### Calculating bias metrics for new predictions dataframe since it used the reweighed Ratings_and_Movies dataframe, and model utility"
   ]
  },
  {
   "cell_type": "code",
   "execution_count": 62,
   "id": "7f213510-5906-4b64-ba35-c967ec5d80a5",
   "metadata": {
    "scrolled": true
   },
   "outputs": [
    {
     "name": "stdout",
     "output_type": "stream",
     "text": [
      "Disparate Impact for NEW Predictions DF After Mitigation: 0.3873337352511445\n",
      "Statistical Parity Difference for NEW Predictions DF After Mitigation: -0.053078327491474404\n",
      "RMSE: 0.8776\n",
      "RMSE After Mitigation (Reweighing): 0.8776400352120305\n",
      "MAE:  0.6911\n",
      "MAE After Mitigation (Reweighing): 0.6910812789331799\n"
     ]
    }
   ],
   "source": [
    "# Create a StandardDataset using new predictions dataframe\n",
    "new_aif360_dataset = StandardDataset(new_predictions_df,\n",
    "                                 label_name='predicted_rating',\n",
    "                                 favorable_classes=favorable_classes,\n",
    "                                 protected_attribute_names=protected_attributes,\n",
    "                                 privileged_classes=[[1]])\n",
    "\n",
    "# Calculate disparate impact before any mitigation\n",
    "new_metric_before = BinaryLabelDatasetMetric(new_aif360_dataset, unprivileged_groups=[{'all_male_director': 0}],\n",
    "                                         privileged_groups=[{'all_male_director': 1}])\n",
    "new_disparate_impact_before = new_metric_before.disparate_impact()\n",
    "\n",
    "print(\"Disparate Impact for NEW Predictions DF After Mitigation:\", new_disparate_impact_before)\n",
    "print(\"Statistical Parity Difference for NEW Predictions DF After Mitigation:\", new_metric_before.statistical_parity_difference())\n",
    "\n",
    "\n",
    "# Calculate and print the RMSE (Root Mean Squared Error) on the test set after mitigation with reweighing\n",
    "rmse_after_mitigation_reweighed = accuracy.rmse(predictions_after_mitigation_reweighed)\n",
    "print(\"RMSE After Mitigation (Reweighing):\", rmse_after_mitigation_reweighed)\n",
    "\n",
    "# Calculate and print the MAE (Mean Absolute Error) on the test set after mitigation with reweighing\n",
    "mae_after_mitigation_reweighed = accuracy.mae(predictions_after_mitigation_reweighed)\n",
    "print(\"MAE After Mitigation (Reweighing):\", mae_after_mitigation_reweighed)"
   ]
  },
  {
   "cell_type": "markdown",
   "id": "55845199-cfcb-417e-921d-5d58940aa7a8",
   "metadata": {},
   "source": [
    "The reweighing technique was failed at mitigating bias in the SVD recommendation system. The disparate impact stayed largely the same before and after reweighing.\n",
    "\n",
    "Additionally, reweighing did not substantially alter the accuracy of the recommender system's predictions, as evidenced by consistent RMSE and MAE values before and after mitigation."
   ]
  },
  {
   "cell_type": "markdown",
   "id": "875761df-6a9d-4ca9-82d4-874405d7036d",
   "metadata": {},
   "source": [
    "### [5.](#Table-of-Contents) Results Summary "
   ]
  },
  {
   "cell_type": "markdown",
   "id": "776430cc-9fd2-4fa4-b06b-6a62ab932008",
   "metadata": {},
   "source": [
    "**To Do**"
   ]
  },
  {
   "cell_type": "markdown",
   "id": "7df8b228-4fc6-4486-8f9b-0f333133c301",
   "metadata": {},
   "source": [
    "### [6.](#Table-of-Contents) Conclusion & Discussion "
   ]
  },
  {
   "cell_type": "markdown",
   "id": "ec2ea22e-7bec-4668-96d5-ff3b2af9be76",
   "metadata": {},
   "source": [
    "**Conclusion is To-Do**\n",
    "\n",
    "Although bias mitigation using reweighing proved to be successful in the various recommender systems above, the basis of reweighing lies in addressing dataset imbalances. Because of the underrepresentation of female film directors in the dataset, reweighing adjusts the distribution of instances across different groups. This may lead to a reduction in the sample size of the majority group to achieve parity, which loses data and can limit the model's ability to capture the full complexity of the dataset.\n",
    "\n",
    "Additionally, simply examining the director's gender in movie recommender systems is not enough to consider for a model that can impact so many different stakeholders. It is essential to consider how gender can intersect with other demographic factors. For example, a movie recommender system can exhibit different biases based on both the gender and race of the director. The recommender may perform differently for a movie by a Black male director versus a movie by a white male director, despite both movies featuring a male director. As such, intersectionality with gender must be examined as different demographic groups may result in different bias mitigation strategies being the most effective.\n",
    "\n",
    "Lastly, while the bias mitigation techniques in this project were able to achieve a \"fair\" model in terms of statistical fairness metrics, these techniques do not fully address the underlying systemic biases present in society. The underrepresentation of female-directed movies in the dataset stems from gender biases present in the film industry, where women face more discrimination and receive less support. Technosolutionism refers to the reliance on technological solutions to address complex social issues, ignoring broader societal, ethical, and political implications. Bias mitigation in recommender systems is an important step in achieving fairness and equity in movie recommendation systems, but bias mitigation alone cannot effectively address biases without the work of fields such as sociology, cultural, and media studies to work towards changing the dynamics that influence film production, distribution, and consumption."
   ]
  }
 ],
 "metadata": {
  "kernelspec": {
   "display_name": "Python 3",
   "language": "python",
   "name": "python3"
  },
  "language_info": {
   "codemirror_mode": {
    "name": "ipython",
    "version": 3
   },
   "file_extension": ".py",
   "mimetype": "text/x-python",
   "name": "python",
   "nbconvert_exporter": "python",
   "pygments_lexer": "ipython3",
   "version": "3.9.18"
  },
  "vscode": {
   "interpreter": {
    "hash": "40d3a090f54c6569ab1632332b64b2c03c39dcf918b08424e98f38b5ae0af88f"
   }
  }
 },
 "nbformat": 4,
 "nbformat_minor": 5
}
